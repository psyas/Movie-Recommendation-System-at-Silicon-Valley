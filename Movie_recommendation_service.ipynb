{
 "cells": [
  {
   "cell_type": "markdown",
   "metadata": {},
   "source": [
    "# Movie data preprocessing\n",
    "## movies와 credits에서 프로젝트에 사용되지 않는 컬럼을 버린다\n",
    "### budget, homepage, original_language, original_title, production_countries, release_date, revenue, spoken_language, status\n",
    "\n",
    "## movies와 credits dataframe을 merge한다.\n",
    "## crew 컬럼에서 director 정보를 뽑아내서 새로운 DataFrame으로 만든다.\n",
    "### director1 ~ director 종류수"
   ]
  },
  {
   "cell_type": "code",
   "execution_count": 1,
   "metadata": {},
   "outputs": [],
   "source": [
    "import pandas as pd\n",
    "import numpy as npc\n",
    "\n",
    "movies_df = pd.read_csv(\"data/tmdb_5000_movies.csv\")\n",
    "credits_df = pd.read_csv(\"data/tmdb_5000_credits.csv\")\n",
    "\n",
    "# drop columns\n",
    "# budget, homepage, original_language, original_title, production_countries, release_date,\n",
    "# revenue, spoken_languages, status\n",
    "movies_df = movies_df.drop(columns=['budget', 'homepage', 'original_language', 'original_title', 'production_countries',\n",
    "                                    'release_date', 'revenue', 'spoken_languages', 'status', 'runtime', 'tagline'])\n",
    "\n",
    "credits_df = credits_df.drop(columns=['title'])\n",
    "credits_df.columns=['id', 'cast', 'crew']"
   ]
  },
  {
   "cell_type": "code",
   "execution_count": 2,
   "metadata": {},
   "outputs": [
    {
     "name": "stdout",
     "output_type": "stream",
     "text": [
      "4803\n"
     ]
    }
   ],
   "source": [
    "# check if 'id' can be used as identifier\n",
    "id_list_1 = list()\n",
    "for item in credits_df['id']:\n",
    "    if type(item) is not int:\n",
    "        print('not int')\n",
    "    id_list_1.append(item)\n",
    "print(len(id_list_1))\n",
    "\n",
    "for item in movies_df['id']:\n",
    "    if item not in id_list_1:\n",
    "        print('not in : ', item)\n",
    "\n"
   ]
  },
  {
   "cell_type": "code",
   "execution_count": 3,
   "metadata": {
    "scrolled": true
   },
   "outputs": [
    {
     "data": {
      "text/html": [
       "<div>\n",
       "<style scoped>\n",
       "    .dataframe tbody tr th:only-of-type {\n",
       "        vertical-align: middle;\n",
       "    }\n",
       "\n",
       "    .dataframe tbody tr th {\n",
       "        vertical-align: top;\n",
       "    }\n",
       "\n",
       "    .dataframe thead th {\n",
       "        text-align: right;\n",
       "    }\n",
       "</style>\n",
       "<table border=\"1\" class=\"dataframe\">\n",
       "  <thead>\n",
       "    <tr style=\"text-align: right;\">\n",
       "      <th></th>\n",
       "      <th>genres</th>\n",
       "      <th>id</th>\n",
       "      <th>keywords</th>\n",
       "      <th>overview</th>\n",
       "      <th>popularity</th>\n",
       "      <th>production_companies</th>\n",
       "      <th>title</th>\n",
       "      <th>vote_average</th>\n",
       "      <th>vote_count</th>\n",
       "      <th>cast</th>\n",
       "      <th>crew</th>\n",
       "    </tr>\n",
       "  </thead>\n",
       "  <tbody>\n",
       "    <tr>\n",
       "      <th>0</th>\n",
       "      <td>[{\"id\": 28, \"name\": \"Action\"}, {\"id\": 12, \"nam...</td>\n",
       "      <td>19995</td>\n",
       "      <td>[{\"id\": 1463, \"name\": \"culture clash\"}, {\"id\":...</td>\n",
       "      <td>In the 22nd century, a paraplegic Marine is di...</td>\n",
       "      <td>150.437577</td>\n",
       "      <td>[{\"name\": \"Ingenious Film Partners\", \"id\": 289...</td>\n",
       "      <td>Avatar</td>\n",
       "      <td>7.2</td>\n",
       "      <td>11800</td>\n",
       "      <td>[{\"cast_id\": 242, \"character\": \"Jake Sully\", \"...</td>\n",
       "      <td>[{\"credit_id\": \"52fe48009251416c750aca23\", \"de...</td>\n",
       "    </tr>\n",
       "  </tbody>\n",
       "</table>\n",
       "</div>"
      ],
      "text/plain": [
       "                                              genres     id  \\\n",
       "0  [{\"id\": 28, \"name\": \"Action\"}, {\"id\": 12, \"nam...  19995   \n",
       "\n",
       "                                            keywords  \\\n",
       "0  [{\"id\": 1463, \"name\": \"culture clash\"}, {\"id\":...   \n",
       "\n",
       "                                            overview  popularity  \\\n",
       "0  In the 22nd century, a paraplegic Marine is di...  150.437577   \n",
       "\n",
       "                                production_companies   title  vote_average  \\\n",
       "0  [{\"name\": \"Ingenious Film Partners\", \"id\": 289...  Avatar           7.2   \n",
       "\n",
       "   vote_count                                               cast  \\\n",
       "0       11800  [{\"cast_id\": 242, \"character\": \"Jake Sully\", \"...   \n",
       "\n",
       "                                                crew  \n",
       "0  [{\"credit_id\": \"52fe48009251416c750aca23\", \"de...  "
      ]
     },
     "execution_count": 3,
     "metadata": {},
     "output_type": "execute_result"
    }
   ],
   "source": [
    "total_df = movies_df.join(credits_df.set_index('id'), on='id')\n",
    "total_df.head(1)"
   ]
  },
  {
   "cell_type": "code",
   "execution_count": 4,
   "metadata": {},
   "outputs": [],
   "source": [
    "#total_df = total_df.drop_duplicates(['title'], keep='first')\n",
    "total_df = total_df.drop_duplicates(['title'], keep='first')\n",
    "total_df = pd.DataFrame(total_df.values, columns=['genres', 'id', 'keywords', 'overview', 'popularity', 'production_companies', 'title', 'vote_average', 'vote_count', 'cast', 'crew'])\n",
    "#k.drop_duplicates(subset=['A'], keep=False)"
   ]
  },
  {
   "cell_type": "code",
   "execution_count": 5,
   "metadata": {},
   "outputs": [],
   "source": [
    "import json\n",
    "\n",
    "json_columns = ['genres', 'keywords', 'cast', 'crew', 'production_companies']\n",
    "for column in json_columns:\n",
    "    total_df[column] = total_df[column].apply(json.loads)\n"
   ]
  },
  {
   "cell_type": "code",
   "execution_count": 6,
   "metadata": {},
   "outputs": [
    {
     "name": "stdout",
     "output_type": "stream",
     "text": [
      "Flying By\n",
      "Running Forever\n",
      "Boynton Beach Club\n",
      "Sharkskin\n",
      "The Book of Mormon Movie, Volume 1: The Journey\n",
      "Hum To Mohabbat Karega\n",
      "Roadside Romeo\n",
      "Me You and Five Bucks\n",
      "Down & Out With The Dolls\n",
      "Crowsnest\n",
      "Sex With Strangers\n",
      "The Helix... Loaded\n",
      "Karachi se Lahore\n",
      "Harrison Montgomery\n",
      "Light from the Darkroom\n",
      "America Is Still the Place\n",
      "The Little Ponderosa Zoo\n",
      "Diamond Ruff\n",
      "Rise of the Entrepreneur: The Search for a Better Way\n",
      "I Want Your Money\n",
      "Fabled\n",
      "Death Calls\n",
      "Amidst the Devil's Wings\n",
      "Teeth and Blood\n",
      "UnDivided\n",
      "Little Big Top\n",
      "Short Cut to Nirvana: Kumbh Mela\n",
      "The Blood of My Brother: A Story of Death in Iraq\n",
      "28\n"
     ]
    }
   ],
   "source": [
    "count=0\n",
    "for title, cast_list in zip(total_df['title'], total_df[\"crew\"]):\n",
    "    if not cast_list:\n",
    "        print(title)\n",
    "        count+=1\n",
    "print(count)"
   ]
  },
  {
   "cell_type": "code",
   "execution_count": 7,
   "metadata": {},
   "outputs": [],
   "source": [
    "director_list = list()\n",
    "director_set = set()\n",
    "for title, crew_list in zip(total_df['title'], total_df['crew']):\n",
    "    temp = list()\n",
    "    for one_crew_dict in crew_list:\n",
    "        if one_crew_dict['job'] == 'Director':\n",
    "            temp.append(one_crew_dict['name'])\n",
    "            director_set.add(one_crew_dict['name'])\n",
    "    director_list.append(temp)\n",
    "#total_df['director'] = directors"
   ]
  },
  {
   "cell_type": "code",
   "execution_count": 8,
   "metadata": {},
   "outputs": [
    {
     "name": "stdout",
     "output_type": "stream",
     "text": [
      "2575\n"
     ]
    }
   ],
   "source": [
    "director_list\n",
    "director_set\n",
    "director_dict = dict()\n",
    "director_dict = dict.fromkeys(director_set)\n",
    "count = 0\n",
    "for key in director_dict.keys():\n",
    "    director_dict[key] = count\n",
    "    count+=1\n",
    "director_rev_dict = {v:k for k,v in director_dict.items()}\n",
    "print(count)"
   ]
  },
  {
   "cell_type": "code",
   "execution_count": 9,
   "metadata": {},
   "outputs": [
    {
     "name": "stdout",
     "output_type": "stream",
     "text": [
      "4800\n"
     ]
    }
   ],
   "source": [
    "director_vector = list()\n",
    "for directors in director_list:\n",
    "    temp_director = [0]*2577\n",
    "    temp_name = list()\n",
    "    for director in directors:\n",
    "        temp_director[director_dict[director]] = 1\n",
    "    director_vector.append(temp_director)\n",
    "\n",
    "print(len(director_vector))\n"
   ]
  },
  {
   "cell_type": "code",
   "execution_count": 10,
   "metadata": {},
   "outputs": [],
   "source": [
    "import numpy as np\n",
    "\n",
    "column_names = list()\n",
    "count = 0\n",
    "while True:\n",
    "    if count >= 2577:\n",
    "        break\n",
    "    name = 'Director' + str(count)\n",
    "    column_names.append(name)\n",
    "    count += 1\n",
    "Directors = pd.DataFrame(director_vector, columns=column_names)\n"
   ]
  },
  {
   "cell_type": "code",
   "execution_count": 11,
   "metadata": {},
   "outputs": [],
   "source": [
    "#Directors['names'] = director_list"
   ]
  },
  {
   "cell_type": "code",
   "execution_count": 12,
   "metadata": {},
   "outputs": [],
   "source": [
    "director_count = list()\n",
    "for item in director_list:\n",
    "    director_count.append(len(item))\n",
    "#Directors['count'] = director_count"
   ]
  },
  {
   "cell_type": "markdown",
   "metadata": {},
   "source": [
    "# Production Companies vectorize\n",
    "## production company 의 종류 개수 : 5017\n",
    "## 한 영화가 가진 가장 많은 production company의 종류 개수 : 26\n",
    "## 한 영화가 가진 가장 적은 production company의 종류 개수 : 0"
   ]
  },
  {
   "cell_type": "code",
   "execution_count": 13,
   "metadata": {},
   "outputs": [],
   "source": [
    "pro_com_set = set()\n",
    "com_list_list = list()\n",
    "for company_list in total_df['production_companies']:\n",
    "    temp_com_list = list()\n",
    "    for company in company_list:\n",
    "        pro_com_set.add(company['name'])\n",
    "        temp_com_list.append(company['name'])\n",
    "    com_list_list.append(temp_com_list)\n",
    "\n",
    "pro_com_vectors = list()\n",
    "pro_com_dict = dict()\n",
    "pro_com_dict = dict.fromkeys(pro_com_set)\n",
    "count = 0\n",
    "for keyitem in pro_com_dict.keys():\n",
    "    pro_com_dict[keyitem] = count\n",
    "    count += 1\n",
    "\n",
    "for com_list in com_list_list:\n",
    "    temp_vec = [0]*5017\n",
    "    for com in com_list:\n",
    "        temp_vec[pro_com_dict[com]] = 1\n",
    "    pro_com_vectors.append(temp_vec)\n",
    "\n",
    "production_com_columns = list()\n",
    "for i in range(5017):\n",
    "    temp_name = 'company' + str(i)\n",
    "    production_com_columns.append(temp_name)\n",
    "\n",
    "Production_Companies = pd.DataFrame(pro_com_vectors, columns = production_com_columns)\n",
    "#Production_Companies['title'] = total_df['title']"
   ]
  },
  {
   "cell_type": "code",
   "execution_count": 14,
   "metadata": {},
   "outputs": [
    {
     "name": "stdout",
     "output_type": "stream",
     "text": [
      "26\n"
     ]
    }
   ],
   "source": [
    "# 한 영화가 가진 가장 많은 production company의 종류 개수 : 26\n",
    "max_len = 0\n",
    "for com_list in com_list_list:\n",
    "    if len(com_list) > max_len:\n",
    "        max_len = len(com_list)\n",
    "print(max_len)"
   ]
  },
  {
   "cell_type": "code",
   "execution_count": 15,
   "metadata": {},
   "outputs": [
    {
     "name": "stdout",
     "output_type": "stream",
     "text": [
      "0\n"
     ]
    }
   ],
   "source": [
    "# 한 영화가 가진 가장 적은 production company의 종류 개수 : 0\n",
    "min_len = 9999\n",
    "for com_list in com_list_list:\n",
    "    if len(com_list) < min_len:\n",
    "        min_len = len(com_list)\n",
    "print(min_len)"
   ]
  },
  {
   "cell_type": "markdown",
   "metadata": {},
   "source": [
    "# Genre vectorize\n",
    "## genre 의 종류 개수 : 20\n",
    "## 한 영화가 가진 가장 많은 genre의 종류 개수 : 7\n",
    "## 한 영화가 가진 가장 적은 genre의 종류 개수 : 0"
   ]
  },
  {
   "cell_type": "code",
   "execution_count": 16,
   "metadata": {},
   "outputs": [
    {
     "name": "stdout",
     "output_type": "stream",
     "text": [
      "20\n",
      "{'Documentary', 'Romance', 'Thriller', 'War', 'Music', 'Fantasy', 'TV Movie', 'Science Fiction', 'Family', 'History', 'Animation', 'Drama', 'Adventure', 'Western', 'Comedy', 'Crime', 'Mystery', 'Foreign', 'Action', 'Horror'}\n"
     ]
    }
   ],
   "source": [
    "genre_set = set()\n",
    "genre_list_list = list()\n",
    "\n",
    "for genre_list in total_df['genres']:\n",
    "    temp_genre = list()\n",
    "    for genre in genre_list:\n",
    "        genre_set.add(genre['name'])\n",
    "        temp_genre.append(genre['name'])\n",
    "    genre_list_list.append(temp_genre)\n",
    "print(len(genre_set))\n",
    "print(genre_set)"
   ]
  },
  {
   "cell_type": "code",
   "execution_count": 17,
   "metadata": {},
   "outputs": [],
   "source": [
    "genre_dict = dict()\n",
    "genre_dict = dict.fromkeys(genre_set)\n",
    "count = 0\n",
    "for key_item in genre_dict.keys():\n",
    "    genre_dict[key_item] = count\n",
    "    count += 1\n",
    "genre_vector = list()\n",
    "for genre_list in genre_list_list:\n",
    "    temp_genre_vec = [0] * 20\n",
    "    for genre in genre_list:\n",
    "        temp_genre_vec[genre_dict[genre]] = 1\n",
    "    genre_vector.append(temp_genre_vec)\n",
    "genre_cols = list()\n",
    "for i in range(20):\n",
    "    temp_genre = 'genre' + str(i)\n",
    "    genre_cols.append(temp_genre)\n",
    "\n",
    "Genre = pd.DataFrame(genre_vector, columns=genre_cols)"
   ]
  },
  {
   "cell_type": "code",
   "execution_count": 18,
   "metadata": {},
   "outputs": [
    {
     "data": {
      "text/html": [
       "<div>\n",
       "<style scoped>\n",
       "    .dataframe tbody tr th:only-of-type {\n",
       "        vertical-align: middle;\n",
       "    }\n",
       "\n",
       "    .dataframe tbody tr th {\n",
       "        vertical-align: top;\n",
       "    }\n",
       "\n",
       "    .dataframe thead th {\n",
       "        text-align: right;\n",
       "    }\n",
       "</style>\n",
       "<table border=\"1\" class=\"dataframe\">\n",
       "  <thead>\n",
       "    <tr style=\"text-align: right;\">\n",
       "      <th></th>\n",
       "      <th>genre0</th>\n",
       "      <th>genre1</th>\n",
       "      <th>genre2</th>\n",
       "      <th>genre3</th>\n",
       "      <th>genre4</th>\n",
       "      <th>genre5</th>\n",
       "      <th>genre6</th>\n",
       "      <th>genre7</th>\n",
       "      <th>genre8</th>\n",
       "      <th>genre9</th>\n",
       "      <th>genre10</th>\n",
       "      <th>genre11</th>\n",
       "      <th>genre12</th>\n",
       "      <th>genre13</th>\n",
       "      <th>genre14</th>\n",
       "      <th>genre15</th>\n",
       "      <th>genre16</th>\n",
       "      <th>genre17</th>\n",
       "      <th>genre18</th>\n",
       "      <th>genre19</th>\n",
       "    </tr>\n",
       "  </thead>\n",
       "  <tbody>\n",
       "    <tr>\n",
       "      <th>0</th>\n",
       "      <td>0</td>\n",
       "      <td>0</td>\n",
       "      <td>0</td>\n",
       "      <td>0</td>\n",
       "      <td>0</td>\n",
       "      <td>1</td>\n",
       "      <td>0</td>\n",
       "      <td>1</td>\n",
       "      <td>0</td>\n",
       "      <td>0</td>\n",
       "      <td>0</td>\n",
       "      <td>0</td>\n",
       "      <td>1</td>\n",
       "      <td>0</td>\n",
       "      <td>0</td>\n",
       "      <td>0</td>\n",
       "      <td>0</td>\n",
       "      <td>0</td>\n",
       "      <td>1</td>\n",
       "      <td>0</td>\n",
       "    </tr>\n",
       "    <tr>\n",
       "      <th>1</th>\n",
       "      <td>0</td>\n",
       "      <td>0</td>\n",
       "      <td>0</td>\n",
       "      <td>0</td>\n",
       "      <td>0</td>\n",
       "      <td>1</td>\n",
       "      <td>0</td>\n",
       "      <td>0</td>\n",
       "      <td>0</td>\n",
       "      <td>0</td>\n",
       "      <td>0</td>\n",
       "      <td>0</td>\n",
       "      <td>1</td>\n",
       "      <td>0</td>\n",
       "      <td>0</td>\n",
       "      <td>0</td>\n",
       "      <td>0</td>\n",
       "      <td>0</td>\n",
       "      <td>1</td>\n",
       "      <td>0</td>\n",
       "    </tr>\n",
       "    <tr>\n",
       "      <th>2</th>\n",
       "      <td>0</td>\n",
       "      <td>0</td>\n",
       "      <td>0</td>\n",
       "      <td>0</td>\n",
       "      <td>0</td>\n",
       "      <td>0</td>\n",
       "      <td>0</td>\n",
       "      <td>0</td>\n",
       "      <td>0</td>\n",
       "      <td>0</td>\n",
       "      <td>0</td>\n",
       "      <td>0</td>\n",
       "      <td>1</td>\n",
       "      <td>0</td>\n",
       "      <td>0</td>\n",
       "      <td>1</td>\n",
       "      <td>0</td>\n",
       "      <td>0</td>\n",
       "      <td>1</td>\n",
       "      <td>0</td>\n",
       "    </tr>\n",
       "    <tr>\n",
       "      <th>3</th>\n",
       "      <td>0</td>\n",
       "      <td>0</td>\n",
       "      <td>1</td>\n",
       "      <td>0</td>\n",
       "      <td>0</td>\n",
       "      <td>0</td>\n",
       "      <td>0</td>\n",
       "      <td>0</td>\n",
       "      <td>0</td>\n",
       "      <td>0</td>\n",
       "      <td>0</td>\n",
       "      <td>1</td>\n",
       "      <td>0</td>\n",
       "      <td>0</td>\n",
       "      <td>0</td>\n",
       "      <td>1</td>\n",
       "      <td>0</td>\n",
       "      <td>0</td>\n",
       "      <td>1</td>\n",
       "      <td>0</td>\n",
       "    </tr>\n",
       "    <tr>\n",
       "      <th>4</th>\n",
       "      <td>0</td>\n",
       "      <td>0</td>\n",
       "      <td>0</td>\n",
       "      <td>0</td>\n",
       "      <td>0</td>\n",
       "      <td>0</td>\n",
       "      <td>0</td>\n",
       "      <td>1</td>\n",
       "      <td>0</td>\n",
       "      <td>0</td>\n",
       "      <td>0</td>\n",
       "      <td>0</td>\n",
       "      <td>1</td>\n",
       "      <td>0</td>\n",
       "      <td>0</td>\n",
       "      <td>0</td>\n",
       "      <td>0</td>\n",
       "      <td>0</td>\n",
       "      <td>1</td>\n",
       "      <td>0</td>\n",
       "    </tr>\n",
       "    <tr>\n",
       "      <th>5</th>\n",
       "      <td>0</td>\n",
       "      <td>0</td>\n",
       "      <td>0</td>\n",
       "      <td>0</td>\n",
       "      <td>0</td>\n",
       "      <td>1</td>\n",
       "      <td>0</td>\n",
       "      <td>0</td>\n",
       "      <td>0</td>\n",
       "      <td>0</td>\n",
       "      <td>0</td>\n",
       "      <td>0</td>\n",
       "      <td>1</td>\n",
       "      <td>0</td>\n",
       "      <td>0</td>\n",
       "      <td>0</td>\n",
       "      <td>0</td>\n",
       "      <td>0</td>\n",
       "      <td>1</td>\n",
       "      <td>0</td>\n",
       "    </tr>\n",
       "    <tr>\n",
       "      <th>6</th>\n",
       "      <td>0</td>\n",
       "      <td>0</td>\n",
       "      <td>0</td>\n",
       "      <td>0</td>\n",
       "      <td>0</td>\n",
       "      <td>0</td>\n",
       "      <td>0</td>\n",
       "      <td>0</td>\n",
       "      <td>1</td>\n",
       "      <td>0</td>\n",
       "      <td>1</td>\n",
       "      <td>0</td>\n",
       "      <td>0</td>\n",
       "      <td>0</td>\n",
       "      <td>0</td>\n",
       "      <td>0</td>\n",
       "      <td>0</td>\n",
       "      <td>0</td>\n",
       "      <td>0</td>\n",
       "      <td>0</td>\n",
       "    </tr>\n",
       "    <tr>\n",
       "      <th>7</th>\n",
       "      <td>0</td>\n",
       "      <td>0</td>\n",
       "      <td>0</td>\n",
       "      <td>0</td>\n",
       "      <td>0</td>\n",
       "      <td>0</td>\n",
       "      <td>0</td>\n",
       "      <td>1</td>\n",
       "      <td>0</td>\n",
       "      <td>0</td>\n",
       "      <td>0</td>\n",
       "      <td>0</td>\n",
       "      <td>1</td>\n",
       "      <td>0</td>\n",
       "      <td>0</td>\n",
       "      <td>0</td>\n",
       "      <td>0</td>\n",
       "      <td>0</td>\n",
       "      <td>1</td>\n",
       "      <td>0</td>\n",
       "    </tr>\n",
       "    <tr>\n",
       "      <th>8</th>\n",
       "      <td>0</td>\n",
       "      <td>0</td>\n",
       "      <td>0</td>\n",
       "      <td>0</td>\n",
       "      <td>0</td>\n",
       "      <td>1</td>\n",
       "      <td>0</td>\n",
       "      <td>0</td>\n",
       "      <td>1</td>\n",
       "      <td>0</td>\n",
       "      <td>0</td>\n",
       "      <td>0</td>\n",
       "      <td>1</td>\n",
       "      <td>0</td>\n",
       "      <td>0</td>\n",
       "      <td>0</td>\n",
       "      <td>0</td>\n",
       "      <td>0</td>\n",
       "      <td>0</td>\n",
       "      <td>0</td>\n",
       "    </tr>\n",
       "    <tr>\n",
       "      <th>9</th>\n",
       "      <td>0</td>\n",
       "      <td>0</td>\n",
       "      <td>0</td>\n",
       "      <td>0</td>\n",
       "      <td>0</td>\n",
       "      <td>1</td>\n",
       "      <td>0</td>\n",
       "      <td>0</td>\n",
       "      <td>0</td>\n",
       "      <td>0</td>\n",
       "      <td>0</td>\n",
       "      <td>0</td>\n",
       "      <td>1</td>\n",
       "      <td>0</td>\n",
       "      <td>0</td>\n",
       "      <td>0</td>\n",
       "      <td>0</td>\n",
       "      <td>0</td>\n",
       "      <td>1</td>\n",
       "      <td>0</td>\n",
       "    </tr>\n",
       "  </tbody>\n",
       "</table>\n",
       "</div>"
      ],
      "text/plain": [
       "   genre0  genre1  genre2  genre3  genre4  genre5  genre6  genre7  genre8  \\\n",
       "0       0       0       0       0       0       1       0       1       0   \n",
       "1       0       0       0       0       0       1       0       0       0   \n",
       "2       0       0       0       0       0       0       0       0       0   \n",
       "3       0       0       1       0       0       0       0       0       0   \n",
       "4       0       0       0       0       0       0       0       1       0   \n",
       "5       0       0       0       0       0       1       0       0       0   \n",
       "6       0       0       0       0       0       0       0       0       1   \n",
       "7       0       0       0       0       0       0       0       1       0   \n",
       "8       0       0       0       0       0       1       0       0       1   \n",
       "9       0       0       0       0       0       1       0       0       0   \n",
       "\n",
       "   genre9  genre10  genre11  genre12  genre13  genre14  genre15  genre16  \\\n",
       "0       0        0        0        1        0        0        0        0   \n",
       "1       0        0        0        1        0        0        0        0   \n",
       "2       0        0        0        1        0        0        1        0   \n",
       "3       0        0        1        0        0        0        1        0   \n",
       "4       0        0        0        1        0        0        0        0   \n",
       "5       0        0        0        1        0        0        0        0   \n",
       "6       0        1        0        0        0        0        0        0   \n",
       "7       0        0        0        1        0        0        0        0   \n",
       "8       0        0        0        1        0        0        0        0   \n",
       "9       0        0        0        1        0        0        0        0   \n",
       "\n",
       "   genre17  genre18  genre19  \n",
       "0        0        1        0  \n",
       "1        0        1        0  \n",
       "2        0        1        0  \n",
       "3        0        1        0  \n",
       "4        0        1        0  \n",
       "5        0        1        0  \n",
       "6        0        0        0  \n",
       "7        0        1        0  \n",
       "8        0        0        0  \n",
       "9        0        1        0  "
      ]
     },
     "execution_count": 18,
     "metadata": {},
     "output_type": "execute_result"
    }
   ],
   "source": [
    "Genre.head(10)"
   ]
  },
  {
   "cell_type": "code",
   "execution_count": 19,
   "metadata": {},
   "outputs": [
    {
     "name": "stdout",
     "output_type": "stream",
     "text": [
      "7\n"
     ]
    }
   ],
   "source": [
    "# 한 영화가 가진 가장 많은 genre의 종류 개수 : 7\n",
    "max_len = 0\n",
    "for genre_list in genre_list_list:\n",
    "    if len(genre_list) > max_len:\n",
    "        max_len = len(genre_list)\n",
    "print(max_len)"
   ]
  },
  {
   "cell_type": "code",
   "execution_count": 20,
   "metadata": {},
   "outputs": [
    {
     "name": "stdout",
     "output_type": "stream",
     "text": [
      "0\n"
     ]
    }
   ],
   "source": [
    "# 한 영화가 가진 가장 적은 genre의 종류 개수 : 0\n",
    "min_len = 9999\n",
    "for genre_list in genre_list_list:\n",
    "    if len(genre_list) < min_len:\n",
    "        min_len = len(genre_list)\n",
    "print(min_len)"
   ]
  },
  {
   "cell_type": "code",
   "execution_count": 21,
   "metadata": {},
   "outputs": [
    {
     "name": "stdout",
     "output_type": "stream",
     "text": [
      "4100\n",
      "288\n",
      "412\n"
     ]
    }
   ],
   "source": [
    "import re\n",
    "import string\n",
    "\n",
    "keywords=total_df['keywords']\n",
    "\n",
    "cntOf2=0  #counter for movies that have more than 2 keywords \n",
    "cntOf1=0  #counter for movies that have 1 keyword \n",
    "cntOf0=0  #counter for movies that have no keyward \n",
    "\n",
    "keyDf = pd.DataFrame(columns=(\"key1\", \"key2\"))\n",
    " # save first two keywords \n",
    "for i in range(len(keywords)):\n",
    "    if len(keywords[i]) >= 2:\n",
    "        cntOf2+=1\n",
    "        #print(\"There're 2 keywords\")\n",
    "        m1=keywords[i][0]['name']\n",
    "        m2=keywords[i][1]['name']\n",
    "    elif len(keywords[i]) == 1:\n",
    "        cntOf1+=1\n",
    "        #print(\"There's 1 keyword\")\n",
    "        m1=keywords[i][0]['name']\n",
    "        m2=\"null\"\n",
    "    else :\n",
    "        cntOf0+=1\n",
    "        #print(\"there's no keyword\")\n",
    "        m1=\"null\"\n",
    "        m2=\"null\"\n",
    "    keyDf.loc[i]=[m1,m2]\n",
    "\n",
    "print(cntOf2)\n",
    "print(cntOf1)\n",
    "print(cntOf0)"
   ]
  },
  {
   "cell_type": "code",
   "execution_count": 22,
   "metadata": {},
   "outputs": [
    {
     "name": "stdout",
     "output_type": "stream",
     "text": [
      "2398\n"
     ]
    }
   ],
   "source": [
    "keywords_set = set()\n",
    "\n",
    "for i in keyDf.index:\n",
    "     for keyword in keyDf.loc[i]:\n",
    "        #print(keyword)\n",
    "        keywords_set.add(keyword)\n",
    "print(len(keywords_set))\n",
    "\n",
    "\n",
    "keywords_vectors = list()\n",
    "keywords_dict = dict()\n",
    "keywords_dict = dict.fromkeys(keywords_set)\n",
    "\n",
    "count = 0\n",
    "for keyitem in keywords_dict.keys():\n",
    "    keywords_dict[keyitem] = count\n",
    "    count += 1\n",
    "#print(keywords_dict)\n",
    "for i in keyDf.index:\n",
    "    for key in keyDf.loc[i]:\n",
    "        if key ==\"null\":\n",
    "            break\n",
    "        temp_vec = [0]*2399\n",
    "        temp_vec[keywords_dict[key]] = 1\n",
    "        keywords_vectors.append(temp_vec)\n",
    "\n",
    "keywords_columns = list()\n",
    "for i in range(2399):\n",
    "    temp_name = 'keyword' + str(i)\n",
    "    keywords_columns.append(temp_name)\n",
    "\n",
    "Keywords = pd.DataFrame(keywords_vectors, columns = keywords_columns)"
   ]
  },
  {
   "cell_type": "markdown",
   "metadata": {},
   "source": [
    "# Overview vectorize - tf-idf를 사용.\n",
    "# sparse matrix를 기반으로 cosine similarity를 계산\n",
    "## CountVectorizer 가 아닌 TF-IDF Vectorizer를 사용하는 이유\n",
    "### 1. CountVectorizer는 단어의 빈도수에 따라 값이 단순히 증가\n",
    "### 2. TF-IDF Vectorizer (Term Frequency, Inverse Document Frequency)\n",
    "### -> 단어의 빈도수에 비례하여 값이 증가한다. 하지만 Corpus 내에서 단어가 나타나는 빈도수로 결과값을 나누어 줌으로써 The 와 같이 작은 뜻을 내포하지만 높은 빈도수로 인해 큰 가중치를 갖는 단어의 가중치를 줄여주는 역할을 한다.\n",
    "\n",
    "### -> 문서 세트에서 자주 발생하는 용어의 가중치를 줄이고 드물게 발생하는 용어의 가중치를 증가시키는 역 문서 빈도 요소가 결과에 통합된다.\n",
    "\n",
    "### -> 이를 통해 단어의 발생 빈도수와 관계없이 문서간의 연관관계를 파악하는 것에 집중할 수 있게 된다.\n",
    "1. sci-kit learn의 TfidfVectorizer 모듈을 사용하여 row : movie, column : 단어의 빈도수인 행렬을 만든다. \n",
    "\n",
    "2. sci-kit learn의 cosine_similarities()보다 속도면에서 우수한 linear_kernel()을 사용하여 cosine similarity score를 계산"
   ]
  },
  {
   "cell_type": "code",
   "execution_count": 23,
   "metadata": {},
   "outputs": [
    {
     "data": {
      "text/plain": [
       "(4800, 20967)"
      ]
     },
     "execution_count": 23,
     "metadata": {},
     "output_type": "execute_result"
    }
   ],
   "source": [
    "from sklearn.feature_extraction.text import TfidfVectorizer\n",
    "\n",
    "tfidf = TfidfVectorizer(stop_words = 'english')\n",
    "\n",
    "total_df['overview'] = total_df['overview'].fillna('')\n",
    "\n",
    "# construct TF-IDF matrix by fitting and transforming the overview data\n",
    "tfidf_matrix = tfidf.fit_transform(total_df['overview'])\n",
    "\n",
    "# output the shape of tfidf_matrix\n",
    "tfidf_matrix.shape"
   ]
  },
  {
   "cell_type": "code",
   "execution_count": 24,
   "metadata": {},
   "outputs": [
    {
     "data": {
      "text/plain": [
       "<100641600x100641600 sparse matrix of type '<class 'numpy.float64'>'\n",
       "\twith 125704 stored elements in Compressed Sparse Row format>"
      ]
     },
     "execution_count": 24,
     "metadata": {},
     "output_type": "execute_result"
    }
   ],
   "source": [
    "import scipy\n",
    "# overview 학습의 결과를 unpack 해보았다.\n",
    "M1 = scipy.sparse.diags(tfidf_matrix.A.ravel()).tocsr()\n",
    "M1"
   ]
  },
  {
   "cell_type": "markdown",
   "metadata": {},
   "source": [
    "# 하나의 feature에 대해서만 score를 얻어 영화를 추천해주는 함수\n",
    "## -> get_recommendations(title, 추천받고자 원하는 영화의 개수, 코사인 유사도 공식)"
   ]
  },
  {
   "cell_type": "code",
   "execution_count": 25,
   "metadata": {},
   "outputs": [],
   "source": [
    "from sklearn.metrics.pairwise import linear_kernel\n",
    "\n",
    "cosine_similarity = linear_kernel(tfidf_matrix, tfidf_matrix)\n",
    "\n",
    "indices = pd.Series(total_df.index, index=total_df['title']).drop_duplicates()\n",
    "\n",
    "# Function that takes in movie title as input and outputs most similar movies\n",
    "def get_recommendations(title, target_count=10, cosine_sim=cosine_similarity):\n",
    "    result_dict = dict()\n",
    "    idx = indices[title]\n",
    "    sim_scores = list(enumerate(cosine_sim[idx]))\n",
    "    sim_scores = sorted(sim_scores, key=lambda x : x[1], reverse = True)\n",
    "    sim_scores = sim_scores[1:1 + target_count] # except for itself\n",
    "    movies_indices = [i[0] for i in sim_scores]\n",
    "    for index, score in zip(movies_indices, sim_scores):\n",
    "        print(\"index:\", score[0],\"  \",\"score:\", score[1], \"   \", total_df['title'].iloc[index])\n",
    "    #return total_df['title'].iloc[movies_indices]"
   ]
  },
  {
   "cell_type": "code",
   "execution_count": 26,
   "metadata": {},
   "outputs": [],
   "source": [
    "cast_all = dict()\n",
    "for cast_group in total_df['cast']:\n",
    "    for cast in cast_group:\n",
    "        if cast['id'] in cast_all:\n",
    "            cast_all[cast['id']][1] += 1\n",
    "        else:\n",
    "            cast_all[cast['id']] = [cast['name'], 1]"
   ]
  },
  {
   "cell_type": "code",
   "execution_count": 27,
   "metadata": {},
   "outputs": [
    {
     "data": {
      "text/plain": [
       "54557"
      ]
     },
     "execution_count": 27,
     "metadata": {},
     "output_type": "execute_result"
    }
   ],
   "source": [
    "len(cast_all)"
   ]
  },
  {
   "cell_type": "code",
   "execution_count": 28,
   "metadata": {},
   "outputs": [],
   "source": [
    "cast_freq = list(cast_all.values())\n",
    "cast_freq.sort(reverse=True, key=lambda x: (x[1]))"
   ]
  },
  {
   "cell_type": "code",
   "execution_count": 29,
   "metadata": {},
   "outputs": [],
   "source": [
    "cast2vec_dict = dict()\n",
    "count = 0;\n",
    "for cast_id in cast_all.keys():\n",
    "    cast2vec_dict[cast_id] = count\n",
    "    count += 1\n",
    "\n",
    "cast_vectors = list()\n",
    "for cast_group in total_df['cast']:\n",
    "    cast_vector = [0] * len(cast_all)\n",
    "    for cast in cast_group:\n",
    "        cast_vector[cast2vec_dict[cast['id']]] = 1\n",
    "    cast_vectors.append(cast_vector)"
   ]
  },
  {
   "cell_type": "code",
   "execution_count": 30,
   "metadata": {},
   "outputs": [
    {
     "data": {
      "text/plain": [
       "54557"
      ]
     },
     "execution_count": 30,
     "metadata": {},
     "output_type": "execute_result"
    }
   ],
   "source": [
    "len(cast_vectors[0])"
   ]
  },
  {
   "cell_type": "code",
   "execution_count": 31,
   "metadata": {},
   "outputs": [],
   "source": [
    "cast_col = list()\n",
    "count = 0\n",
    "for ele in cast_vectors[0]:\n",
    "    name = 'cast' + str(count)\n",
    "    count += 1\n",
    "    cast_col.append(name)"
   ]
  },
  {
   "cell_type": "code",
   "execution_count": 32,
   "metadata": {},
   "outputs": [],
   "source": [
    "Cast = pd.DataFrame(cast_vectors, columns=cast_col)"
   ]
  },
  {
   "cell_type": "code",
   "execution_count": 33,
   "metadata": {},
   "outputs": [
    {
     "data": {
      "text/plain": [
       "(4800, 54557)"
      ]
     },
     "execution_count": 33,
     "metadata": {},
     "output_type": "execute_result"
    }
   ],
   "source": [
    "Cast.shape"
   ]
  },
  {
   "cell_type": "markdown",
   "metadata": {},
   "source": [
    "# Director, Genre, Production Companies, Cast 벡터화 완료\n",
    "## 각 벡터화의 결과를 DataFrame 형태로 저장함\n",
    "## 각 DataFrame의 shape를 확인"
   ]
  },
  {
   "cell_type": "code",
   "execution_count": 34,
   "metadata": {},
   "outputs": [
    {
     "name": "stdout",
     "output_type": "stream",
     "text": [
      "--------------------------------------------------------------\n",
      "--------------------Vectorization Complete--------------------\n",
      "Director shape :  (4800, 2577)\n",
      "Genre shape (4800, 20)\n",
      "Production Companies shape :  (4800, 5017)\n",
      "Cast shape :  (4800, 54557)\n",
      "--------------------------------------------------------------\n"
     ]
    }
   ],
   "source": [
    "print('-'*62)\n",
    "print(\"-\"*20 + \"Vectorization Complete\" + \"-\"*20)\n",
    "print(\"Director shape : \", Directors.shape)\n",
    "print(\"Genre shape\", Genre.shape)\n",
    "print(\"Production Companies shape : \", Production_Companies.shape)\n",
    "print(\"Cast shape : \", Cast.shape)\n",
    "print('-'*62)"
   ]
  },
  {
   "cell_type": "markdown",
   "metadata": {},
   "source": [
    "# cosine similarity 를 구하기 위해 numpy array 를 sparse matrix으로 변환"
   ]
  },
  {
   "cell_type": "code",
   "execution_count": 35,
   "metadata": {},
   "outputs": [],
   "source": [
    "from scipy import sparse\n",
    "\n",
    "Directors_sparse = sparse.csr_matrix(Directors.values)\n",
    "Genre_sparse = sparse.csr_matrix(Genre.values)\n",
    "Procom_sparse = sparse.csr_matrix(Production_Companies.values)\n",
    "Cast_sparse = sparse.csr_matrix(Cast.values)"
   ]
  },
  {
   "cell_type": "markdown",
   "metadata": {},
   "source": [
    "# 영화의 수가 4800여개뿐이므로 감독 데이터만으로는 상위 10개의 유사도를 갖는 영화들의 목록을 정확히 얻을 수 없다는 것을 알 수 있다."
   ]
  },
  {
   "cell_type": "code",
   "execution_count": 36,
   "metadata": {},
   "outputs": [
    {
     "name": "stdout",
     "output_type": "stream",
     "text": [
      "index: 65    score: 1.0     The Dark Knight\n",
      "index: 95    score: 1.0     Interstellar\n",
      "index: 96    score: 1.0     Inception\n",
      "index: 119    score: 1.0     Batman Begins\n",
      "index: 1033    score: 1.0     Insomnia\n",
      "index: 1196    score: 1.0     The Prestige\n",
      "index: 3572    score: 1.0     Memento\n",
      "index: 0    score: 0.0     Avatar\n",
      "index: 1    score: 0.0     Pirates of the Caribbean: At World's End\n",
      "index: 2    score: 0.0     Spectre\n"
     ]
    }
   ],
   "source": [
    "cosine_sim_directors = linear_kernel(Directors_sparse, Directors_sparse)\n",
    "get_recommendations('The Dark Knight Rises',10, cosine_sim_directors)"
   ]
  },
  {
   "cell_type": "markdown",
   "metadata": {},
   "source": [
    "# TODO : 같은 점수를 갖는 영화 사이의 출력 순서를 생각해보기\n",
    "## ex) popularity를 기준으로 sorting"
   ]
  },
  {
   "cell_type": "code",
   "execution_count": 37,
   "metadata": {},
   "outputs": [
    {
     "name": "stdout",
     "output_type": "stream",
     "text": [
      "index: 65    score: 4.0     The Dark Knight\n",
      "index: 405    score: 4.0     The Fast and the Furious: Tokyo Drift\n",
      "index: 590    score: 4.0     The Siege\n",
      "index: 629    score: 4.0     Need for Speed\n",
      "index: 724    score: 4.0     Man on Fire\n",
      "index: 741    score: 4.0     Shooter\n",
      "index: 747    score: 4.0     Gangster Squad\n",
      "index: 761    score: 4.0     Righteous Kill\n",
      "index: 762    score: 4.0     Mercury Rising\n",
      "index: 767    score: 4.0     xXx: State of the Union\n"
     ]
    }
   ],
   "source": [
    "cosine_sim_genre = linear_kernel(Genre_sparse, Genre_sparse)\n",
    "get_recommendations('The Dark Knight Rises',10, cosine_sim_genre)"
   ]
  },
  {
   "cell_type": "code",
   "execution_count": 38,
   "metadata": {},
   "outputs": [
    {
     "name": "stdout",
     "output_type": "stream",
     "text": [
      "index: 14    score: 4.0     Man of Steel\n",
      "index: 65    score: 4.0     The Dark Knight\n",
      "index: 119    score: 4.0     Batman Begins\n",
      "index: 95    score: 3.0     Interstellar\n",
      "index: 96    score: 3.0     Inception\n",
      "index: 9    score: 2.0     Batman v Superman: Dawn of Justice\n",
      "index: 10    score: 2.0     Superman Returns\n",
      "index: 41    score: 2.0     Green Lantern\n",
      "index: 48    score: 2.0     Jack the Giant Slayer\n",
      "index: 51    score: 2.0     Pacific Rim\n"
     ]
    }
   ],
   "source": [
    "cosine_sim_procom = linear_kernel(Procom_sparse, Procom_sparse)\n",
    "get_recommendations('The Dark Knight Rises',10, cosine_sim_procom)"
   ]
  },
  {
   "cell_type": "code",
   "execution_count": 39,
   "metadata": {},
   "outputs": [
    {
     "name": "stdout",
     "output_type": "stream",
     "text": [
      "index: 65    score: 7.0     The Dark Knight\n",
      "index: 96    score: 7.0     Inception\n",
      "index: 119    score: 7.0     Batman Begins\n",
      "index: 298    score: 7.0     The Wolf of Wall Street\n",
      "index: 95    score: 6.0     Interstellar\n",
      "index: 2060    score: 6.0     Out of the Furnace\n",
      "index: 1424    score: 5.0     Concussion\n",
      "index: 16    score: 4.0     The Avengers\n",
      "index: 1196    score: 4.0     The Prestige\n",
      "index: 27    score: 3.0     Battleship\n"
     ]
    }
   ],
   "source": [
    "cosine_sim_cast = linear_kernel(Cast_sparse, Cast_sparse)\n",
    "get_recommendations('The Dark Knight Rises',10, cosine_sim_cast)"
   ]
  },
  {
   "cell_type": "code",
   "execution_count": 40,
   "metadata": {},
   "outputs": [],
   "source": [
    "def get_cast_by_index(idx):\n",
    "    cast = total_df.values[idx][9]\n",
    "    return [actor_data['name'] for actor_data in cast]\n",
    "def get_cast_by_title(title):\n",
    "    return get_cast_by_index(indices[title])"
   ]
  },
  {
   "cell_type": "code",
   "execution_count": 41,
   "metadata": {},
   "outputs": [],
   "source": [
    "def total_recommendation_v1(title, target_count=10):\n",
    "    idx = indices[title]\n",
    "    # overview score\n",
    "    cos_sim_overview = linear_kernel(tfidf_matrix, tfidf_matrix)\n",
    "    sim_scores_overview = list(enumerate(cos_sim_overview[idx]))\n",
    "    #sim_scores_overview = list(map(lambda x[1]:x[1]*10000, sim_scores_overview))\n",
    "    \n",
    "    # Director score\n",
    "    cos_sim_director = linear_kernel(Directors_sparse, Directors_sparse)\n",
    "    sim_scores_director = list(enumerate(cos_sim_director[idx]))\n",
    "    \n",
    "    # Production Companies score\n",
    "    cos_sim_procom = linear_kernel(Procom_sparse, Procom_sparse)\n",
    "    sim_scores_procom = list(enumerate(cos_sim_procom[idx]))\n",
    "    \n",
    "    # Genre score\n",
    "    cos_sim_genre = linear_kernel(Genre_sparse, Genre_sparse)\n",
    "    sim_scores_genre = list(enumerate(cos_sim_genre[idx]))\n",
    "    \n",
    "    # Cast socre\n",
    "    cos_sim_cast = linear_kernel(Cast_sparse, Cast_sparse)\n",
    "    sim_scores_cast = list(enumerate(cos_sim_cast[idx]))\n",
    "    \n",
    "    #total_scores = [sum(x[0]) for x in zip(sim_scores_overview, sim_scores_director, sim_scores_procom, sim_scores_genre, sim_scores_cast)]\n",
    "    \n",
    "    \n",
    "    \"\"\"\n",
    "    sim_scores_overview = sorted(sim_scores_overview, key=lambda x : x[1], reverse = True)\n",
    "    sim_scores_overview = sim_scores_overview[1:1 + target_count] # except for itself\n",
    "    \"\"\"\n",
    "    total_scores = list()\n",
    "    for x in zip(sim_scores_overview, sim_scores_director, sim_scores_procom, sim_scores_genre, sim_scores_cast):\n",
    "        total_score = 0\n",
    "        for idx, score in enumerate(x):\n",
    "            if idx == 0:\n",
    "                total_score += 0*score[1]\n",
    "            total_score += score[1]\n",
    "        total_scores.append(total_score)\n",
    "        \n",
    "    total_result = sorted(enumerate(total_scores), key=lambda x : x[1], reverse = True)\n",
    "    total_result = total_result[1:1+target_count]\n",
    "    movies_indicies = [i[0] for i in total_result]\n",
    "    \n",
    "    recommendation_result = list()\n",
    "    \n",
    "    for title, ind, score in  zip(total_df['title'].iloc[movies_indicies], movies_indicies, total_result):\n",
    "        recommendation_result.append([ind, score[1], title])\n",
    "    \n",
    "    return recommendation_result\n",
    "\n",
    "    \"\"\"\n",
    "    movies_indices = [i[0] for i in sim_scores]\n",
    "    for index, score in zip(movies_indices, sim_scores):\n",
    "        print(\"index:\", score[0],\"  \",\"score:\", score[1], \"   \", total_df['title'].iloc[index])\n",
    "    #return total_df['title'].iloc[movies_indices]\n",
    "    \"\"\""
   ]
  },
  {
   "cell_type": "code",
   "execution_count": 42,
   "metadata": {
    "scrolled": false
   },
   "outputs": [
    {
     "data": {
      "text/plain": [
       "[[7, 17.146373605594455, 'Avengers: Age of Ultron'],\n",
       " [85, 12.068009839694579, 'Captain America: The Winter Soldier'],\n",
       " [26, 12.00914159900648, 'Captain America: Civil War'],\n",
       " [129, 12.007530376341638, 'Thor'],\n",
       " [31, 11.013102355716303, 'Iron Man 3'],\n",
       " [79, 11.007637081447488, 'Iron Man 2'],\n",
       " [68, 10.0, 'Iron Man'],\n",
       " [126, 8.026708288546708, 'Thor: The Dark World'],\n",
       " [169, 7.045417935265007, 'Captain America: The First Avenger'],\n",
       " [174, 7.012676612223528, 'The Incredible Hulk']]"
      ]
     },
     "execution_count": 42,
     "metadata": {},
     "output_type": "execute_result"
    }
   ],
   "source": [
    "total_recommendation_v1(\"The Avengers\")"
   ]
  },
  {
   "cell_type": "code",
   "execution_count": 43,
   "metadata": {},
   "outputs": [],
   "source": [
    "from scipy import spatial\n",
    "import math\n",
    "\n",
    "def Similarity(movie_title1, movie_title2, Feature):\n",
    "    movie1_row = Feature.iloc[indices[movie_title1]]\n",
    "    movie2_row = Feature.iloc[indices[movie_title2]]\n",
    "    \n",
    "    Dist = spatial.distance.cosine(movie1_row, movie2_row)\n",
    "    if math.isnan(Dist):\n",
    "        #print('nan!')\n",
    "        Dist = 1.0\n",
    "    return 1 - Dist"
   ]
  },
  {
   "cell_type": "code",
   "execution_count": 44,
   "metadata": {},
   "outputs": [
    {
     "data": {
      "text/plain": [
       "0.6666666666666667"
      ]
     },
     "execution_count": 44,
     "metadata": {},
     "output_type": "execute_result"
    }
   ],
   "source": [
    "Similarity(\"The Avengers\", \"Thor\", Genre)"
   ]
  },
  {
   "cell_type": "code",
   "execution_count": 45,
   "metadata": {},
   "outputs": [],
   "source": [
    "def get_overview_score(movie_title1, movie_title2):\n",
    "    score = 0\n",
    "    idx_1 = indices[movie_title1]\n",
    "    idx_2 = indices[movie_title2]\n",
    "    score = cosine_similarity[idx_1][idx_2]\n",
    "    return score"
   ]
  },
  {
   "cell_type": "code",
   "execution_count": 46,
   "metadata": {},
   "outputs": [
    {
     "data": {
      "text/plain": [
       "0.0584644599388013"
      ]
     },
     "execution_count": 46,
     "metadata": {},
     "output_type": "execute_result"
    }
   ],
   "source": [
    "get_overview_score(\"The Avengers\", \"Batman\")"
   ]
  },
  {
   "cell_type": "markdown",
   "metadata": {},
   "source": [
    "# 두 영화간의 cosine distance를 1에서 뺀 결과를 점수로 반환한다."
   ]
  },
  {
   "cell_type": "code",
   "execution_count": 47,
   "metadata": {},
   "outputs": [],
   "source": [
    "def total_reccommendation_v2_cosDist(movie_title1, movie_title2):\n",
    "    genre_score = Similarity(movie_title1, movie_title2, Genre)\n",
    "    cast_score = Similarity(movie_title1, movie_title2, Cast)\n",
    "    director_score = Similarity(movie_title1, movie_title2, Directors)\n",
    "    pro_com_score = Similarity(movie_title1, movie_title2, Production_Companies)\n",
    "    overview_score = get_overview_score(movie_title1, movie_title2)\n",
    "    \n",
    "    total_score = genre_score + cast_score + director_score + pro_com_score + (10*overview_score)\n",
    "    \"\"\"\n",
    "    print('-'*60)\n",
    "    print('Genre : ', genre_score)\n",
    "    print('Cast : ', cast_score)\n",
    "    print('Director : ', director_score)\n",
    "    print('Production Companies : ', pro_com_score)\n",
    "    print('Overview : ', overview_score)\n",
    "    \"\"\"\n",
    "    return total_score"
   ]
  },
  {
   "cell_type": "code",
   "execution_count": 48,
   "metadata": {},
   "outputs": [
    {
     "data": {
      "text/plain": [
       "3.286811522469349"
      ]
     },
     "execution_count": 48,
     "metadata": {},
     "output_type": "execute_result"
    }
   ],
   "source": [
    "total_reccommendation_v2_cosDist(\"Batman\", \"The Dark Knight Rises\")"
   ]
  },
  {
   "cell_type": "code",
   "execution_count": 49,
   "metadata": {},
   "outputs": [
    {
     "data": {
      "text/plain": [
       "14.000000000000002"
      ]
     },
     "execution_count": 49,
     "metadata": {},
     "output_type": "execute_result"
    }
   ],
   "source": [
    "total_reccommendation_v2_cosDist(\"Batman\", \"Batman\")"
   ]
  },
  {
   "cell_type": "code",
   "execution_count": 50,
   "metadata": {},
   "outputs": [],
   "source": [
    "def get_score_dict_of_movies(target_movie_title):\n",
    "    score_list = list()\n",
    "    score_dict = dict()\n",
    "    for title in total_df.title:\n",
    "        #score_list.append(total_reccommendation_v2_cosDist(target_movie_title, title))\n",
    "        score_dict[title] = total_reccommendation_v2_cosDist(target_movie_title, title)\n",
    "            \n",
    "    return score_dict"
   ]
  },
  {
   "cell_type": "code",
   "execution_count": 51,
   "metadata": {},
   "outputs": [],
   "source": [
    "def total_recommendation_v2(movie_title, target_count):\n",
    "    score_dict = get_score_dict_of_movies(movie_title)\n",
    "    sorted_score = sorted(score_dict.items(), key=lambda kv: kv[1], reverse = True)\n",
    "    return sorted_score[1:1 + target_count]"
   ]
  },
  {
   "cell_type": "code",
   "execution_count": 52,
   "metadata": {},
   "outputs": [
    {
     "name": "stderr",
     "output_type": "stream",
     "text": [
      "C:\\Users\\PSY\\Anaconda3\\lib\\site-packages\\scipy\\spatial\\distance.py:698: RuntimeWarning: invalid value encountered in double_scalars\n",
      "  dist = 1.0 - uv / np.sqrt(uu * vv)\n"
     ]
    },
    {
     "name": "stdout",
     "output_type": "stream",
     "text": [
      "Wall time: 59.1 s\n"
     ]
    },
    {
     "data": {
      "text/plain": [
       "[('Toy Story', 7.2172034872012985),\n",
       " ('Toy Story 2', 6.1385373878379905),\n",
       " ('The 40 Year Old Virgin', 4.193209967331696),\n",
       " ('Monsters, Inc.', 2.5070457341453896),\n",
       " ('Daddy Day Care', 2.337346933251637),\n",
       " ('Heartbeeps', 2.3195990824799537),\n",
       " ('WALL·E', 2.265678118297724),\n",
       " ('Man on the Moon', 2.2656196864286104),\n",
       " ('Inside Out', 2.2438101896424616),\n",
       " ('Cars', 1.996491018395127),\n",
       " (\"A Bug's Life\", 1.977828802659428),\n",
       " ('Cars 2', 1.9530024801915642),\n",
       " ('Ratatouille', 1.9281923910004595),\n",
       " ('Chicken Little', 1.9194265814132228),\n",
       " ('Monsters University', 1.9077836738452538),\n",
       " ('Class of 1984', 1.8894859596774605),\n",
       " ('Home on the Range', 1.8627835037598337),\n",
       " ('Factory Girl', 1.8381748681351542),\n",
       " ('Brave', 1.8230223238026382),\n",
       " ('Hocus Pocus', 1.8066966941696891)]"
      ]
     },
     "execution_count": 52,
     "metadata": {},
     "output_type": "execute_result"
    }
   ],
   "source": [
    "%time total_recommendation_v2(\"Toy Story 3\", 20)"
   ]
  },
  {
   "cell_type": "code",
   "execution_count": 53,
   "metadata": {},
   "outputs": [
    {
     "data": {
      "text/plain": [
       "4.193209967331696"
      ]
     },
     "execution_count": 53,
     "metadata": {},
     "output_type": "execute_result"
    }
   ],
   "source": [
    "total_reccommendation_v2_cosDist('Toy Story 3', 'The 40 Year Old Virgin')"
   ]
  },
  {
   "cell_type": "code",
   "execution_count": null,
   "metadata": {},
   "outputs": [],
   "source": []
  }
 ],
 "metadata": {
  "kernelspec": {
   "display_name": "Python 3",
   "language": "python",
   "name": "python3"
  },
  "language_info": {
   "codemirror_mode": {
    "name": "ipython",
    "version": 3
   },
   "file_extension": ".py",
   "mimetype": "text/x-python",
   "name": "python",
   "nbconvert_exporter": "python",
   "pygments_lexer": "ipython3",
   "version": "3.6.5"
  }
 },
 "nbformat": 4,
 "nbformat_minor": 2
}
