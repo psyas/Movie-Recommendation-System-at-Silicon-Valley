{
 "cells": [
  {
   "cell_type": "markdown",
   "metadata": {},
   "source": [
    "# Movie data preprocessing\n",
    "## movies와 credits에서 프로젝트에 사용되지 않는 컬럼을 버린다\n",
    "### budget, homepage, original_language, original_title, production_countries, release_date, revenue, spoken_language, status\n",
    "\n",
    "## movies와 credits dataframe을 merge한다.\n",
    "## crew 컬럼에서 director 정보를 뽑아내서 새로운 DataFrame으로 만든다.\n",
    "### director1 ~ director 종류수"
   ]
  },
  {
   "cell_type": "code",
   "execution_count": 1,
   "metadata": {},
   "outputs": [],
   "source": [
    "import pandas as pd\n",
    "import numpy as np\n",
    "\n",
    "movies_df = pd.read_csv(\"data/tmdb_5000_movies.csv\")\n",
    "credits_df = pd.read_csv(\"data/tmdb_5000_credits.csv\")\n",
    "\n",
    "# drop columns\n",
    "# budget, homepage, original_language, original_title, production_countries, release_date,\n",
    "# revenue, spoken_languages, status\n",
    "movies_df = movies_df.drop(columns=['budget', 'homepage', 'original_language', 'original_title', 'production_countries',\n",
    "                                    'release_date', 'revenue', 'spoken_languages', 'status', 'runtime', 'tagline'])\n",
    "\n",
    "credits_df = credits_df.drop(columns=['title'])\n",
    "credits_df.columns=['id', 'cast', 'crew']"
   ]
  },
  {
   "cell_type": "code",
   "execution_count": 2,
   "metadata": {},
   "outputs": [
    {
     "name": "stdout",
     "output_type": "stream",
     "text": [
      "4803\n"
     ]
    }
   ],
   "source": [
    "# check if 'id' can be used as identifier\n",
    "id_list_1 = list()\n",
    "for item in credits_df['id']:\n",
    "    if type(item) is not int:\n",
    "        print('Wrong Id data type')\n",
    "    id_list_1.append(item)\n",
    "print(len(id_list_1))\n",
    "\n",
    "for item in movies_df['id']:\n",
    "    if item not in id_list_1:\n",
    "        print('Id is not sufficient : ', item)"
   ]
  },
  {
   "cell_type": "markdown",
   "metadata": {},
   "source": [
    "# total_df = movies_df + credits_df"
   ]
  },
  {
   "cell_type": "code",
   "execution_count": 3,
   "metadata": {
    "scrolled": true
   },
   "outputs": [
    {
     "data": {
      "text/html": [
       "<div>\n",
       "<style scoped>\n",
       "    .dataframe tbody tr th:only-of-type {\n",
       "        vertical-align: middle;\n",
       "    }\n",
       "\n",
       "    .dataframe tbody tr th {\n",
       "        vertical-align: top;\n",
       "    }\n",
       "\n",
       "    .dataframe thead th {\n",
       "        text-align: right;\n",
       "    }\n",
       "</style>\n",
       "<table border=\"1\" class=\"dataframe\">\n",
       "  <thead>\n",
       "    <tr style=\"text-align: right;\">\n",
       "      <th></th>\n",
       "      <th>genres</th>\n",
       "      <th>id</th>\n",
       "      <th>keywords</th>\n",
       "      <th>overview</th>\n",
       "      <th>popularity</th>\n",
       "      <th>production_companies</th>\n",
       "      <th>title</th>\n",
       "      <th>vote_average</th>\n",
       "      <th>vote_count</th>\n",
       "      <th>cast</th>\n",
       "      <th>crew</th>\n",
       "    </tr>\n",
       "  </thead>\n",
       "  <tbody>\n",
       "    <tr>\n",
       "      <th>0</th>\n",
       "      <td>[{\"id\": 28, \"name\": \"Action\"}, {\"id\": 12, \"nam...</td>\n",
       "      <td>19995</td>\n",
       "      <td>[{\"id\": 1463, \"name\": \"culture clash\"}, {\"id\":...</td>\n",
       "      <td>In the 22nd century, a paraplegic Marine is di...</td>\n",
       "      <td>150.437577</td>\n",
       "      <td>[{\"name\": \"Ingenious Film Partners\", \"id\": 289...</td>\n",
       "      <td>Avatar</td>\n",
       "      <td>7.2</td>\n",
       "      <td>11800</td>\n",
       "      <td>[{\"cast_id\": 242, \"character\": \"Jake Sully\", \"...</td>\n",
       "      <td>[{\"credit_id\": \"52fe48009251416c750aca23\", \"de...</td>\n",
       "    </tr>\n",
       "  </tbody>\n",
       "</table>\n",
       "</div>"
      ],
      "text/plain": [
       "                                              genres     id  \\\n",
       "0  [{\"id\": 28, \"name\": \"Action\"}, {\"id\": 12, \"nam...  19995   \n",
       "\n",
       "                                            keywords  \\\n",
       "0  [{\"id\": 1463, \"name\": \"culture clash\"}, {\"id\":...   \n",
       "\n",
       "                                            overview  popularity  \\\n",
       "0  In the 22nd century, a paraplegic Marine is di...  150.437577   \n",
       "\n",
       "                                production_companies   title  vote_average  \\\n",
       "0  [{\"name\": \"Ingenious Film Partners\", \"id\": 289...  Avatar           7.2   \n",
       "\n",
       "   vote_count                                               cast  \\\n",
       "0       11800  [{\"cast_id\": 242, \"character\": \"Jake Sully\", \"...   \n",
       "\n",
       "                                                crew  \n",
       "0  [{\"credit_id\": \"52fe48009251416c750aca23\", \"de...  "
      ]
     },
     "execution_count": 3,
     "metadata": {},
     "output_type": "execute_result"
    }
   ],
   "source": [
    "total_df = movies_df.join(credits_df.set_index('id'), on='id')\n",
    "total_df.head(1)"
   ]
  },
  {
   "cell_type": "markdown",
   "metadata": {},
   "source": [
    "# total_df 에서 중복으로 등장하는 row들을 drop한다."
   ]
  },
  {
   "cell_type": "code",
   "execution_count": 4,
   "metadata": {},
   "outputs": [],
   "source": [
    "#total_df = total_df.drop_duplicates(['title'], keep='first')\n",
    "total_df = total_df.drop_duplicates(['title'], keep='first')\n",
    "total_df = pd.DataFrame(total_df.values, columns=['genres', 'id', 'keywords', 'overview', 'popularity', 'production_companies', 'title', 'vote_average', 'vote_count', 'cast', 'crew'])\n",
    "#k.drop_duplicates(subset=['A'], keep=False)"
   ]
  },
  {
   "cell_type": "markdown",
   "metadata": {},
   "source": [
    "# string 형태로 되어있는 각 value를 python dictionary 형태로 가져온다."
   ]
  },
  {
   "cell_type": "code",
   "execution_count": 5,
   "metadata": {},
   "outputs": [],
   "source": [
    "import json\n",
    "\n",
    "json_columns = ['genres', 'keywords', 'cast', 'crew', 'production_companies']\n",
    "for column in json_columns:\n",
    "    total_df[column] = total_df[column].apply(json.loads)"
   ]
  },
  {
   "cell_type": "markdown",
   "metadata": {},
   "source": [
    "# Dataset내의 영화중 crew 데이터를 갖고 있지 않은 영화의 목록을 출력"
   ]
  },
  {
   "cell_type": "code",
   "execution_count": 6,
   "metadata": {},
   "outputs": [
    {
     "name": "stdout",
     "output_type": "stream",
     "text": [
      "Flying By\n",
      "Running Forever\n",
      "Boynton Beach Club\n",
      "Sharkskin\n",
      "The Book of Mormon Movie, Volume 1: The Journey\n",
      "Hum To Mohabbat Karega\n",
      "Roadside Romeo\n",
      "Me You and Five Bucks\n",
      "Down & Out With The Dolls\n",
      "Crowsnest\n",
      "Sex With Strangers\n",
      "The Helix... Loaded\n",
      "Karachi se Lahore\n",
      "Harrison Montgomery\n",
      "Light from the Darkroom\n",
      "America Is Still the Place\n",
      "The Little Ponderosa Zoo\n",
      "Diamond Ruff\n",
      "Rise of the Entrepreneur: The Search for a Better Way\n",
      "I Want Your Money\n",
      "Fabled\n",
      "Death Calls\n",
      "Amidst the Devil's Wings\n",
      "Teeth and Blood\n",
      "UnDivided\n",
      "Little Big Top\n",
      "Short Cut to Nirvana: Kumbh Mela\n",
      "The Blood of My Brother: A Story of Death in Iraq\n",
      "28\n"
     ]
    }
   ],
   "source": [
    "count=0\n",
    "for title, crew_list in zip(total_df['title'], total_df[\"crew\"]):\n",
    "    if not crew_list:\n",
    "        print(title)\n",
    "        count+=1\n",
    "print(count)"
   ]
  },
  {
   "cell_type": "markdown",
   "metadata": {},
   "source": [
    "# Data vectorization (one-hot encoding)\n",
    "# 영화의 feature 값을 1d array로 변환\n",
    "##  Data -> list, set, dict -> list"
   ]
  },
  {
   "cell_type": "code",
   "execution_count": 7,
   "metadata": {},
   "outputs": [],
   "source": [
    "director_list = list()\n",
    "director_set = set()\n",
    "for title, crew_list in zip(total_df['title'], total_df['crew']):\n",
    "    temp = list()\n",
    "    for one_crew_dict in crew_list:\n",
    "        if one_crew_dict['job'] == 'Director':\n",
    "            temp.append(one_crew_dict['name'])\n",
    "            director_set.add(one_crew_dict['name'])\n",
    "    director_list.append(temp)\n"
   ]
  },
  {
   "cell_type": "code",
   "execution_count": 8,
   "metadata": {},
   "outputs": [
    {
     "name": "stdout",
     "output_type": "stream",
     "text": [
      "2575\n"
     ]
    }
   ],
   "source": [
    "director_dict = dict()\n",
    "director_dict = dict.fromkeys(director_set)\n",
    "count = 0\n",
    "for key in director_dict.keys():\n",
    "    director_dict[key] = count\n",
    "    count+=1\n",
    "director_rev_dict = {v:k for k,v in director_dict.items()}\n",
    "print(len(director_dict.keys()))"
   ]
  },
  {
   "cell_type": "code",
   "execution_count": 9,
   "metadata": {},
   "outputs": [
    {
     "name": "stdout",
     "output_type": "stream",
     "text": [
      "4800\n"
     ]
    }
   ],
   "source": [
    "director_vector = list()\n",
    "director_columns_name = list()\n",
    "\n",
    "# Director vectorize - one hot encoding\n",
    "for directors in director_list:\n",
    "    temp_director = [0]*len(director_dict.keys())\n",
    "    for director in directors:\n",
    "        temp_director[director_dict[director]] = 1\n",
    "    director_vector.append(temp_director)\n",
    "\n",
    "# Generate column names of Director dataframe\n",
    "for count in range(len(director_dict.keys())):\n",
    "    director_columns_name.append('Director' + str(count))\n",
    "    \n",
    "print(len(director_vector))\n",
    "Directors = pd.DataFrame(director_vector, columns=director_columns_name)"
   ]
  },
  {
   "cell_type": "markdown",
   "metadata": {},
   "source": [
    "# Production Companies vectorize\n",
    "## production company 의 종류 개수 : 5017\n",
    "## 한 영화가 가진 가장 많은 production company의 종류 개수 : 26\n",
    "## 한 영화가 가진 가장 적은 production company의 종류 개수 : 0"
   ]
  },
  {
   "cell_type": "code",
   "execution_count": 10,
   "metadata": {},
   "outputs": [],
   "source": [
    "pro_com_set = set()\n",
    "com_list_list = list()\n",
    "for company_list in total_df['production_companies']:\n",
    "    temp_com_list = list()\n",
    "    for company in company_list:\n",
    "        pro_com_set.add(company['name'])\n",
    "        temp_com_list.append(company['name'])\n",
    "    com_list_list.append(temp_com_list)\n",
    "\n",
    "pro_com_vectors = list()\n",
    "pro_com_dict = dict()\n",
    "pro_com_dict = dict.fromkeys(pro_com_set)\n",
    "count = 0\n",
    "for keyitem in pro_com_dict.keys():\n",
    "    pro_com_dict[keyitem] = count\n",
    "    count += 1\n",
    "\n",
    "for com_list in com_list_list:\n",
    "    temp_vec = [0]*5017\n",
    "    for com in com_list:\n",
    "        temp_vec[pro_com_dict[com]] = 1\n",
    "    pro_com_vectors.append(temp_vec)\n",
    "\n",
    "production_com_columns = list()\n",
    "for i in range(5017):\n",
    "    temp_name = 'company' + str(i)\n",
    "    production_com_columns.append(temp_name)\n",
    "\n",
    "Production_Companies = pd.DataFrame(pro_com_vectors, columns = production_com_columns)\n",
    "#Production_Companies['title'] = total_df['title']"
   ]
  },
  {
   "cell_type": "code",
   "execution_count": 11,
   "metadata": {},
   "outputs": [
    {
     "name": "stdout",
     "output_type": "stream",
     "text": [
      "26\n"
     ]
    }
   ],
   "source": [
    "# 한 영화가 가진 가장 많은 production company의 종류 개수 : 26\n",
    "max_len = 0\n",
    "for com_list in com_list_list:\n",
    "    if len(com_list) > max_len:\n",
    "        max_len = len(com_list)\n",
    "print(max_len)"
   ]
  },
  {
   "cell_type": "code",
   "execution_count": 12,
   "metadata": {},
   "outputs": [
    {
     "name": "stdout",
     "output_type": "stream",
     "text": [
      "0\n"
     ]
    }
   ],
   "source": [
    "# 한 영화가 가진 가장 적은 production company의 종류 개수 : 0\n",
    "min_len = 9999\n",
    "for com_list in com_list_list:\n",
    "    if len(com_list) < min_len:\n",
    "        min_len = len(com_list)\n",
    "print(min_len)"
   ]
  },
  {
   "cell_type": "markdown",
   "metadata": {},
   "source": [
    "# Genre vectorize\n",
    "## genre 의 종류 개수 : 20\n",
    "## 한 영화가 가진 가장 많은 genre의 종류 개수 : 7\n",
    "## 한 영화가 가진 가장 적은 genre의 종류 개수 : 0"
   ]
  },
  {
   "cell_type": "code",
   "execution_count": 13,
   "metadata": {},
   "outputs": [
    {
     "name": "stdout",
     "output_type": "stream",
     "text": [
      "20\n",
      "{'History', 'Western', 'Music', 'Thriller', 'Mystery', 'Drama', 'War', 'Horror', 'TV Movie', 'Adventure', 'Family', 'Crime', 'Action', 'Documentary', 'Foreign', 'Romance', 'Science Fiction', 'Animation', 'Fantasy', 'Comedy'}\n"
     ]
    }
   ],
   "source": [
    "genre_set = set()\n",
    "genre_list_list = list()\n",
    "\n",
    "for genre_list in total_df['genres']:\n",
    "    temp_genre = list()\n",
    "    for genre in genre_list:\n",
    "        genre_set.add(genre['name'])\n",
    "        temp_genre.append(genre['name'])\n",
    "    genre_list_list.append(temp_genre)\n",
    "print(len(genre_set))\n",
    "print(genre_set)"
   ]
  },
  {
   "cell_type": "code",
   "execution_count": 14,
   "metadata": {},
   "outputs": [],
   "source": [
    "genre_dict = dict()\n",
    "genre_dict = dict.fromkeys(genre_set)\n",
    "count = 0\n",
    "for key_item in genre_dict.keys():\n",
    "    genre_dict[key_item] = count\n",
    "    count += 1\n",
    "genre_vector = list()\n",
    "for genre_list in genre_list_list:\n",
    "    temp_genre_vec = [0] * 20\n",
    "    for genre in genre_list:\n",
    "        temp_genre_vec[genre_dict[genre]] = 1\n",
    "    genre_vector.append(temp_genre_vec)\n",
    "genre_cols = list()\n",
    "for i in range(20):\n",
    "    temp_genre = 'genre' + str(i)\n",
    "    genre_cols.append(temp_genre)\n",
    "\n",
    "Genre = pd.DataFrame(genre_vector, columns=genre_cols)"
   ]
  },
  {
   "cell_type": "code",
   "execution_count": 15,
   "metadata": {},
   "outputs": [
    {
     "data": {
      "text/html": [
       "<div>\n",
       "<style scoped>\n",
       "    .dataframe tbody tr th:only-of-type {\n",
       "        vertical-align: middle;\n",
       "    }\n",
       "\n",
       "    .dataframe tbody tr th {\n",
       "        vertical-align: top;\n",
       "    }\n",
       "\n",
       "    .dataframe thead th {\n",
       "        text-align: right;\n",
       "    }\n",
       "</style>\n",
       "<table border=\"1\" class=\"dataframe\">\n",
       "  <thead>\n",
       "    <tr style=\"text-align: right;\">\n",
       "      <th></th>\n",
       "      <th>genre0</th>\n",
       "      <th>genre1</th>\n",
       "      <th>genre2</th>\n",
       "      <th>genre3</th>\n",
       "      <th>genre4</th>\n",
       "      <th>genre5</th>\n",
       "      <th>genre6</th>\n",
       "      <th>genre7</th>\n",
       "      <th>genre8</th>\n",
       "      <th>genre9</th>\n",
       "      <th>genre10</th>\n",
       "      <th>genre11</th>\n",
       "      <th>genre12</th>\n",
       "      <th>genre13</th>\n",
       "      <th>genre14</th>\n",
       "      <th>genre15</th>\n",
       "      <th>genre16</th>\n",
       "      <th>genre17</th>\n",
       "      <th>genre18</th>\n",
       "      <th>genre19</th>\n",
       "    </tr>\n",
       "  </thead>\n",
       "  <tbody>\n",
       "    <tr>\n",
       "      <th>0</th>\n",
       "      <td>0</td>\n",
       "      <td>0</td>\n",
       "      <td>0</td>\n",
       "      <td>0</td>\n",
       "      <td>0</td>\n",
       "      <td>0</td>\n",
       "      <td>0</td>\n",
       "      <td>0</td>\n",
       "      <td>0</td>\n",
       "      <td>1</td>\n",
       "      <td>0</td>\n",
       "      <td>0</td>\n",
       "      <td>1</td>\n",
       "      <td>0</td>\n",
       "      <td>0</td>\n",
       "      <td>0</td>\n",
       "      <td>1</td>\n",
       "      <td>0</td>\n",
       "      <td>1</td>\n",
       "      <td>0</td>\n",
       "    </tr>\n",
       "    <tr>\n",
       "      <th>1</th>\n",
       "      <td>0</td>\n",
       "      <td>0</td>\n",
       "      <td>0</td>\n",
       "      <td>0</td>\n",
       "      <td>0</td>\n",
       "      <td>0</td>\n",
       "      <td>0</td>\n",
       "      <td>0</td>\n",
       "      <td>0</td>\n",
       "      <td>1</td>\n",
       "      <td>0</td>\n",
       "      <td>0</td>\n",
       "      <td>1</td>\n",
       "      <td>0</td>\n",
       "      <td>0</td>\n",
       "      <td>0</td>\n",
       "      <td>0</td>\n",
       "      <td>0</td>\n",
       "      <td>1</td>\n",
       "      <td>0</td>\n",
       "    </tr>\n",
       "    <tr>\n",
       "      <th>2</th>\n",
       "      <td>0</td>\n",
       "      <td>0</td>\n",
       "      <td>0</td>\n",
       "      <td>0</td>\n",
       "      <td>0</td>\n",
       "      <td>0</td>\n",
       "      <td>0</td>\n",
       "      <td>0</td>\n",
       "      <td>0</td>\n",
       "      <td>1</td>\n",
       "      <td>0</td>\n",
       "      <td>1</td>\n",
       "      <td>1</td>\n",
       "      <td>0</td>\n",
       "      <td>0</td>\n",
       "      <td>0</td>\n",
       "      <td>0</td>\n",
       "      <td>0</td>\n",
       "      <td>0</td>\n",
       "      <td>0</td>\n",
       "    </tr>\n",
       "    <tr>\n",
       "      <th>3</th>\n",
       "      <td>0</td>\n",
       "      <td>0</td>\n",
       "      <td>0</td>\n",
       "      <td>1</td>\n",
       "      <td>0</td>\n",
       "      <td>1</td>\n",
       "      <td>0</td>\n",
       "      <td>0</td>\n",
       "      <td>0</td>\n",
       "      <td>0</td>\n",
       "      <td>0</td>\n",
       "      <td>1</td>\n",
       "      <td>1</td>\n",
       "      <td>0</td>\n",
       "      <td>0</td>\n",
       "      <td>0</td>\n",
       "      <td>0</td>\n",
       "      <td>0</td>\n",
       "      <td>0</td>\n",
       "      <td>0</td>\n",
       "    </tr>\n",
       "    <tr>\n",
       "      <th>4</th>\n",
       "      <td>0</td>\n",
       "      <td>0</td>\n",
       "      <td>0</td>\n",
       "      <td>0</td>\n",
       "      <td>0</td>\n",
       "      <td>0</td>\n",
       "      <td>0</td>\n",
       "      <td>0</td>\n",
       "      <td>0</td>\n",
       "      <td>1</td>\n",
       "      <td>0</td>\n",
       "      <td>0</td>\n",
       "      <td>1</td>\n",
       "      <td>0</td>\n",
       "      <td>0</td>\n",
       "      <td>0</td>\n",
       "      <td>1</td>\n",
       "      <td>0</td>\n",
       "      <td>0</td>\n",
       "      <td>0</td>\n",
       "    </tr>\n",
       "    <tr>\n",
       "      <th>5</th>\n",
       "      <td>0</td>\n",
       "      <td>0</td>\n",
       "      <td>0</td>\n",
       "      <td>0</td>\n",
       "      <td>0</td>\n",
       "      <td>0</td>\n",
       "      <td>0</td>\n",
       "      <td>0</td>\n",
       "      <td>0</td>\n",
       "      <td>1</td>\n",
       "      <td>0</td>\n",
       "      <td>0</td>\n",
       "      <td>1</td>\n",
       "      <td>0</td>\n",
       "      <td>0</td>\n",
       "      <td>0</td>\n",
       "      <td>0</td>\n",
       "      <td>0</td>\n",
       "      <td>1</td>\n",
       "      <td>0</td>\n",
       "    </tr>\n",
       "    <tr>\n",
       "      <th>6</th>\n",
       "      <td>0</td>\n",
       "      <td>0</td>\n",
       "      <td>0</td>\n",
       "      <td>0</td>\n",
       "      <td>0</td>\n",
       "      <td>0</td>\n",
       "      <td>0</td>\n",
       "      <td>0</td>\n",
       "      <td>0</td>\n",
       "      <td>0</td>\n",
       "      <td>1</td>\n",
       "      <td>0</td>\n",
       "      <td>0</td>\n",
       "      <td>0</td>\n",
       "      <td>0</td>\n",
       "      <td>0</td>\n",
       "      <td>0</td>\n",
       "      <td>1</td>\n",
       "      <td>0</td>\n",
       "      <td>0</td>\n",
       "    </tr>\n",
       "    <tr>\n",
       "      <th>7</th>\n",
       "      <td>0</td>\n",
       "      <td>0</td>\n",
       "      <td>0</td>\n",
       "      <td>0</td>\n",
       "      <td>0</td>\n",
       "      <td>0</td>\n",
       "      <td>0</td>\n",
       "      <td>0</td>\n",
       "      <td>0</td>\n",
       "      <td>1</td>\n",
       "      <td>0</td>\n",
       "      <td>0</td>\n",
       "      <td>1</td>\n",
       "      <td>0</td>\n",
       "      <td>0</td>\n",
       "      <td>0</td>\n",
       "      <td>1</td>\n",
       "      <td>0</td>\n",
       "      <td>0</td>\n",
       "      <td>0</td>\n",
       "    </tr>\n",
       "    <tr>\n",
       "      <th>8</th>\n",
       "      <td>0</td>\n",
       "      <td>0</td>\n",
       "      <td>0</td>\n",
       "      <td>0</td>\n",
       "      <td>0</td>\n",
       "      <td>0</td>\n",
       "      <td>0</td>\n",
       "      <td>0</td>\n",
       "      <td>0</td>\n",
       "      <td>1</td>\n",
       "      <td>1</td>\n",
       "      <td>0</td>\n",
       "      <td>0</td>\n",
       "      <td>0</td>\n",
       "      <td>0</td>\n",
       "      <td>0</td>\n",
       "      <td>0</td>\n",
       "      <td>0</td>\n",
       "      <td>1</td>\n",
       "      <td>0</td>\n",
       "    </tr>\n",
       "    <tr>\n",
       "      <th>9</th>\n",
       "      <td>0</td>\n",
       "      <td>0</td>\n",
       "      <td>0</td>\n",
       "      <td>0</td>\n",
       "      <td>0</td>\n",
       "      <td>0</td>\n",
       "      <td>0</td>\n",
       "      <td>0</td>\n",
       "      <td>0</td>\n",
       "      <td>1</td>\n",
       "      <td>0</td>\n",
       "      <td>0</td>\n",
       "      <td>1</td>\n",
       "      <td>0</td>\n",
       "      <td>0</td>\n",
       "      <td>0</td>\n",
       "      <td>0</td>\n",
       "      <td>0</td>\n",
       "      <td>1</td>\n",
       "      <td>0</td>\n",
       "    </tr>\n",
       "  </tbody>\n",
       "</table>\n",
       "</div>"
      ],
      "text/plain": [
       "   genre0  genre1  genre2  genre3  genre4  genre5  genre6  genre7  genre8  \\\n",
       "0       0       0       0       0       0       0       0       0       0   \n",
       "1       0       0       0       0       0       0       0       0       0   \n",
       "2       0       0       0       0       0       0       0       0       0   \n",
       "3       0       0       0       1       0       1       0       0       0   \n",
       "4       0       0       0       0       0       0       0       0       0   \n",
       "5       0       0       0       0       0       0       0       0       0   \n",
       "6       0       0       0       0       0       0       0       0       0   \n",
       "7       0       0       0       0       0       0       0       0       0   \n",
       "8       0       0       0       0       0       0       0       0       0   \n",
       "9       0       0       0       0       0       0       0       0       0   \n",
       "\n",
       "   genre9  genre10  genre11  genre12  genre13  genre14  genre15  genre16  \\\n",
       "0       1        0        0        1        0        0        0        1   \n",
       "1       1        0        0        1        0        0        0        0   \n",
       "2       1        0        1        1        0        0        0        0   \n",
       "3       0        0        1        1        0        0        0        0   \n",
       "4       1        0        0        1        0        0        0        1   \n",
       "5       1        0        0        1        0        0        0        0   \n",
       "6       0        1        0        0        0        0        0        0   \n",
       "7       1        0        0        1        0        0        0        1   \n",
       "8       1        1        0        0        0        0        0        0   \n",
       "9       1        0        0        1        0        0        0        0   \n",
       "\n",
       "   genre17  genre18  genre19  \n",
       "0        0        1        0  \n",
       "1        0        1        0  \n",
       "2        0        0        0  \n",
       "3        0        0        0  \n",
       "4        0        0        0  \n",
       "5        0        1        0  \n",
       "6        1        0        0  \n",
       "7        0        0        0  \n",
       "8        0        1        0  \n",
       "9        0        1        0  "
      ]
     },
     "execution_count": 15,
     "metadata": {},
     "output_type": "execute_result"
    }
   ],
   "source": [
    "Genre.head(10)"
   ]
  },
  {
   "cell_type": "code",
   "execution_count": 16,
   "metadata": {},
   "outputs": [
    {
     "name": "stdout",
     "output_type": "stream",
     "text": [
      "7\n"
     ]
    }
   ],
   "source": [
    "# 한 영화가 가진 가장 많은 genre의 종류 개수 : 7\n",
    "max_len = 0\n",
    "for genre_list in genre_list_list:\n",
    "    if len(genre_list) > max_len:\n",
    "        max_len = len(genre_list)\n",
    "print(max_len)"
   ]
  },
  {
   "cell_type": "code",
   "execution_count": 17,
   "metadata": {},
   "outputs": [
    {
     "name": "stdout",
     "output_type": "stream",
     "text": [
      "0\n"
     ]
    }
   ],
   "source": [
    "# 한 영화가 가진 가장 적은 genre의 종류 개수 : 0\n",
    "min_len = 9999\n",
    "for genre_list in genre_list_list:\n",
    "    if len(genre_list) < min_len:\n",
    "        min_len = len(genre_list)\n",
    "print(min_len)"
   ]
  },
  {
   "cell_type": "markdown",
   "metadata": {},
   "source": [
    "# TODO : 왜 keyword에 one hot encoding을 적용하였는가"
   ]
  },
  {
   "cell_type": "code",
   "execution_count": 18,
   "metadata": {},
   "outputs": [
    {
     "name": "stdout",
     "output_type": "stream",
     "text": [
      "4100\n",
      "288\n",
      "412\n"
     ]
    }
   ],
   "source": [
    "import re\n",
    "import string\n",
    "\n",
    "keywords=total_df['keywords']\n",
    "\n",
    "cntOf2=0  #counter for movies that have more than 2 keywords \n",
    "cntOf1=0  #counter for movies that have 1 keyword \n",
    "cntOf0=0  #counter for movies that have no keyward \n",
    "\n",
    "keyDf = pd.DataFrame(columns=(\"key1\", \"key2\"))\n",
    " # save first two keywords \n",
    "for i in range(len(keywords)):\n",
    "    if len(keywords[i]) >= 2:\n",
    "        cntOf2+=1\n",
    "        #print(\"There're 2 keywords\")\n",
    "        m1=keywords[i][0]['name']\n",
    "        m2=keywords[i][1]['name']\n",
    "    elif len(keywords[i]) == 1:\n",
    "        cntOf1+=1\n",
    "        #print(\"There's 1 keyword\")\n",
    "        m1=keywords[i][0]['name']\n",
    "        m2=\"null\"\n",
    "    else :\n",
    "        cntOf0+=1\n",
    "        #print(\"there's no keyword\")\n",
    "        m1=\"null\"\n",
    "        m2=\"null\"\n",
    "    keyDf.loc[i]=[m1,m2]\n",
    "\n",
    "print(cntOf2)\n",
    "print(cntOf1)\n",
    "print(cntOf0)"
   ]
  },
  {
   "cell_type": "code",
   "execution_count": 19,
   "metadata": {},
   "outputs": [],
   "source": [
    "def vectorize(value_set, list_list, col_name):\n",
    "    feature_vector = list()\n",
    "    feature_dict = dict.fromkeys(value_set)\n",
    "    feature_columns = list()\n",
    "    count = 0\n",
    "    \n",
    "    for key in feature_dict.keys():\n",
    "        feature_dict[key] = count\n",
    "        count+=1\n",
    "    for one_line in list_list:\n",
    "        temp_list = [0]*len(value_set)\n",
    "        for one_ele in one_line:\n",
    "            temp_list[feature_dict[one_ele]] = 1\n",
    "        feature_vector.append(temp_list)\n",
    "    for i in range(len(value_set)):\n",
    "        temp_name = str(col_name) + str(i)\n",
    "        feature_columns.append(temp_name)\n",
    "        \n",
    "    result = pd.DataFrame(feature_vector, columns = feature_columns)\n",
    "    return result"
   ]
  },
  {
   "cell_type": "code",
   "execution_count": 20,
   "metadata": {},
   "outputs": [
    {
     "name": "stdout",
     "output_type": "stream",
     "text": [
      "<class 'pandas.core.frame.DataFrame'>\n",
      "RangeIndex: 4800 entries, 0 to 4799\n",
      "Columns: 9809 entries, keyword0 to keyword9808\n",
      "dtypes: int64(9809)\n",
      "memory usage: 359.2 MB\n"
     ]
    }
   ],
   "source": [
    "keywords_list_list = list()\n",
    "keywords_set = set()\n",
    "\n",
    "for keywords_list in keywords:\n",
    "    temp_list = list()\n",
    "    for keyword in keywords_list:\n",
    "        temp_list.append(keyword['name'])\n",
    "        keywords_set.add(keyword['name'])\n",
    "    keywords_list_list.append(temp_list)\n",
    "    \n",
    "Keywords = vectorize(keywords_set, keywords_list_list, 'keyword')\n",
    "Keywords.info()"
   ]
  },
  {
   "cell_type": "markdown",
   "metadata": {},
   "source": [
    "# Overview vectorize - tf-idf를 사용.\n",
    "# sparse matrix를 기반으로 cosine similarity를 계산\n",
    "## CountVectorizer 가 아닌 TF-IDF Vectorizer를 사용하는 이유\n",
    "### 1. CountVectorizer는 단어의 빈도수에 따라 값이 단순히 증가\n",
    "### 2. TF-IDF Vectorizer (Term Frequency, Inverse Document Frequency)\n",
    "### -> 단어의 빈도수에 비례하여 값이 증가한다. 하지만 Corpus 내에서 단어가 나타나는 빈도수로 결과값을 나누어 줌으로써 The 와 같이 작은 뜻을 내포하지만 높은 빈도수로 인해 큰 가중치를 갖는 단어의 가중치를 줄여주는 역할을 한다.\n",
    "\n",
    "### -> 문서 세트에서 자주 발생하는 용어의 가중치를 줄이고 드물게 발생하는 용어의 가중치를 증가시키는 역 문서 빈도 요소가 결과에 통합된다.\n",
    "\n",
    "### -> 이를 통해 단어의 발생 빈도수와 관계없이 문서간의 연관관계를 파악하는 것에 집중할 수 있게 된다.\n",
    "1. sci-kit learn의 TfidfVectorizer 모듈을 사용하여 row : movie, column : 단어의 빈도수인 행렬을 만든다. \n",
    "\n",
    "2. sci-kit learn의 cosine_similarities()보다 속도면에서 우수한 linear_kernel()을 사용하여 cosine similarity score를 계산"
   ]
  },
  {
   "cell_type": "code",
   "execution_count": 21,
   "metadata": {},
   "outputs": [
    {
     "data": {
      "text/plain": [
       "(4800, 20967)"
      ]
     },
     "execution_count": 21,
     "metadata": {},
     "output_type": "execute_result"
    }
   ],
   "source": [
    "from sklearn.feature_extraction.text import TfidfVectorizer\n",
    "\n",
    "tfidf = TfidfVectorizer(stop_words = 'english')\n",
    "\n",
    "total_df['overview'] = total_df['overview'].fillna('')\n",
    "\n",
    "# construct TF-IDF matrix by fitting and transforming the overview data\n",
    "tfidf_matrix = tfidf.fit_transform(total_df['overview'])\n",
    "\n",
    "# output the shape of tfidf_matrix\n",
    "tfidf_matrix.shape"
   ]
  },
  {
   "cell_type": "code",
   "execution_count": 22,
   "metadata": {},
   "outputs": [
    {
     "data": {
      "text/plain": [
       "<100641600x100641600 sparse matrix of type '<class 'numpy.float64'>'\n",
       "\twith 125704 stored elements in Compressed Sparse Row format>"
      ]
     },
     "execution_count": 22,
     "metadata": {},
     "output_type": "execute_result"
    }
   ],
   "source": [
    "import scipy\n",
    "# overview 학습의 결과를 unpack 해보았다.\n",
    "M1 = scipy.sparse.diags(tfidf_matrix.A.ravel()).tocsr()\n",
    "M1"
   ]
  },
  {
   "cell_type": "markdown",
   "metadata": {},
   "source": [
    "# 하나의 feature에 대해서만 score를 얻어 영화를 추천해주는 함수\n",
    "## -> get_recommendations(title, 추천받고자 원하는 영화의 개수, 코사인 유사도 공식)"
   ]
  },
  {
   "cell_type": "code",
   "execution_count": 23,
   "metadata": {},
   "outputs": [],
   "source": [
    "from sklearn.metrics.pairwise import linear_kernel\n",
    "\n",
    "cosine_similarity = linear_kernel(tfidf_matrix, tfidf_matrix)\n",
    "\n",
    "indices = pd.Series(total_df.index, index=total_df['title']).drop_duplicates()\n",
    "\n",
    "# Function that takes in movie title as input and outputs most similar movies\n",
    "def get_recommendations(title, target_count=10, cosine_sim=cosine_similarity):\n",
    "    result_dict = dict()\n",
    "    idx = indices[title]\n",
    "    sim_scores = list(enumerate(cosine_sim[idx]))\n",
    "    sim_scores = sorted(sim_scores, key=lambda x : x[1], reverse = True)\n",
    "    sim_scores = sim_scores[1:1 + target_count] # except for itself\n",
    "    movies_indices = [i[0] for i in sim_scores]\n",
    "    for index, score in zip(movies_indices, sim_scores):\n",
    "        print(\"index:\", score[0],\"  \",\"score:\", score[1], \"   \", total_df['title'].iloc[index])\n",
    "    #return total_df['title'].iloc[movies_indices]"
   ]
  },
  {
   "cell_type": "code",
   "execution_count": 24,
   "metadata": {},
   "outputs": [],
   "source": [
    "cast_all = dict()\n",
    "for cast_group in total_df['cast']:\n",
    "    for cast in cast_group:\n",
    "        if cast['id'] in cast_all:\n",
    "            cast_all[cast['id']][1] += 1\n",
    "        else:\n",
    "            cast_all[cast['id']] = [cast['name'], 1]"
   ]
  },
  {
   "cell_type": "code",
   "execution_count": 25,
   "metadata": {},
   "outputs": [
    {
     "data": {
      "text/plain": [
       "54557"
      ]
     },
     "execution_count": 25,
     "metadata": {},
     "output_type": "execute_result"
    }
   ],
   "source": [
    "len(cast_all)"
   ]
  },
  {
   "cell_type": "code",
   "execution_count": 26,
   "metadata": {},
   "outputs": [],
   "source": [
    "cast_freq = list(cast_all.values())\n",
    "cast_freq.sort(reverse=True, key=lambda x: (x[1]))"
   ]
  },
  {
   "cell_type": "code",
   "execution_count": 27,
   "metadata": {},
   "outputs": [],
   "source": [
    "cast2vec_dict = dict()\n",
    "count = 0;\n",
    "for cast_id in cast_all.keys():\n",
    "    cast2vec_dict[cast_id] = count\n",
    "    count += 1\n",
    "\n",
    "cast_vectors = list()\n",
    "for cast_group in total_df['cast']:\n",
    "    cast_vector = [0] * len(cast_all)\n",
    "    for cast in cast_group:\n",
    "        cast_vector[cast2vec_dict[cast['id']]] = 1\n",
    "    cast_vectors.append(cast_vector)"
   ]
  },
  {
   "cell_type": "code",
   "execution_count": 28,
   "metadata": {},
   "outputs": [
    {
     "data": {
      "text/plain": [
       "54557"
      ]
     },
     "execution_count": 28,
     "metadata": {},
     "output_type": "execute_result"
    }
   ],
   "source": [
    "len(cast_vectors[0])"
   ]
  },
  {
   "cell_type": "code",
   "execution_count": 29,
   "metadata": {},
   "outputs": [],
   "source": [
    "cast_col = list()\n",
    "count = 0\n",
    "for ele in cast_vectors[0]:\n",
    "    name = 'cast' + str(count)\n",
    "    count += 1\n",
    "    cast_col.append(name)"
   ]
  },
  {
   "cell_type": "code",
   "execution_count": 30,
   "metadata": {},
   "outputs": [],
   "source": [
    "Cast = pd.DataFrame(cast_vectors, columns=cast_col)"
   ]
  },
  {
   "cell_type": "code",
   "execution_count": 31,
   "metadata": {},
   "outputs": [
    {
     "data": {
      "text/plain": [
       "(4800, 54557)"
      ]
     },
     "execution_count": 31,
     "metadata": {},
     "output_type": "execute_result"
    }
   ],
   "source": [
    "Cast.shape"
   ]
  },
  {
   "cell_type": "markdown",
   "metadata": {},
   "source": [
    "# Director, Genre, Production Companies, Cast 벡터화 완료\n",
    "## 각 벡터화의 결과를 DataFrame 형태로 저장함\n",
    "## 각 DataFrame의 shape를 확인"
   ]
  },
  {
   "cell_type": "code",
   "execution_count": 32,
   "metadata": {},
   "outputs": [
    {
     "name": "stdout",
     "output_type": "stream",
     "text": [
      "--------------------------------------------------------------\n",
      "--------------------Vectorization Complete--------------------\n",
      "Director shape :  (4800, 2575)\n",
      "Genre shape (4800, 20)\n",
      "Production Companies shape :  (4800, 5017)\n",
      "Cast shape :  (4800, 54557)\n",
      "Keyword shape :  (4800, 9809)\n",
      "--------------------------------------------------------------\n"
     ]
    }
   ],
   "source": [
    "print('-'*62)\n",
    "print(\"-\"*20 + \"Vectorization Complete\" + \"-\"*20)\n",
    "print(\"Director shape : \", Directors.shape)\n",
    "print(\"Genre shape\", Genre.shape)\n",
    "print(\"Production Companies shape : \", Production_Companies.shape)\n",
    "print(\"Cast shape : \", Cast.shape)\n",
    "print(\"Keyword shape : \", Keywords.shape)\n",
    "print('-'*62)"
   ]
  },
  {
   "cell_type": "markdown",
   "metadata": {},
   "source": [
    "# cosine similarity 를 구하기 위해 numpy array 를 sparse matrix으로 변환"
   ]
  },
  {
   "cell_type": "code",
   "execution_count": 33,
   "metadata": {},
   "outputs": [],
   "source": [
    "from scipy import sparse\n",
    "\n",
    "Directors_sparse = sparse.csr_matrix(Directors.values)\n",
    "Genre_sparse = sparse.csr_matrix(Genre.values)\n",
    "Procom_sparse = sparse.csr_matrix(Production_Companies.values)\n",
    "Cast_sparse = sparse.csr_matrix(Cast.values)"
   ]
  },
  {
   "cell_type": "markdown",
   "metadata": {},
   "source": [
    "# 영화의 수가 4800여개뿐이므로 감독 데이터만으로는 상위 10개의 유사도를 갖는 영화들의 목록을 정확히 얻을 수 없다는 것을 알 수 있다."
   ]
  },
  {
   "cell_type": "code",
   "execution_count": 34,
   "metadata": {},
   "outputs": [
    {
     "name": "stdout",
     "output_type": "stream",
     "text": [
      "index: 65    score: 1.0     The Dark Knight\n",
      "index: 95    score: 1.0     Interstellar\n",
      "index: 96    score: 1.0     Inception\n",
      "index: 119    score: 1.0     Batman Begins\n",
      "index: 1033    score: 1.0     Insomnia\n",
      "index: 1196    score: 1.0     The Prestige\n",
      "index: 3572    score: 1.0     Memento\n",
      "index: 0    score: 0.0     Avatar\n",
      "index: 1    score: 0.0     Pirates of the Caribbean: At World's End\n",
      "index: 2    score: 0.0     Spectre\n"
     ]
    }
   ],
   "source": [
    "cosine_sim_directors = linear_kernel(Directors_sparse, Directors_sparse)\n",
    "get_recommendations('The Dark Knight Rises',10, cosine_sim_directors)"
   ]
  },
  {
   "cell_type": "code",
   "execution_count": 35,
   "metadata": {},
   "outputs": [
    {
     "name": "stdout",
     "output_type": "stream",
     "text": [
      "index: 65    score: 4.0     The Dark Knight\n",
      "index: 405    score: 4.0     The Fast and the Furious: Tokyo Drift\n",
      "index: 590    score: 4.0     The Siege\n",
      "index: 629    score: 4.0     Need for Speed\n",
      "index: 724    score: 4.0     Man on Fire\n",
      "index: 741    score: 4.0     Shooter\n",
      "index: 747    score: 4.0     Gangster Squad\n",
      "index: 761    score: 4.0     Righteous Kill\n",
      "index: 762    score: 4.0     Mercury Rising\n",
      "index: 767    score: 4.0     xXx: State of the Union\n"
     ]
    }
   ],
   "source": [
    "cosine_sim_genre = linear_kernel(Genre_sparse, Genre_sparse)\n",
    "get_recommendations('The Dark Knight Rises',10, cosine_sim_genre)"
   ]
  },
  {
   "cell_type": "code",
   "execution_count": 36,
   "metadata": {},
   "outputs": [
    {
     "name": "stdout",
     "output_type": "stream",
     "text": [
      "index: 14    score: 4.0     Man of Steel\n",
      "index: 65    score: 4.0     The Dark Knight\n",
      "index: 119    score: 4.0     Batman Begins\n",
      "index: 95    score: 3.0     Interstellar\n",
      "index: 96    score: 3.0     Inception\n",
      "index: 9    score: 2.0     Batman v Superman: Dawn of Justice\n",
      "index: 10    score: 2.0     Superman Returns\n",
      "index: 41    score: 2.0     Green Lantern\n",
      "index: 48    score: 2.0     Jack the Giant Slayer\n",
      "index: 51    score: 2.0     Pacific Rim\n"
     ]
    }
   ],
   "source": [
    "cosine_sim_procom = linear_kernel(Procom_sparse, Procom_sparse)\n",
    "get_recommendations('The Dark Knight Rises',10, cosine_sim_procom)"
   ]
  },
  {
   "cell_type": "code",
   "execution_count": 37,
   "metadata": {},
   "outputs": [
    {
     "name": "stdout",
     "output_type": "stream",
     "text": [
      "index: 65    score: 7.0     The Dark Knight\n",
      "index: 96    score: 7.0     Inception\n",
      "index: 119    score: 7.0     Batman Begins\n",
      "index: 298    score: 7.0     The Wolf of Wall Street\n",
      "index: 95    score: 6.0     Interstellar\n",
      "index: 2060    score: 6.0     Out of the Furnace\n",
      "index: 1424    score: 5.0     Concussion\n",
      "index: 16    score: 4.0     The Avengers\n",
      "index: 1196    score: 4.0     The Prestige\n",
      "index: 27    score: 3.0     Battleship\n"
     ]
    }
   ],
   "source": [
    "cosine_sim_cast = linear_kernel(Cast_sparse, Cast_sparse)\n",
    "get_recommendations('The Dark Knight Rises',10, cosine_sim_cast)"
   ]
  },
  {
   "cell_type": "code",
   "execution_count": 38,
   "metadata": {},
   "outputs": [],
   "source": [
    "def get_cast_by_index(idx):\n",
    "    cast = total_df.values[idx][9]\n",
    "    return [actor_data['name'] for actor_data in cast]\n",
    "def get_cast_by_title(title):\n",
    "    return get_cast_by_index(indices[title])"
   ]
  },
  {
   "cell_type": "code",
   "execution_count": 39,
   "metadata": {},
   "outputs": [],
   "source": [
    "def total_recommendation_v1(title, target_count=10):\n",
    "    idx = indices[title]\n",
    "    # overview score\n",
    "    cos_sim_overview = linear_kernel(tfidf_matrix, tfidf_matrix)\n",
    "    sim_scores_overview = list(enumerate(cos_sim_overview[idx]))\n",
    "    #sim_scores_overview = list(map(lambda x[1]:x[1]*10000, sim_scores_overview))\n",
    "    \n",
    "    # Director score\n",
    "    cos_sim_director = linear_kernel(Directors_sparse, Directors_sparse)\n",
    "    sim_scores_director = list(enumerate(cos_sim_director[idx]))\n",
    "    \n",
    "    # Production Companies score\n",
    "    cos_sim_procom = linear_kernel(Procom_sparse, Procom_sparse)\n",
    "    sim_scores_procom = list(enumerate(cos_sim_procom[idx]))\n",
    "    \n",
    "    # Genre score\n",
    "    cos_sim_genre = linear_kernel(Genre_sparse, Genre_sparse)\n",
    "    sim_scores_genre = list(enumerate(cos_sim_genre[idx]))\n",
    "    \n",
    "    # Cast socre\n",
    "    cos_sim_cast = linear_kernel(Cast_sparse, Cast_sparse)\n",
    "    sim_scores_cast = list(enumerate(cos_sim_cast[idx]))\n",
    "    \n",
    "    #total_scores = [sum(x[0]) for x in zip(sim_scores_overview, sim_scores_director, sim_scores_procom, sim_scores_genre, sim_scores_cast)]\n",
    "    \n",
    "    \n",
    "    \"\"\"\n",
    "    sim_scores_overview = sorted(sim_scores_overview, key=lambda x : x[1], reverse = True)\n",
    "    sim_scores_overview = sim_scores_overview[1:1 + target_count] # except for itself\n",
    "    \"\"\"\n",
    "    total_scores = list()\n",
    "    for x in zip(sim_scores_overview, sim_scores_director, sim_scores_procom, sim_scores_genre, sim_scores_cast):\n",
    "        total_score = 0\n",
    "        for idx, score in enumerate(x):\n",
    "            if idx == 0:\n",
    "                total_score += 1*score[1]\n",
    "            total_score += score[1]\n",
    "        total_scores.append(total_score)\n",
    "        \n",
    "    total_result = sorted(enumerate(total_scores), key=lambda x : x[1], reverse = True)\n",
    "    total_result = total_result[1:1+target_count]\n",
    "    movies_indicies = [i[0] for i in total_result]\n",
    "    \n",
    "    recommendation_result = list()\n",
    "    \n",
    "    for title, ind, score in  zip(total_df['title'].iloc[movies_indicies], movies_indicies, total_result):\n",
    "        recommendation_result.append([ind, score[1], title])\n",
    "    \n",
    "    return recommendation_result\n",
    "\n",
    "    \"\"\"\n",
    "    movies_indices = [i[0] for i in sim_scores]\n",
    "    for index, score in zip(movies_indices, sim_scores):\n",
    "        print(\"index:\", score[0],\"  \",\"score:\", score[1], \"   \", total_df['title'].iloc[index])\n",
    "    #return total_df['title'].iloc[movies_indices]\n",
    "    \"\"\""
   ]
  },
  {
   "cell_type": "code",
   "execution_count": 40,
   "metadata": {
    "scrolled": false
   },
   "outputs": [
    {
     "data": {
      "text/plain": [
       "[[65, 16.602688023842877, 'The Dark Knight'],\n",
       " [119, 15.336000282774897, 'Batman Begins'],\n",
       " [96, 13.0, 'Inception'],\n",
       " [95, 11.0, 'Interstellar'],\n",
       " [1196, 9.032787561118191, 'The Prestige'],\n",
       " [298, 9.01214827720794, 'The Wolf of Wall Street'],\n",
       " [2060, 9.0, 'Out of the Furnace'],\n",
       " [747, 8.016990196843604, 'Gangster Squad'],\n",
       " [351, 6.04999226194579, 'The Departed'],\n",
       " [1254, 6.019959256164001, 'Get Carter']]"
      ]
     },
     "execution_count": 40,
     "metadata": {},
     "output_type": "execute_result"
    }
   ],
   "source": [
    "total_recommendation_v1(\"The Dark Knight Rises\")"
   ]
  },
  {
   "cell_type": "code",
   "execution_count": 41,
   "metadata": {},
   "outputs": [],
   "source": [
    "from scipy import spatial\n",
    "import math\n",
    "\n",
    "def Similarity(movie_title1, movie_title2, Feature):\n",
    "    movie1_row = Feature.iloc[indices[movie_title1]]\n",
    "    movie2_row = Feature.iloc[indices[movie_title2]]\n",
    "    \n",
    "    Dist = spatial.distance.cosine(movie1_row, movie2_row)\n",
    "    if math.isnan(Dist):\n",
    "        #print('nan!')\n",
    "        Dist = 1.0\n",
    "    return 1 - Dist"
   ]
  },
  {
   "cell_type": "code",
   "execution_count": 42,
   "metadata": {},
   "outputs": [
    {
     "data": {
      "text/plain": [
       "0.6666666666666667"
      ]
     },
     "execution_count": 42,
     "metadata": {},
     "output_type": "execute_result"
    }
   ],
   "source": [
    "Similarity(\"The Avengers\", \"Thor\", Genre)"
   ]
  },
  {
   "cell_type": "code",
   "execution_count": 43,
   "metadata": {},
   "outputs": [],
   "source": [
    "def get_overview_score(movie_title1, movie_title2):\n",
    "    score = 0\n",
    "    idx_1 = indices[movie_title1]\n",
    "    idx_2 = indices[movie_title2]\n",
    "    score = cosine_similarity[idx_1][idx_2]\n",
    "    return score"
   ]
  },
  {
   "cell_type": "code",
   "execution_count": 44,
   "metadata": {},
   "outputs": [
    {
     "data": {
      "text/plain": [
       "0.0584644599388013"
      ]
     },
     "execution_count": 44,
     "metadata": {},
     "output_type": "execute_result"
    }
   ],
   "source": [
    "get_overview_score(\"The Avengers\", \"Batman\")"
   ]
  },
  {
   "cell_type": "markdown",
   "metadata": {},
   "source": [
    "# 두 영화간의 cosine distance를 1에서 뺀 결과를 점수로 반환한다."
   ]
  },
  {
   "cell_type": "code",
   "execution_count": 45,
   "metadata": {},
   "outputs": [],
   "source": [
    "def total_reccommendation_v2_cosDist(movie_title1, movie_title2):\n",
    "    genre_score = Similarity(movie_title1, movie_title2, Genre)\n",
    "    cast_score = Similarity(movie_title1, movie_title2, Cast)\n",
    "    director_score = Similarity(movie_title1, movie_title2, Directors)\n",
    "    pro_com_score = Similarity(movie_title1, movie_title2, Production_Companies)\n",
    "    overview_score = get_overview_score(movie_title1, movie_title2)\n",
    "    keywords_score = Similarity(movie_title1, movie_title2, Keywords)\n",
    "    #total_score = genre_score + cast_score + director_score + pro_com_score + (10*overview_score) + (5*keywords_score)\n",
    "    \"\"\"\n",
    "    print('-'*60)\n",
    "    print('Genre : ', genre_score)\n",
    "    print('Cast : ', cast_score)\n",
    "    print('Director : ', director_score)\n",
    "    print('Production Companies : ', pro_com_score)\n",
    "    print('Overview : ', overview_score)\n",
    "    print('Keywords : ', keywords_score)\n",
    "    \"\"\"\n",
    "    return genre_score, cast_score, director_score, pro_com_score, overview_score, keywords_score"
   ]
  },
  {
   "cell_type": "code",
   "execution_count": 46,
   "metadata": {},
   "outputs": [
    {
     "data": {
      "text/plain": [
       "(1.0, 0.0725515215453656, 0.0, 1.0, 0.15088869151876816, 0.5773502691896257)"
      ]
     },
     "execution_count": 46,
     "metadata": {},
     "output_type": "execute_result"
    }
   ],
   "source": [
    "total_reccommendation_v2_cosDist(\"Iron Man\", \"Iron Man 3\")"
   ]
  },
  {
   "cell_type": "code",
   "execution_count": 47,
   "metadata": {},
   "outputs": [
    {
     "data": {
      "text/plain": [
       "(1.0, 1.0, 1.0, 1.0, 1.0000000000000002, 1.0)"
      ]
     },
     "execution_count": 47,
     "metadata": {},
     "output_type": "execute_result"
    }
   ],
   "source": [
    "total_reccommendation_v2_cosDist(\"Batman\", \"Batman\")"
   ]
  },
  {
   "cell_type": "code",
   "execution_count": 48,
   "metadata": {},
   "outputs": [],
   "source": [
    "def get_score_lists_of_movies(target_movie_title):   \n",
    "    \n",
    "    total_genre = list()\n",
    "    total_director = list()\n",
    "    total_overview = list()\n",
    "    total_keywords = list()\n",
    "    total_cast = list()\n",
    "    total_procom = list()\n",
    "    \n",
    "    for title in total_df.title:\n",
    "        #score_list.append(total_reccommendation_v2_cosDist(target_movie_title, title))\n",
    "        a,b,c,d,e,f = total_reccommendation_v2_cosDist(target_movie_title, title)\n",
    "        total_genre.append(a)\n",
    "        total_cast.append(b)\n",
    "        total_director.append(c)\n",
    "        total_procom.append(d)\n",
    "        total_overview.append(e)\n",
    "        total_keywords.append(f)\n",
    "    \n",
    "    return [total_genre, total_director, total_overview, total_keywords, total_cast, total_procom]"
   ]
  },
  {
   "cell_type": "code",
   "execution_count": 49,
   "metadata": {},
   "outputs": [],
   "source": [
    "def regularize(one_dim_list):\n",
    "    mean = np.mean(one_dim_list, axis=0)\n",
    "    std = np.std(one_dim_list, axis=0)\n",
    "    result = list()\n",
    "    for item in one_dim_list:\n",
    "        result.append((item-mean)/std)\n",
    "    return result"
   ]
  },
  {
   "cell_type": "code",
   "execution_count": 50,
   "metadata": {},
   "outputs": [],
   "source": [
    "final_genre = list()\n",
    "final_director = list()\n",
    "final_overview = list()\n",
    "final_keywords = list()\n",
    "final_cast = list()\n",
    "final_procom = list()\n",
    "\n",
    "def total_recommendation_v2(movie_title, target_count):\n",
    "    score_lists = get_score_lists_of_movies(movie_title)\n",
    "    score_dict = dict()\n",
    "    global final_genre\n",
    "    global final_director\n",
    "    global final_overview\n",
    "    global final_keywords\n",
    "    global final_cast\n",
    "    global final_procom\n",
    "    \n",
    "    regularized_genre_score = regularize(score_lists[0])\n",
    "    final_genre = regularized_genre_score\n",
    "    regularized_director_score = regularize(score_lists[1])\n",
    "    final_director = regularized_director_score\n",
    "    regularized_overview_score = regularize(score_lists[2])\n",
    "    final_overview = regularized_overview_score\n",
    "    regularized_keywords_score = regularize(score_lists[3])\n",
    "    final_keywords = regularized_keywords_score\n",
    "    regularized_cast_score = regularize(score_lists[4])\n",
    "    final_cast = regularized_cast_score\n",
    "    regularized_procom_score = regularize(score_lists[5])\n",
    "    final_procom = regularized_procom_score\n",
    "    \n",
    "    for idx, title in enumerate(list(total_df.title)):\n",
    "        score_dict[title] = regularized_genre_score[idx] + regularized_director_score[idx]\\\n",
    "        + regularized_overview_score[idx] + regularized_keywords_score[idx]\\\n",
    "        + regularized_cast_score[idx] + regularized_procom_score[idx]\n",
    "    \n",
    "    sorted_score = sorted(score_dict.items(), key=lambda kv: kv[1], reverse = True)\n",
    "    return sorted_score[1:1 + target_count]"
   ]
  },
  {
   "cell_type": "code",
   "execution_count": 51,
   "metadata": {},
   "outputs": [
    {
     "name": "stderr",
     "output_type": "stream",
     "text": [
      "C:\\Users\\PSY\\Anaconda3\\lib\\site-packages\\scipy\\spatial\\distance.py:698: RuntimeWarning: invalid value encountered in double_scalars\n",
      "  dist = 1.0 - uv / np.sqrt(uu * vv)\n"
     ]
    },
    {
     "name": "stdout",
     "output_type": "stream",
     "text": [
      "Wall time: 48.3 s\n"
     ]
    }
   ],
   "source": [
    "%time recom_result = total_recommendation_v2(\"The Dark Knight Rises\", 10)"
   ]
  },
  {
   "cell_type": "code",
   "execution_count": 52,
   "metadata": {},
   "outputs": [
    {
     "data": {
      "text/plain": [
       "[('The Dark Knight', 71.55147746329834),\n",
       " ('Batman Begins', 57.9177368459057),\n",
       " ('Inception', 40.60771938933414),\n",
       " ('Interstellar', 37.7654367218226),\n",
       " ('The Prestige', 35.10663272717294),\n",
       " ('Batman Returns', 26.721486442313974),\n",
       " ('Batman', 26.457847203899608),\n",
       " ('Memento', 26.41815159788882),\n",
       " ('Insomnia', 24.457728187307247),\n",
       " ('Batman Forever', 23.84279634121949)]"
      ]
     },
     "execution_count": 52,
     "metadata": {},
     "output_type": "execute_result"
    }
   ],
   "source": [
    "recom_result"
   ]
  },
  {
   "cell_type": "code",
   "execution_count": 53,
   "metadata": {},
   "outputs": [],
   "source": [
    "def regularized_similarity_score(movie_title2):\n",
    "    idx = indices[movie_title2]\n",
    "    print('-'*60)\n",
    "    print('Genre : ', final_genre[idx])\n",
    "    print('Cast : ', final_cast[idx])\n",
    "    print('Director : ', final_director[idx])\n",
    "    print('Production Companies : ', final_procom[idx])\n",
    "    print('Overview : ', final_overview[idx])\n",
    "    print('Keywords : ', final_keywords[idx])\n",
    "    "
   ]
  },
  {
   "cell_type": "code",
   "execution_count": 54,
   "metadata": {},
   "outputs": [
    {
     "name": "stdout",
     "output_type": "stream",
     "text": [
      "------------------------------------------------------------\n",
      "Genre :  0.028017250161008717\n",
      "Cast :  2.6739308206910217\n",
      "Director :  24.474476501040833\n",
      "Production Companies :  -0.25411505650857097\n",
      "Overview :  -0.3493247674311281\n",
      "Keywords :  -0.15483315006434725\n"
     ]
    }
   ],
   "source": [
    "regularized_similarity_score(\"Memento\")"
   ]
  },
  {
   "cell_type": "markdown",
   "metadata": {},
   "source": [
    "# Visualization - regularization"
   ]
  },
  {
   "cell_type": "code",
   "execution_count": 60,
   "metadata": {},
   "outputs": [],
   "source": [
    "import matplotlib.pyplot as plt\n",
    "\n",
    "def visualization(column_name):\n",
    "    movie_title1=\"Avatar\"\n",
    "    titleDf=total_df['title']\n",
    "    rtn_score=list()\n",
    "    reg_score=list()\n",
    "    rtn_index=list(range(100))\n",
    " \n",
    "    for i in range(100):\n",
    "        rtn_score.append(Similarity(movie_title1,titleDf[i], column_name))\n",
    "        #print(rtn_score[movie_title])\n",
    "    plt.scatter(rtn_index,rtn_score, s=0.5)\n",
    "    plt.show()\n",
    "    reg_score=regularize(rtn_score)\n",
    "    plt.scatter(rtn_index,reg_score, s=0.5)\n",
    "    plt.show()\n",
    "    #return rtn_score, reg_score\n",
    "\n",
    "def visualization_overview():\n",
    "    movie_title1=\"Avatar\"\n",
    "    titleDf=total_df['title']\n",
    "    rtn_score=list()\n",
    "    rtn_index=list(range(100))\n",
    " \n",
    "    for i in range(100):\n",
    "        rtn_score.append(get_overview_score(movie_title1,titleDf[i]))\n",
    "        #print(rtn_score[movie_title])\n",
    "    plt.scatter(rtn_index,rtn_score, s=0.5)\n",
    "    plt.show()\n",
    "    reg_score=regularize(rtn_score)\n",
    "    plt.scatter(rtn_index,reg_score, s=0.5)\n",
    "    plt.show()\n",
    "    #return rtn_score, reg_score"
   ]
  },
  {
   "cell_type": "code",
   "execution_count": 61,
   "metadata": {},
   "outputs": [
    {
     "data": {
      "image/png": "[encoded data removed]",
      "text/plain": [
       "<Figure size 432x288 with 1 Axes>"
      ]
     },
     "metadata": {},
     "output_type": "display_data"
    },
    {
     "data": {
      "image/png": "[encoded data removed]",
      "text/plain": [
       "<Figure size 432x288 with 1 Axes>"
      ]
     },
     "metadata": {},
     "output_type": "display_data"
    },
    {
     "data": {
      "image/png": "[encoded data removed]",
      "text/plain": [
       "<Figure size 432x288 with 1 Axes>"
      ]
     },
     "metadata": {},
     "output_type": "display_data"
    },
    {
     "data": {
      "image/png": "[encoded data removed]",
      "text/plain": [
       "<Figure size 432x288 with 1 Axes>"
      ]
     },
     "metadata": {},
     "output_type": "display_data"
    },
    {
     "data": {
      "image/png": "[encoded data removed]",
      "text/plain": [
       "<Figure size 432x288 with 1 Axes>"
      ]
     },
     "metadata": {},
     "output_type": "display_data"
    },
    {
     "data": {
      "image/png": "[encoded data removed]",
      "text/plain": [
       "<Figure size 432x288 with 1 Axes>"
      ]
     },
     "metadata": {},
     "output_type": "display_data"
    },
    {
     "data": {
      "image/png": "[encoded data removed]",
      "text/plain": [
       "<Figure size 432x288 with 1 Axes>"
      ]
     },
     "metadata": {},
     "output_type": "display_data"
    },
    {
     "data": {
      "image/png": "[encoded data removed]",
      "text/plain": [
       "<Figure size 432x288 with 1 Axes>"
      ]
     },
     "metadata": {},
     "output_type": "display_data"
    },
    {
     "name": "stderr",
     "output_type": "stream",
     "text": [
      "C:\\Users\\PSY\\Anaconda3\\lib\\site-packages\\scipy\\spatial\\distance.py:698: RuntimeWarning: invalid value encountered in double_scalars\n",
      "  dist = 1.0 - uv / np.sqrt(uu * vv)\n"
     ]
    },
    {
     "data": {
      "image/png": "[encoded data removed]",
      "text/plain": [
       "<Figure size 432x288 with 1 Axes>"
      ]
     },
     "metadata": {},
     "output_type": "display_data"
    },
    {
     "data": {
      "image/png": "[encoded data removed]",
      "text/plain": [
       "<Figure size 432x288 with 1 Axes>"
      ]
     },
     "metadata": {},
     "output_type": "display_data"
    }
   ],
   "source": [
    "visualization(Genre)\n",
    "visualization(Cast)\n",
    "visualization(Directors)\n",
    "visualization(Production_Companies)\n",
    "visualization(Keywords)"
   ]
  },
  {
   "cell_type": "code",
   "execution_count": 62,
   "metadata": {},
   "outputs": [
    {
     "data": {
      "image/png": "[encoded data removed]",
      "text/plain": [
       "<Figure size 432x288 with 1 Axes>"
      ]
     },
     "metadata": {},
     "output_type": "display_data"
    },
    {
     "data": {
      "image/png": "[encoded data removed]",
      "text/plain": [
       "<Figure size 432x288 with 1 Axes>"
      ]
     },
     "metadata": {},
     "output_type": "display_data"
    }
   ],
   "source": [
    "visualization_overview()"
   ]
  },
  {
   "cell_type": "code",
   "execution_count": null,
   "metadata": {},
   "outputs": [],
   "source": []
  }
 ],
 "metadata": {
  "kernelspec": {
   "display_name": "Python 3",
   "language": "python",
   "name": "python3"
  },
  "language_info": {
   "codemirror_mode": {
    "name": "ipython",
    "version": 3
   },
   "file_extension": ".py",
   "mimetype": "text/x-python",
   "name": "python",
   "nbconvert_exporter": "python",
   "pygments_lexer": "ipython3",
   "version": "3.6.5"
  }
 },
 "nbformat": 4,
 "nbformat_minor": 2
}
