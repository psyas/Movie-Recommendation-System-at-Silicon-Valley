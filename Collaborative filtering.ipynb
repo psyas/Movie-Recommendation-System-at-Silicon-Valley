{
 "cells": [
  {
   "cell_type": "markdown",
   "metadata": {},
   "source": [
    "# Collaborative filtering"
   ]
  },
  {
   "cell_type": "markdown",
   "metadata": {},
   "source": [
    "## import library"
   ]
  },
  {
   "cell_type": "code",
   "execution_count": 1,
   "metadata": {},
   "outputs": [],
   "source": [
    "import pandas as pd\n",
    "import numpy as np\n",
    "import math\n",
    "import re\n",
    "from scipy.sparse import csr_matrix\n",
    "import matplotlib.pyplot as plt\n",
    "import seaborn as sns\n",
    "from surprise import Reader, Dataset, SVD, accuracy\n",
    "from sklearn.model_selection import cross_validate, train_test_split"
   ]
  },
  {
   "cell_type": "markdown",
   "metadata": {},
   "source": [
    "## import files"
   ]
  },
  {
   "cell_type": "code",
   "execution_count": 2,
   "metadata": {},
   "outputs": [],
   "source": [
    "input_path = 'Downloads/input/'"
   ]
  },
  {
   "cell_type": "code",
   "execution_count": 3,
   "metadata": {},
   "outputs": [],
   "source": [
    "ratings_df = pd.read_csv(input_path + 'ratings.csv')\n",
    "ratings_df = ratings_df.drop(columns = 'timestamp')"
   ]
  },
  {
   "cell_type": "code",
   "execution_count": 4,
   "metadata": {},
   "outputs": [
    {
     "name": "stdout",
     "output_type": "stream",
     "text": [
      "(26024289, 3)\n"
     ]
    },
    {
     "data": {
      "text/html": [
       "<div>\n",
       "<style scoped>\n",
       "    .dataframe tbody tr th:only-of-type {\n",
       "        vertical-align: middle;\n",
       "    }\n",
       "\n",
       "    .dataframe tbody tr th {\n",
       "        vertical-align: top;\n",
       "    }\n",
       "\n",
       "    .dataframe thead th {\n",
       "        text-align: right;\n",
       "    }\n",
       "</style>\n",
       "<table border=\"1\" class=\"dataframe\">\n",
       "  <thead>\n",
       "    <tr style=\"text-align: right;\">\n",
       "      <th></th>\n",
       "      <th>userId</th>\n",
       "      <th>movieId</th>\n",
       "      <th>rating</th>\n",
       "    </tr>\n",
       "  </thead>\n",
       "  <tbody>\n",
       "    <tr>\n",
       "      <th>0</th>\n",
       "      <td>1</td>\n",
       "      <td>110</td>\n",
       "      <td>1.0</td>\n",
       "    </tr>\n",
       "    <tr>\n",
       "      <th>1</th>\n",
       "      <td>1</td>\n",
       "      <td>147</td>\n",
       "      <td>4.5</td>\n",
       "    </tr>\n",
       "    <tr>\n",
       "      <th>2</th>\n",
       "      <td>1</td>\n",
       "      <td>858</td>\n",
       "      <td>5.0</td>\n",
       "    </tr>\n",
       "    <tr>\n",
       "      <th>3</th>\n",
       "      <td>1</td>\n",
       "      <td>1221</td>\n",
       "      <td>5.0</td>\n",
       "    </tr>\n",
       "    <tr>\n",
       "      <th>4</th>\n",
       "      <td>1</td>\n",
       "      <td>1246</td>\n",
       "      <td>5.0</td>\n",
       "    </tr>\n",
       "  </tbody>\n",
       "</table>\n",
       "</div>"
      ],
      "text/plain": [
       "   userId  movieId  rating\n",
       "0       1      110     1.0\n",
       "1       1      147     4.5\n",
       "2       1      858     5.0\n",
       "3       1     1221     5.0\n",
       "4       1     1246     5.0"
      ]
     },
     "execution_count": 4,
     "metadata": {},
     "output_type": "execute_result"
    }
   ],
   "source": [
    "print(ratings_df.shape)\n",
    "ratings_df.head()"
   ]
  },
  {
   "cell_type": "code",
   "execution_count": 5,
   "metadata": {},
   "outputs": [],
   "source": [
    "links_df = pd.read_csv(input_path + 'links.csv')\n",
    "links_df = links_df.drop(columns = 'imdbId')"
   ]
  },
  {
   "cell_type": "code",
   "execution_count": 6,
   "metadata": {},
   "outputs": [
    {
     "name": "stdout",
     "output_type": "stream",
     "text": [
      "(45843, 2)\n"
     ]
    },
    {
     "data": {
      "text/html": [
       "<div>\n",
       "<style scoped>\n",
       "    .dataframe tbody tr th:only-of-type {\n",
       "        vertical-align: middle;\n",
       "    }\n",
       "\n",
       "    .dataframe tbody tr th {\n",
       "        vertical-align: top;\n",
       "    }\n",
       "\n",
       "    .dataframe thead th {\n",
       "        text-align: right;\n",
       "    }\n",
       "</style>\n",
       "<table border=\"1\" class=\"dataframe\">\n",
       "  <thead>\n",
       "    <tr style=\"text-align: right;\">\n",
       "      <th></th>\n",
       "      <th>movieId</th>\n",
       "      <th>tmdbId</th>\n",
       "    </tr>\n",
       "  </thead>\n",
       "  <tbody>\n",
       "    <tr>\n",
       "      <th>0</th>\n",
       "      <td>1</td>\n",
       "      <td>862.0</td>\n",
       "    </tr>\n",
       "    <tr>\n",
       "      <th>1</th>\n",
       "      <td>2</td>\n",
       "      <td>8844.0</td>\n",
       "    </tr>\n",
       "    <tr>\n",
       "      <th>2</th>\n",
       "      <td>3</td>\n",
       "      <td>15602.0</td>\n",
       "    </tr>\n",
       "    <tr>\n",
       "      <th>3</th>\n",
       "      <td>4</td>\n",
       "      <td>31357.0</td>\n",
       "    </tr>\n",
       "    <tr>\n",
       "      <th>4</th>\n",
       "      <td>5</td>\n",
       "      <td>11862.0</td>\n",
       "    </tr>\n",
       "  </tbody>\n",
       "</table>\n",
       "</div>"
      ],
      "text/plain": [
       "   movieId   tmdbId\n",
       "0        1    862.0\n",
       "1        2   8844.0\n",
       "2        3  15602.0\n",
       "3        4  31357.0\n",
       "4        5  11862.0"
      ]
     },
     "execution_count": 6,
     "metadata": {},
     "output_type": "execute_result"
    }
   ],
   "source": [
    "print(links_df.shape)\n",
    "links_df.head()"
   ]
  },
  {
   "cell_type": "code",
   "execution_count": 7,
   "metadata": {},
   "outputs": [],
   "source": [
    "movies_df = pd.read_csv(input_path + 'tmdb_5000_movies.csv')"
   ]
  },
  {
   "cell_type": "code",
   "execution_count": 8,
   "metadata": {},
   "outputs": [
    {
     "name": "stdout",
     "output_type": "stream",
     "text": [
      "(4803, 20)\n"
     ]
    },
    {
     "data": {
      "text/html": [
       "<div>\n",
       "<style scoped>\n",
       "    .dataframe tbody tr th:only-of-type {\n",
       "        vertical-align: middle;\n",
       "    }\n",
       "\n",
       "    .dataframe tbody tr th {\n",
       "        vertical-align: top;\n",
       "    }\n",
       "\n",
       "    .dataframe thead th {\n",
       "        text-align: right;\n",
       "    }\n",
       "</style>\n",
       "<table border=\"1\" class=\"dataframe\">\n",
       "  <thead>\n",
       "    <tr style=\"text-align: right;\">\n",
       "      <th></th>\n",
       "      <th>budget</th>\n",
       "      <th>genres</th>\n",
       "      <th>homepage</th>\n",
       "      <th>id</th>\n",
       "      <th>keywords</th>\n",
       "      <th>original_language</th>\n",
       "      <th>original_title</th>\n",
       "      <th>overview</th>\n",
       "      <th>popularity</th>\n",
       "      <th>production_companies</th>\n",
       "      <th>production_countries</th>\n",
       "      <th>release_date</th>\n",
       "      <th>revenue</th>\n",
       "      <th>runtime</th>\n",
       "      <th>spoken_languages</th>\n",
       "      <th>status</th>\n",
       "      <th>tagline</th>\n",
       "      <th>title</th>\n",
       "      <th>vote_average</th>\n",
       "      <th>vote_count</th>\n",
       "    </tr>\n",
       "  </thead>\n",
       "  <tbody>\n",
       "    <tr>\n",
       "      <th>0</th>\n",
       "      <td>237000000</td>\n",
       "      <td>[{\"id\": 28, \"name\": \"Action\"}, {\"id\": 12, \"nam...</td>\n",
       "      <td>http://www.avatarmovie.com/</td>\n",
       "      <td>19995</td>\n",
       "      <td>[{\"id\": 1463, \"name\": \"culture clash\"}, {\"id\":...</td>\n",
       "      <td>en</td>\n",
       "      <td>Avatar</td>\n",
       "      <td>In the 22nd century, a paraplegic Marine is di...</td>\n",
       "      <td>150.437577</td>\n",
       "      <td>[{\"name\": \"Ingenious Film Partners\", \"id\": 289...</td>\n",
       "      <td>[{\"iso_3166_1\": \"US\", \"name\": \"United States o...</td>\n",
       "      <td>2009-12-10</td>\n",
       "      <td>2787965087</td>\n",
       "      <td>162.0</td>\n",
       "      <td>[{\"iso_639_1\": \"en\", \"name\": \"English\"}, {\"iso...</td>\n",
       "      <td>Released</td>\n",
       "      <td>Enter the World of Pandora.</td>\n",
       "      <td>Avatar</td>\n",
       "      <td>7.2</td>\n",
       "      <td>11800</td>\n",
       "    </tr>\n",
       "    <tr>\n",
       "      <th>1</th>\n",
       "      <td>300000000</td>\n",
       "      <td>[{\"id\": 12, \"name\": \"Adventure\"}, {\"id\": 14, \"...</td>\n",
       "      <td>http://disney.go.com/disneypictures/pirates/</td>\n",
       "      <td>285</td>\n",
       "      <td>[{\"id\": 270, \"name\": \"ocean\"}, {\"id\": 726, \"na...</td>\n",
       "      <td>en</td>\n",
       "      <td>Pirates of the Caribbean: At World's End</td>\n",
       "      <td>Captain Barbossa, long believed to be dead, ha...</td>\n",
       "      <td>139.082615</td>\n",
       "      <td>[{\"name\": \"Walt Disney Pictures\", \"id\": 2}, {\"...</td>\n",
       "      <td>[{\"iso_3166_1\": \"US\", \"name\": \"United States o...</td>\n",
       "      <td>2007-05-19</td>\n",
       "      <td>961000000</td>\n",
       "      <td>169.0</td>\n",
       "      <td>[{\"iso_639_1\": \"en\", \"name\": \"English\"}]</td>\n",
       "      <td>Released</td>\n",
       "      <td>At the end of the world, the adventure begins.</td>\n",
       "      <td>Pirates of the Caribbean: At World's End</td>\n",
       "      <td>6.9</td>\n",
       "      <td>4500</td>\n",
       "    </tr>\n",
       "    <tr>\n",
       "      <th>2</th>\n",
       "      <td>245000000</td>\n",
       "      <td>[{\"id\": 28, \"name\": \"Action\"}, {\"id\": 12, \"nam...</td>\n",
       "      <td>http://www.sonypictures.com/movies/spectre/</td>\n",
       "      <td>206647</td>\n",
       "      <td>[{\"id\": 470, \"name\": \"spy\"}, {\"id\": 818, \"name...</td>\n",
       "      <td>en</td>\n",
       "      <td>Spectre</td>\n",
       "      <td>A cryptic message from Bond’s past sends him o...</td>\n",
       "      <td>107.376788</td>\n",
       "      <td>[{\"name\": \"Columbia Pictures\", \"id\": 5}, {\"nam...</td>\n",
       "      <td>[{\"iso_3166_1\": \"GB\", \"name\": \"United Kingdom\"...</td>\n",
       "      <td>2015-10-26</td>\n",
       "      <td>880674609</td>\n",
       "      <td>148.0</td>\n",
       "      <td>[{\"iso_639_1\": \"fr\", \"name\": \"Fran\\u00e7ais\"},...</td>\n",
       "      <td>Released</td>\n",
       "      <td>A Plan No One Escapes</td>\n",
       "      <td>Spectre</td>\n",
       "      <td>6.3</td>\n",
       "      <td>4466</td>\n",
       "    </tr>\n",
       "    <tr>\n",
       "      <th>3</th>\n",
       "      <td>250000000</td>\n",
       "      <td>[{\"id\": 28, \"name\": \"Action\"}, {\"id\": 80, \"nam...</td>\n",
       "      <td>http://www.thedarkknightrises.com/</td>\n",
       "      <td>49026</td>\n",
       "      <td>[{\"id\": 849, \"name\": \"dc comics\"}, {\"id\": 853,...</td>\n",
       "      <td>en</td>\n",
       "      <td>The Dark Knight Rises</td>\n",
       "      <td>Following the death of District Attorney Harve...</td>\n",
       "      <td>112.312950</td>\n",
       "      <td>[{\"name\": \"Legendary Pictures\", \"id\": 923}, {\"...</td>\n",
       "      <td>[{\"iso_3166_1\": \"US\", \"name\": \"United States o...</td>\n",
       "      <td>2012-07-16</td>\n",
       "      <td>1084939099</td>\n",
       "      <td>165.0</td>\n",
       "      <td>[{\"iso_639_1\": \"en\", \"name\": \"English\"}]</td>\n",
       "      <td>Released</td>\n",
       "      <td>The Legend Ends</td>\n",
       "      <td>The Dark Knight Rises</td>\n",
       "      <td>7.6</td>\n",
       "      <td>9106</td>\n",
       "    </tr>\n",
       "    <tr>\n",
       "      <th>4</th>\n",
       "      <td>260000000</td>\n",
       "      <td>[{\"id\": 28, \"name\": \"Action\"}, {\"id\": 12, \"nam...</td>\n",
       "      <td>http://movies.disney.com/john-carter</td>\n",
       "      <td>49529</td>\n",
       "      <td>[{\"id\": 818, \"name\": \"based on novel\"}, {\"id\":...</td>\n",
       "      <td>en</td>\n",
       "      <td>John Carter</td>\n",
       "      <td>John Carter is a war-weary, former military ca...</td>\n",
       "      <td>43.926995</td>\n",
       "      <td>[{\"name\": \"Walt Disney Pictures\", \"id\": 2}]</td>\n",
       "      <td>[{\"iso_3166_1\": \"US\", \"name\": \"United States o...</td>\n",
       "      <td>2012-03-07</td>\n",
       "      <td>284139100</td>\n",
       "      <td>132.0</td>\n",
       "      <td>[{\"iso_639_1\": \"en\", \"name\": \"English\"}]</td>\n",
       "      <td>Released</td>\n",
       "      <td>Lost in our world, found in another.</td>\n",
       "      <td>John Carter</td>\n",
       "      <td>6.1</td>\n",
       "      <td>2124</td>\n",
       "    </tr>\n",
       "  </tbody>\n",
       "</table>\n",
       "</div>"
      ],
      "text/plain": [
       "      budget                                             genres  \\\n",
       "0  237000000  [{\"id\": 28, \"name\": \"Action\"}, {\"id\": 12, \"nam...   \n",
       "1  300000000  [{\"id\": 12, \"name\": \"Adventure\"}, {\"id\": 14, \"...   \n",
       "2  245000000  [{\"id\": 28, \"name\": \"Action\"}, {\"id\": 12, \"nam...   \n",
       "3  250000000  [{\"id\": 28, \"name\": \"Action\"}, {\"id\": 80, \"nam...   \n",
       "4  260000000  [{\"id\": 28, \"name\": \"Action\"}, {\"id\": 12, \"nam...   \n",
       "\n",
       "                                       homepage      id  \\\n",
       "0                   http://www.avatarmovie.com/   19995   \n",
       "1  http://disney.go.com/disneypictures/pirates/     285   \n",
       "2   http://www.sonypictures.com/movies/spectre/  206647   \n",
       "3            http://www.thedarkknightrises.com/   49026   \n",
       "4          http://movies.disney.com/john-carter   49529   \n",
       "\n",
       "                                            keywords original_language  \\\n",
       "0  [{\"id\": 1463, \"name\": \"culture clash\"}, {\"id\":...                en   \n",
       "1  [{\"id\": 270, \"name\": \"ocean\"}, {\"id\": 726, \"na...                en   \n",
       "2  [{\"id\": 470, \"name\": \"spy\"}, {\"id\": 818, \"name...                en   \n",
       "3  [{\"id\": 849, \"name\": \"dc comics\"}, {\"id\": 853,...                en   \n",
       "4  [{\"id\": 818, \"name\": \"based on novel\"}, {\"id\":...                en   \n",
       "\n",
       "                             original_title  \\\n",
       "0                                    Avatar   \n",
       "1  Pirates of the Caribbean: At World's End   \n",
       "2                                   Spectre   \n",
       "3                     The Dark Knight Rises   \n",
       "4                               John Carter   \n",
       "\n",
       "                                            overview  popularity  \\\n",
       "0  In the 22nd century, a paraplegic Marine is di...  150.437577   \n",
       "1  Captain Barbossa, long believed to be dead, ha...  139.082615   \n",
       "2  A cryptic message from Bond’s past sends him o...  107.376788   \n",
       "3  Following the death of District Attorney Harve...  112.312950   \n",
       "4  John Carter is a war-weary, former military ca...   43.926995   \n",
       "\n",
       "                                production_companies  \\\n",
       "0  [{\"name\": \"Ingenious Film Partners\", \"id\": 289...   \n",
       "1  [{\"name\": \"Walt Disney Pictures\", \"id\": 2}, {\"...   \n",
       "2  [{\"name\": \"Columbia Pictures\", \"id\": 5}, {\"nam...   \n",
       "3  [{\"name\": \"Legendary Pictures\", \"id\": 923}, {\"...   \n",
       "4        [{\"name\": \"Walt Disney Pictures\", \"id\": 2}]   \n",
       "\n",
       "                                production_countries release_date     revenue  \\\n",
       "0  [{\"iso_3166_1\": \"US\", \"name\": \"United States o...   2009-12-10  2787965087   \n",
       "1  [{\"iso_3166_1\": \"US\", \"name\": \"United States o...   2007-05-19   961000000   \n",
       "2  [{\"iso_3166_1\": \"GB\", \"name\": \"United Kingdom\"...   2015-10-26   880674609   \n",
       "3  [{\"iso_3166_1\": \"US\", \"name\": \"United States o...   2012-07-16  1084939099   \n",
       "4  [{\"iso_3166_1\": \"US\", \"name\": \"United States o...   2012-03-07   284139100   \n",
       "\n",
       "   runtime                                   spoken_languages    status  \\\n",
       "0    162.0  [{\"iso_639_1\": \"en\", \"name\": \"English\"}, {\"iso...  Released   \n",
       "1    169.0           [{\"iso_639_1\": \"en\", \"name\": \"English\"}]  Released   \n",
       "2    148.0  [{\"iso_639_1\": \"fr\", \"name\": \"Fran\\u00e7ais\"},...  Released   \n",
       "3    165.0           [{\"iso_639_1\": \"en\", \"name\": \"English\"}]  Released   \n",
       "4    132.0           [{\"iso_639_1\": \"en\", \"name\": \"English\"}]  Released   \n",
       "\n",
       "                                          tagline  \\\n",
       "0                     Enter the World of Pandora.   \n",
       "1  At the end of the world, the adventure begins.   \n",
       "2                           A Plan No One Escapes   \n",
       "3                                 The Legend Ends   \n",
       "4            Lost in our world, found in another.   \n",
       "\n",
       "                                      title  vote_average  vote_count  \n",
       "0                                    Avatar           7.2       11800  \n",
       "1  Pirates of the Caribbean: At World's End           6.9        4500  \n",
       "2                                   Spectre           6.3        4466  \n",
       "3                     The Dark Knight Rises           7.6        9106  \n",
       "4                               John Carter           6.1        2124  "
      ]
     },
     "execution_count": 8,
     "metadata": {},
     "output_type": "execute_result"
    }
   ],
   "source": [
    "print(movies_df.shape)\n",
    "movies_df.head()"
   ]
  },
  {
   "cell_type": "markdown",
   "metadata": {},
   "source": [
    "## TMDB 데이터셋 기반으로 영화 ID 리스트 생성"
   ]
  },
  {
   "cell_type": "code",
   "execution_count": 9,
   "metadata": {},
   "outputs": [],
   "source": [
    "movieId_list = movies_df[['id', 'title']].set_index('id').join(links_df.set_index('tmdbId')[['movieId']]).dropna()\n",
    "movieId_list['movieId'] = movieId_list['movieId'].map(int)\n",
    "movieId_list = movieId_list.set_index('movieId')"
   ]
  },
  {
   "cell_type": "code",
   "execution_count": 10,
   "metadata": {},
   "outputs": [
    {
     "data": {
      "text/plain": [
       "(4599, 1)"
      ]
     },
     "execution_count": 10,
     "metadata": {},
     "output_type": "execute_result"
    }
   ],
   "source": [
    "movieId_list.shape"
   ]
  },
  {
   "cell_type": "code",
   "execution_count": 11,
   "metadata": {},
   "outputs": [
    {
     "data": {
      "text/html": [
       "<div>\n",
       "<style scoped>\n",
       "    .dataframe tbody tr th:only-of-type {\n",
       "        vertical-align: middle;\n",
       "    }\n",
       "\n",
       "    .dataframe tbody tr th {\n",
       "        vertical-align: top;\n",
       "    }\n",
       "\n",
       "    .dataframe thead th {\n",
       "        text-align: right;\n",
       "    }\n",
       "</style>\n",
       "<table border=\"1\" class=\"dataframe\">\n",
       "  <thead>\n",
       "    <tr style=\"text-align: right;\">\n",
       "      <th></th>\n",
       "      <th>title</th>\n",
       "    </tr>\n",
       "    <tr>\n",
       "      <th>movieId</th>\n",
       "      <th></th>\n",
       "    </tr>\n",
       "  </thead>\n",
       "  <tbody>\n",
       "    <tr>\n",
       "      <th>18</th>\n",
       "      <td>Four Rooms</td>\n",
       "    </tr>\n",
       "    <tr>\n",
       "      <th>260</th>\n",
       "      <td>Star Wars</td>\n",
       "    </tr>\n",
       "    <tr>\n",
       "      <th>6377</th>\n",
       "      <td>Finding Nemo</td>\n",
       "    </tr>\n",
       "    <tr>\n",
       "      <th>356</th>\n",
       "      <td>Forrest Gump</td>\n",
       "    </tr>\n",
       "    <tr>\n",
       "      <th>2858</th>\n",
       "      <td>American Beauty</td>\n",
       "    </tr>\n",
       "  </tbody>\n",
       "</table>\n",
       "</div>"
      ],
      "text/plain": [
       "                   title\n",
       "movieId                 \n",
       "18            Four Rooms\n",
       "260            Star Wars\n",
       "6377        Finding Nemo\n",
       "356         Forrest Gump\n",
       "2858     American Beauty"
      ]
     },
     "execution_count": 11,
     "metadata": {},
     "output_type": "execute_result"
    }
   ],
   "source": [
    "movieId_list.head()"
   ]
  },
  {
   "cell_type": "markdown",
   "metadata": {},
   "source": [
    "## TMDB 데이터셋에 존재하지 않는 영화에 대한 평점 삭제"
   ]
  },
  {
   "cell_type": "code",
   "execution_count": 12,
   "metadata": {},
   "outputs": [],
   "source": [
    "ratings_df = ratings_df[ratings_df['movieId'].isin(movieId_list.index)]"
   ]
  },
  {
   "cell_type": "code",
   "execution_count": 13,
   "metadata": {},
   "outputs": [
    {
     "data": {
      "text/plain": [
       "(17977131, 3)"
      ]
     },
     "execution_count": 13,
     "metadata": {},
     "output_type": "execute_result"
    }
   ],
   "source": [
    "ratings_df.shape"
   ]
  },
  {
   "cell_type": "markdown",
   "metadata": {},
   "source": [
    "## 적은 수의 평점을 받은 영화 삭제\n",
    "- ### 최소 5177개의 평점 기록이 있는 영화만 쓰도록 함."
   ]
  },
  {
   "cell_type": "code",
   "execution_count": 14,
   "metadata": {},
   "outputs": [
    {
     "data": {
      "text/plain": [
       "3774"
      ]
     },
     "execution_count": 14,
     "metadata": {},
     "output_type": "execute_result"
    }
   ],
   "source": [
    "df_movie_summary = ratings_df.groupby('movieId')['rating'].agg(['count'])\n",
    "movie_benchmark = int(round(df_movie_summary['count'].quantile(0.75),0))\n",
    "movie_benchmark"
   ]
  },
  {
   "cell_type": "markdown",
   "metadata": {},
   "source": [
    "## 적은 수의 평점을 남긴 유저 삭제\n",
    "- ### 최소 280개 이상의 리뷰를 남긴 유저의 데이터만을 사용하도록 함."
   ]
  },
  {
   "cell_type": "code",
   "execution_count": 15,
   "metadata": {},
   "outputs": [
    {
     "data": {
      "text/plain": [
       "67"
      ]
     },
     "execution_count": 15,
     "metadata": {},
     "output_type": "execute_result"
    }
   ],
   "source": [
    "df_user_summary = ratings_df.groupby('userId')['rating'].agg(['count'])\n",
    "user_benchmark = int(round(df_user_summary['count'].quantile(0.75),0))\n",
    "user_benchmark"
   ]
  },
  {
   "cell_type": "markdown",
   "metadata": {},
   "source": [
    "## 앞서 설정한 기준점을 바탕으로 평점 데이터셋 축소"
   ]
  },
  {
   "cell_type": "code",
   "execution_count": 16,
   "metadata": {},
   "outputs": [],
   "source": [
    "orig_ratings_df = ratings_df.copy()"
   ]
  },
  {
   "cell_type": "code",
   "execution_count": 17,
   "metadata": {},
   "outputs": [],
   "source": [
    "ratings_df = orig_ratings_df.copy()"
   ]
  },
  {
   "cell_type": "code",
   "execution_count": 18,
   "metadata": {},
   "outputs": [
    {
     "name": "stdout",
     "output_type": "stream",
     "text": [
      "Dropped movie count :  3567\n",
      "Dropped user count :  208245\n"
     ]
    }
   ],
   "source": [
    "original_movie_list = ratings_df['movieId'].unique()\n",
    "original_user_count = ratings_df['userId'].nunique()\n",
    "\n",
    "while True:\n",
    "    df_movie_summary = ratings_df.groupby('movieId')['rating'].agg(['count'])\n",
    "    drop_movie_list = df_movie_summary[df_movie_summary['count'] < movie_benchmark].index\n",
    "    \n",
    "    if len(drop_movie_list) == 0:\n",
    "        break\n",
    "    else:\n",
    "        ratings_df = ratings_df[~ratings_df['movieId'].isin(drop_movie_list)]\n",
    "    \n",
    "    df_user_summary = ratings_df.groupby('userId')['rating'].agg(['count'])\n",
    "    drop_user_list = df_user_summary[df_user_summary['count'] < user_benchmark].index\n",
    "    \n",
    "    if len(drop_user_list) == 0:\n",
    "        break\n",
    "    else:\n",
    "        ratings_df = ratings_df[~ratings_df['userId'].isin(drop_user_list)]\n",
    "\n",
    "drop_movie_list = list(set(original_movie_list) - set(ratings_df['userId'].unique()))\n",
    "\n",
    "print(\"Dropped movie count : \", len(drop_movie_list))\n",
    "print(\"Dropped user count : \", (original_user_count - ratings_df['userId'].nunique()))"
   ]
  },
  {
   "cell_type": "markdown",
   "metadata": {},
   "source": [
    "## 축소된 평점 데이터셋에서 한 userId가 남긴 평점 개수를 측정"
   ]
  },
  {
   "cell_type": "code",
   "execution_count": 19,
   "metadata": {},
   "outputs": [],
   "source": [
    "ratings_df['count'] = ratings_df.groupby('userId')['rating'].transform('count')"
   ]
  },
  {
   "cell_type": "markdown",
   "metadata": {},
   "source": [
    "## 평점 데이터셋 가공 후의 모습"
   ]
  },
  {
   "cell_type": "code",
   "execution_count": 20,
   "metadata": {},
   "outputs": [
    {
     "name": "stdout",
     "output_type": "stream",
     "text": [
      "(10406807, 4)\n"
     ]
    },
    {
     "data": {
      "text/html": [
       "<div>\n",
       "<style scoped>\n",
       "    .dataframe tbody tr th:only-of-type {\n",
       "        vertical-align: middle;\n",
       "    }\n",
       "\n",
       "    .dataframe tbody tr th {\n",
       "        vertical-align: top;\n",
       "    }\n",
       "\n",
       "    .dataframe thead th {\n",
       "        text-align: right;\n",
       "    }\n",
       "</style>\n",
       "<table border=\"1\" class=\"dataframe\">\n",
       "  <thead>\n",
       "    <tr style=\"text-align: right;\">\n",
       "      <th></th>\n",
       "      <th>userId</th>\n",
       "      <th>movieId</th>\n",
       "      <th>rating</th>\n",
       "      <th>count</th>\n",
       "    </tr>\n",
       "  </thead>\n",
       "  <tbody>\n",
       "    <tr>\n",
       "      <th>317</th>\n",
       "      <td>9</td>\n",
       "      <td>1</td>\n",
       "      <td>4.5</td>\n",
       "      <td>70</td>\n",
       "    </tr>\n",
       "    <tr>\n",
       "      <th>318</th>\n",
       "      <td>9</td>\n",
       "      <td>150</td>\n",
       "      <td>4.0</td>\n",
       "      <td>70</td>\n",
       "    </tr>\n",
       "    <tr>\n",
       "      <th>320</th>\n",
       "      <td>9</td>\n",
       "      <td>497</td>\n",
       "      <td>4.0</td>\n",
       "      <td>70</td>\n",
       "    </tr>\n",
       "    <tr>\n",
       "      <th>321</th>\n",
       "      <td>9</td>\n",
       "      <td>594</td>\n",
       "      <td>3.0</td>\n",
       "      <td>70</td>\n",
       "    </tr>\n",
       "    <tr>\n",
       "      <th>322</th>\n",
       "      <td>9</td>\n",
       "      <td>750</td>\n",
       "      <td>4.0</td>\n",
       "      <td>70</td>\n",
       "    </tr>\n",
       "  </tbody>\n",
       "</table>\n",
       "</div>"
      ],
      "text/plain": [
       "     userId  movieId  rating  count\n",
       "317       9        1     4.5     70\n",
       "318       9      150     4.0     70\n",
       "320       9      497     4.0     70\n",
       "321       9      594     3.0     70\n",
       "322       9      750     4.0     70"
      ]
     },
     "execution_count": 20,
     "metadata": {},
     "output_type": "execute_result"
    }
   ],
   "source": [
    "print(ratings_df.shape)\n",
    "ratings_df.head()"
   ]
  },
  {
   "cell_type": "markdown",
   "metadata": {},
   "source": [
    "## 데이터 전처리 후 ratings dataframe에 남은 영화 종류의 총 수"
   ]
  },
  {
   "cell_type": "code",
   "execution_count": 21,
   "metadata": {},
   "outputs": [
    {
     "data": {
      "text/plain": [
       "985"
      ]
     },
     "execution_count": 21,
     "metadata": {},
     "output_type": "execute_result"
    }
   ],
   "source": [
    "# num of tmdb movies after data clean\n",
    "ratings_df['movieId'].nunique()"
   ]
  },
  {
   "cell_type": "code",
   "execution_count": 22,
   "metadata": {},
   "outputs": [
    {
     "name": "stdout",
     "output_type": "stream",
     "text": [
      "          userId  movieId  rating  count\n",
      "317            9        1     4.5     70\n",
      "1243663    12770    56174     4.0     81\n",
      "2487283    25813     2359     4.0    307\n",
      "3744890    39045     2161     4.5    319\n",
      "4998745    51419     3114     4.0    125\n",
      "6254815    64523     4034     1.5    303\n",
      "7513976    77547     1644     3.0    146\n",
      "8774176    90506     7147     1.0    181\n",
      "10033527  103502      648     3.5    174\n",
      "11296264  117194      858     5.0    129\n",
      "12543779  130151     8784     5.0    226\n",
      "13778426  143161      296     4.0     69\n",
      "15016889  156186     1393     3.5    272\n",
      "16248864  168830     1198     4.0    208\n",
      "17488724  181477     1201     5.0     71\n",
      "18734725  194606      527     4.5    141\n",
      "19979490  207742      541     5.0    364\n",
      "21225520  220483     5995     4.5    102\n",
      "22481799  233410    48774     5.0     89\n",
      "23741351  246455     3671     4.0    372\n",
      "24996406  260013     1608     3.0    381\n"
     ]
    }
   ],
   "source": [
    "# Data Example\n",
    "print(ratings_df.iloc[::500000, :])"
   ]
  },
  {
   "cell_type": "code",
   "execution_count": 23,
   "metadata": {},
   "outputs": [
    {
     "data": {
      "text/html": [
       "<div>\n",
       "<style scoped>\n",
       "    .dataframe tbody tr th:only-of-type {\n",
       "        vertical-align: middle;\n",
       "    }\n",
       "\n",
       "    .dataframe tbody tr th {\n",
       "        vertical-align: top;\n",
       "    }\n",
       "\n",
       "    .dataframe thead th {\n",
       "        text-align: right;\n",
       "    }\n",
       "</style>\n",
       "<table border=\"1\" class=\"dataframe\">\n",
       "  <thead>\n",
       "    <tr style=\"text-align: right;\">\n",
       "      <th></th>\n",
       "      <th>title</th>\n",
       "    </tr>\n",
       "    <tr>\n",
       "      <th>movieId</th>\n",
       "      <th></th>\n",
       "    </tr>\n",
       "  </thead>\n",
       "  <tbody>\n",
       "    <tr>\n",
       "      <th>18</th>\n",
       "      <td>Four Rooms</td>\n",
       "    </tr>\n",
       "    <tr>\n",
       "      <th>260</th>\n",
       "      <td>Star Wars</td>\n",
       "    </tr>\n",
       "    <tr>\n",
       "      <th>6377</th>\n",
       "      <td>Finding Nemo</td>\n",
       "    </tr>\n",
       "    <tr>\n",
       "      <th>356</th>\n",
       "      <td>Forrest Gump</td>\n",
       "    </tr>\n",
       "    <tr>\n",
       "      <th>2858</th>\n",
       "      <td>American Beauty</td>\n",
       "    </tr>\n",
       "  </tbody>\n",
       "</table>\n",
       "</div>"
      ],
      "text/plain": [
       "                   title\n",
       "movieId                 \n",
       "18            Four Rooms\n",
       "260            Star Wars\n",
       "6377        Finding Nemo\n",
       "356         Forrest Gump\n",
       "2858     American Beauty"
      ]
     },
     "execution_count": 23,
     "metadata": {},
     "output_type": "execute_result"
    }
   ],
   "source": [
    "movieId_list.head()"
   ]
  },
  {
   "cell_type": "markdown",
   "metadata": {},
   "source": [
    "## userId = 231이 과거에 평점 5점을 준 영화들"
   ]
  },
  {
   "cell_type": "code",
   "execution_count": 24,
   "metadata": {},
   "outputs": [
    {
     "data": {
      "text/plain": [
       "movieId\n",
       "110                                             Braveheart\n",
       "260                                              Star Wars\n",
       "318                               The Shawshank Redemption\n",
       "527                                       Schindler's List\n",
       "1196                               The Empire Strikes Back\n",
       "1198                               Raiders of the Lost Ark\n",
       "1259                                           Stand by Me\n",
       "2028                                   Saving Private Ryan\n",
       "3578                                             Gladiator\n",
       "4993     The Lord of the Rings: The Fellowship of the Ring\n",
       "33166                                                Crash\n",
       "60684                                             Watchmen\n",
       "Name: title, dtype: object"
      ]
     },
     "execution_count": 24,
     "metadata": {},
     "output_type": "execute_result"
    }
   ],
   "source": [
    "df_1 = ratings_df[(ratings_df['userId'] == 231) & (ratings_df['rating'] == 5)]\n",
    "df_1 = df_1.set_index('movieId')\n",
    "df_1 = df_1.join(movieId_list)['title']\n",
    "df_1"
   ]
  },
  {
   "cell_type": "markdown",
   "metadata": {},
   "source": [
    "## ratings dataframe을 이용하여 trainset 생성"
   ]
  },
  {
   "cell_type": "code",
   "execution_count": 25,
   "metadata": {},
   "outputs": [],
   "source": [
    "reader = Reader()\n",
    "svd = SVD()\n",
    "\n",
    "result = movieId_list.copy()\n",
    "result = result.reset_index()\n",
    "result = result[~result['movieId'].isin(drop_movie_list)]\n",
    "\n",
    "# getting full dataset\n",
    "data_set = Dataset.load_from_df(ratings_df[['userId', 'movieId', 'rating']], reader)\n",
    "\n",
    "train_data_set = data_set.build_full_trainset()\n",
    "#trainset, testset = train_test_split(data_set, test_size=.25)"
   ]
  },
  {
   "cell_type": "markdown",
   "metadata": {},
   "source": [
    "## 모델 학습"
   ]
  },
  {
   "cell_type": "code",
   "execution_count": 26,
   "metadata": {},
   "outputs": [
    {
     "name": "stdout",
     "output_type": "stream",
     "text": [
      "Wall time: 15min 48s\n"
     ]
    },
    {
     "data": {
      "text/plain": [
       "<surprise.prediction_algorithms.matrix_factorization.SVD at 0x23e19e58128>"
      ]
     },
     "execution_count": 26,
     "metadata": {},
     "output_type": "execute_result"
    }
   ],
   "source": [
    "#model.fit(X_train, y_train).score(X_train, y_train)\n",
    "%time svd.fit(train_data_set)"
   ]
  },
  {
   "cell_type": "markdown",
   "metadata": {},
   "source": [
    "## 예측 리스트에서 유저가 이미 본 영화에 대한 정보를 제거한 뒤 평점 예측 결과를 출력"
   ]
  },
  {
   "cell_type": "code",
   "execution_count": 27,
   "metadata": {},
   "outputs": [],
   "source": [
    "def user_rating_prediction(userId, target_movie_title, result):\n",
    "    rating_prediction = result[]\n",
    "    #print(\"length of result : \", len(result['movieId']))\n",
    "    rating_prediction['Estimate_Score'] = rating_prediction['movieId'].apply(lambda x : svd.predict(userId, x).est)\n",
    "    user_already_seen = ratings_df[ratings_df['userId'] == userId]\n",
    "    user_already_seen = user_already_seen.set_index('movieId')\n",
    "    user_already_seen = user_already_seen.join(movieId_list)['title']\n",
    "    new_to_user = rating_prediction[~rating_prediction['title'].isin(user_already_seen.values)]\n",
    "    new_to_user = new_to_user.sort_values('Estimate_Score', ascending=False)\n",
    "    new_to_user = new_to_user.drop(columns='movieId')\n",
    "    return new_to_user.head(10)"
   ]
  },
  {
   "cell_type": "markdown",
   "metadata": {},
   "source": [
    "## movietitle에 해당하는 영화에 평점 5점을 남긴 유저의 아이디 목록을 출력"
   ]
  },
  {
   "cell_type": "code",
   "execution_count": 28,
   "metadata": {},
   "outputs": [],
   "source": [
    "def title2userlist(movietitle):\n",
    "    movie_id = movieId_list.index[movieId_list['title'] == movietitle].tolist()[0]\n",
    "    user_id_list = ratings_df[ratings_df['movieId'] == movie_id][ratings_df['rating'] == 5.0].sort_values('count', ascending=False)['userId'].values\n",
    "    return user_id_list"
   ]
  },
  {
   "cell_type": "markdown",
   "metadata": {},
   "source": [
    "## 위에 정의된 함수들을 통해 유저 100명에 해당하는 영화의 목록을 출력"
   ]
  },
  {
   "cell_type": "code",
   "execution_count": 29,
   "metadata": {},
   "outputs": [],
   "source": [
    "def get_recommendation_by_title(movietitle, set_count=100):\n",
    "    user_id_list = title2userlist(movietitle)\n",
    "    prediction_results = list()\n",
    "    for user_id in user_id_list:\n",
    "        if len(prediction_results) == set_count:\n",
    "            break\n",
    "        temp_list = user_rating_prediction(user_id, movietitle, result)['title'].values\n",
    "        if len(temp_list) == 10:\n",
    "            prediction_results.append(temp_list)\n",
    "    return prediction_results"
   ]
  },
  {
   "cell_type": "markdown",
   "metadata": {},
   "source": [
    "## Alien 영화를 좋아하는 유저 100명이 좋아할 만한 영화의 목록을 출력"
   ]
  },
  {
   "cell_type": "code",
   "execution_count": 30,
   "metadata": {},
   "outputs": [
    {
     "name": "stderr",
     "output_type": "stream",
     "text": [
      "C:\\Anaconda3\\lib\\site-packages\\ipykernel_launcher.py:3: UserWarning: Boolean Series key will be reindexed to match DataFrame index.\n",
      "  This is separate from the ipykernel package so we can avoid doing imports until\n"
     ]
    },
    {
     "data": {
      "text/plain": [
       "[array(['Her', 'Inside Out', 'Gravity',\n",
       "        'Captain America: The Winter Soldier', 'The Wolf of Wall Street',\n",
       "        'Life of Pi', 'X-Men: Days of Future Past', 'The Avengers',\n",
       "        'Frozen', 'Trust'], dtype=object),\n",
       " array(['Underclassman', 'My Soul to Take', 'The Girl on the Train',\n",
       "        'The Joneses', 'Yogi Bear', \"Mo' Better Blues\", 'Julia',\n",
       "        'The City of Your Final Destination', 'The Virginity Hit',\n",
       "        'How Green Was My Valley'], dtype=object),\n",
       " array(['I Love You, Beth Cooper', 'Wild Target', 'The Joneses',\n",
       "        'Yogi Bear', \"Mo' Better Blues\", 'Julia',\n",
       "        'The City of Your Final Destination', 'The Virginity Hit',\n",
       "        'How Green Was My Valley', 'Bathing Beauty'], dtype=object),\n",
       " array(['The Color Purple', 'Lone Star', 'The American President',\n",
       "        'Bathing Beauty', 'Perrier’s Bounty', 'The Girl on the Train',\n",
       "        'The Joneses', 'Yogi Bear', \"Mo' Better Blues\", 'Julia'],\n",
       "       dtype=object),\n",
       " array(['Billy Elliot', \"Recess: School's Out\", 'Bathing Beauty',\n",
       "        \"Can't Stop the Music\", 'Perrier’s Bounty',\n",
       "        'The Girl on the Train', 'The Joneses', 'Yogi Bear',\n",
       "        \"Mo' Better Blues\", 'Julia'], dtype=object),\n",
       " array(['The Wolf of Wall Street', 'Django Unchained', 'Moneyball',\n",
       "        'The Passion of the Christ', 'Edge of Tomorrow', 'Her', 'Gravity',\n",
       "        'Inside Out', 'Hamlet', 'The Living Wake'], dtype=object),\n",
       " array(['Dancer in the Dark', 'The Remains of the Day', 'Akira',\n",
       "        'Lone Star', 'The City of Your Final Destination', '50/50',\n",
       "        'Pandaemonium', \"Can't Stop the Music\", 'Perrier’s Bounty',\n",
       "        'The Girl on the Train'], dtype=object),\n",
       " array(['The Lives of Others', '12 Angry Men', 'The Shining', 'Psycho',\n",
       "        'Lone Star', 'Edge of Tomorrow', 'X-Men: Days of Future Past',\n",
       "        'Once Upon a Time in America', 'The Thing', 'Life of Pi'],\n",
       "       dtype=object),\n",
       " array(['The Thin Red Line', 'The Remains of the Day',\n",
       "        'Dancer in the Dark', 'Lone Star', 'Chariots of Fire', 'Hamlet',\n",
       "        'The Virginity Hit', 'Pandaemonium', \"Can't Stop the Music\",\n",
       "        'Perrier’s Bounty'], dtype=object),\n",
       " array(['Monty Python and the Holy Grail', '12 Angry Men',\n",
       "        'To Kill a Mockingbird', 'The Elephant Man',\n",
       "        'The Bridge on the River Kwai', 'Night of the Living Dead',\n",
       "        'Ed Wood', 'How to Train Your Dragon', 'Big Hero 6', 'Fantasia'],\n",
       "       dtype=object),\n",
       " array(['The Lives of Others', 'Fantastic Mr. Fox', 'Lone Star', 'Ed Wood',\n",
       "        'Evil Dead II', 'Moneyball', 'The Curse of the Were-Rabbit',\n",
       "        'Bullets Over Broadway', 'A Few Good Men', 'Inside Job'],\n",
       "       dtype=object),\n",
       " array(['Roger & Me', 'Inside Out', 'The Full Monty', 'Billy Elliot',\n",
       "        'About a Boy', 'Chariots of Fire', 'The Color Purple',\n",
       "        'The Girl on the Train', \"Mo' Better Blues\", 'Yogi Bear'],\n",
       "       dtype=object),\n",
       " array(['A Streetcar Named Desire', 'The Remains of the Day',\n",
       "        'On the Waterfront', 'Lone Star', 'Once Upon a Time in America',\n",
       "        'Hamlet', 'Requiem for a Dream', 'Chariots of Fire',\n",
       "        'Little Women', 'Glory'], dtype=object),\n",
       " array(['Her', 'The Elephant Man', 'Dancer in the Dark', 'Babe', 'Hamlet',\n",
       "        'Life of Pi', 'Waking Ned', 'The Remains of the Day', 'Akira',\n",
       "        'The Passion of the Christ'], dtype=object),\n",
       " array([\"Schindler's List\", 'The Lives of Others', 'On the Waterfront',\n",
       "        'The Elephant Man', 'The Remains of the Day',\n",
       "        'A Streetcar Named Desire', 'Munich', 'The Wrestler', 'Hamlet',\n",
       "        'Inside Out'], dtype=object),\n",
       " array(['The Lives of Others', 'Django Unchained', 'Inglourious Basterds',\n",
       "        'The Wrestler', 'The Elephant Man', 'X-Men: Days of Future Past',\n",
       "        'District 9', 'Moon', 'The Avengers', 'Inside Out'], dtype=object),\n",
       " array(['The Dark Knight', 'The Wrestler', 'District 9',\n",
       "        'Fantastic Mr. Fox', 'The Lives of Others', 'Inglourious Basterds',\n",
       "        'Moon', 'Django Unchained', 'Scott Pilgrim vs. the World',\n",
       "        'Million Dollar Baby'], dtype=object),\n",
       " array(['Edge of Tomorrow', 'Night of the Living Dead', 'Her',\n",
       "        'The Remains of the Day', 'X-Men: Days of Future Past',\n",
       "        'A Streetcar Named Desire', 'Dancer in the Dark', 'Akira',\n",
       "        'The Hudsucker Proxy', 'Captain America: The Winter Soldier'],\n",
       "       dtype=object),\n",
       " array(['Edge of Tomorrow', 'Fantastic Mr. Fox',\n",
       "        'X-Men: Days of Future Past', 'Django Unchained',\n",
       "        'The Wolf of Wall Street', 'Captain America: The Winter Soldier',\n",
       "        'Gravity', 'Moon', 'The Avengers', 'Inside Out'], dtype=object),\n",
       " array(['Wall Street', 'Moneyball', 'Yogi Bear',\n",
       "        'From a Whisper to a Scream', 'Meteor', 'Trapeze', 'Loose Cannons',\n",
       "        '50/50', 'Pandaemonium', \"Can't Stop the Music\"], dtype=object),\n",
       " array(['Edge of Tomorrow', 'X-Men: Days of Future Past',\n",
       "        'The Wolf of Wall Street', 'The Wrestler', 'Million Dollar Baby',\n",
       "        'Captain America: The Winter Soldier', 'Inside Out',\n",
       "        'The Lives of Others', 'How to Train Your Dragon', 'Gravity'],\n",
       "       dtype=object),\n",
       " array(['Chariots of Fire', 'Swingers', 'Slumdog Millionaire',\n",
       "        'Babe: Pig in the City', 'Grease', 'The Deer Hunter',\n",
       "        'The French Connection', 'Akira', 'The Crow', 'Sideways'],\n",
       "       dtype=object),\n",
       " array(['The Lives of Others', 'Fantastic Mr. Fox',\n",
       "        'The Remains of the Day', 'Lone Star', 'The Deer Hunter',\n",
       "        'Once Upon a Time in America', 'Casino', 'Inglourious Basterds',\n",
       "        'The Thin Red Line', 'Scott Pilgrim vs. the World'], dtype=object),\n",
       " array(['To Kill a Mockingbird', 'Dancer in the Dark',\n",
       "        'The Curse of the Were-Rabbit', 'Inside Out',\n",
       "        'Glengarry Glen Ross', 'Her', 'How to Train Your Dragon',\n",
       "        'On the Waterfront', 'A Streetcar Named Desire', 'Fantasia'],\n",
       "       dtype=object),\n",
       " array(['12 Angry Men', 'Gravity', 'The Bridge on the River Kwai', 'Her',\n",
       "        'Glory', 'Inside Out', 'Edge of Tomorrow', 'Zodiac',\n",
       "        'The Wolf of Wall Street', 'Dancer in the Dark'], dtype=object),\n",
       " array(['Edge of Tomorrow', 'Inside Out', 'Despicable Me',\n",
       "        'To Kill a Mockingbird', 'X-Men: Days of Future Past',\n",
       "        'Big Hero 6', 'Captain America: The Winter Soldier',\n",
       "        'The Lives of Others', 'Psycho', 'Slumdog Millionaire'],\n",
       "       dtype=object),\n",
       " array(['Inside Out', 'Her', 'Moon', 'Life of Pi', 'Gravity',\n",
       "        'Babe: Pig in the City', 'The Wolf of Wall Street',\n",
       "        'Django Unchained', 'The Virginity Hit', 'Perrier’s Bounty'],\n",
       "       dtype=object),\n",
       " array(['A Streetcar Named Desire', 'The Remains of the Day',\n",
       "        'Willy Wonka & the Chocolate Factory', 'Chariots of Fire',\n",
       "        'Swingers', 'Lock, Stock and Two Smoking Barrels', 'Gattaca',\n",
       "        'West Side Story', 'Edge of Tomorrow', \"Mo' Better Blues\"],\n",
       "       dtype=object),\n",
       " array(['To Kill a Mockingbird', 'A Streetcar Named Desire', 'Lone Star',\n",
       "        'Glory', 'Once Upon a Time in America', 'The Full Monty', 'Meteor',\n",
       "        'Trapeze', 'Loose Cannons', 'The Girl on the Train'], dtype=object),\n",
       " array(['Her', 'Once Upon a Time in America', 'Lone Star', 'Moneyball',\n",
       "        'Hamlet', 'The Curse of the Were-Rabbit', 'Scrooged',\n",
       "        'The Remains of the Day', 'Rounders',\n",
       "        'Harry Potter and the Prisoner of Azkaban'], dtype=object),\n",
       " array(['The Deer Hunter', 'Monty Python and the Holy Grail',\n",
       "        'On the Waterfront', 'A Streetcar Named Desire',\n",
       "        'Glengarry Glen Ross', 'Dancer in the Dark',\n",
       "        'Once Upon a Time in America', 'Inside Out', 'Sideways',\n",
       "        'Django Unchained'], dtype=object),\n",
       " array(['The Wrestler', 'The Remains of the Day', 'Munich', 'Chicago',\n",
       "        'How to Train Your Dragon', 'Evil Dead II', 'Fahrenheit 9/11',\n",
       "        'Life of Pi', '8 Mile', 'The Wolf of Wall Street'], dtype=object),\n",
       " array(['The Lives of Others', 'The Outsiders', '50/50', 'Stolen Summer',\n",
       "        'The Eclipse', 'Oscar and Lucinda', 'Life During Wartime',\n",
       "        'Love Me Tender', 'Love Ranch', 'From a Whisper to a Scream'],\n",
       "       dtype=object),\n",
       " array(['Dancer in the Dark', 'The Lives of Others', 'Her',\n",
       "        'The Wolf of Wall Street', 'Django Unchained', 'Lone Star',\n",
       "        'The Cabin in the Woods', 'Inside Out', 'Gravity', 'Billy Elliot'],\n",
       "       dtype=object),\n",
       " array(['X-Men: Days of Future Past', 'The Avengers', 'Edge of Tomorrow',\n",
       "        'Captain America: The Winter Soldier', 'Night of the Living Dead',\n",
       "        'Avengers: Age of Ultron', 'Moon', 'The Lives of Others',\n",
       "        'Scott Pilgrim vs. the World',\n",
       "        'Captain America: The First Avenger'], dtype=object),\n",
       " array(['To Kill a Mockingbird', 'The Lives of Others', 'Lone Star',\n",
       "        '12 Angry Men', 'The Bridge on the River Kwai',\n",
       "        'On the Waterfront', 'Slumdog Millionaire', 'Moon', 'Apollo 13',\n",
       "        'Pulp Fiction'], dtype=object),\n",
       " array(['Wall Street', 'On the Waterfront', 'Evil Dead II',\n",
       "        'Conan the Barbarian', 'District 9', 'The Lives of Others',\n",
       "        'Glengarry Glen Ross', 'Rob Roy', 'The American President',\n",
       "        'Once Upon a Time in America'], dtype=object),\n",
       " array(['12 Angry Men', 'To Kill a Mockingbird',\n",
       "        'A Streetcar Named Desire', 'Her', 'Roger & Me',\n",
       "        'On the Waterfront', 'The Remains of the Day', 'The Wrestler',\n",
       "        'Fahrenheit 9/11', 'Babe: Pig in the City'], dtype=object),\n",
       " array(['The Lives of Others', 'On the Waterfront', 'Glory', 'Moon',\n",
       "        'Gran Torino', 'The Elephant Man', 'The Remains of the Day',\n",
       "        'Billy Elliot', 'Chariots of Fire', 'Hamlet'], dtype=object),\n",
       " array(['12 Angry Men', 'To Kill a Mockingbird', 'The Lives of Others',\n",
       "        'The Deer Hunter', 'The Exorcist', 'The Elephant Man', 'Lone Star',\n",
       "        'A Streetcar Named Desire', 'Chariots of Fire', 'West Side Story'],\n",
       "       dtype=object),\n",
       " array(['12 Angry Men', 'Night of the Living Dead',\n",
       "        'The Remains of the Day', 'The Hudsucker Proxy',\n",
       "        'A Streetcar Named Desire', 'Lone Star', 'Dancer in the Dark',\n",
       "        'The Girl on the Train', 'From a Whisper to a Scream', 'Meteor'],\n",
       "       dtype=object),\n",
       " array(['The Lives of Others', 'Once Upon a Time in America',\n",
       "        'To Kill a Mockingbird', 'The Elephant Man',\n",
       "        'The Bridge on the River Kwai', 'On the Waterfront',\n",
       "        'A Streetcar Named Desire', 'The Remains of the Day', 'Closer',\n",
       "        'Roger & Me'], dtype=object),\n",
       " array(['X-Men: Days of Future Past', 'Edge of Tomorrow',\n",
       "        'Avengers: Age of Ultron', 'Prometheus', \"The Devil's Advocate\",\n",
       "        'Captain America: The Winter Soldier', 'Her',\n",
       "        'The Passion of the Christ', 'The Joneses', 'Trapeze'],\n",
       "       dtype=object),\n",
       " array(['The Lives of Others', 'Sideways', 'The Curse of the Were-Rabbit',\n",
       "        'Munich', 'Gran Torino', 'Hamlet', 'Million Dollar Baby',\n",
       "        'Inside Out', 'Ratatouille', 'Edge of Tomorrow'], dtype=object),\n",
       " array(['12 Angry Men', 'The Remains of the Day', 'On the Waterfront',\n",
       "        'Night of the Living Dead', 'A Streetcar Named Desire',\n",
       "        'The Hudsucker Proxy', 'Lone Star', 'Dancer in the Dark',\n",
       "        \"Can't Stop the Music\", 'Pandaemonium'], dtype=object),\n",
       " array(['The Wrestler', 'Glengarry Glen Ross', 'Ratatouille',\n",
       "        'The Dark Knight', 'Night of the Living Dead',\n",
       "        'Dancer in the Dark', 'Her', 'Swingers', 'Inglourious Basterds',\n",
       "        'District 9'], dtype=object),\n",
       " array(['The Bridge on the River Kwai', 'Chariots of Fire',\n",
       "        'The Lives of Others', 'The Thing', 'To Kill a Mockingbird',\n",
       "        'Taxi Driver', 'Psycho', 'The Departed', 'Glengarry Glen Ross',\n",
       "        'On the Waterfront'], dtype=object),\n",
       " array(['Her', 'Trainspotting', 'Moon', 'Inside Out',\n",
       "        'The Wolf of Wall Street', 'Gravity', 'Django Unchained',\n",
       "        'The Lives of Others', 'Moneyball', 'Edge of Tomorrow'],\n",
       "       dtype=object),\n",
       " array(['Her', 'The Lives of Others', 'Gravity',\n",
       "        'A Streetcar Named Desire', 'The Remains of the Day', 'Inside Out',\n",
       "        'Moneyball', 'Roger & Me', 'The Wolf of Wall Street',\n",
       "        'Fantastic Mr. Fox'], dtype=object),\n",
       " array(['The Wolf of Wall Street', 'To Kill a Mockingbird',\n",
       "        'The Elephant Man', '12 Angry Men', 'Moon', 'Her', 'Blood Diamond',\n",
       "        'The Thing', 'Life of Pi', 'Night of the Living Dead'],\n",
       "       dtype=object),\n",
       " array(['The Dark Knight', 'X-Men: Days of Future Past',\n",
       "        'The Lives of Others', 'The Wrestler', 'The Departed',\n",
       "        'On the Waterfront', 'The Avengers',\n",
       "        'Captain America: The Winter Soldier', 'Ratatouille',\n",
       "        'Inglourious Basterds'], dtype=object),\n",
       " array(['Once Upon a Time in America', 'Akira',\n",
       "        'The Bridge on the River Kwai', 'Gattaca', 'On the Waterfront',\n",
       "        'Hamlet', 'The Last of the Mohicans', 'Glory', 'Waking Ned',\n",
       "        'American Gangster'], dtype=object),\n",
       " array(['How to Train Your Dragon', 'The Remains of the Day',\n",
       "        'The Color Purple', 'Big Hero 6', 'Her',\n",
       "        'A Streetcar Named Desire', 'Frozen', 'Despicable Me',\n",
       "        'Chariots of Fire', 'Akira'], dtype=object),\n",
       " array(['On the Waterfront', 'Glengarry Glen Ross',\n",
       "        'A Streetcar Named Desire', 'The Remains of the Day', 'Roger & Me',\n",
       "        'Lone Star', 'Fantastic Mr. Fox', 'Akira', 'Inside Out',\n",
       "        'Dancer in the Dark'], dtype=object),\n",
       " array(['12 Angry Men', 'The Remains of the Day',\n",
       "        'Night of the Living Dead', 'A Streetcar Named Desire',\n",
       "        'The Hudsucker Proxy', 'Lone Star', 'Dancer in the Dark',\n",
       "        'A Home at the End of the World', 'Defendor', 'Love Me Tender'],\n",
       "       dtype=object),\n",
       " array(['Toy Story 2', 'Akira', 'The Lives of Others',\n",
       "        'The Bridge on the River Kwai', 'Lone Star', 'Inside Out',\n",
       "        'On the Waterfront', 'The Curse of the Were-Rabbit', 'Babe',\n",
       "        'How to Train Your Dragon'], dtype=object),\n",
       " array(['Her', 'Gravity', 'The Dark Knight', 'Fantastic Mr. Fox',\n",
       "        'Ratatouille', 'The Wrestler', 'Inside Out', 'District 9',\n",
       "        'The Cabin in the Woods', 'The Lives of Others'], dtype=object),\n",
       " array(['The Bridge on the River Kwai', 'On the Waterfront',\n",
       "        'The Remains of the Day', 'Chariots of Fire',\n",
       "        'A Streetcar Named Desire', 'The Color Purple', 'West Side Story',\n",
       "        'Lone Star', 'The Hours', 'Wall Street'], dtype=object),\n",
       " array(['To Kill a Mockingbird', 'On the Waterfront',\n",
       "        'A Streetcar Named Desire', 'Roger & Me', 'Dancer in the Dark',\n",
       "        'Glory', 'The Remains of the Day', 'Billy Elliot', 'Lone Star',\n",
       "        'Sideways'], dtype=object),\n",
       " array(['Glory', '12 Angry Men', 'Gran Torino', 'The Lives of Others',\n",
       "        'The Bridge on the River Kwai', 'Million Dollar Baby',\n",
       "        'Blood Diamond', 'Edge of Tomorrow', 'Inside Out',\n",
       "        'West Side Story'], dtype=object),\n",
       " array(['A Streetcar Named Desire', 'Requiem for a Dream',\n",
       "        'The Elephant Man', 'The Wrestler', 'Glory', 'Chariots of Fire',\n",
       "        'The Hours', 'The Color Purple', 'Moon', 'Fantasia'], dtype=object),\n",
       " array(['To Kill a Mockingbird', 'The Lives of Others', 'Roger & Me',\n",
       "        'Ratatouille', 'Babe: Pig in the City', 'Inside Out', 'Hamlet',\n",
       "        'Once Upon a Time in America', 'Swingers', 'Evil Dead II'],\n",
       "       dtype=object),\n",
       " array([\"Schindler's List\", 'Slumdog Millionaire', 'Gran Torino',\n",
       "        'The Lives of Others', 'To Kill a Mockingbird', 'Inside Out',\n",
       "        'The Notebook', 'Edge of Tomorrow', 'Gravity', 'Moneyball'],\n",
       "       dtype=object),\n",
       " array(['Inside Out', 'The Lives of Others', 'Roger & Me',\n",
       "        'How to Train Your Dragon', 'Django Unchained', 'Her', 'Gravity',\n",
       "        'Frozen', 'Glory', 'The Cabin in the Woods'], dtype=object),\n",
       " array(['Dancer in the Dark', 'Lone Star', 'Fantasia', 'Glory', 'Hamlet',\n",
       "        'The Remains of the Day', 'The Color Purple', 'West Side Story',\n",
       "        'Chariots of Fire', 'Inside Out'], dtype=object),\n",
       " array(['Her', 'Edge of Tomorrow', 'Closer', 'Akira',\n",
       "        'Once Upon a Time in America', 'The Craft',\n",
       "        'The Wolf of Wall Street', 'The French Connection',\n",
       "        'X-Men: Days of Future Past', 'The Hudsucker Proxy'], dtype=object),\n",
       " array(['Rocky', 'Swingers', 'Glory', 'The Lives of Others',\n",
       "        'Once Upon a Time in America', 'Old School', 'Akira', 'Moon',\n",
       "        'The Bridge on the River Kwai', 'Edge of Tomorrow'], dtype=object),\n",
       " array(['Babe', 'The Curse of the Were-Rabbit', 'Hamlet',\n",
       "        'The Cabin in the Woods', 'X-Men: Days of Future Past',\n",
       "        'Chariots of Fire', 'Gossip', 'Stolen Summer', 'The Eclipse',\n",
       "        'Oscar and Lucinda'], dtype=object),\n",
       " array(['The Lives of Others', 'Inside Out', 'Ratatouille',\n",
       "        'Scott Pilgrim vs. the World', 'Gran Torino', 'Lone Star',\n",
       "        'How to Train Your Dragon', 'Her', 'Edge of Tomorrow',\n",
       "        'X-Men: Days of Future Past'], dtype=object),\n",
       " array(['The Lives of Others', 'Fantastic Mr. Fox', 'Waking Ned',\n",
       "        'About a Boy', '12 Angry Men', 'Chicago', 'Her', 'Babe',\n",
       "        'The Notebook', 'The Remains of the Day'], dtype=object),\n",
       " array(['To Kill a Mockingbird', 'Hamlet', 'The Wolf of Wall Street',\n",
       "        'Three Kings', 'Dancer in the Dark',\n",
       "        'Willy Wonka & the Chocolate Factory', 'The Remains of the Day',\n",
       "        'Blood Diamond', 'A History of Violence', 'Billy Elliot'],\n",
       "       dtype=object),\n",
       " array(['On the Waterfront', 'The Lives of Others', 'Moon', 'Her',\n",
       "        'Once Upon a Time in America', 'A Streetcar Named Desire',\n",
       "        'Zodiac', 'Gravity', 'The Passion of the Christ', 'Moneyball'],\n",
       "       dtype=object),\n",
       " array(['The Dark Knight', 'Edge of Tomorrow', 'The Avengers',\n",
       "        'How to Train Your Dragon', 'The Departed',\n",
       "        'To Kill a Mockingbird', 'Gran Torino', '300', 'District 9',\n",
       "        'Ratatouille'], dtype=object),\n",
       " array(['The Elephant Man', 'The Lives of Others',\n",
       "        'Once Upon a Time in America', 'Hamlet', 'Babe: Pig in the City',\n",
       "        'Chariots of Fire', 'Evil Dead II', 'Swingers', 'The Color Purple',\n",
       "        'Casino'], dtype=object),\n",
       " array(['Hamlet', 'The Hudsucker Proxy', 'Blood Diamond',\n",
       "        'The Last of the Mohicans', 'Glory', 'Lone Star', 'Training Day',\n",
       "        'Glengarry Glen Ross', 'Bullets Over Broadway', 'Meteor'],\n",
       "       dtype=object),\n",
       " array(['The Lives of Others', 'Inside Out', 'The Wrestler',\n",
       "        'How to Train Your Dragon', '12 Angry Men', 'District 9', 'Her',\n",
       "        'Big Hero 6', 'To Kill a Mockingbird', 'Sideways'], dtype=object),\n",
       " array(['Inglourious Basterds', 'Glengarry Glen Ross',\n",
       "        'To Kill a Mockingbird', 'Django Unchained',\n",
       "        'A Streetcar Named Desire', 'The Wolf of Wall Street', 'Moon',\n",
       "        'The French Connection', 'Fantastic Mr. Fox', 'Roger & Me'],\n",
       "       dtype=object),\n",
       " array(['Gravity', 'The Lives of Others', 'Once Upon a Time in America',\n",
       "        'A History of Violence', 'Gran Torino', 'The Hudsucker Proxy',\n",
       "        'Mystic River', 'Life of Pi', 'Fantastic Mr. Fox', 'Moneyball'],\n",
       "       dtype=object),\n",
       " array(['Her', 'The Deer Hunter', 'Once Upon a Time in America',\n",
       "        'The Elephant Man', 'The Remains of the Day',\n",
       "        'The Bridge on the River Kwai', 'Inside Out', 'Django Unchained',\n",
       "        'Rocky', 'Gravity'], dtype=object),\n",
       " array(['On the Waterfront', 'The Bridge on the River Kwai',\n",
       "        'The Remains of the Day', 'A Streetcar Named Desire',\n",
       "        'Chariots of Fire', 'The Color Purple', 'West Side Story',\n",
       "        'Lone Star', 'The Hours', 'Wall Street'], dtype=object),\n",
       " array(['The Bridge on the River Kwai', 'The Elephant Man',\n",
       "        'On the Waterfront', 'Her', 'To Kill a Mockingbird',\n",
       "        'Requiem for a Dream', 'Akira', 'Grease',\n",
       "        'Monty Python and the Holy Grail', 'Sideways'], dtype=object),\n",
       " array(['The Departed', 'The Passion of the Christ', 'The Lives of Others',\n",
       "        'Willy Wonka & the Chocolate Factory', 'The Dark Knight', '300',\n",
       "        'On the Waterfront', 'Fantastic Mr. Fox', 'Slumdog Millionaire',\n",
       "        'About a Boy'], dtype=object),\n",
       " array(['The Wolf of Wall Street', 'Django Unchained',\n",
       "        'Glengarry Glen Ross', 'Once Upon a Time in America',\n",
       "        'The Lives of Others', 'The Wrestler', 'Edge of Tomorrow',\n",
       "        'The Exorcist', 'The Avengers', 'X-Men: Days of Future Past'],\n",
       "       dtype=object),\n",
       " array(['The Wrestler', 'The Bridge on the River Kwai',\n",
       "        'Glengarry Glen Ross', 'Inglourious Basterds', 'Moon',\n",
       "        'Inside Out', 'The Avengers', 'Her', 'Fantastic Mr. Fox',\n",
       "        'Gran Torino'], dtype=object),\n",
       " array(['The Color Purple', 'Inside Out', 'The Deer Hunter',\n",
       "        'The Remains of the Day', 'Edge of Tomorrow', 'The Wrestler',\n",
       "        'Roger & Me', 'Frozen', 'Oscar and Lucinda', 'Trapeze'],\n",
       "       dtype=object),\n",
       " array(['On the Waterfront', 'The Elephant Man',\n",
       "        'A Streetcar Named Desire', 'Dancer in the Dark',\n",
       "        'Requiem for a Dream', 'Roger & Me', 'Fantasia', 'Sideways',\n",
       "        'Bullets Over Broadway', 'The Curse of the Were-Rabbit'],\n",
       "       dtype=object),\n",
       " array(['The Remains of the Day', 'The Lives of Others',\n",
       "        'A Streetcar Named Desire', 'Bullets Over Broadway',\n",
       "        'Once Upon a Time in America', 'Splash', 'Trainspotting',\n",
       "        'Chariots of Fire', 'Hamlet', 'Akira'], dtype=object),\n",
       " array(['The Passion of the Christ', '12 Angry Men', 'Ratatouille',\n",
       "        'The Dark Knight', 'How to Train Your Dragon',\n",
       "        'The Lives of Others', 'Edge of Tomorrow', 'Zodiac', 'Moneyball',\n",
       "        'Mystic River'], dtype=object),\n",
       " array(['The Deer Hunter', 'Dancer in the Dark', 'On the Waterfront',\n",
       "        'To Kill a Mockingbird', 'Ratatouille', 'Inside Out',\n",
       "        'Toy Story 2', 'The Bridge on the River Kwai',\n",
       "        'The Curse of the Were-Rabbit', 'The Wolf of Wall Street'],\n",
       "       dtype=object),\n",
       " array(['Grease', 'Wall Street', 'Erin Brockovich',\n",
       "        'The Passion of the Christ', 'The Shining', 'Big Hero 6',\n",
       "        'Mystic River', 'The Deer Hunter', 'Love Ranch', 'Real Steel'],\n",
       "       dtype=object),\n",
       " array(['Austin Powers: International Man of Mystery', 'Inside Out',\n",
       "        '12 Angry Men', 'Night of the Living Dead', 'Gravity',\n",
       "        'The Cabin in the Woods', 'The Elephant Man', 'Beetlejuice',\n",
       "        'Willy Wonka & the Chocolate Factory', 'Loose Cannons'],\n",
       "       dtype=object),\n",
       " array(['On the Waterfront', '12 Angry Men', 'A Streetcar Named Desire',\n",
       "        'The French Connection', 'The Elephant Man', 'Moon', 'Wall Street',\n",
       "        'Akira', 'Captain America: The Winter Soldier',\n",
       "        'How to Train Your Dragon'], dtype=object),\n",
       " array(['A Streetcar Named Desire', 'On the Waterfront',\n",
       "        'The Remains of the Day', 'The Hours', 'Lone Star', 'Her',\n",
       "        'Fantasia', 'Fantastic Mr. Fox', 'Hamlet', 'Ratatouille'],\n",
       "       dtype=object),\n",
       " array(['The Lives of Others', '12 Angry Men', 'The Elephant Man',\n",
       "        'Roger & Me', 'Fantastic Mr. Fox', 'Once Upon a Time in America',\n",
       "        'Akira', 'The Remains of the Day', 'The Color Purple',\n",
       "        'On the Waterfront'], dtype=object),\n",
       " array(['Akira', 'Her', 'On the Waterfront',\n",
       "        'The Bridge on the River Kwai', 'Lone Star', 'Inside Out',\n",
       "        'Gran Torino', 'Billy Elliot', 'Once Upon a Time in America',\n",
       "        'Big Hero 6'], dtype=object),\n",
       " array(['The Lives of Others', 'Inside Out', 'Slumdog Millionaire',\n",
       "        'Lone Star', 'Her', 'Gravity', '12 Angry Men',\n",
       "        'Scott Pilgrim vs. the World', 'The Avengers', 'Fantastic Mr. Fox'],\n",
       "       dtype=object),\n",
       " array(['On the Waterfront', 'Million Dollar Baby', 'Chicago', 'Apollo 13',\n",
       "        'Lone Star', 'A Streetcar Named Desire', 'Rocky', 'Se7en',\n",
       "        'The Elephant Man', 'The Wrestler'], dtype=object),\n",
       " array(['The Lives of Others', 'Night of the Living Dead', 'The Wrestler',\n",
       "        'Requiem for a Dream', 'District 9', 'Ratatouille', 'Zodiac',\n",
       "        'The Dark Knight', 'Lone Star', 'Her'], dtype=object),\n",
       " array(['Glengarry Glen Ross', 'The Bridge on the River Kwai',\n",
       "        'A Streetcar Named Desire', 'The Elephant Man',\n",
       "        'The French Connection', 'Night of the Living Dead',\n",
       "        'Once Upon a Time in America', 'Hamlet', 'The Exorcist', 'Se7en'],\n",
       "       dtype=object),\n",
       " array(['The Wolf of Wall Street', '12 Angry Men', 'Edge of Tomorrow',\n",
       "        \"Schindler's List\", 'X-Men: Days of Future Past', 'Akira',\n",
       "        'Training Day', 'Requiem for a Dream', 'Avengers: Age of Ultron',\n",
       "        'The Lives of Others'], dtype=object)]"
      ]
     },
     "execution_count": 30,
     "metadata": {},
     "output_type": "execute_result"
    }
   ],
   "source": [
    "final_result = get_recommendation_by_title('Alien')\n",
    "final_result"
   ]
  }
 ],
 "metadata": {
  "kernelspec": {
   "display_name": "Python 3",
   "language": "python",
   "name": "python3"
  },
  "language_info": {
   "codemirror_mode": {
    "name": "ipython",
    "version": 3
   },
   "file_extension": ".py",
   "mimetype": "text/x-python",
   "name": "python",
   "nbconvert_exporter": "python",
   "pygments_lexer": "ipython3",
   "version": "3.6.5"
  }
 },
 "nbformat": 4,
 "nbformat_minor": 2
}
