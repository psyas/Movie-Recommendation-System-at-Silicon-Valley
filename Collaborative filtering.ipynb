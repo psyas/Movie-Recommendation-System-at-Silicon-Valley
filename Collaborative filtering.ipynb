{
 "cells": [
  {
   "cell_type": "markdown",
   "metadata": {},
   "source": [
    "# Collaborative filtering"
   ]
  },
  {
   "cell_type": "markdown",
   "metadata": {},
   "source": [
    "## import library"
   ]
  },
  {
   "cell_type": "code",
   "execution_count": 1,
   "metadata": {},
   "outputs": [],
   "source": [
    "import pandas as pd\n",
    "import numpy as np\n",
    "import math\n",
    "import re\n",
    "from scipy.sparse import csr_matrix\n",
    "import matplotlib.pyplot as plt\n",
    "import seaborn as sns\n",
    "from surprise import Reader, Dataset, SVD, accuracy\n",
    "from sklearn.model_selection import cross_validate, train_test_split"
   ]
  },
  {
   "cell_type": "markdown",
   "metadata": {},
   "source": [
    "## import files"
   ]
  },
  {
   "cell_type": "code",
   "execution_count": 2,
   "metadata": {},
   "outputs": [],
   "source": [
    "ratings_df = pd.read_csv('data/ratings.csv')"
   ]
  },
  {
   "cell_type": "code",
   "execution_count": 3,
   "metadata": {},
   "outputs": [],
   "source": [
    "ratings_df = ratings_df.drop(columns='timestamp')"
   ]
  },
  {
   "cell_type": "code",
   "execution_count": 4,
   "metadata": {},
   "outputs": [
    {
     "data": {
      "text/plain": [
       "(26024289, 3)"
      ]
     },
     "execution_count": 4,
     "metadata": {},
     "output_type": "execute_result"
    }
   ],
   "source": [
    "ratings_df.shape"
   ]
  },
  {
   "cell_type": "code",
   "execution_count": 5,
   "metadata": {},
   "outputs": [
    {
     "data": {
      "text/html": [
       "<div>\n",
       "<style scoped>\n",
       "    .dataframe tbody tr th:only-of-type {\n",
       "        vertical-align: middle;\n",
       "    }\n",
       "\n",
       "    .dataframe tbody tr th {\n",
       "        vertical-align: top;\n",
       "    }\n",
       "\n",
       "    .dataframe thead th {\n",
       "        text-align: right;\n",
       "    }\n",
       "</style>\n",
       "<table border=\"1\" class=\"dataframe\">\n",
       "  <thead>\n",
       "    <tr style=\"text-align: right;\">\n",
       "      <th></th>\n",
       "      <th>userId</th>\n",
       "      <th>movieId</th>\n",
       "      <th>rating</th>\n",
       "    </tr>\n",
       "  </thead>\n",
       "  <tbody>\n",
       "    <tr>\n",
       "      <th>0</th>\n",
       "      <td>1</td>\n",
       "      <td>110</td>\n",
       "      <td>1.0</td>\n",
       "    </tr>\n",
       "    <tr>\n",
       "      <th>1</th>\n",
       "      <td>1</td>\n",
       "      <td>147</td>\n",
       "      <td>4.5</td>\n",
       "    </tr>\n",
       "    <tr>\n",
       "      <th>2</th>\n",
       "      <td>1</td>\n",
       "      <td>858</td>\n",
       "      <td>5.0</td>\n",
       "    </tr>\n",
       "    <tr>\n",
       "      <th>3</th>\n",
       "      <td>1</td>\n",
       "      <td>1221</td>\n",
       "      <td>5.0</td>\n",
       "    </tr>\n",
       "    <tr>\n",
       "      <th>4</th>\n",
       "      <td>1</td>\n",
       "      <td>1246</td>\n",
       "      <td>5.0</td>\n",
       "    </tr>\n",
       "  </tbody>\n",
       "</table>\n",
       "</div>"
      ],
      "text/plain": [
       "   userId  movieId  rating\n",
       "0       1      110     1.0\n",
       "1       1      147     4.5\n",
       "2       1      858     5.0\n",
       "3       1     1221     5.0\n",
       "4       1     1246     5.0"
      ]
     },
     "execution_count": 5,
     "metadata": {},
     "output_type": "execute_result"
    }
   ],
   "source": [
    "ratings_df.head()"
   ]
  },
  {
   "cell_type": "code",
   "execution_count": 6,
   "metadata": {},
   "outputs": [],
   "source": [
    "links_df = pd.read_csv('data/links.csv')"
   ]
  },
  {
   "cell_type": "code",
   "execution_count": 7,
   "metadata": {},
   "outputs": [
    {
     "data": {
      "text/html": [
       "<div>\n",
       "<style scoped>\n",
       "    .dataframe tbody tr th:only-of-type {\n",
       "        vertical-align: middle;\n",
       "    }\n",
       "\n",
       "    .dataframe tbody tr th {\n",
       "        vertical-align: top;\n",
       "    }\n",
       "\n",
       "    .dataframe thead th {\n",
       "        text-align: right;\n",
       "    }\n",
       "</style>\n",
       "<table border=\"1\" class=\"dataframe\">\n",
       "  <thead>\n",
       "    <tr style=\"text-align: right;\">\n",
       "      <th></th>\n",
       "      <th>movieId</th>\n",
       "      <th>tmdbId</th>\n",
       "    </tr>\n",
       "  </thead>\n",
       "  <tbody>\n",
       "    <tr>\n",
       "      <th>0</th>\n",
       "      <td>1</td>\n",
       "      <td>862.0</td>\n",
       "    </tr>\n",
       "    <tr>\n",
       "      <th>1</th>\n",
       "      <td>2</td>\n",
       "      <td>8844.0</td>\n",
       "    </tr>\n",
       "    <tr>\n",
       "      <th>2</th>\n",
       "      <td>3</td>\n",
       "      <td>15602.0</td>\n",
       "    </tr>\n",
       "    <tr>\n",
       "      <th>3</th>\n",
       "      <td>4</td>\n",
       "      <td>31357.0</td>\n",
       "    </tr>\n",
       "    <tr>\n",
       "      <th>4</th>\n",
       "      <td>5</td>\n",
       "      <td>11862.0</td>\n",
       "    </tr>\n",
       "  </tbody>\n",
       "</table>\n",
       "</div>"
      ],
      "text/plain": [
       "   movieId   tmdbId\n",
       "0        1    862.0\n",
       "1        2   8844.0\n",
       "2        3  15602.0\n",
       "3        4  31357.0\n",
       "4        5  11862.0"
      ]
     },
     "execution_count": 7,
     "metadata": {},
     "output_type": "execute_result"
    }
   ],
   "source": [
    "links_df = links_df.drop(columns = 'imdbId')\n",
    "links_df.head()"
   ]
  },
  {
   "cell_type": "code",
   "execution_count": 8,
   "metadata": {},
   "outputs": [],
   "source": [
    "movies_df = pd.read_csv('data/tmdb_5000_movies.csv')"
   ]
  },
  {
   "cell_type": "markdown",
   "metadata": {},
   "source": [
    "## TMDB 데이터셋 기반으로 영화 ID 리스트 생성"
   ]
  },
  {
   "cell_type": "code",
   "execution_count": 9,
   "metadata": {},
   "outputs": [],
   "source": [
    "movieId_list = movies_df[['id', 'title']].set_index('id').join(links_df.set_index('tmdbId')[['movieId']]).dropna()\n",
    "movieId_list['movieId'] = movieId_list['movieId'].map(int)\n",
    "movieId_list = movieId_list.set_index('movieId')"
   ]
  },
  {
   "cell_type": "code",
   "execution_count": 10,
   "metadata": {},
   "outputs": [
    {
     "data": {
      "text/plain": [
       "(4599, 1)"
      ]
     },
     "execution_count": 10,
     "metadata": {},
     "output_type": "execute_result"
    }
   ],
   "source": [
    "movieId_list.shape"
   ]
  },
  {
   "cell_type": "code",
   "execution_count": 11,
   "metadata": {},
   "outputs": [
    {
     "data": {
      "text/html": [
       "<div>\n",
       "<style scoped>\n",
       "    .dataframe tbody tr th:only-of-type {\n",
       "        vertical-align: middle;\n",
       "    }\n",
       "\n",
       "    .dataframe tbody tr th {\n",
       "        vertical-align: top;\n",
       "    }\n",
       "\n",
       "    .dataframe thead th {\n",
       "        text-align: right;\n",
       "    }\n",
       "</style>\n",
       "<table border=\"1\" class=\"dataframe\">\n",
       "  <thead>\n",
       "    <tr style=\"text-align: right;\">\n",
       "      <th></th>\n",
       "      <th>title</th>\n",
       "    </tr>\n",
       "    <tr>\n",
       "      <th>movieId</th>\n",
       "      <th></th>\n",
       "    </tr>\n",
       "  </thead>\n",
       "  <tbody>\n",
       "    <tr>\n",
       "      <th>18</th>\n",
       "      <td>Four Rooms</td>\n",
       "    </tr>\n",
       "    <tr>\n",
       "      <th>260</th>\n",
       "      <td>Star Wars</td>\n",
       "    </tr>\n",
       "    <tr>\n",
       "      <th>6377</th>\n",
       "      <td>Finding Nemo</td>\n",
       "    </tr>\n",
       "    <tr>\n",
       "      <th>356</th>\n",
       "      <td>Forrest Gump</td>\n",
       "    </tr>\n",
       "    <tr>\n",
       "      <th>2858</th>\n",
       "      <td>American Beauty</td>\n",
       "    </tr>\n",
       "  </tbody>\n",
       "</table>\n",
       "</div>"
      ],
      "text/plain": [
       "                   title\n",
       "movieId                 \n",
       "18            Four Rooms\n",
       "260            Star Wars\n",
       "6377        Finding Nemo\n",
       "356         Forrest Gump\n",
       "2858     American Beauty"
      ]
     },
     "execution_count": 11,
     "metadata": {},
     "output_type": "execute_result"
    }
   ],
   "source": [
    "movieId_list.head()"
   ]
  },
  {
   "cell_type": "markdown",
   "metadata": {},
   "source": [
    "## TMDB 데이터셋에 존재하지 않는 영화에 대한 평점 삭제"
   ]
  },
  {
   "cell_type": "code",
   "execution_count": 12,
   "metadata": {},
   "outputs": [],
   "source": [
    "ratings_df = ratings_df[ratings_df['movieId'].isin(movieId_list.index)][['userId', 'movieId', 'rating']]"
   ]
  },
  {
   "cell_type": "code",
   "execution_count": 13,
   "metadata": {},
   "outputs": [
    {
     "data": {
      "text/plain": [
       "(17977131, 3)"
      ]
     },
     "execution_count": 13,
     "metadata": {},
     "output_type": "execute_result"
    }
   ],
   "source": [
    "ratings_df.shape"
   ]
  },
  {
   "cell_type": "markdown",
   "metadata": {},
   "source": [
    "## 적은 수의 평점을 받은 영화 삭제"
   ]
  },
  {
   "cell_type": "code",
   "execution_count": 14,
   "metadata": {},
   "outputs": [
    {
     "name": "stdout",
     "output_type": "stream",
     "text": [
      "The number of tmdb movies in rating.csv dataset :  4597\n"
     ]
    }
   ],
   "source": [
    "df_movie_summary = ratings_df.groupby('movieId')['rating'].agg(['count'])\n",
    "print('The number of tmdb movies in rating.csv dataset : ',len(df_movie_summary))"
   ]
  },
  {
   "cell_type": "markdown",
   "metadata": {},
   "source": [
    "## 최소 5177개의 평점 기록이 있는 영화만 쓰도록 함."
   ]
  },
  {
   "cell_type": "code",
   "execution_count": 15,
   "metadata": {},
   "outputs": [
    {
     "data": {
      "text/plain": [
       "5177"
      ]
     },
     "execution_count": 15,
     "metadata": {},
     "output_type": "execute_result"
    }
   ],
   "source": [
    "movie_benchmark = int(round(df_movie_summary['count'].quantile(0.8),0))\n",
    "movie_benchmark"
   ]
  },
  {
   "cell_type": "code",
   "execution_count": 16,
   "metadata": {},
   "outputs": [
    {
     "name": "stdout",
     "output_type": "stream",
     "text": [
      "Dropped movie count :  3677\n",
      "Target movie count :  920\n"
     ]
    }
   ],
   "source": [
    "drop_movie_list = df_movie_summary[df_movie_summary['count'] < movie_benchmark].index\n",
    "print(\"Dropped movie count : \",len(drop_movie_list))\n",
    "print(\"Target movie count : \", len(df_movie_summary) - len(drop_movie_list))"
   ]
  },
  {
   "cell_type": "markdown",
   "metadata": {},
   "source": [
    "## 적은 수의 평점을 남긴 유저 삭제를 위한 기준점 설정"
   ]
  },
  {
   "cell_type": "code",
   "execution_count": 17,
   "metadata": {},
   "outputs": [
    {
     "data": {
      "text/html": [
       "<div>\n",
       "<style scoped>\n",
       "    .dataframe tbody tr th:only-of-type {\n",
       "        vertical-align: middle;\n",
       "    }\n",
       "\n",
       "    .dataframe tbody tr th {\n",
       "        vertical-align: top;\n",
       "    }\n",
       "\n",
       "    .dataframe thead th {\n",
       "        text-align: right;\n",
       "    }\n",
       "</style>\n",
       "<table border=\"1\" class=\"dataframe\">\n",
       "  <thead>\n",
       "    <tr style=\"text-align: right;\">\n",
       "      <th></th>\n",
       "      <th>count</th>\n",
       "    </tr>\n",
       "    <tr>\n",
       "      <th>userId</th>\n",
       "      <th></th>\n",
       "    </tr>\n",
       "  </thead>\n",
       "  <tbody>\n",
       "    <tr>\n",
       "      <th>1</th>\n",
       "      <td>23</td>\n",
       "    </tr>\n",
       "    <tr>\n",
       "      <th>2</th>\n",
       "      <td>14</td>\n",
       "    </tr>\n",
       "    <tr>\n",
       "      <th>3</th>\n",
       "      <td>7</td>\n",
       "    </tr>\n",
       "    <tr>\n",
       "      <th>4</th>\n",
       "      <td>50</td>\n",
       "    </tr>\n",
       "    <tr>\n",
       "      <th>5</th>\n",
       "      <td>17</td>\n",
       "    </tr>\n",
       "  </tbody>\n",
       "</table>\n",
       "</div>"
      ],
      "text/plain": [
       "        count\n",
       "userId       \n",
       "1          23\n",
       "2          14\n",
       "3           7\n",
       "4          50\n",
       "5          17"
      ]
     },
     "execution_count": 17,
     "metadata": {},
     "output_type": "execute_result"
    }
   ],
   "source": [
    "df_user_summary = ratings_df.groupby('userId')['rating'].agg(['count'])\n",
    "df_user_summary.head()"
   ]
  },
  {
   "cell_type": "markdown",
   "metadata": {},
   "source": [
    "# 최소 280개 이상의 리뷰를 남긴 유저의 데이터만을 사용하도록 한다."
   ]
  },
  {
   "cell_type": "code",
   "execution_count": 18,
   "metadata": {},
   "outputs": [
    {
     "data": {
      "text/plain": [
       "280"
      ]
     },
     "execution_count": 18,
     "metadata": {},
     "output_type": "execute_result"
    }
   ],
   "source": [
    "user_benchmark = int(round(df_user_summary['count'].quantile(0.95),0))\n",
    "drop_user_list = df_user_summary[df_user_summary['count'] < user_benchmark].index\n",
    "user_benchmark"
   ]
  },
  {
   "cell_type": "markdown",
   "metadata": {},
   "source": [
    "## 앞서 설정한 기준점을 바탕으로 평점 데이터셋 가공"
   ]
  },
  {
   "cell_type": "code",
   "execution_count": 19,
   "metadata": {},
   "outputs": [],
   "source": [
    "ratings_df = ratings_df[~ratings_df['movieId'].isin(drop_movie_list)]\n",
    "ratings_df = ratings_df[~ratings_df['userId'].isin(drop_user_list)]"
   ]
  },
  {
   "cell_type": "markdown",
   "metadata": {},
   "source": [
    "## 평점 데이터셋 가공 후의 모습"
   ]
  },
  {
   "cell_type": "code",
   "execution_count": 20,
   "metadata": {},
   "outputs": [
    {
     "data": {
      "text/plain": [
       "(4488072, 3)"
      ]
     },
     "execution_count": 20,
     "metadata": {},
     "output_type": "execute_result"
    }
   ],
   "source": [
    "ratings_df.shape"
   ]
  },
  {
   "cell_type": "code",
   "execution_count": 21,
   "metadata": {},
   "outputs": [
    {
     "data": {
      "text/html": [
       "<div>\n",
       "<style scoped>\n",
       "    .dataframe tbody tr th:only-of-type {\n",
       "        vertical-align: middle;\n",
       "    }\n",
       "\n",
       "    .dataframe tbody tr th {\n",
       "        vertical-align: top;\n",
       "    }\n",
       "\n",
       "    .dataframe thead th {\n",
       "        text-align: right;\n",
       "    }\n",
       "</style>\n",
       "<table border=\"1\" class=\"dataframe\">\n",
       "  <thead>\n",
       "    <tr style=\"text-align: right;\">\n",
       "      <th></th>\n",
       "      <th>userId</th>\n",
       "      <th>movieId</th>\n",
       "      <th>rating</th>\n",
       "    </tr>\n",
       "  </thead>\n",
       "  <tbody>\n",
       "    <tr>\n",
       "      <th>1710</th>\n",
       "      <td>24</td>\n",
       "      <td>1</td>\n",
       "      <td>4.0</td>\n",
       "    </tr>\n",
       "    <tr>\n",
       "      <th>1713</th>\n",
       "      <td>24</td>\n",
       "      <td>16</td>\n",
       "      <td>3.0</td>\n",
       "    </tr>\n",
       "    <tr>\n",
       "      <th>1714</th>\n",
       "      <td>24</td>\n",
       "      <td>17</td>\n",
       "      <td>3.0</td>\n",
       "    </tr>\n",
       "    <tr>\n",
       "      <th>1715</th>\n",
       "      <td>24</td>\n",
       "      <td>21</td>\n",
       "      <td>4.0</td>\n",
       "    </tr>\n",
       "    <tr>\n",
       "      <th>1716</th>\n",
       "      <td>24</td>\n",
       "      <td>25</td>\n",
       "      <td>3.0</td>\n",
       "    </tr>\n",
       "  </tbody>\n",
       "</table>\n",
       "</div>"
      ],
      "text/plain": [
       "      userId  movieId  rating\n",
       "1710      24        1     4.0\n",
       "1713      24       16     3.0\n",
       "1714      24       17     3.0\n",
       "1715      24       21     4.0\n",
       "1716      24       25     3.0"
      ]
     },
     "execution_count": 21,
     "metadata": {},
     "output_type": "execute_result"
    }
   ],
   "source": [
    "ratings_df.head()"
   ]
  },
  {
   "cell_type": "markdown",
   "metadata": {},
   "source": [
    "## 데이터 전처리 후 ratings dataframe에 남은 영화 종류의 총 수"
   ]
  },
  {
   "cell_type": "code",
   "execution_count": 22,
   "metadata": {},
   "outputs": [
    {
     "data": {
      "text/plain": [
       "920"
      ]
     },
     "execution_count": 22,
     "metadata": {},
     "output_type": "execute_result"
    }
   ],
   "source": [
    "# num of tmdb movies after data clean\n",
    "ratings_df['movieId'].nunique()"
   ]
  },
  {
   "cell_type": "code",
   "execution_count": 23,
   "metadata": {},
   "outputs": [
    {
     "name": "stdout",
     "output_type": "stream",
     "text": [
      "          userId  movieId  rating\n",
      "1710          24        1     4.0\n",
      "2868550    29887     2599     4.5\n",
      "5806126    59698    91500     2.0\n",
      "8740001    90150     2948     3.0\n",
      "11699629  121323     3006     5.0\n",
      "14591950  151662     6874     4.0\n",
      "17420662  180783    36529     3.5\n",
      "20290065  210853    68954     3.5\n",
      "23179335  240551     8533     3.0\n"
     ]
    }
   ],
   "source": [
    "# Data Example\n",
    "print(ratings_df.iloc[::500000, :])"
   ]
  },
  {
   "cell_type": "code",
   "execution_count": 24,
   "metadata": {},
   "outputs": [
    {
     "data": {
      "text/html": [
       "<div>\n",
       "<style scoped>\n",
       "    .dataframe tbody tr th:only-of-type {\n",
       "        vertical-align: middle;\n",
       "    }\n",
       "\n",
       "    .dataframe tbody tr th {\n",
       "        vertical-align: top;\n",
       "    }\n",
       "\n",
       "    .dataframe thead th {\n",
       "        text-align: right;\n",
       "    }\n",
       "</style>\n",
       "<table border=\"1\" class=\"dataframe\">\n",
       "  <thead>\n",
       "    <tr style=\"text-align: right;\">\n",
       "      <th></th>\n",
       "      <th>title</th>\n",
       "    </tr>\n",
       "    <tr>\n",
       "      <th>movieId</th>\n",
       "      <th></th>\n",
       "    </tr>\n",
       "  </thead>\n",
       "  <tbody>\n",
       "    <tr>\n",
       "      <th>18</th>\n",
       "      <td>Four Rooms</td>\n",
       "    </tr>\n",
       "    <tr>\n",
       "      <th>260</th>\n",
       "      <td>Star Wars</td>\n",
       "    </tr>\n",
       "    <tr>\n",
       "      <th>6377</th>\n",
       "      <td>Finding Nemo</td>\n",
       "    </tr>\n",
       "    <tr>\n",
       "      <th>356</th>\n",
       "      <td>Forrest Gump</td>\n",
       "    </tr>\n",
       "    <tr>\n",
       "      <th>2858</th>\n",
       "      <td>American Beauty</td>\n",
       "    </tr>\n",
       "  </tbody>\n",
       "</table>\n",
       "</div>"
      ],
      "text/plain": [
       "                   title\n",
       "movieId                 \n",
       "18            Four Rooms\n",
       "260            Star Wars\n",
       "6377        Finding Nemo\n",
       "356         Forrest Gump\n",
       "2858     American Beauty"
      ]
     },
     "execution_count": 24,
     "metadata": {},
     "output_type": "execute_result"
    }
   ],
   "source": [
    "movieId_list.head()"
   ]
  },
  {
   "cell_type": "markdown",
   "metadata": {},
   "source": [
    "# userId = 231이 과거에 평점 5점을 준 영화들"
   ]
  },
  {
   "cell_type": "code",
   "execution_count": 25,
   "metadata": {},
   "outputs": [
    {
     "data": {
      "text/plain": [
       "movieId\n",
       "110                                             Braveheart\n",
       "260                                              Star Wars\n",
       "318                               The Shawshank Redemption\n",
       "527                                       Schindler's List\n",
       "1196                               The Empire Strikes Back\n",
       "1198                               Raiders of the Lost Ark\n",
       "1259                                           Stand by Me\n",
       "2028                                   Saving Private Ryan\n",
       "3578                                             Gladiator\n",
       "4993     The Lord of the Rings: The Fellowship of the Ring\n",
       "33166                                                Crash\n",
       "60684                                             Watchmen\n",
       "Name: title, dtype: object"
      ]
     },
     "execution_count": 25,
     "metadata": {},
     "output_type": "execute_result"
    }
   ],
   "source": [
    "df_1 = ratings_df[(ratings_df['userId'] == 231) & (ratings_df['rating'] == 5)]\n",
    "df_1 = df_1.set_index('movieId')\n",
    "df_1 = df_1.join(movieId_list)['title']\n",
    "df_1"
   ]
  },
  {
   "cell_type": "markdown",
   "metadata": {},
   "source": [
    "## ratings dataframe을 이용하여 trainset 생성"
   ]
  },
  {
   "cell_type": "code",
   "execution_count": 26,
   "metadata": {},
   "outputs": [],
   "source": [
    "reader = Reader()\n",
    "svd = SVD()\n",
    "\n",
    "result = movieId_list.copy()\n",
    "result = result.reset_index()\n",
    "result = result[~result['movieId'].isin(drop_movie_list)]\n",
    "\n",
    "# getting full dataset\n",
    "data_set = Dataset.load_from_df(ratings_df[['userId', 'movieId', 'rating']], reader)\n",
    "\n",
    "train_data_set = data_set.build_full_trainset()\n",
    "#trainset, testset = train_test_split(data_set, test_size=.25)"
   ]
  },
  {
   "cell_type": "markdown",
   "metadata": {},
   "source": [
    "## 모델 학습"
   ]
  },
  {
   "cell_type": "code",
   "execution_count": 27,
   "metadata": {},
   "outputs": [
    {
     "name": "stdout",
     "output_type": "stream",
     "text": [
      "Wall time: 4min 27s\n"
     ]
    },
    {
     "data": {
      "text/plain": [
       "<surprise.prediction_algorithms.matrix_factorization.SVD at 0x1f2a57ed0f0>"
      ]
     },
     "execution_count": 27,
     "metadata": {},
     "output_type": "execute_result"
    }
   ],
   "source": [
    "#model.fit(X_train, y_train).score(X_train, y_train)\n",
    "%time svd.fit(train_data_set)"
   ]
  },
  {
   "cell_type": "markdown",
   "metadata": {},
   "source": [
    "## 예측 리스트에서 유저가 이미 본 영화에 대한 정보를 제거한 뒤 평점 예측 결과를 출력"
   ]
  },
  {
   "cell_type": "code",
   "execution_count": 28,
   "metadata": {},
   "outputs": [],
   "source": [
    "def user_rating_prediction(userId, result):\n",
    "    rating_prediction = result\n",
    "    #print(\"length of result : \", len(result['movieId']))\n",
    "    rating_prediction['Estimate_Score'] = rating_prediction['movieId'].apply(lambda x : svd.predict(userId, x).est)\n",
    "    user_already_seen = ratings_df[ratings_df['userId'] == userId]\n",
    "    user_already_seen = user_already_seen.set_index('movieId')\n",
    "    user_already_seen = user_already_seen.join(movieId_list)['title']\n",
    "    new_to_user = rating_prediction[~rating_prediction['title'].isin(user_already_seen.values)]\n",
    "    new_to_user = new_to_user.sort_values('Estimate_Score', ascending=False)\n",
    "    new_to_user = new_to_user.drop(columns='movieId')\n",
    "    return new_to_user.head(10)"
   ]
  },
  {
   "cell_type": "markdown",
   "metadata": {},
   "source": [
    "## movietitle에 해당하는 영화에 평점 5점을 남긴 유저의 아이디 목록을 출력"
   ]
  },
  {
   "cell_type": "code",
   "execution_count": 29,
   "metadata": {},
   "outputs": [],
   "source": [
    "def title2userlist(movietitle):\n",
    "    movie_id = movieId_list.index[movieId_list['title'] == movietitle].tolist()[0]\n",
    "    user_id_list = ratings_df[ratings_df['movieId'] == movie_id][ratings_df['rating'] == 5.0]['userId'].values\n",
    "    return user_id_list"
   ]
  },
  {
   "cell_type": "markdown",
   "metadata": {},
   "source": [
    "## 위에 정의된 함수들을 통해 유저 100명에 해당하는 영화의 목록을 출력"
   ]
  },
  {
   "cell_type": "code",
   "execution_count": 30,
   "metadata": {},
   "outputs": [],
   "source": [
    "def get_recommendation_by_title(movietitle, set_count=100):\n",
    "    user_id_list = title2userlist(movietitle)\n",
    "    prediction_results = list()\n",
    "    for user_id in user_id_list:\n",
    "        if len(prediction_results) == set_count:\n",
    "            break\n",
    "        temp_list = user_rating_prediction(user_id, result)['title'].values\n",
    "        if len(temp_list) == 10:\n",
    "            prediction_results.append(temp_list)\n",
    "    return prediction_results"
   ]
  },
  {
   "cell_type": "markdown",
   "metadata": {},
   "source": [
    "## Alien 영화를 좋아하는 유저 100명이 좋아할 만한 영화의 목록을 출력"
   ]
  },
  {
   "cell_type": "code",
   "execution_count": 31,
   "metadata": {},
   "outputs": [
    {
     "name": "stderr",
     "output_type": "stream",
     "text": [
      "C:\\Users\\PSY\\Anaconda3\\lib\\site-packages\\ipykernel_launcher.py:3: UserWarning: Boolean Series key will be reindexed to match DataFrame index.\n",
      "  This is separate from the ipykernel package so we can avoid doing imports until\n"
     ]
    },
    {
     "data": {
      "text/plain": [
       "[array(['The Princess Bride', 'The Dark Knight', 'Braveheart',\n",
       "        \"National Lampoon's Vacation\", 'Guardians of the Galaxy',\n",
       "        'Toy Story 3', 'How to Train Your Dragon', 'Iron Man',\n",
       "        'Batman Begins', 'Up'], dtype=object),\n",
       " array(['Seven Samurai', 'The Lives of Others', 'Spirited Away',\n",
       "        'Being John Malkovich', 'Eternal Sunshine of the Spotless Mind',\n",
       "        'Lawrence of Arabia', 'Das Boot', 'No Country for Old Men',\n",
       "        'The Usual Suspects', 'City of God'], dtype=object),\n",
       " array(['Psycho', '12 Angry Men', 'City of God', 'Interstellar',\n",
       "        'Saving Private Ryan', 'There Will Be Blood',\n",
       "        \"National Lampoon's Vacation\", 'The Lives of Others', 'Ex Machina',\n",
       "        'Mad Max: Fury Road'], dtype=object),\n",
       " array(['The Lord of the Rings: The Fellowship of the Ring', 'Casablanca',\n",
       "        'The Lord of the Rings: The Return of the King',\n",
       "        'The Lord of the Rings: The Two Towers', 'Seven Samurai',\n",
       "        'Spirited Away', 'The Lives of Others',\n",
       "        'The Good, the Bad and the Ugly', 'Downfall', 'Doctor Zhivago'],\n",
       "       dtype=object),\n",
       " array(['The Godfather: Part II', 'Whiplash',\n",
       "        'Once Upon a Time in the West', 'The Wolf of Wall Street',\n",
       "        'Raging Bull', 'Das Boot', 'Before Sunrise',\n",
       "        'Night of the Living Dead',\n",
       "        'Borat: Cultural Learnings of America for Make Benefit Glorious Nation of Kazakhstan',\n",
       "        'The Lives of Others'], dtype=object),\n",
       " array(['No Country for Old Men', 'The Godfather', 'Mad Max: Fury Road',\n",
       "        'The Godfather: Part II', 'Terminator 2: Judgment Day',\n",
       "        'Taxi Driver', 'There Will Be Blood', 'Annie Hall',\n",
       "        \"One Flew Over the Cuckoo's Nest\", 'Die Hard'], dtype=object),\n",
       " array(['The Lives of Others', 'Hero', 'Snatch', 'Brazil', 'Seven Samurai',\n",
       "        '12 Angry Men',\n",
       "        'Dr. Strangelove or: How I Learned to Stop Worrying and Love the Bomb',\n",
       "        'Black Swan', \"One Flew Over the Cuckoo's Nest\", 'Inside Out'],\n",
       "       dtype=object),\n",
       " array(['Fantastic Mr. Fox', 'Network', 'Before Sunrise', 'Whiplash',\n",
       "        'The Lives of Others', 'Dangerous Liaisons', 'Midnight in Paris',\n",
       "        'Downfall', 'The Untouchables', 'The Apartment'], dtype=object),\n",
       " array(['The Dark Knight', 'Casino', 'Once Upon a Time in the West',\n",
       "        'Inception', 'Django Unchained', 'Das Boot', 'Gran Torino',\n",
       "        'District 9', 'The Bourne Ultimatum', 'The Dark Knight Rises'],\n",
       "       dtype=object),\n",
       " array(['Die Hard', 'Raiders of the Lost Ark', 'Avatar',\n",
       "        'Edge of Tomorrow', 'Speed', 'Star Trek Into Darkness',\n",
       "        'The Sixth Sense', 'The Martian', 'The Fugitive',\n",
       "        \"It's a Wonderful Life\"], dtype=object),\n",
       " array(['The Godfather', 'The Godfather: Part II', 'City of God',\n",
       "        'Scarface', 'Amores perros', 'A Fistful of Dollars', 'Raging Bull',\n",
       "        'Glengarry Glen Ross', 'The Departed',\n",
       "        'Butch Cassidy and the Sundance Kid'], dtype=object),\n",
       " array(['Star Trek II: The Wrath of Khan', 'Star Trek: First Contact',\n",
       "        'Star Trek VI: The Undiscovered Country', 'Tombstone',\n",
       "        'The Princess Bride', 'Star Trek IV: The Voyage Home',\n",
       "        'Army of Darkness', 'Monty Python and the Holy Grail', 'Casino',\n",
       "        'Star Trek III: The Search for Spock'], dtype=object),\n",
       " array(['Shrek', 'Tootsie', 'Million Dollar Baby', 'Pride & Prejudice',\n",
       "        'Erin Brockovich', \"The King's Speech\", 'Inside Out',\n",
       "        'Groundhog Day', 'The Lives of Others', 'Finding Nemo'],\n",
       "       dtype=object),\n",
       " array(['The Sting', 'The Untouchables', 'A Christmas Story',\n",
       "        'The Great Escape', 'To Kill a Mockingbird', 'The Imitation Game',\n",
       "        'GoodFellas', 'From Russia with Love',\n",
       "        'The Bridge on the River Kwai',\n",
       "        'Butch Cassidy and the Sundance Kid'], dtype=object),\n",
       " array(['Interstellar', 'Whiplash', 'JFK', 'The Wolf of Wall Street',\n",
       "        'Gone Girl', \"One Flew Over the Cuckoo's Nest\",\n",
       "        'The Good, the Bad and the Ugly', '12 Angry Men', 'Deadpool',\n",
       "        'Gran Torino'], dtype=object),\n",
       " array(['Whiplash', 'The Godfather', 'Kids', 'Mulholland Drive',\n",
       "        'Taxi Driver', 'Seven Samurai', 'Once Upon a Time in the West',\n",
       "        'Brazil', 'The Thing', 'The Godfather: Part II'], dtype=object),\n",
       " array(['Lawrence of Arabia', 'Seven Samurai', 'Raging Bull',\n",
       "        'On the Waterfront', 'Do the Right Thing',\n",
       "        'The Bridge on the River Kwai', 'The Apartment',\n",
       "        'The Great Escape', 'Rebecca', 'Mr. Smith Goes to Washington'],\n",
       "       dtype=object),\n",
       " array(['The Princess Bride', 'Hot Fuzz', 'Spirited Away',\n",
       "        'Kill Bill: Vol. 1', 'Kill Bill: Vol. 2', 'Oldboy',\n",
       "        'The Grand Budapest Hotel', 'Moonrise Kingdom', 'Seven Samurai',\n",
       "        \"One Flew Over the Cuckoo's Nest\"], dtype=object),\n",
       " array([\"One Flew Over the Cuckoo's Nest\", 'American Beauty', 'JFK',\n",
       "        'Before Sunrise', 'Terminator 2: Judgment Day', 'Whiplash',\n",
       "        '12 Angry Men', 'Mystic River', 'The Untouchables', 'Unforgiven'],\n",
       "       dtype=object),\n",
       " array(['The Lord of the Rings: The Return of the King',\n",
       "        'The Lord of the Rings: The Two Towers',\n",
       "        'The Lord of the Rings: The Fellowship of the Ring', 'Star Wars',\n",
       "        'Crash', 'American History X', \"Schindler's List\",\n",
       "        'The Dark Knight', 'The Avengers', 'Deadpool'], dtype=object),\n",
       " array(['Groundhog Day', 'The Elephant Man', 'Das Boot',\n",
       "        'The Lives of Others', 'Monty Python and the Holy Grail', 'Babe',\n",
       "        'Rebecca', 'The Deer Hunter', 'Downfall', 'Inside Out'],\n",
       "       dtype=object),\n",
       " array(['Once Upon a Time in the West', \"Singin' in the Rain\", 'Ed Wood',\n",
       "        'The Incredibles', 'Inside Out', 'Mad Max: Fury Road',\n",
       "        'Toy Story 3', 'City of God', 'Metropolis', 'The Big Lebowski'],\n",
       "       dtype=object),\n",
       " array([\"Howl's Moving Castle\", 'Spirited Away', 'District 9',\n",
       "        'Princess Mononoke', 'Star Trek', 'Coraline', 'Stardust',\n",
       "        'The Dark Knight', 'Watchmen', 'Corpse Bride'], dtype=object),\n",
       " array(['Amélie', 'Downfall', 'Seven Samurai', 'Das Boot', '12 Angry Men',\n",
       "        'Spirited Away', 'Brokeback Mountain', 'Memento',\n",
       "        'Mr. Smith Goes to Washington', 'The Lives of Others'],\n",
       "       dtype=object),\n",
       " array(['Lawrence of Arabia', 'A Streetcar Named Desire', 'The Apartment',\n",
       "        'Downfall', 'Rebecca', 'Mr. Smith Goes to Washington',\n",
       "        'Requiem for a Dream', 'Shine', 'Hotel Rwanda', 'Network'],\n",
       "       dtype=object),\n",
       " array(['Inside Man', 'The Imitation Game', 'American History X',\n",
       "        'The Bourne Ultimatum', 'X-Men: First Class',\n",
       "        'X-Men: Days of Future Past', 'Serenity',\n",
       "        'The Wolf of Wall Street', 'The Departed', 'The Prestige'],\n",
       "       dtype=object),\n",
       " array(['Being John Malkovich', 'Amélie', 'Amadeus', 'The Dark Knight',\n",
       "        'City of God', 'The Great Escape', 'Rushmore',\n",
       "        'Once Upon a Time in the West', 'Roger & Me',\n",
       "        'Requiem for a Dream'], dtype=object),\n",
       " array(['Eyes Wide Shut', \"Rosemary's Baby\", 'The Thin Red Line',\n",
       "        'Once Upon a Time in the West', 'Jaws', 'Das Boot',\n",
       "        'Glengarry Glen Ross', 'Jurassic Park', 'The Insider',\n",
       "        'A Simple Plan'], dtype=object),\n",
       " array(['The Shawshank Redemption', 'Avatar', 'The Usual Suspects',\n",
       "        'The Naked Gun 2½: The Smell of Fear', '12 Angry Men',\n",
       "        'A Christmas Story', 'The Princess Bride', 'Die Hard',\n",
       "        'Inside Out', 'Requiem for a Dream'], dtype=object),\n",
       " array(['The Great Escape', '12 Angry Men', 'Deadpool',\n",
       "        'To Kill a Mockingbird', 'Mr. Smith Goes to Washington',\n",
       "        'The Martian', 'WarGames', 'Ever After: A Cinderella Story',\n",
       "        'The Blind Side', 'The Imitation Game'], dtype=object),\n",
       " array(['The Lives of Others', 'City of God', 'The Great Escape',\n",
       "        'Seven Samurai', 'Lock, Stock and Two Smoking Barrels',\n",
       "        'Mr. Smith Goes to Washington', '12 Angry Men', 'Hotel Rwanda',\n",
       "        'The Departed', 'The Sting'], dtype=object),\n",
       " array(['Oldboy', 'The Good, the Bad and the Ugly', 'American History X',\n",
       "        'The Machinist', 'Mystic River', 'Road to Perdition', 'Inside Man',\n",
       "        'The Insider', 'Brazil', '12 Angry Men'], dtype=object),\n",
       " array(['The Good, the Bad and the Ugly', 'Casino',\n",
       "        'The Godfather: Part II', 'Seven Samurai', 'Whiplash', 'Gone Girl',\n",
       "        'The Wolf of Wall Street', 'Groundhog Day', 'The Departed',\n",
       "        'Terminator 2: Judgment Day'], dtype=object),\n",
       " array(['Seven Samurai', 'The Lives of Others', 'Lawrence of Arabia',\n",
       "        'WALL·E', 'The Apartment', 'Eternal Sunshine of the Spotless Mind',\n",
       "        '12 Angry Men', 'Fantastic Mr. Fox', 'City of God',\n",
       "        'The Grand Budapest Hotel'], dtype=object),\n",
       " array(['The Thin Red Line', 'Seven Samurai', 'Rushmore',\n",
       "        'Princess Mononoke', 'Spirited Away', 'The Thing',\n",
       "        'Night of the Living Dead', 'Unforgiven', 'Punch-Drunk Love',\n",
       "        \"Rosemary's Baby\"], dtype=object),\n",
       " array(['To Kill a Mockingbird', 'Network', 'Once Upon a Time in the West',\n",
       "        'The Insider', 'Moonrise Kingdom', 'Oldboy',\n",
       "        'The Last King of Scotland', 'Malcolm X', '21 Grams', 'Hamlet'],\n",
       "       dtype=object),\n",
       " array(['Tangled', 'Inside Out', 'Remember the Titans', 'The Great Escape',\n",
       "        \"Schindler's List\", 'Hitch', 'The Notebook', 'City of Angels',\n",
       "        'Clueless', 'A Christmas Story'], dtype=object),\n",
       " array(['The Pianist', 'Downfall', 'The Elephant Man', 'Hotel Rwanda',\n",
       "        'Dances with Wolves', 'Cinderella Man', 'There Will Be Blood',\n",
       "        'Reservoir Dogs', 'Munich', 'The Departed'], dtype=object),\n",
       " array(['Inception', 'Deadpool', 'The Lives of Others', 'Django Unchained',\n",
       "        'Inglourious Basterds', 'The Grand Budapest Hotel', 'The Avengers',\n",
       "        'GoodFellas', 'The Martian', 'Once Upon a Time in the West'],\n",
       "       dtype=object),\n",
       " array(['Once Upon a Time in the West', 'Donnie Darko', 'Event Horizon',\n",
       "        '12 Angry Men', 'Unforgiven', 'True Romance', 'City of God',\n",
       "        'Akira', 'Requiem for a Dream', 'Platoon'], dtype=object),\n",
       " array(['Memento', 'The Departed', 'No Country for Old Men',\n",
       "        'There Will Be Blood', 'Eternal Sunshine of the Spotless Mind',\n",
       "        'American History X', 'Mystic River', 'City of God',\n",
       "        'The Social Network', 'The Dark Knight'], dtype=object),\n",
       " array(['Eternal Sunshine of the Spotless Mind', 'Kill Bill: Vol. 1',\n",
       "        'Oldboy', 'The Grand Budapest Hotel', 'Sin City',\n",
       "        'Kill Bill: Vol. 2', 'Birdman', 'In Bruges', 'Seven Samurai',\n",
       "        'Black Swan'], dtype=object),\n",
       " array(['There Will Be Blood', 'Seven Samurai',\n",
       "        'Once Upon a Time in the West', 'Whiplash', 'Moonrise Kingdom',\n",
       "        'Black Swan', 'The Good, the Bad and the Ugly',\n",
       "        'Lawrence of Arabia', 'Network', 'The Ice Storm'], dtype=object),\n",
       " array(['The Hobbit: An Unexpected Journey',\n",
       "        'The Hobbit: The Desolation of Smaug', 'Interstellar',\n",
       "        'X-Men: Days of Future Past', 'Rise of the Planet of the Apes',\n",
       "        'X-Men: First Class', 'Thor', 'Conan the Barbarian',\n",
       "        'Indiana Jones and the Temple of Doom', 'Edge of Tomorrow'],\n",
       "       dtype=object),\n",
       " array(['Into the Wild', 'The Lives of Others', 'The Grand Budapest Hotel',\n",
       "        '12 Angry Men', 'Eternal Sunshine of the Spotless Mind',\n",
       "        'Sling Blade', 'Lock, Stock and Two Smoking Barrels',\n",
       "        'The Wrestler', 'Fantastic Mr. Fox', 'Gran Torino'], dtype=object),\n",
       " array(['Once Upon a Time in the West', '12 Angry Men', 'City of God',\n",
       "        'Oldboy', 'The Big Lebowski', 'No Country for Old Men',\n",
       "        \"Rosemary's Baby\", 'The Lives of Others', 'Das Boot',\n",
       "        'The Apartment'], dtype=object),\n",
       " array(['Seven Samurai', 'Die Hard', '12 Angry Men', 'Das Boot',\n",
       "        'The Usual Suspects', 'Groundhog Day', 'The Great Escape',\n",
       "        'The Sting', \"One Flew Over the Cuckoo's Nest\",\n",
       "        'The Bridge on the River Kwai'], dtype=object),\n",
       " array(['The Godfather', 'The Godfather: Part II',\n",
       "        \"One Flew Over the Cuckoo's Nest\", 'Seven Samurai',\n",
       "        'Monty Python and the Holy Grail', 'The Shining',\n",
       "        'The Good, the Bad and the Ugly', 'Das Boot', 'Fight Club',\n",
       "        'Amadeus'], dtype=object),\n",
       " array(['Memento', 'Deadpool', 'The Sting', 'Ex Machina',\n",
       "        'The Lives of Others', 'Edge of Tomorrow', 'Trainspotting',\n",
       "        \"One Flew Over the Cuckoo's Nest\", 'Casablanca',\n",
       "        'Eternal Sunshine of the Spotless Mind'], dtype=object),\n",
       " array(['Hot Fuzz', 'Deadpool', \"Pan's Labyrinth\", 'Zombieland',\n",
       "        'Little Miss Sunshine', 'Serenity', 'In Bruges',\n",
       "        'The Lives of Others', 'Sling Blade', 'Juno'], dtype=object),\n",
       " array(['Dr. Strangelove or: How I Learned to Stop Worrying and Love the Bomb',\n",
       "        'Psycho', 'The Lord of the Rings: The Fellowship of the Ring',\n",
       "        'Rebecca', 'No Country for Old Men', 'Lawrence of Arabia', 'Jaws',\n",
       "        'Run Lola Run', 'Spirited Away', 'Memento'], dtype=object),\n",
       " array(['Groundhog Day', 'The Good, the Bad and the Ugly',\n",
       "        'Raiders of the Lost Ark', 'Airplane!', 'Die Hard',\n",
       "        \"National Lampoon's Vacation\", 'A Christmas Story',\n",
       "        'The Shawshank Redemption', \"It's a Wonderful Life\",\n",
       "        'The Princess Bride'], dtype=object),\n",
       " array(['Casablanca', 'Avatar', 'The Lives of Others',\n",
       "        'Once Upon a Time in the West', 'Lawrence of Arabia', 'Amélie',\n",
       "        'Star Wars', 'Rebecca', 'City of God', 'The Empire Strikes Back'],\n",
       "       dtype=object),\n",
       " array(['The Lives of Others', 'Seven Samurai', 'Black Swan', 'Whiplash',\n",
       "        'The Grand Budapest Hotel', 'Toy Story 3', 'Moonrise Kingdom',\n",
       "        'Up', 'Memento', 'Inside Out'], dtype=object),\n",
       " array(['The Wizard of Oz', \"It's a Wonderful Life\",\n",
       "        'The NeverEnding Story', 'Ever After: A Cinderella Story',\n",
       "        'Serial Mom', 'Mr. Smith Goes to Washington', 'A Room with a View',\n",
       "        'WarGames', 'Pinocchio', 'Heavenly Creatures'], dtype=object),\n",
       " array(['The Lives of Others', 'Children of Men', 'Shaun of the Dead',\n",
       "        'City of God', 'Unforgiven', 'Serenity', 'Repo Man', 'The Sting',\n",
       "        'High Noon', 'Downfall'], dtype=object),\n",
       " array(['No Country for Old Men', 'Fantastic Mr. Fox',\n",
       "        'There Will Be Blood', 'City of God', 'The Grand Budapest Hotel',\n",
       "        'To Kill a Mockingbird', 'Seven Samurai', 'Up',\n",
       "        'The Lives of Others', 'Whiplash'], dtype=object),\n",
       " array(['No Country for Old Men',\n",
       "        'The Lord of the Rings: The Return of the King', 'City of God',\n",
       "        'Lost in Translation', 'Once Upon a Time in the West',\n",
       "        'There Will Be Blood', 'Eternal Sunshine of the Spotless Mind',\n",
       "        'Oldboy', 'The Lives of Others', 'Downfall'], dtype=object),\n",
       " array(['2001: A Space Odyssey', 'Seven Samurai', 'Mad Max: Fury Road',\n",
       "        'The Godfather', 'The Good, the Bad and the Ugly',\n",
       "        'Once Upon a Time in the West', 'Inside Out', '12 Angry Men',\n",
       "        'Whiplash', 'Her'], dtype=object),\n",
       " array(['Brokeback Mountain', 'Toy Story 3', 'Mad Max: Fury Road',\n",
       "        'Toy Story 2', 'Rebecca', 'Snow White and the Seven Dwarfs',\n",
       "        'A Christmas Story', 'Whiplash', 'Mr. Smith Goes to Washington',\n",
       "        'Up'], dtype=object),\n",
       " array([\"One Flew Over the Cuckoo's Nest\", 'City of God',\n",
       "        'The Godfather: Part II', 'American History X', '12 Angry Men',\n",
       "        'Dr. Strangelove or: How I Learned to Stop Worrying and Love the Bomb',\n",
       "        'Once Upon a Time in the West', 'The Good, the Bad and the Ugly',\n",
       "        'Apocalypse Now', 'Amadeus'], dtype=object),\n",
       " array(['Malcolm X', 'Bullets Over Broadway', 'About Schmidt',\n",
       "        'Wonder Boys', 'The 40 Year Old Virgin', 'The Muppet Movie',\n",
       "        'Chasing Amy', 'Captain America: The Winter Soldier',\n",
       "        'Wag the Dog', \"Boys Don't Cry\"], dtype=object),\n",
       " array(['The Dark Knight', 'The Lord of the Rings: The Return of the King',\n",
       "        'The Lord of the Rings: The Fellowship of the Ring',\n",
       "        'The Lord of the Rings: The Two Towers', 'American History X',\n",
       "        'The Departed', 'Million Dollar Baby', 'American Beauty',\n",
       "        'Inception', 'City of God'], dtype=object),\n",
       " array(['The Lord of the Rings: The Return of the King', 'The Incredibles',\n",
       "        'The Lord of the Rings: The Fellowship of the Ring', 'Star Trek',\n",
       "        'The Lord of the Rings: The Two Towers',\n",
       "        'Star Wars: Episode III - Revenge of the Sith', 'Shrek',\n",
       "        'Star Trek Into Darkness',\n",
       "        'Pirates of the Caribbean: The Curse of the Black Pearl',\n",
       "        'Finding Nemo'], dtype=object),\n",
       " array(['Lawrence of Arabia', 'Downfall', 'The Bourne Ultimatum',\n",
       "        'The Lives of Others', 'High Noon',\n",
       "        'The Lord of the Rings: The Return of the King', 'Goldfinger',\n",
       "        'Glory', 'On the Waterfront',\n",
       "        'The Lord of the Rings: The Fellowship of the Ring'], dtype=object),\n",
       " array(['Her', 'The Grand Budapest Hotel', 'Mad Max: Fury Road',\n",
       "        'Interstellar', 'Whiplash', 'Ex Machina', 'The Thin Red Line',\n",
       "        'Birdman', 'Network', '12 Angry Men'], dtype=object),\n",
       " array(['Guardians of the Galaxy', 'Batman Begins', 'The Dark Knight',\n",
       "        'The Incredibles', 'Iron Man', 'The Avengers', 'Deadpool',\n",
       "        'The Usual Suspects', 'Inception', 'Serenity'], dtype=object),\n",
       " array([\"One Flew Over the Cuckoo's Nest\", 'Downfall', 'Scarface',\n",
       "        'No Country for Old Men', 'The Evil Dead', 'City of God',\n",
       "        'The Lives of Others', 'Metropolis', 'Gran Torino', 'Mystic River'],\n",
       "       dtype=object),\n",
       " array([\"One Flew Over the Cuckoo's Nest\", 'Once Upon a Time in the West',\n",
       "        'Spirited Away', 'Princess Mononoke', 'Scarface',\n",
       "        'The Lives of Others', \"Howl's Moving Castle\",\n",
       "        'The Shawshank Redemption', 'Oldboy', 'WALL·E'], dtype=object),\n",
       " array(['The Dark Knight', 'Trainspotting', 'District 9',\n",
       "        'Guardians of the Galaxy', 'Deadpool', 'Zombieland',\n",
       "        'Mad Max: Fury Road', 'Lost in Translation', 'Whiplash',\n",
       "        'Ex Machina'], dtype=object),\n",
       " array(['12 Angry Men', 'Once Upon a Time in the West',\n",
       "        'The Good, the Bad and the Ugly', 'The Godfather: Part II',\n",
       "        'Dr. Strangelove or: How I Learned to Stop Worrying and Love the Bomb',\n",
       "        'Whiplash', 'The Wolf of Wall Street', 'The Big Lebowski',\n",
       "        'Glengarry Glen Ross', 'Seven Samurai'], dtype=object),\n",
       " array(['The Godfather: Part II', 'L.A. Confidential',\n",
       "        'The Lives of Others', 'Seven Samurai', 'Network',\n",
       "        'The Good, the Bad and the Ugly', 'Das Boot', 'On the Waterfront',\n",
       "        'Annie Hall', 'Unforgiven'], dtype=object),\n",
       " array(['Drive', 'The Great Escape', 'Amores perros',\n",
       "        'Glengarry Glen Ross', 'To Kill a Mockingbird', 'The Sting',\n",
       "        'Before Sunrise', 'Rebecca', 'Inside Out', 'In Bruges'],\n",
       "       dtype=object),\n",
       " array([\"It's a Wonderful Life\", 'The Lion King',\n",
       "        'The Good, the Bad and the Ugly', 'The Bridge on the River Kwai',\n",
       "        'Toy Story 3', 'Glory', 'The Great Escape',\n",
       "        \"One Flew Over the Cuckoo's Nest\", 'A Few Good Men',\n",
       "        'To Kill a Mockingbird'], dtype=object),\n",
       " array(['Grease', 'Caddyshack', 'Mad Max 2: The Road Warrior',\n",
       "        'Fast Times at Ridgemont High', 'The Usual Suspects',\n",
       "        \"National Lampoon's Vacation\", 'Pride & Prejudice', 'Mad Max',\n",
       "        'Guardians of the Galaxy', 'The Imitation Game'], dtype=object),\n",
       " array(['Lost in Translation', 'Mulholland Drive', 'Being John Malkovich',\n",
       "        'Eternal Sunshine of the Spotless Mind',\n",
       "        'Once Upon a Time in the West', 'Spirited Away', 'City of God',\n",
       "        'Amélie', 'Memento', 'Do the Right Thing'], dtype=object),\n",
       " array(['First Blood', 'The Rock', 'Rocky', 'Raiders of the Lost Ark',\n",
       "        'The Bourne Ultimatum', 'The Untouchables', 'Scarface',\n",
       "        'Pulp Fiction', 'The Dark Knight', 'Goldfinger'], dtype=object),\n",
       " array(['Toy Story 3', '12 Angry Men', 'Spider-Man 2', 'Raging Bull',\n",
       "        'The Lord of the Rings: The Return of the King', 'The Dark Knight',\n",
       "        'The Incredibles', 'The Lives of Others', 'Finding Nemo',\n",
       "        'Seven Samurai'], dtype=object),\n",
       " array(['Star Trek', 'Avatar', 'Inception', 'Seven Samurai',\n",
       "        \"The King's Speech\", 'The Lives of Others', 'The Usual Suspects',\n",
       "        'Hotel Rwanda', 'Crash', 'Star Trek Into Darkness'], dtype=object),\n",
       " array(['Fight Club', 'The Lord of the Rings: The Return of the King',\n",
       "        'The Lord of the Rings: The Two Towers', '300',\n",
       "        'Kill Bill: Vol. 1', 'The Dark Knight', 'Kill Bill: Vol. 2',\n",
       "        'The Departed', 'The Hangover', 'Casino Royale'], dtype=object),\n",
       " array(['Dr. Strangelove or: How I Learned to Stop Worrying and Love the Bomb',\n",
       "        '12 Angry Men', 'City of God', 'Once Upon a Time in the West',\n",
       "        'Do the Right Thing', 'There Will Be Blood',\n",
       "        'Bullets Over Broadway', 'The Hudsucker Proxy', 'Metropolis',\n",
       "        'The Elephant Man'], dtype=object),\n",
       " array(['Akira',\n",
       "        'Dr. Strangelove or: How I Learned to Stop Worrying and Love the Bomb',\n",
       "        'The Wizard of Oz', \"Rosemary's Baby\",\n",
       "        'South Park: Bigger, Longer & Uncut', 'City of God',\n",
       "        'Do the Right Thing', 'The Great Escape', '12 Angry Men',\n",
       "        'Airplane!'], dtype=object),\n",
       " array([\"Pan's Labyrinth\", 'Mad Max: Fury Road', 'Avatar',\n",
       "        'Slumdog Millionaire', 'Gran Torino', \"Schindler's List\",\n",
       "        'Bowling for Columbine', 'District 9', 'Million Dollar Baby',\n",
       "        'Downfall'], dtype=object),\n",
       " array(['The Godfather: Part II', 'Casablanca', 'Juno',\n",
       "        'The Lord of the Rings: The Return of the King', 'Finding Nemo',\n",
       "        'Brokeback Mountain', 'Apocalypse Now', \"Pan's Labyrinth\",\n",
       "        \"It's a Wonderful Life\", 'City of God'], dtype=object),\n",
       " array(['Mad Max 2: The Road Warrior', 'Mulholland Drive', 'The Thing',\n",
       "        '2001: A Space Odyssey', 'Brazil', 'Mad Max: Fury Road',\n",
       "        'The Omen', 'Mad Max', 'Akira', 'No Country for Old Men'],\n",
       "       dtype=object),\n",
       " array(['Seven Samurai', '12 Angry Men', 'The Lives of Others',\n",
       "        'The Princess Bride', 'Casablanca', 'Run Lola Run',\n",
       "        'No Country for Old Men', 'To Kill a Mockingbird',\n",
       "        'The Elephant Man', 'Unforgiven'], dtype=object),\n",
       " array(['Repo Man', 'Tank Girl', 'Monty Python and the Holy Grail',\n",
       "        'Get Shorty', 'Groundhog Day', 'Run Lola Run', 'Highlander',\n",
       "        'Trading Places', 'Witness', 'The Full Monty'], dtype=object),\n",
       " array(['Star Wars', 'The Great Escape',\n",
       "        'Pirates of the Caribbean: The Curse of the Black Pearl',\n",
       "        'The Lord of the Rings: The Return of the King', 'Snatch',\n",
       "        'Million Dollar Baby', 'The Imitation Game',\n",
       "        'Lock, Stock and Two Smoking Barrels', '12 Angry Men',\n",
       "        \"The King's Speech\"], dtype=object),\n",
       " array(['The Silence of the Lambs', 'Das Boot',\n",
       "        'The Bridge on the River Kwai', '2001: A Space Odyssey',\n",
       "        'The Shining', 'The Lives of Others', 'The Iron Giant', 'Network',\n",
       "        'Goldfinger', 'Annie Hall'], dtype=object),\n",
       " array(['There Will Be Blood', 'Hoop Dreams',\n",
       "        'The Good, the Bad and the Ugly', 'Roger & Me',\n",
       "        'The Grand Budapest Hotel', 'Moonrise Kingdom', 'Skyfall',\n",
       "        'Unforgiven', 'Mad Max: Fury Road', 'The Ice Storm'], dtype=object),\n",
       " array(['Sin City', \"Howl's Moving Castle\", 'Oldboy',\n",
       "        'The Shawshank Redemption', 'Brazil', 'Mad Max: Fury Road',\n",
       "        'Corpse Bride', 'The Grand Budapest Hotel', 'Donnie Darko',\n",
       "        'WALL·E'], dtype=object),\n",
       " array(['12 Angry Men',\n",
       "        'Dr. Strangelove or: How I Learned to Stop Worrying and Love the Bomb',\n",
       "        'Seven Samurai', 'Whiplash', 'Memento', 'The Lives of Others',\n",
       "        'Glengarry Glen Ross', '2001: A Space Odyssey', 'Moon',\n",
       "        'The Grand Budapest Hotel'], dtype=object),\n",
       " array(['Edge of Tomorrow', 'Star Trek', 'Star Trek II: The Wrath of Khan',\n",
       "        'Seven Samurai', '12 Angry Men', 'The Silence of the Lambs',\n",
       "        'The Godfather', 'The Usual Suspects',\n",
       "        'Star Trek IV: The Voyage Home', 'The Exorcist'], dtype=object),\n",
       " array(['Raiders of the Lost Ark', 'Edge of Tomorrow',\n",
       "        'The Silence of the Lambs', \"National Lampoon's Vacation\",\n",
       "        'Whiplash', 'The Hobbit: An Unexpected Journey', 'Interstellar',\n",
       "        'The Hobbit: The Desolation of Smaug', 'Star Trek',\n",
       "        'Starship Troopers'], dtype=object),\n",
       " array(['Once Upon a Time in the West', 'The Shawshank Redemption',\n",
       "        'Pulp Fiction', 'The Usual Suspects', 'Die Hard',\n",
       "        'Princess Mononoke', 'Casino', 'The Untouchables',\n",
       "        'L.A. Confidential', '12 Angry Men'], dtype=object),\n",
       " array(['Aliens', 'Pulp Fiction', '2001: A Space Odyssey',\n",
       "        'Terminator 2: Judgment Day', 'The Terminator',\n",
       "        'The Lives of Others', 'Return of the Jedi', 'Taxi Driver',\n",
       "        'The Good, the Bad and the Ugly', 'Annie Hall'], dtype=object),\n",
       " array([\"The King's Speech\", 'Hotel Rwanda', 'Finding Neverland',\n",
       "        'The Imitation Game', 'The Lives of Others', 'The Usual Suspects',\n",
       "        'Memento', 'Inception',\n",
       "        'The Lord of the Rings: The Return of the King',\n",
       "        'Mr. Smith Goes to Washington'], dtype=object),\n",
       " array(['Mad Max: Fury Road', 'Princess Mononoke', \"Howl's Moving Castle\",\n",
       "        'Hot Fuzz', 'Fear and Loathing in Las Vegas', 'Deadpool',\n",
       "        \"Pan's Labyrinth\", 'Children of Men', 'The Princess Bride',\n",
       "        'The Boondock Saints'], dtype=object),\n",
       " array(['The Shawshank Redemption', 'The Dark Knight',\n",
       "        'The Usual Suspects', 'GoodFellas', 'Whiplash', 'Casino',\n",
       "        'Edge of Tomorrow', 'Memento', '12 Angry Men', 'Office Space'],\n",
       "       dtype=object),\n",
       " array([\"Schindler's List\", 'To Kill a Mockingbird', 'The Lives of Others',\n",
       "        'The Godfather', 'Hotel Rwanda', 'Mr. Smith Goes to Washington',\n",
       "        'The Pianist', 'Amélie', 'Juno', 'Crash'], dtype=object)]"
      ]
     },
     "execution_count": 31,
     "metadata": {},
     "output_type": "execute_result"
    }
   ],
   "source": [
    "final_result = get_recommendation_by_title('Alien')\n",
    "final_result"
   ]
  },
  {
   "cell_type": "code",
   "execution_count": null,
   "metadata": {},
   "outputs": [],
   "source": []
  }
 ],
 "metadata": {
  "kernelspec": {
   "display_name": "Python 3",
   "language": "python",
   "name": "python3"
  },
  "language_info": {
   "codemirror_mode": {
    "name": "ipython",
    "version": 3
   },
   "file_extension": ".py",
   "mimetype": "text/x-python",
   "name": "python",
   "nbconvert_exporter": "python",
   "pygments_lexer": "ipython3",
   "version": "3.6.5"
  }
 },
 "nbformat": 4,
 "nbformat_minor": 2
}
