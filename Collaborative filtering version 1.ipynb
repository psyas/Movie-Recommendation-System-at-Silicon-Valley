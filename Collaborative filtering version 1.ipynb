{
 "cells": [
  {
   "cell_type": "markdown",
   "metadata": {},
   "source": [
    "# Collaborative filtering"
   ]
  },
  {
   "cell_type": "markdown",
   "metadata": {},
   "source": [
    "## import libraries"
   ]
  },
  {
   "cell_type": "code",
   "execution_count": 1,
   "metadata": {},
   "outputs": [],
   "source": [
    "# Collaborative filteringimport pandas as pd\n",
    "import pandas as pd\n",
    "import numpy as np\n",
    "import math\n",
    "import re\n",
    "from scipy.sparse import csr_matrix\n",
    "import matplotlib.pyplot as plt\n",
    "import seaborn as sns\n",
    "from surprise import Reader, Dataset, SVD, accuracy\n",
    "from surprise.model_selection import cross_validate"
   ]
  },
  {
   "cell_type": "markdown",
   "metadata": {},
   "source": [
    "## import files"
   ]
  },
  {
   "cell_type": "code",
   "execution_count": 2,
   "metadata": {},
   "outputs": [],
   "source": [
    "input_path = 'Downloads/input/'"
   ]
  },
  {
   "cell_type": "code",
   "execution_count": 3,
   "metadata": {},
   "outputs": [],
   "source": [
    "ratings_df = pd.read_csv(input_path + 'ratings.csv')\n",
    "ratings_df = ratings_df.drop(columns = 'timestamp')"
   ]
  },
  {
   "cell_type": "code",
   "execution_count": 4,
   "metadata": {},
   "outputs": [
    {
     "name": "stdout",
     "output_type": "stream",
     "text": [
      "(26024289, 3)\n"
     ]
    },
    {
     "data": {
      "text/html": [
       "<div>\n",
       "<style scoped>\n",
       "    .dataframe tbody tr th:only-of-type {\n",
       "        vertical-align: middle;\n",
       "    }\n",
       "\n",
       "    .dataframe tbody tr th {\n",
       "        vertical-align: top;\n",
       "    }\n",
       "\n",
       "    .dataframe thead th {\n",
       "        text-align: right;\n",
       "    }\n",
       "</style>\n",
       "<table border=\"1\" class=\"dataframe\">\n",
       "  <thead>\n",
       "    <tr style=\"text-align: right;\">\n",
       "      <th></th>\n",
       "      <th>userId</th>\n",
       "      <th>movieId</th>\n",
       "      <th>rating</th>\n",
       "    </tr>\n",
       "  </thead>\n",
       "  <tbody>\n",
       "    <tr>\n",
       "      <th>0</th>\n",
       "      <td>1</td>\n",
       "      <td>110</td>\n",
       "      <td>1.0</td>\n",
       "    </tr>\n",
       "    <tr>\n",
       "      <th>1</th>\n",
       "      <td>1</td>\n",
       "      <td>147</td>\n",
       "      <td>4.5</td>\n",
       "    </tr>\n",
       "    <tr>\n",
       "      <th>2</th>\n",
       "      <td>1</td>\n",
       "      <td>858</td>\n",
       "      <td>5.0</td>\n",
       "    </tr>\n",
       "    <tr>\n",
       "      <th>3</th>\n",
       "      <td>1</td>\n",
       "      <td>1221</td>\n",
       "      <td>5.0</td>\n",
       "    </tr>\n",
       "    <tr>\n",
       "      <th>4</th>\n",
       "      <td>1</td>\n",
       "      <td>1246</td>\n",
       "      <td>5.0</td>\n",
       "    </tr>\n",
       "  </tbody>\n",
       "</table>\n",
       "</div>"
      ],
      "text/plain": [
       "   userId  movieId  rating\n",
       "0       1      110     1.0\n",
       "1       1      147     4.5\n",
       "2       1      858     5.0\n",
       "3       1     1221     5.0\n",
       "4       1     1246     5.0"
      ]
     },
     "execution_count": 4,
     "metadata": {},
     "output_type": "execute_result"
    }
   ],
   "source": [
    "print(ratings_df.shape)\n",
    "ratings_df.head()"
   ]
  },
  {
   "cell_type": "code",
   "execution_count": 5,
   "metadata": {},
   "outputs": [],
   "source": [
    "links_df = pd.read_csv(input_path + 'links.csv')\n",
    "links_df = links_df.drop(columns = 'imdbId')"
   ]
  },
  {
   "cell_type": "code",
   "execution_count": 6,
   "metadata": {},
   "outputs": [
    {
     "name": "stdout",
     "output_type": "stream",
     "text": [
      "(45843, 2)\n"
     ]
    },
    {
     "data": {
      "text/html": [
       "<div>\n",
       "<style scoped>\n",
       "    .dataframe tbody tr th:only-of-type {\n",
       "        vertical-align: middle;\n",
       "    }\n",
       "\n",
       "    .dataframe tbody tr th {\n",
       "        vertical-align: top;\n",
       "    }\n",
       "\n",
       "    .dataframe thead th {\n",
       "        text-align: right;\n",
       "    }\n",
       "</style>\n",
       "<table border=\"1\" class=\"dataframe\">\n",
       "  <thead>\n",
       "    <tr style=\"text-align: right;\">\n",
       "      <th></th>\n",
       "      <th>movieId</th>\n",
       "      <th>tmdbId</th>\n",
       "    </tr>\n",
       "  </thead>\n",
       "  <tbody>\n",
       "    <tr>\n",
       "      <th>0</th>\n",
       "      <td>1</td>\n",
       "      <td>862.0</td>\n",
       "    </tr>\n",
       "    <tr>\n",
       "      <th>1</th>\n",
       "      <td>2</td>\n",
       "      <td>8844.0</td>\n",
       "    </tr>\n",
       "    <tr>\n",
       "      <th>2</th>\n",
       "      <td>3</td>\n",
       "      <td>15602.0</td>\n",
       "    </tr>\n",
       "    <tr>\n",
       "      <th>3</th>\n",
       "      <td>4</td>\n",
       "      <td>31357.0</td>\n",
       "    </tr>\n",
       "    <tr>\n",
       "      <th>4</th>\n",
       "      <td>5</td>\n",
       "      <td>11862.0</td>\n",
       "    </tr>\n",
       "  </tbody>\n",
       "</table>\n",
       "</div>"
      ],
      "text/plain": [
       "   movieId   tmdbId\n",
       "0        1    862.0\n",
       "1        2   8844.0\n",
       "2        3  15602.0\n",
       "3        4  31357.0\n",
       "4        5  11862.0"
      ]
     },
     "execution_count": 6,
     "metadata": {},
     "output_type": "execute_result"
    }
   ],
   "source": [
    "print(links_df.shape)\n",
    "links_df.head()"
   ]
  },
  {
   "cell_type": "code",
   "execution_count": 7,
   "metadata": {},
   "outputs": [],
   "source": [
    "movies_df = pd.read_csv(input_path + 'tmdb_5000_movies.csv')\n",
    "release_date = movies_df[['id', 'release_date']]"
   ]
  },
  {
   "cell_type": "markdown",
   "metadata": {},
   "source": [
    "## collaborative filtering에 출시년도 정보를 담기 위해 release_date 데이터프레임을 추가"
   ]
  },
  {
   "cell_type": "code",
   "execution_count": 8,
   "metadata": {},
   "outputs": [
    {
     "name": "stderr",
     "output_type": "stream",
     "text": [
      "C:\\Anaconda3\\lib\\site-packages\\ipykernel_launcher.py:1: SettingWithCopyWarning: \n",
      "A value is trying to be set on a copy of a slice from a DataFrame.\n",
      "Try using .loc[row_indexer,col_indexer] = value instead\n",
      "\n",
      "See the caveats in the documentation: http://pandas.pydata.org/pandas-docs/stable/indexing.html#indexing-view-versus-copy\n",
      "  \"\"\"Entry point for launching an IPython kernel.\n"
     ]
    }
   ],
   "source": [
    "release_date['release_date'] = release_date['release_date'].apply(lambda x : str(x)[:4])\n",
    "haha = links_df.join(release_date.set_index('id'), on='tmdbId')"
   ]
  },
  {
   "cell_type": "code",
   "execution_count": 9,
   "metadata": {},
   "outputs": [
    {
     "name": "stdout",
     "output_type": "stream",
     "text": [
      "(4803, 20)\n"
     ]
    },
    {
     "data": {
      "text/html": [
       "<div>\n",
       "<style scoped>\n",
       "    .dataframe tbody tr th:only-of-type {\n",
       "        vertical-align: middle;\n",
       "    }\n",
       "\n",
       "    .dataframe tbody tr th {\n",
       "        vertical-align: top;\n",
       "    }\n",
       "\n",
       "    .dataframe thead th {\n",
       "        text-align: right;\n",
       "    }\n",
       "</style>\n",
       "<table border=\"1\" class=\"dataframe\">\n",
       "  <thead>\n",
       "    <tr style=\"text-align: right;\">\n",
       "      <th></th>\n",
       "      <th>budget</th>\n",
       "      <th>genres</th>\n",
       "      <th>homepage</th>\n",
       "      <th>id</th>\n",
       "      <th>keywords</th>\n",
       "      <th>original_language</th>\n",
       "      <th>original_title</th>\n",
       "      <th>overview</th>\n",
       "      <th>popularity</th>\n",
       "      <th>production_companies</th>\n",
       "      <th>production_countries</th>\n",
       "      <th>release_date</th>\n",
       "      <th>revenue</th>\n",
       "      <th>runtime</th>\n",
       "      <th>spoken_languages</th>\n",
       "      <th>status</th>\n",
       "      <th>tagline</th>\n",
       "      <th>title</th>\n",
       "      <th>vote_average</th>\n",
       "      <th>vote_count</th>\n",
       "    </tr>\n",
       "  </thead>\n",
       "  <tbody>\n",
       "    <tr>\n",
       "      <th>0</th>\n",
       "      <td>237000000</td>\n",
       "      <td>[{\"id\": 28, \"name\": \"Action\"}, {\"id\": 12, \"nam...</td>\n",
       "      <td>http://www.avatarmovie.com/</td>\n",
       "      <td>19995</td>\n",
       "      <td>[{\"id\": 1463, \"name\": \"culture clash\"}, {\"id\":...</td>\n",
       "      <td>en</td>\n",
       "      <td>Avatar</td>\n",
       "      <td>In the 22nd century, a paraplegic Marine is di...</td>\n",
       "      <td>150.437577</td>\n",
       "      <td>[{\"name\": \"Ingenious Film Partners\", \"id\": 289...</td>\n",
       "      <td>[{\"iso_3166_1\": \"US\", \"name\": \"United States o...</td>\n",
       "      <td>2009-12-10</td>\n",
       "      <td>2787965087</td>\n",
       "      <td>162.0</td>\n",
       "      <td>[{\"iso_639_1\": \"en\", \"name\": \"English\"}, {\"iso...</td>\n",
       "      <td>Released</td>\n",
       "      <td>Enter the World of Pandora.</td>\n",
       "      <td>Avatar</td>\n",
       "      <td>7.2</td>\n",
       "      <td>11800</td>\n",
       "    </tr>\n",
       "    <tr>\n",
       "      <th>1</th>\n",
       "      <td>300000000</td>\n",
       "      <td>[{\"id\": 12, \"name\": \"Adventure\"}, {\"id\": 14, \"...</td>\n",
       "      <td>http://disney.go.com/disneypictures/pirates/</td>\n",
       "      <td>285</td>\n",
       "      <td>[{\"id\": 270, \"name\": \"ocean\"}, {\"id\": 726, \"na...</td>\n",
       "      <td>en</td>\n",
       "      <td>Pirates of the Caribbean: At World's End</td>\n",
       "      <td>Captain Barbossa, long believed to be dead, ha...</td>\n",
       "      <td>139.082615</td>\n",
       "      <td>[{\"name\": \"Walt Disney Pictures\", \"id\": 2}, {\"...</td>\n",
       "      <td>[{\"iso_3166_1\": \"US\", \"name\": \"United States o...</td>\n",
       "      <td>2007-05-19</td>\n",
       "      <td>961000000</td>\n",
       "      <td>169.0</td>\n",
       "      <td>[{\"iso_639_1\": \"en\", \"name\": \"English\"}]</td>\n",
       "      <td>Released</td>\n",
       "      <td>At the end of the world, the adventure begins.</td>\n",
       "      <td>Pirates of the Caribbean: At World's End</td>\n",
       "      <td>6.9</td>\n",
       "      <td>4500</td>\n",
       "    </tr>\n",
       "    <tr>\n",
       "      <th>2</th>\n",
       "      <td>245000000</td>\n",
       "      <td>[{\"id\": 28, \"name\": \"Action\"}, {\"id\": 12, \"nam...</td>\n",
       "      <td>http://www.sonypictures.com/movies/spectre/</td>\n",
       "      <td>206647</td>\n",
       "      <td>[{\"id\": 470, \"name\": \"spy\"}, {\"id\": 818, \"name...</td>\n",
       "      <td>en</td>\n",
       "      <td>Spectre</td>\n",
       "      <td>A cryptic message from Bond’s past sends him o...</td>\n",
       "      <td>107.376788</td>\n",
       "      <td>[{\"name\": \"Columbia Pictures\", \"id\": 5}, {\"nam...</td>\n",
       "      <td>[{\"iso_3166_1\": \"GB\", \"name\": \"United Kingdom\"...</td>\n",
       "      <td>2015-10-26</td>\n",
       "      <td>880674609</td>\n",
       "      <td>148.0</td>\n",
       "      <td>[{\"iso_639_1\": \"fr\", \"name\": \"Fran\\u00e7ais\"},...</td>\n",
       "      <td>Released</td>\n",
       "      <td>A Plan No One Escapes</td>\n",
       "      <td>Spectre</td>\n",
       "      <td>6.3</td>\n",
       "      <td>4466</td>\n",
       "    </tr>\n",
       "    <tr>\n",
       "      <th>3</th>\n",
       "      <td>250000000</td>\n",
       "      <td>[{\"id\": 28, \"name\": \"Action\"}, {\"id\": 80, \"nam...</td>\n",
       "      <td>http://www.thedarkknightrises.com/</td>\n",
       "      <td>49026</td>\n",
       "      <td>[{\"id\": 849, \"name\": \"dc comics\"}, {\"id\": 853,...</td>\n",
       "      <td>en</td>\n",
       "      <td>The Dark Knight Rises</td>\n",
       "      <td>Following the death of District Attorney Harve...</td>\n",
       "      <td>112.312950</td>\n",
       "      <td>[{\"name\": \"Legendary Pictures\", \"id\": 923}, {\"...</td>\n",
       "      <td>[{\"iso_3166_1\": \"US\", \"name\": \"United States o...</td>\n",
       "      <td>2012-07-16</td>\n",
       "      <td>1084939099</td>\n",
       "      <td>165.0</td>\n",
       "      <td>[{\"iso_639_1\": \"en\", \"name\": \"English\"}]</td>\n",
       "      <td>Released</td>\n",
       "      <td>The Legend Ends</td>\n",
       "      <td>The Dark Knight Rises</td>\n",
       "      <td>7.6</td>\n",
       "      <td>9106</td>\n",
       "    </tr>\n",
       "    <tr>\n",
       "      <th>4</th>\n",
       "      <td>260000000</td>\n",
       "      <td>[{\"id\": 28, \"name\": \"Action\"}, {\"id\": 12, \"nam...</td>\n",
       "      <td>http://movies.disney.com/john-carter</td>\n",
       "      <td>49529</td>\n",
       "      <td>[{\"id\": 818, \"name\": \"based on novel\"}, {\"id\":...</td>\n",
       "      <td>en</td>\n",
       "      <td>John Carter</td>\n",
       "      <td>John Carter is a war-weary, former military ca...</td>\n",
       "      <td>43.926995</td>\n",
       "      <td>[{\"name\": \"Walt Disney Pictures\", \"id\": 2}]</td>\n",
       "      <td>[{\"iso_3166_1\": \"US\", \"name\": \"United States o...</td>\n",
       "      <td>2012-03-07</td>\n",
       "      <td>284139100</td>\n",
       "      <td>132.0</td>\n",
       "      <td>[{\"iso_639_1\": \"en\", \"name\": \"English\"}]</td>\n",
       "      <td>Released</td>\n",
       "      <td>Lost in our world, found in another.</td>\n",
       "      <td>John Carter</td>\n",
       "      <td>6.1</td>\n",
       "      <td>2124</td>\n",
       "    </tr>\n",
       "  </tbody>\n",
       "</table>\n",
       "</div>"
      ],
      "text/plain": [
       "      budget                                             genres  \\\n",
       "0  237000000  [{\"id\": 28, \"name\": \"Action\"}, {\"id\": 12, \"nam...   \n",
       "1  300000000  [{\"id\": 12, \"name\": \"Adventure\"}, {\"id\": 14, \"...   \n",
       "2  245000000  [{\"id\": 28, \"name\": \"Action\"}, {\"id\": 12, \"nam...   \n",
       "3  250000000  [{\"id\": 28, \"name\": \"Action\"}, {\"id\": 80, \"nam...   \n",
       "4  260000000  [{\"id\": 28, \"name\": \"Action\"}, {\"id\": 12, \"nam...   \n",
       "\n",
       "                                       homepage      id  \\\n",
       "0                   http://www.avatarmovie.com/   19995   \n",
       "1  http://disney.go.com/disneypictures/pirates/     285   \n",
       "2   http://www.sonypictures.com/movies/spectre/  206647   \n",
       "3            http://www.thedarkknightrises.com/   49026   \n",
       "4          http://movies.disney.com/john-carter   49529   \n",
       "\n",
       "                                            keywords original_language  \\\n",
       "0  [{\"id\": 1463, \"name\": \"culture clash\"}, {\"id\":...                en   \n",
       "1  [{\"id\": 270, \"name\": \"ocean\"}, {\"id\": 726, \"na...                en   \n",
       "2  [{\"id\": 470, \"name\": \"spy\"}, {\"id\": 818, \"name...                en   \n",
       "3  [{\"id\": 849, \"name\": \"dc comics\"}, {\"id\": 853,...                en   \n",
       "4  [{\"id\": 818, \"name\": \"based on novel\"}, {\"id\":...                en   \n",
       "\n",
       "                             original_title  \\\n",
       "0                                    Avatar   \n",
       "1  Pirates of the Caribbean: At World's End   \n",
       "2                                   Spectre   \n",
       "3                     The Dark Knight Rises   \n",
       "4                               John Carter   \n",
       "\n",
       "                                            overview  popularity  \\\n",
       "0  In the 22nd century, a paraplegic Marine is di...  150.437577   \n",
       "1  Captain Barbossa, long believed to be dead, ha...  139.082615   \n",
       "2  A cryptic message from Bond’s past sends him o...  107.376788   \n",
       "3  Following the death of District Attorney Harve...  112.312950   \n",
       "4  John Carter is a war-weary, former military ca...   43.926995   \n",
       "\n",
       "                                production_companies  \\\n",
       "0  [{\"name\": \"Ingenious Film Partners\", \"id\": 289...   \n",
       "1  [{\"name\": \"Walt Disney Pictures\", \"id\": 2}, {\"...   \n",
       "2  [{\"name\": \"Columbia Pictures\", \"id\": 5}, {\"nam...   \n",
       "3  [{\"name\": \"Legendary Pictures\", \"id\": 923}, {\"...   \n",
       "4        [{\"name\": \"Walt Disney Pictures\", \"id\": 2}]   \n",
       "\n",
       "                                production_countries release_date     revenue  \\\n",
       "0  [{\"iso_3166_1\": \"US\", \"name\": \"United States o...   2009-12-10  2787965087   \n",
       "1  [{\"iso_3166_1\": \"US\", \"name\": \"United States o...   2007-05-19   961000000   \n",
       "2  [{\"iso_3166_1\": \"GB\", \"name\": \"United Kingdom\"...   2015-10-26   880674609   \n",
       "3  [{\"iso_3166_1\": \"US\", \"name\": \"United States o...   2012-07-16  1084939099   \n",
       "4  [{\"iso_3166_1\": \"US\", \"name\": \"United States o...   2012-03-07   284139100   \n",
       "\n",
       "   runtime                                   spoken_languages    status  \\\n",
       "0    162.0  [{\"iso_639_1\": \"en\", \"name\": \"English\"}, {\"iso...  Released   \n",
       "1    169.0           [{\"iso_639_1\": \"en\", \"name\": \"English\"}]  Released   \n",
       "2    148.0  [{\"iso_639_1\": \"fr\", \"name\": \"Fran\\u00e7ais\"},...  Released   \n",
       "3    165.0           [{\"iso_639_1\": \"en\", \"name\": \"English\"}]  Released   \n",
       "4    132.0           [{\"iso_639_1\": \"en\", \"name\": \"English\"}]  Released   \n",
       "\n",
       "                                          tagline  \\\n",
       "0                     Enter the World of Pandora.   \n",
       "1  At the end of the world, the adventure begins.   \n",
       "2                           A Plan No One Escapes   \n",
       "3                                 The Legend Ends   \n",
       "4            Lost in our world, found in another.   \n",
       "\n",
       "                                      title  vote_average  vote_count  \n",
       "0                                    Avatar           7.2       11800  \n",
       "1  Pirates of the Caribbean: At World's End           6.9        4500  \n",
       "2                                   Spectre           6.3        4466  \n",
       "3                     The Dark Knight Rises           7.6        9106  \n",
       "4                               John Carter           6.1        2124  "
      ]
     },
     "execution_count": 9,
     "metadata": {},
     "output_type": "execute_result"
    }
   ],
   "source": [
    "print(movies_df.shape)\n",
    "movies_df.head()"
   ]
  },
  {
   "cell_type": "markdown",
   "metadata": {},
   "source": [
    "## TMDB 데이터셋 기반으로 영화 ID 리스트 생성"
   ]
  },
  {
   "cell_type": "code",
   "execution_count": 10,
   "metadata": {},
   "outputs": [],
   "source": [
    "movieId_list = movies_df[['id', 'title']].set_index('id').join(links_df.set_index('tmdbId')[['movieId']]).dropna()\n",
    "movieId_list['movieId'] = movieId_list['movieId'].map(int)\n",
    "movieId_list = movieId_list.set_index('movieId')"
   ]
  },
  {
   "cell_type": "code",
   "execution_count": 11,
   "metadata": {},
   "outputs": [
    {
     "data": {
      "text/plain": [
       "(4599, 1)"
      ]
     },
     "execution_count": 11,
     "metadata": {},
     "output_type": "execute_result"
    }
   ],
   "source": [
    "movieId_list.shape"
   ]
  },
  {
   "cell_type": "code",
   "execution_count": 12,
   "metadata": {},
   "outputs": [
    {
     "data": {
      "text/html": [
       "<div>\n",
       "<style scoped>\n",
       "    .dataframe tbody tr th:only-of-type {\n",
       "        vertical-align: middle;\n",
       "    }\n",
       "\n",
       "    .dataframe tbody tr th {\n",
       "        vertical-align: top;\n",
       "    }\n",
       "\n",
       "    .dataframe thead th {\n",
       "        text-align: right;\n",
       "    }\n",
       "</style>\n",
       "<table border=\"1\" class=\"dataframe\">\n",
       "  <thead>\n",
       "    <tr style=\"text-align: right;\">\n",
       "      <th></th>\n",
       "      <th>title</th>\n",
       "    </tr>\n",
       "    <tr>\n",
       "      <th>movieId</th>\n",
       "      <th></th>\n",
       "    </tr>\n",
       "  </thead>\n",
       "  <tbody>\n",
       "    <tr>\n",
       "      <th>18</th>\n",
       "      <td>Four Rooms</td>\n",
       "    </tr>\n",
       "    <tr>\n",
       "      <th>260</th>\n",
       "      <td>Star Wars</td>\n",
       "    </tr>\n",
       "    <tr>\n",
       "      <th>6377</th>\n",
       "      <td>Finding Nemo</td>\n",
       "    </tr>\n",
       "    <tr>\n",
       "      <th>356</th>\n",
       "      <td>Forrest Gump</td>\n",
       "    </tr>\n",
       "    <tr>\n",
       "      <th>2858</th>\n",
       "      <td>American Beauty</td>\n",
       "    </tr>\n",
       "  </tbody>\n",
       "</table>\n",
       "</div>"
      ],
      "text/plain": [
       "                   title\n",
       "movieId                 \n",
       "18            Four Rooms\n",
       "260            Star Wars\n",
       "6377        Finding Nemo\n",
       "356         Forrest Gump\n",
       "2858     American Beauty"
      ]
     },
     "execution_count": 12,
     "metadata": {},
     "output_type": "execute_result"
    }
   ],
   "source": [
    "movieId_list.head()"
   ]
  },
  {
   "cell_type": "markdown",
   "metadata": {},
   "source": [
    "## TMDB 데이터셋에 존재하지 않는 영화에 대한 평점 삭제"
   ]
  },
  {
   "cell_type": "code",
   "execution_count": 13,
   "metadata": {},
   "outputs": [],
   "source": [
    "ratings_df = ratings_df[ratings_df['movieId'].isin(movieId_list.index)]"
   ]
  },
  {
   "cell_type": "code",
   "execution_count": 14,
   "metadata": {},
   "outputs": [
    {
     "data": {
      "text/plain": [
       "(17977131, 3)"
      ]
     },
     "execution_count": 14,
     "metadata": {},
     "output_type": "execute_result"
    }
   ],
   "source": [
    "ratings_df.shape"
   ]
  },
  {
   "cell_type": "markdown",
   "metadata": {},
   "source": [
    "## 적은 수의 평점을 받은 영화 삭제\n",
    "- ### 최소 3774개의 평점 기록이 있는 영화만 쓰도록 함."
   ]
  },
  {
   "cell_type": "code",
   "execution_count": 15,
   "metadata": {},
   "outputs": [
    {
     "data": {
      "text/plain": [
       "3774"
      ]
     },
     "execution_count": 15,
     "metadata": {},
     "output_type": "execute_result"
    }
   ],
   "source": [
    "df_movie_summary = ratings_df.groupby('movieId')['rating'].agg(['count'])\n",
    "movie_benchmark = int(round(df_movie_summary['count'].quantile(0.75),0))\n",
    "movie_benchmark"
   ]
  },
  {
   "cell_type": "markdown",
   "metadata": {},
   "source": [
    "## 적은 수의 평점을 남긴 유저 삭제\n",
    "- ### 최소 67개 이상의 리뷰를 남긴 유저의 데이터만을 사용하도록 함."
   ]
  },
  {
   "cell_type": "code",
   "execution_count": 16,
   "metadata": {},
   "outputs": [
    {
     "data": {
      "text/plain": [
       "67"
      ]
     },
     "execution_count": 16,
     "metadata": {},
     "output_type": "execute_result"
    }
   ],
   "source": [
    "df_user_summary = ratings_df.groupby('userId')['rating'].agg(['count'])\n",
    "user_benchmark = int(round(df_user_summary['count'].quantile(0.75),0))\n",
    "user_benchmark"
   ]
  },
  {
   "cell_type": "markdown",
   "metadata": {},
   "source": [
    "## 앞서 설정한 기준점을 바탕으로 평점 데이터셋 축소"
   ]
  },
  {
   "cell_type": "code",
   "execution_count": 17,
   "metadata": {},
   "outputs": [
    {
     "name": "stdout",
     "output_type": "stream",
     "text": [
      "Dropped movie count :  3567\n",
      "Dropped user count :  208245\n"
     ]
    }
   ],
   "source": [
    "original_movie_list = ratings_df['movieId'].unique()\n",
    "original_user_count = ratings_df['userId'].nunique()\n",
    "\n",
    "while True:\n",
    "    df_movie_summary = ratings_df.groupby('movieId')['rating'].agg(['count'])\n",
    "    drop_movie_list = df_movie_summary[df_movie_summary['count'] < movie_benchmark].index\n",
    "    \n",
    "    if len(drop_movie_list) == 0:\n",
    "        break\n",
    "    else:\n",
    "        ratings_df = ratings_df[~ratings_df['movieId'].isin(drop_movie_list)]\n",
    "    \n",
    "    df_user_summary = ratings_df.groupby('userId')['rating'].agg(['count'])\n",
    "    drop_user_list = df_user_summary[df_user_summary['count'] < user_benchmark].index\n",
    "    \n",
    "    if len(drop_user_list) == 0:\n",
    "        break\n",
    "    else:\n",
    "        ratings_df = ratings_df[~ratings_df['userId'].isin(drop_user_list)]\n",
    "\n",
    "drop_movie_list = list(set(original_movie_list) - set(ratings_df['userId'].unique()))\n",
    "\n",
    "print(\"Dropped movie count : \", len(drop_movie_list))\n",
    "print(\"Dropped user count : \", (original_user_count - ratings_df['userId'].nunique()))"
   ]
  },
  {
   "cell_type": "markdown",
   "metadata": {},
   "source": [
    "## 축소된 평점 데이터셋에서 한 userId가 남긴 평점 개수를 측정"
   ]
  },
  {
   "cell_type": "code",
   "execution_count": 18,
   "metadata": {},
   "outputs": [],
   "source": [
    "ratings_df['count'] = ratings_df.groupby('userId')['rating'].transform('count')"
   ]
  },
  {
   "cell_type": "markdown",
   "metadata": {},
   "source": [
    "## 평점 데이터셋 가공 후의 모습"
   ]
  },
  {
   "cell_type": "code",
   "execution_count": 19,
   "metadata": {
    "scrolled": true
   },
   "outputs": [
    {
     "name": "stdout",
     "output_type": "stream",
     "text": [
      "(10406807, 4)\n"
     ]
    },
    {
     "data": {
      "text/html": [
       "<div>\n",
       "<style scoped>\n",
       "    .dataframe tbody tr th:only-of-type {\n",
       "        vertical-align: middle;\n",
       "    }\n",
       "\n",
       "    .dataframe tbody tr th {\n",
       "        vertical-align: top;\n",
       "    }\n",
       "\n",
       "    .dataframe thead th {\n",
       "        text-align: right;\n",
       "    }\n",
       "</style>\n",
       "<table border=\"1\" class=\"dataframe\">\n",
       "  <thead>\n",
       "    <tr style=\"text-align: right;\">\n",
       "      <th></th>\n",
       "      <th>userId</th>\n",
       "      <th>movieId</th>\n",
       "      <th>rating</th>\n",
       "      <th>count</th>\n",
       "    </tr>\n",
       "  </thead>\n",
       "  <tbody>\n",
       "    <tr>\n",
       "      <th>317</th>\n",
       "      <td>9</td>\n",
       "      <td>1</td>\n",
       "      <td>4.5</td>\n",
       "      <td>70</td>\n",
       "    </tr>\n",
       "    <tr>\n",
       "      <th>318</th>\n",
       "      <td>9</td>\n",
       "      <td>150</td>\n",
       "      <td>4.0</td>\n",
       "      <td>70</td>\n",
       "    </tr>\n",
       "    <tr>\n",
       "      <th>320</th>\n",
       "      <td>9</td>\n",
       "      <td>497</td>\n",
       "      <td>4.0</td>\n",
       "      <td>70</td>\n",
       "    </tr>\n",
       "    <tr>\n",
       "      <th>321</th>\n",
       "      <td>9</td>\n",
       "      <td>594</td>\n",
       "      <td>3.0</td>\n",
       "      <td>70</td>\n",
       "    </tr>\n",
       "    <tr>\n",
       "      <th>322</th>\n",
       "      <td>9</td>\n",
       "      <td>750</td>\n",
       "      <td>4.0</td>\n",
       "      <td>70</td>\n",
       "    </tr>\n",
       "  </tbody>\n",
       "</table>\n",
       "</div>"
      ],
      "text/plain": [
       "     userId  movieId  rating  count\n",
       "317       9        1     4.5     70\n",
       "318       9      150     4.0     70\n",
       "320       9      497     4.0     70\n",
       "321       9      594     3.0     70\n",
       "322       9      750     4.0     70"
      ]
     },
     "execution_count": 19,
     "metadata": {},
     "output_type": "execute_result"
    }
   ],
   "source": [
    "print(ratings_df.shape)\n",
    "ratings_df.head()"
   ]
  },
  {
   "cell_type": "markdown",
   "metadata": {},
   "source": [
    "## 데이터 전처리 후 ratings dataframe에 남은 영화 종류의 총 수"
   ]
  },
  {
   "cell_type": "code",
   "execution_count": 20,
   "metadata": {},
   "outputs": [
    {
     "data": {
      "text/plain": [
       "985"
      ]
     },
     "execution_count": 20,
     "metadata": {},
     "output_type": "execute_result"
    }
   ],
   "source": [
    "# num of tmdb movies after data clean\n",
    "ratings_df['movieId'].nunique()"
   ]
  },
  {
   "cell_type": "code",
   "execution_count": 21,
   "metadata": {},
   "outputs": [
    {
     "name": "stdout",
     "output_type": "stream",
     "text": [
      "          userId  movieId  rating  count\n",
      "317            9        1     4.5     70\n",
      "1243663    12770    56174     4.0     81\n",
      "2487283    25813     2359     4.0    307\n",
      "3744890    39045     2161     4.5    319\n",
      "4998745    51419     3114     4.0    125\n",
      "6254815    64523     4034     1.5    303\n",
      "7513976    77547     1644     3.0    146\n",
      "8774176    90506     7147     1.0    181\n",
      "10033527  103502      648     3.5    174\n",
      "11296264  117194      858     5.0    129\n",
      "12543779  130151     8784     5.0    226\n",
      "13778426  143161      296     4.0     69\n",
      "15016889  156186     1393     3.5    272\n",
      "16248864  168830     1198     4.0    208\n",
      "17488724  181477     1201     5.0     71\n",
      "18734725  194606      527     4.5    141\n",
      "19979490  207742      541     5.0    364\n",
      "21225520  220483     5995     4.5    102\n",
      "22481799  233410    48774     5.0     89\n",
      "23741351  246455     3671     4.0    372\n",
      "24996406  260013     1608     3.0    381\n"
     ]
    }
   ],
   "source": [
    "# Data Example\n",
    "print(ratings_df.iloc[::500000, :])"
   ]
  },
  {
   "cell_type": "code",
   "execution_count": 22,
   "metadata": {},
   "outputs": [
    {
     "data": {
      "text/plain": [
       "4599"
      ]
     },
     "execution_count": 22,
     "metadata": {},
     "output_type": "execute_result"
    }
   ],
   "source": [
    "len(movieId_list)"
   ]
  },
  {
   "cell_type": "markdown",
   "metadata": {},
   "source": [
    "## 모델 성능평가"
   ]
  },
  {
   "cell_type": "code",
   "execution_count": 23,
   "metadata": {},
   "outputs": [],
   "source": [
    "reader = Reader()\n",
    "data = Dataset.load_from_df(ratings_df[['userId', 'movieId', 'rating']], reader)\n",
    "svd = SVD()"
   ]
  },
  {
   "cell_type": "code",
   "execution_count": 24,
   "metadata": {
    "scrolled": false
   },
   "outputs": [],
   "source": [
    "evaluation_result = cross_validate(svd, data)"
   ]
  },
  {
   "cell_type": "code",
   "execution_count": 25,
   "metadata": {},
   "outputs": [],
   "source": [
    "evaluation_result = pd.DataFrame(evaluation_result)\n",
    "evaluation_result.loc['mean'] = evaluation_result.mean()"
   ]
  },
  {
   "cell_type": "code",
   "execution_count": 26,
   "metadata": {
    "scrolled": true
   },
   "outputs": [
    {
     "data": {
      "text/html": [
       "<div>\n",
       "<style scoped>\n",
       "    .dataframe tbody tr th:only-of-type {\n",
       "        vertical-align: middle;\n",
       "    }\n",
       "\n",
       "    .dataframe tbody tr th {\n",
       "        vertical-align: top;\n",
       "    }\n",
       "\n",
       "    .dataframe thead th {\n",
       "        text-align: right;\n",
       "    }\n",
       "</style>\n",
       "<table border=\"1\" class=\"dataframe\">\n",
       "  <thead>\n",
       "    <tr style=\"text-align: right;\">\n",
       "      <th></th>\n",
       "      <th>test_rmse</th>\n",
       "      <th>test_mae</th>\n",
       "    </tr>\n",
       "  </thead>\n",
       "  <tbody>\n",
       "    <tr>\n",
       "      <th>0</th>\n",
       "      <td>0.751656</td>\n",
       "      <td>0.568255</td>\n",
       "    </tr>\n",
       "    <tr>\n",
       "      <th>1</th>\n",
       "      <td>0.751891</td>\n",
       "      <td>0.568917</td>\n",
       "    </tr>\n",
       "    <tr>\n",
       "      <th>2</th>\n",
       "      <td>0.751226</td>\n",
       "      <td>0.568331</td>\n",
       "    </tr>\n",
       "    <tr>\n",
       "      <th>3</th>\n",
       "      <td>0.751548</td>\n",
       "      <td>0.568776</td>\n",
       "    </tr>\n",
       "    <tr>\n",
       "      <th>4</th>\n",
       "      <td>0.752203</td>\n",
       "      <td>0.569253</td>\n",
       "    </tr>\n",
       "    <tr>\n",
       "      <th>mean</th>\n",
       "      <td>0.751705</td>\n",
       "      <td>0.568707</td>\n",
       "    </tr>\n",
       "  </tbody>\n",
       "</table>\n",
       "</div>"
      ],
      "text/plain": [
       "      test_rmse  test_mae\n",
       "0      0.751656  0.568255\n",
       "1      0.751891  0.568917\n",
       "2      0.751226  0.568331\n",
       "3      0.751548  0.568776\n",
       "4      0.752203  0.569253\n",
       "mean   0.751705  0.568707"
      ]
     },
     "execution_count": 26,
     "metadata": {},
     "output_type": "execute_result"
    }
   ],
   "source": [
    "evaluation_result[['test_rmse', 'test_mae']]"
   ]
  },
  {
   "cell_type": "markdown",
   "metadata": {},
   "source": [
    "## ratings dataframe을 이용하여 trainset 생성"
   ]
  },
  {
   "cell_type": "code",
   "execution_count": 27,
   "metadata": {},
   "outputs": [],
   "source": [
    "# getting full dataset\n",
    "data_set = Dataset.load_from_df(ratings_df[['userId', 'movieId', 'rating']], reader)\n",
    "train_data_set = data_set.build_full_trainset()"
   ]
  },
  {
   "cell_type": "markdown",
   "metadata": {},
   "source": [
    "## 모델 학습"
   ]
  },
  {
   "cell_type": "code",
   "execution_count": 28,
   "metadata": {},
   "outputs": [
    {
     "name": "stdout",
     "output_type": "stream",
     "text": [
      "Wall time: 18min 10s\n"
     ]
    },
    {
     "data": {
      "text/plain": [
       "<surprise.prediction_algorithms.matrix_factorization.SVD at 0x1a0802bcba8>"
      ]
     },
     "execution_count": 28,
     "metadata": {},
     "output_type": "execute_result"
    }
   ],
   "source": [
    "#model.fit(X_train, y_train).score(X_train, y_train)\n",
    "%time svd.fit(train_data_set)"
   ]
  },
  {
   "cell_type": "markdown",
   "metadata": {},
   "source": [
    "## 영화 리스트 재구성"
   ]
  },
  {
   "cell_type": "code",
   "execution_count": 29,
   "metadata": {},
   "outputs": [
    {
     "name": "stdout",
     "output_type": "stream",
     "text": [
      "<class 'pandas.core.frame.DataFrame'>\n",
      "Int64Index: 985 entries, 0 to 4449\n",
      "Data columns (total 2 columns):\n",
      "movieId    985 non-null int64\n",
      "title      985 non-null object\n",
      "dtypes: int64(1), object(1)\n",
      "memory usage: 23.1+ KB\n"
     ]
    }
   ],
   "source": [
    "result = movieId_list.copy()\n",
    "result = result.reset_index()\n",
    "result = result[result['movieId'].isin(ratings_df['movieId'])]\n",
    "result.info()"
   ]
  },
  {
   "cell_type": "markdown",
   "metadata": {},
   "source": [
    "## 2000년도 이후 출시된 영화만 필터링"
   ]
  },
  {
   "cell_type": "code",
   "execution_count": 30,
   "metadata": {},
   "outputs": [
    {
     "data": {
      "text/html": [
       "<div>\n",
       "<style scoped>\n",
       "    .dataframe tbody tr th:only-of-type {\n",
       "        vertical-align: middle;\n",
       "    }\n",
       "\n",
       "    .dataframe tbody tr th {\n",
       "        vertical-align: top;\n",
       "    }\n",
       "\n",
       "    .dataframe thead th {\n",
       "        text-align: right;\n",
       "    }\n",
       "</style>\n",
       "<table border=\"1\" class=\"dataframe\">\n",
       "  <thead>\n",
       "    <tr style=\"text-align: right;\">\n",
       "      <th></th>\n",
       "      <th>movieId</th>\n",
       "      <th>title</th>\n",
       "      <th>release_date</th>\n",
       "    </tr>\n",
       "  </thead>\n",
       "  <tbody>\n",
       "    <tr>\n",
       "      <th>2</th>\n",
       "      <td>6377</td>\n",
       "      <td>Finding Nemo</td>\n",
       "      <td>2003</td>\n",
       "    </tr>\n",
       "    <tr>\n",
       "      <th>5</th>\n",
       "      <td>3910</td>\n",
       "      <td>Dancer in the Dark</td>\n",
       "      <td>2000</td>\n",
       "    </tr>\n",
       "    <tr>\n",
       "      <th>8</th>\n",
       "      <td>6539</td>\n",
       "      <td>Pirates of the Caribbean: The Curse of the Bla...</td>\n",
       "      <td>2003</td>\n",
       "    </tr>\n",
       "    <tr>\n",
       "      <th>9</th>\n",
       "      <td>6874</td>\n",
       "      <td>Kill Bill: Vol. 1</td>\n",
       "      <td>2003</td>\n",
       "    </tr>\n",
       "    <tr>\n",
       "      <th>12</th>\n",
       "      <td>54272</td>\n",
       "      <td>The Simpsons Movie</td>\n",
       "      <td>2007</td>\n",
       "    </tr>\n",
       "    <tr>\n",
       "      <th>13</th>\n",
       "      <td>7361</td>\n",
       "      <td>Eternal Sunshine of the Spotless Mind</td>\n",
       "      <td>2004</td>\n",
       "    </tr>\n",
       "    <tr>\n",
       "      <th>14</th>\n",
       "      <td>4235</td>\n",
       "      <td>Amores perros</td>\n",
       "      <td>2000</td>\n",
       "    </tr>\n",
       "    <tr>\n",
       "      <th>15</th>\n",
       "      <td>45722</td>\n",
       "      <td>Pirates of the Caribbean: Dead Man's Chest</td>\n",
       "      <td>2006</td>\n",
       "    </tr>\n",
       "    <tr>\n",
       "      <th>16</th>\n",
       "      <td>37733</td>\n",
       "      <td>A History of Violence</td>\n",
       "      <td>2005</td>\n",
       "    </tr>\n",
       "    <tr>\n",
       "      <th>18</th>\n",
       "      <td>5810</td>\n",
       "      <td>8 Mile</td>\n",
       "      <td>2002</td>\n",
       "    </tr>\n",
       "    <tr>\n",
       "      <th>20</th>\n",
       "      <td>40819</td>\n",
       "      <td>Walk the Line</td>\n",
       "      <td>2005</td>\n",
       "    </tr>\n",
       "    <tr>\n",
       "      <th>21</th>\n",
       "      <td>30707</td>\n",
       "      <td>Million Dollar Baby</td>\n",
       "      <td>2004</td>\n",
       "    </tr>\n",
       "    <tr>\n",
       "      <th>22</th>\n",
       "      <td>3967</td>\n",
       "      <td>Billy Elliot</td>\n",
       "      <td>2000</td>\n",
       "    </tr>\n",
       "    <tr>\n",
       "      <th>24</th>\n",
       "      <td>34048</td>\n",
       "      <td>War of the Worlds</td>\n",
       "      <td>2005</td>\n",
       "    </tr>\n",
       "    <tr>\n",
       "      <th>27</th>\n",
       "      <td>4226</td>\n",
       "      <td>Memento</td>\n",
       "      <td>2000</td>\n",
       "    </tr>\n",
       "    <tr>\n",
       "      <th>29</th>\n",
       "      <td>7090</td>\n",
       "      <td>Hero</td>\n",
       "      <td>2002</td>\n",
       "    </tr>\n",
       "    <tr>\n",
       "      <th>30</th>\n",
       "      <td>8638</td>\n",
       "      <td>Before Sunset</td>\n",
       "      <td>2004</td>\n",
       "    </tr>\n",
       "    <tr>\n",
       "      <th>37</th>\n",
       "      <td>3578</td>\n",
       "      <td>Gladiator</td>\n",
       "      <td>2000</td>\n",
       "    </tr>\n",
       "    <tr>\n",
       "      <th>43</th>\n",
       "      <td>4011</td>\n",
       "      <td>Snatch</td>\n",
       "      <td>2000</td>\n",
       "    </tr>\n",
       "    <tr>\n",
       "      <th>47</th>\n",
       "      <td>41285</td>\n",
       "      <td>Match Point</td>\n",
       "      <td>2005</td>\n",
       "    </tr>\n",
       "    <tr>\n",
       "      <th>49</th>\n",
       "      <td>30793</td>\n",
       "      <td>Charlie and the Chocolate Factory</td>\n",
       "      <td>2005</td>\n",
       "    </tr>\n",
       "    <tr>\n",
       "      <th>50</th>\n",
       "      <td>4993</td>\n",
       "      <td>The Lord of the Rings: The Fellowship of the Ring</td>\n",
       "      <td>2001</td>\n",
       "    </tr>\n",
       "    <tr>\n",
       "      <th>51</th>\n",
       "      <td>5952</td>\n",
       "      <td>The Lord of the Rings: The Two Towers</td>\n",
       "      <td>2002</td>\n",
       "    </tr>\n",
       "    <tr>\n",
       "      <th>52</th>\n",
       "      <td>7153</td>\n",
       "      <td>The Lord of the Rings: The Return of the King</td>\n",
       "      <td>2003</td>\n",
       "    </tr>\n",
       "    <tr>\n",
       "      <th>54</th>\n",
       "      <td>5618</td>\n",
       "      <td>Spirited Away</td>\n",
       "      <td>2001</td>\n",
       "    </tr>\n",
       "    <tr>\n",
       "      <th>55</th>\n",
       "      <td>4027</td>\n",
       "      <td>O Brother, Where Art Thou?</td>\n",
       "      <td>2000</td>\n",
       "    </tr>\n",
       "    <tr>\n",
       "      <th>57</th>\n",
       "      <td>4878</td>\n",
       "      <td>Donnie Darko</td>\n",
       "      <td>2001</td>\n",
       "    </tr>\n",
       "    <tr>\n",
       "      <th>58</th>\n",
       "      <td>39183</td>\n",
       "      <td>Brokeback Mountain</td>\n",
       "      <td>2005</td>\n",
       "    </tr>\n",
       "    <tr>\n",
       "      <th>59</th>\n",
       "      <td>3996</td>\n",
       "      <td>Crouching Tiger, Hidden Dragon</td>\n",
       "      <td>2000</td>\n",
       "    </tr>\n",
       "    <tr>\n",
       "      <th>62</th>\n",
       "      <td>6711</td>\n",
       "      <td>Lost in Translation</td>\n",
       "      <td>2003</td>\n",
       "    </tr>\n",
       "    <tr>\n",
       "      <th>...</th>\n",
       "      <td>...</td>\n",
       "      <td>...</td>\n",
       "      <td>...</td>\n",
       "    </tr>\n",
       "    <tr>\n",
       "      <th>955</th>\n",
       "      <td>97913</td>\n",
       "      <td>Wreck-It Ralph</td>\n",
       "      <td>2012</td>\n",
       "    </tr>\n",
       "    <tr>\n",
       "      <th>956</th>\n",
       "      <td>97921</td>\n",
       "      <td>Silver Linings Playbook</td>\n",
       "      <td>2012</td>\n",
       "    </tr>\n",
       "    <tr>\n",
       "      <th>957</th>\n",
       "      <td>97752</td>\n",
       "      <td>Cloud Atlas</td>\n",
       "      <td>2012</td>\n",
       "    </tr>\n",
       "    <tr>\n",
       "      <th>958</th>\n",
       "      <td>94959</td>\n",
       "      <td>Moonrise Kingdom</td>\n",
       "      <td>2012</td>\n",
       "    </tr>\n",
       "    <tr>\n",
       "      <th>959</th>\n",
       "      <td>97938</td>\n",
       "      <td>Life of Pi</td>\n",
       "      <td>2012</td>\n",
       "    </tr>\n",
       "    <tr>\n",
       "      <th>960</th>\n",
       "      <td>122892</td>\n",
       "      <td>Avengers: Age of Ultron</td>\n",
       "      <td>2015</td>\n",
       "    </tr>\n",
       "    <tr>\n",
       "      <th>961</th>\n",
       "      <td>110102</td>\n",
       "      <td>Captain America: The Winter Soldier</td>\n",
       "      <td>2014</td>\n",
       "    </tr>\n",
       "    <tr>\n",
       "      <th>962</th>\n",
       "      <td>106487</td>\n",
       "      <td>The Hunger Games: Catching Fire</td>\n",
       "      <td>2013</td>\n",
       "    </tr>\n",
       "    <tr>\n",
       "      <th>963</th>\n",
       "      <td>106782</td>\n",
       "      <td>The Wolf of Wall Street</td>\n",
       "      <td>2013</td>\n",
       "    </tr>\n",
       "    <tr>\n",
       "      <th>964</th>\n",
       "      <td>106696</td>\n",
       "      <td>Frozen</td>\n",
       "      <td>2013</td>\n",
       "    </tr>\n",
       "    <tr>\n",
       "      <th>965</th>\n",
       "      <td>112852</td>\n",
       "      <td>Guardians of the Galaxy</td>\n",
       "      <td>2014</td>\n",
       "    </tr>\n",
       "    <tr>\n",
       "      <th>966</th>\n",
       "      <td>109374</td>\n",
       "      <td>The Grand Budapest Hotel</td>\n",
       "      <td>2014</td>\n",
       "    </tr>\n",
       "    <tr>\n",
       "      <th>967</th>\n",
       "      <td>111362</td>\n",
       "      <td>X-Men: Days of Future Past</td>\n",
       "      <td>2014</td>\n",
       "    </tr>\n",
       "    <tr>\n",
       "      <th>968</th>\n",
       "      <td>116823</td>\n",
       "      <td>The Hunger Games: Mockingjay - Part 1</td>\n",
       "      <td>2014</td>\n",
       "    </tr>\n",
       "    <tr>\n",
       "      <th>969</th>\n",
       "      <td>108932</td>\n",
       "      <td>The Lego Movie</td>\n",
       "      <td>2014</td>\n",
       "    </tr>\n",
       "    <tr>\n",
       "      <th>970</th>\n",
       "      <td>111759</td>\n",
       "      <td>Edge of Tomorrow</td>\n",
       "      <td>2014</td>\n",
       "    </tr>\n",
       "    <tr>\n",
       "      <th>971</th>\n",
       "      <td>134853</td>\n",
       "      <td>Inside Out</td>\n",
       "      <td>2015</td>\n",
       "    </tr>\n",
       "    <tr>\n",
       "      <th>972</th>\n",
       "      <td>106100</td>\n",
       "      <td>Dallas Buyers Club</td>\n",
       "      <td>2013</td>\n",
       "    </tr>\n",
       "    <tr>\n",
       "      <th>973</th>\n",
       "      <td>106920</td>\n",
       "      <td>Her</td>\n",
       "      <td>2013</td>\n",
       "    </tr>\n",
       "    <tr>\n",
       "      <th>974</th>\n",
       "      <td>109487</td>\n",
       "      <td>Interstellar</td>\n",
       "      <td>2014</td>\n",
       "    </tr>\n",
       "    <tr>\n",
       "      <th>975</th>\n",
       "      <td>115617</td>\n",
       "      <td>Big Hero 6</td>\n",
       "      <td>2014</td>\n",
       "    </tr>\n",
       "    <tr>\n",
       "      <th>976</th>\n",
       "      <td>112183</td>\n",
       "      <td>Birdman</td>\n",
       "      <td>2014</td>\n",
       "    </tr>\n",
       "    <tr>\n",
       "      <th>977</th>\n",
       "      <td>116797</td>\n",
       "      <td>The Imitation Game</td>\n",
       "      <td>2014</td>\n",
       "    </tr>\n",
       "    <tr>\n",
       "      <th>978</th>\n",
       "      <td>112556</td>\n",
       "      <td>Gone Girl</td>\n",
       "      <td>2014</td>\n",
       "    </tr>\n",
       "    <tr>\n",
       "      <th>979</th>\n",
       "      <td>115569</td>\n",
       "      <td>Nightcrawler</td>\n",
       "      <td>2014</td>\n",
       "    </tr>\n",
       "    <tr>\n",
       "      <th>980</th>\n",
       "      <td>112552</td>\n",
       "      <td>Whiplash</td>\n",
       "      <td>2014</td>\n",
       "    </tr>\n",
       "    <tr>\n",
       "      <th>981</th>\n",
       "      <td>115713</td>\n",
       "      <td>Ex Machina</td>\n",
       "      <td>2015</td>\n",
       "    </tr>\n",
       "    <tr>\n",
       "      <th>982</th>\n",
       "      <td>139385</td>\n",
       "      <td>The Revenant</td>\n",
       "      <td>2015</td>\n",
       "    </tr>\n",
       "    <tr>\n",
       "      <th>983</th>\n",
       "      <td>134130</td>\n",
       "      <td>The Martian</td>\n",
       "      <td>2015</td>\n",
       "    </tr>\n",
       "    <tr>\n",
       "      <th>984</th>\n",
       "      <td>122904</td>\n",
       "      <td>Deadpool</td>\n",
       "      <td>2016</td>\n",
       "    </tr>\n",
       "  </tbody>\n",
       "</table>\n",
       "<p>444 rows × 3 columns</p>\n",
       "</div>"
      ],
      "text/plain": [
       "     movieId                                              title release_date\n",
       "2       6377                                       Finding Nemo         2003\n",
       "5       3910                                 Dancer in the Dark         2000\n",
       "8       6539  Pirates of the Caribbean: The Curse of the Bla...         2003\n",
       "9       6874                                  Kill Bill: Vol. 1         2003\n",
       "12     54272                                 The Simpsons Movie         2007\n",
       "13      7361              Eternal Sunshine of the Spotless Mind         2004\n",
       "14      4235                                      Amores perros         2000\n",
       "15     45722         Pirates of the Caribbean: Dead Man's Chest         2006\n",
       "16     37733                              A History of Violence         2005\n",
       "18      5810                                             8 Mile         2002\n",
       "20     40819                                      Walk the Line         2005\n",
       "21     30707                                Million Dollar Baby         2004\n",
       "22      3967                                       Billy Elliot         2000\n",
       "24     34048                                  War of the Worlds         2005\n",
       "27      4226                                            Memento         2000\n",
       "29      7090                                               Hero         2002\n",
       "30      8638                                      Before Sunset         2004\n",
       "37      3578                                          Gladiator         2000\n",
       "43      4011                                             Snatch         2000\n",
       "47     41285                                        Match Point         2005\n",
       "49     30793                  Charlie and the Chocolate Factory         2005\n",
       "50      4993  The Lord of the Rings: The Fellowship of the Ring         2001\n",
       "51      5952              The Lord of the Rings: The Two Towers         2002\n",
       "52      7153      The Lord of the Rings: The Return of the King         2003\n",
       "54      5618                                      Spirited Away         2001\n",
       "55      4027                         O Brother, Where Art Thou?         2000\n",
       "57      4878                                       Donnie Darko         2001\n",
       "58     39183                                 Brokeback Mountain         2005\n",
       "59      3996                     Crouching Tiger, Hidden Dragon         2000\n",
       "62      6711                                Lost in Translation         2003\n",
       "..       ...                                                ...          ...\n",
       "955    97913                                     Wreck-It Ralph         2012\n",
       "956    97921                            Silver Linings Playbook         2012\n",
       "957    97752                                        Cloud Atlas         2012\n",
       "958    94959                                   Moonrise Kingdom         2012\n",
       "959    97938                                         Life of Pi         2012\n",
       "960   122892                            Avengers: Age of Ultron         2015\n",
       "961   110102                Captain America: The Winter Soldier         2014\n",
       "962   106487                    The Hunger Games: Catching Fire         2013\n",
       "963   106782                            The Wolf of Wall Street         2013\n",
       "964   106696                                             Frozen         2013\n",
       "965   112852                            Guardians of the Galaxy         2014\n",
       "966   109374                           The Grand Budapest Hotel         2014\n",
       "967   111362                         X-Men: Days of Future Past         2014\n",
       "968   116823              The Hunger Games: Mockingjay - Part 1         2014\n",
       "969   108932                                     The Lego Movie         2014\n",
       "970   111759                                   Edge of Tomorrow         2014\n",
       "971   134853                                         Inside Out         2015\n",
       "972   106100                                 Dallas Buyers Club         2013\n",
       "973   106920                                                Her         2013\n",
       "974   109487                                       Interstellar         2014\n",
       "975   115617                                         Big Hero 6         2014\n",
       "976   112183                                            Birdman         2014\n",
       "977   116797                                 The Imitation Game         2014\n",
       "978   112556                                          Gone Girl         2014\n",
       "979   115569                                       Nightcrawler         2014\n",
       "980   112552                                           Whiplash         2014\n",
       "981   115713                                         Ex Machina         2015\n",
       "982   139385                                       The Revenant         2015\n",
       "983   134130                                        The Martian         2015\n",
       "984   122904                                           Deadpool         2016\n",
       "\n",
       "[444 rows x 3 columns]"
      ]
     },
     "execution_count": 30,
     "metadata": {},
     "output_type": "execute_result"
    }
   ],
   "source": [
    "target_df = result[['movieId', 'title']]\n",
    "k = haha[haha['movieId'].isin(target_df['movieId'])]\n",
    "k = k.drop(columns=['tmdbId'])\n",
    "Id_title_year = pd.merge(target_df, k, on='movieId', how='outer')\n",
    "Id_title_year_over2000 = Id_title_year[Id_title_year['release_date'] >= str(2000)]\n",
    "Id_title_year_over2000"
   ]
  },
  {
   "cell_type": "markdown",
   "metadata": {},
   "source": [
    "## userId = 231이 평가한 영화의 수"
   ]
  },
  {
   "cell_type": "code",
   "execution_count": 31,
   "metadata": {},
   "outputs": [
    {
     "data": {
      "text/plain": [
       "userId       1\n",
       "movieId    607\n",
       "rating       9\n",
       "count        1\n",
       "dtype: int64"
      ]
     },
     "execution_count": 31,
     "metadata": {},
     "output_type": "execute_result"
    }
   ],
   "source": [
    "ratings_df[ratings_df['userId'] == 231].nunique()"
   ]
  },
  {
   "cell_type": "markdown",
   "metadata": {},
   "source": [
    "## userId = 231이 과거에 평점 5점을 준 영화들"
   ]
  },
  {
   "cell_type": "code",
   "execution_count": 32,
   "metadata": {},
   "outputs": [
    {
     "name": "stdout",
     "output_type": "stream",
     "text": [
      "12\n"
     ]
    },
    {
     "data": {
      "text/plain": [
       "movieId\n",
       "110                                             Braveheart\n",
       "260                                              Star Wars\n",
       "318                               The Shawshank Redemption\n",
       "527                                       Schindler's List\n",
       "1196                               The Empire Strikes Back\n",
       "1198                               Raiders of the Lost Ark\n",
       "1259                                           Stand by Me\n",
       "2028                                   Saving Private Ryan\n",
       "3578                                             Gladiator\n",
       "4993     The Lord of the Rings: The Fellowship of the Ring\n",
       "33166                                                Crash\n",
       "60684                                             Watchmen\n",
       "Name: title, dtype: object"
      ]
     },
     "execution_count": 32,
     "metadata": {},
     "output_type": "execute_result"
    }
   ],
   "source": [
    "df_1 = ratings_df[(ratings_df['userId'] == 231) & (ratings_df['rating'] == 5.0)]\n",
    "df_1 = df_1.set_index('movieId')\n",
    "df_1 = df_1.join(movieId_list)['title']\n",
    "print(len(df_1.index))\n",
    "df_1"
   ]
  },
  {
   "cell_type": "markdown",
   "metadata": {},
   "source": [
    "## 예측 리스트에서 유저가 입력한 영화를 제거한 뒤 평점 예측 결과를 출력"
   ]
  },
  {
   "cell_type": "code",
   "execution_count": 33,
   "metadata": {},
   "outputs": [],
   "source": [
    "def user_rating_prediction(userId, result, movietitle, recom_count=10):\n",
    "    rating_prediction = result.copy()\n",
    "    #print(\"length of result : \", len(result['movieId']))\n",
    "    rating_prediction['Estimate_Score'] = rating_prediction['movieId'].apply(lambda x : svd.predict(userId, x).est)\n",
    "    rating_prediction = rating_prediction.drop(columns='movieId')\n",
    "    rating_prediction = rating_prediction[rating_prediction['title'] != movietitle]\n",
    "    rating_prediction = rating_prediction.sort_values('Estimate_Score', ascending=False)\n",
    "    rating_prediction = rating_prediction[rating_prediction['title'].isin(Id_title_year_over2000['title'])]\n",
    "\n",
    "    return rating_prediction.head(recom_count)"
   ]
  },
  {
   "cell_type": "code",
   "execution_count": 34,
   "metadata": {},
   "outputs": [
    {
     "data": {
      "text/html": [
       "<div>\n",
       "<style scoped>\n",
       "    .dataframe tbody tr th:only-of-type {\n",
       "        vertical-align: middle;\n",
       "    }\n",
       "\n",
       "    .dataframe tbody tr th {\n",
       "        vertical-align: top;\n",
       "    }\n",
       "\n",
       "    .dataframe thead th {\n",
       "        text-align: right;\n",
       "    }\n",
       "</style>\n",
       "<table border=\"1\" class=\"dataframe\">\n",
       "  <thead>\n",
       "    <tr style=\"text-align: right;\">\n",
       "      <th></th>\n",
       "      <th>title</th>\n",
       "      <th>Estimate_Score</th>\n",
       "    </tr>\n",
       "  </thead>\n",
       "  <tbody>\n",
       "    <tr>\n",
       "      <th>54</th>\n",
       "      <td>The Lord of the Rings: The Fellowship of the Ring</td>\n",
       "      <td>4.586857</td>\n",
       "    </tr>\n",
       "    <tr>\n",
       "      <th>55</th>\n",
       "      <td>The Lord of the Rings: The Two Towers</td>\n",
       "      <td>4.515533</td>\n",
       "    </tr>\n",
       "    <tr>\n",
       "      <th>56</th>\n",
       "      <td>The Lord of the Rings: The Return of the King</td>\n",
       "      <td>4.496908</td>\n",
       "    </tr>\n",
       "    <tr>\n",
       "      <th>41</th>\n",
       "      <td>Gladiator</td>\n",
       "      <td>4.043276</td>\n",
       "    </tr>\n",
       "    <tr>\n",
       "      <th>605</th>\n",
       "      <td>Star Wars: Episode III - Revenge of the Sith</td>\n",
       "      <td>3.985514</td>\n",
       "    </tr>\n",
       "    <tr>\n",
       "      <th>30</th>\n",
       "      <td>Memento</td>\n",
       "      <td>3.949355</td>\n",
       "    </tr>\n",
       "    <tr>\n",
       "      <th>543</th>\n",
       "      <td>Crash</td>\n",
       "      <td>3.895644</td>\n",
       "    </tr>\n",
       "    <tr>\n",
       "      <th>2938</th>\n",
       "      <td>Inception</td>\n",
       "      <td>3.894864</td>\n",
       "    </tr>\n",
       "    <tr>\n",
       "      <th>47</th>\n",
       "      <td>Snatch</td>\n",
       "      <td>3.883925</td>\n",
       "    </tr>\n",
       "    <tr>\n",
       "      <th>68</th>\n",
       "      <td>The Dark Knight</td>\n",
       "      <td>3.876589</td>\n",
       "    </tr>\n",
       "    <tr>\n",
       "      <th>257</th>\n",
       "      <td>City of God</td>\n",
       "      <td>3.869817</td>\n",
       "    </tr>\n",
       "    <tr>\n",
       "      <th>462</th>\n",
       "      <td>300</td>\n",
       "      <td>3.865831</td>\n",
       "    </tr>\n",
       "    <tr>\n",
       "      <th>88</th>\n",
       "      <td>Sin City</td>\n",
       "      <td>3.849236</td>\n",
       "    </tr>\n",
       "    <tr>\n",
       "      <th>2220</th>\n",
       "      <td>Gran Torino</td>\n",
       "      <td>3.844027</td>\n",
       "    </tr>\n",
       "    <tr>\n",
       "      <th>98</th>\n",
       "      <td>Hotel Rwanda</td>\n",
       "      <td>3.839249</td>\n",
       "    </tr>\n",
       "    <tr>\n",
       "      <th>3533</th>\n",
       "      <td>The Hobbit: The Desolation of Smaug</td>\n",
       "      <td>3.837864</td>\n",
       "    </tr>\n",
       "    <tr>\n",
       "      <th>268</th>\n",
       "      <td>Downfall</td>\n",
       "      <td>3.817920</td>\n",
       "    </tr>\n",
       "    <tr>\n",
       "      <th>333</th>\n",
       "      <td>V for Vendetta</td>\n",
       "      <td>3.809794</td>\n",
       "    </tr>\n",
       "    <tr>\n",
       "      <th>2580</th>\n",
       "      <td>District 9</td>\n",
       "      <td>3.805474</td>\n",
       "    </tr>\n",
       "    <tr>\n",
       "      <th>148</th>\n",
       "      <td>Mystic River</td>\n",
       "      <td>3.797050</td>\n",
       "    </tr>\n",
       "    <tr>\n",
       "      <th>484</th>\n",
       "      <td>The Departed</td>\n",
       "      <td>3.796575</td>\n",
       "    </tr>\n",
       "    <tr>\n",
       "      <th>244</th>\n",
       "      <td>The Lives of Others</td>\n",
       "      <td>3.789637</td>\n",
       "    </tr>\n",
       "    <tr>\n",
       "      <th>3429</th>\n",
       "      <td>The Hobbit: An Unexpected Journey</td>\n",
       "      <td>3.782689</td>\n",
       "    </tr>\n",
       "    <tr>\n",
       "      <th>24</th>\n",
       "      <td>Million Dollar Baby</td>\n",
       "      <td>3.776899</td>\n",
       "    </tr>\n",
       "    <tr>\n",
       "      <th>386</th>\n",
       "      <td>Enemy at the Gates</td>\n",
       "      <td>3.776264</td>\n",
       "    </tr>\n",
       "    <tr>\n",
       "      <th>627</th>\n",
       "      <td>The Butterfly Effect</td>\n",
       "      <td>3.774993</td>\n",
       "    </tr>\n",
       "    <tr>\n",
       "      <th>61</th>\n",
       "      <td>Donnie Darko</td>\n",
       "      <td>3.774685</td>\n",
       "    </tr>\n",
       "    <tr>\n",
       "      <th>445</th>\n",
       "      <td>The Prestige</td>\n",
       "      <td>3.771361</td>\n",
       "    </tr>\n",
       "    <tr>\n",
       "      <th>2504</th>\n",
       "      <td>Serenity</td>\n",
       "      <td>3.768458</td>\n",
       "    </tr>\n",
       "    <tr>\n",
       "      <th>604</th>\n",
       "      <td>Star Wars: Episode II - Attack of the Clones</td>\n",
       "      <td>3.763681</td>\n",
       "    </tr>\n",
       "    <tr>\n",
       "      <th>282</th>\n",
       "      <td>Requiem for a Dream</td>\n",
       "      <td>3.760956</td>\n",
       "    </tr>\n",
       "    <tr>\n",
       "      <th>10</th>\n",
       "      <td>Kill Bill: Vol. 1</td>\n",
       "      <td>3.758013</td>\n",
       "    </tr>\n",
       "    <tr>\n",
       "      <th>184</th>\n",
       "      <td>The Pianist</td>\n",
       "      <td>3.747534</td>\n",
       "    </tr>\n",
       "    <tr>\n",
       "      <th>81</th>\n",
       "      <td>Saw</td>\n",
       "      <td>3.736689</td>\n",
       "    </tr>\n",
       "    <tr>\n",
       "      <th>1002</th>\n",
       "      <td>Equilibrium</td>\n",
       "      <td>3.735009</td>\n",
       "    </tr>\n",
       "    <tr>\n",
       "      <th>4082</th>\n",
       "      <td>Interstellar</td>\n",
       "      <td>3.732979</td>\n",
       "    </tr>\n",
       "    <tr>\n",
       "      <th>2691</th>\n",
       "      <td>Avatar</td>\n",
       "      <td>3.713939</td>\n",
       "    </tr>\n",
       "    <tr>\n",
       "      <th>297</th>\n",
       "      <td>Oldboy</td>\n",
       "      <td>3.708422</td>\n",
       "    </tr>\n",
       "    <tr>\n",
       "      <th>553</th>\n",
       "      <td>Ray</td>\n",
       "      <td>3.707013</td>\n",
       "    </tr>\n",
       "    <tr>\n",
       "      <th>87</th>\n",
       "      <td>Lucky Number Slevin</td>\n",
       "      <td>3.706359</td>\n",
       "    </tr>\n",
       "    <tr>\n",
       "      <th>619</th>\n",
       "      <td>The Others</td>\n",
       "      <td>3.701443</td>\n",
       "    </tr>\n",
       "    <tr>\n",
       "      <th>2240</th>\n",
       "      <td>Star Trek</td>\n",
       "      <td>3.696514</td>\n",
       "    </tr>\n",
       "    <tr>\n",
       "      <th>194</th>\n",
       "      <td>A Beautiful Mind</td>\n",
       "      <td>3.696267</td>\n",
       "    </tr>\n",
       "    <tr>\n",
       "      <th>2212</th>\n",
       "      <td>Watchmen</td>\n",
       "      <td>3.696177</td>\n",
       "    </tr>\n",
       "  </tbody>\n",
       "</table>\n",
       "</div>"
      ],
      "text/plain": [
       "                                                  title  Estimate_Score\n",
       "54    The Lord of the Rings: The Fellowship of the Ring        4.586857\n",
       "55                The Lord of the Rings: The Two Towers        4.515533\n",
       "56        The Lord of the Rings: The Return of the King        4.496908\n",
       "41                                            Gladiator        4.043276\n",
       "605        Star Wars: Episode III - Revenge of the Sith        3.985514\n",
       "30                                              Memento        3.949355\n",
       "543                                               Crash        3.895644\n",
       "2938                                          Inception        3.894864\n",
       "47                                               Snatch        3.883925\n",
       "68                                      The Dark Knight        3.876589\n",
       "257                                         City of God        3.869817\n",
       "462                                                 300        3.865831\n",
       "88                                             Sin City        3.849236\n",
       "2220                                        Gran Torino        3.844027\n",
       "98                                         Hotel Rwanda        3.839249\n",
       "3533                The Hobbit: The Desolation of Smaug        3.837864\n",
       "268                                            Downfall        3.817920\n",
       "333                                      V for Vendetta        3.809794\n",
       "2580                                         District 9        3.805474\n",
       "148                                        Mystic River        3.797050\n",
       "484                                        The Departed        3.796575\n",
       "244                                 The Lives of Others        3.789637\n",
       "3429                  The Hobbit: An Unexpected Journey        3.782689\n",
       "24                                  Million Dollar Baby        3.776899\n",
       "386                                  Enemy at the Gates        3.776264\n",
       "627                                The Butterfly Effect        3.774993\n",
       "61                                         Donnie Darko        3.774685\n",
       "445                                        The Prestige        3.771361\n",
       "2504                                           Serenity        3.768458\n",
       "604        Star Wars: Episode II - Attack of the Clones        3.763681\n",
       "282                                 Requiem for a Dream        3.760956\n",
       "10                                    Kill Bill: Vol. 1        3.758013\n",
       "184                                         The Pianist        3.747534\n",
       "81                                                  Saw        3.736689\n",
       "1002                                        Equilibrium        3.735009\n",
       "4082                                       Interstellar        3.732979\n",
       "2691                                             Avatar        3.713939\n",
       "297                                              Oldboy        3.708422\n",
       "553                                                 Ray        3.707013\n",
       "87                                  Lucky Number Slevin        3.706359\n",
       "619                                          The Others        3.701443\n",
       "2240                                          Star Trek        3.696514\n",
       "194                                    A Beautiful Mind        3.696267\n",
       "2212                                           Watchmen        3.696177"
      ]
     },
     "execution_count": 34,
     "metadata": {},
     "output_type": "execute_result"
    }
   ],
   "source": [
    "user231_prediction = user_rating_prediction(231, result, 'Aliens', 44)\n",
    "user231_prediction"
   ]
  },
  {
   "cell_type": "markdown",
   "metadata": {},
   "source": [
    "## movietitle에 해당하는 영화에 평점 5점을 남긴 유저의 아이디 목록을 출력"
   ]
  },
  {
   "cell_type": "code",
   "execution_count": 35,
   "metadata": {},
   "outputs": [],
   "source": [
    "def title2userlist(movietitle):\n",
    "    movie_id = movieId_list.index[movieId_list['title'] == movietitle].tolist()[0]\n",
    "    user_id_list = ratings_df[ratings_df['movieId'] == movie_id][ratings_df['rating'] == 5.0].sort_values('count', ascending=False)['userId'].values\n",
    "    return user_id_list"
   ]
  },
  {
   "cell_type": "markdown",
   "metadata": {},
   "source": [
    "## 위에 정의된 함수들을 통해 유저 100명에 해당하는 영화의 목록을 출력"
   ]
  },
  {
   "cell_type": "code",
   "execution_count": 36,
   "metadata": {},
   "outputs": [],
   "source": [
    "def get_recommendation_by_title(movietitle, set_count=100, recom_count=10):\n",
    "    user_id_list = title2userlist(movietitle)\n",
    "    prediction_results = list()\n",
    "    for user_id in user_id_list:\n",
    "        if len(prediction_results) == set_count:\n",
    "            break\n",
    "        temp_list = user_rating_prediction(user_id, result, movietitle, recom_count)['title'].values\n",
    "        if len(temp_list) == recom_count:\n",
    "            prediction_results.append(temp_list)\n",
    "    return prediction_results"
   ]
  },
  {
   "cell_type": "markdown",
   "metadata": {},
   "source": [
    "## Aliens 영화를 좋아하는 유저 100명이 좋아할 만한 영화의 목록을 출력"
   ]
  },
  {
   "cell_type": "code",
   "execution_count": 37,
   "metadata": {
    "scrolled": true
   },
   "outputs": [
    {
     "name": "stderr",
     "output_type": "stream",
     "text": [
      "C:\\Anaconda3\\lib\\site-packages\\ipykernel_launcher.py:3: UserWarning: Boolean Series key will be reindexed to match DataFrame index.\n",
      "  This is separate from the ipykernel package so we can avoid doing imports until\n"
     ]
    },
    {
     "name": "stdout",
     "output_type": "stream",
     "text": [
      "Wall time: 4.06 s\n"
     ]
    },
    {
     "data": {
      "text/plain": [
       "[array(['The Lord of the Rings: The Fellowship of the Ring',\n",
       "        'The Lord of the Rings: The Two Towers',\n",
       "        'The Lord of the Rings: The Return of the King', 'Deadpool',\n",
       "        'Guardians of the Galaxy',\n",
       "        'Harry Potter and the Prisoner of Azkaban', 'The Dark Knight',\n",
       "        'Toy Story 3', 'Shaun of the Dead', 'Hot Fuzz'], dtype=object),\n",
       " array(['Memento', 'The Lord of the Rings: The Fellowship of the Ring',\n",
       "        'The Lord of the Rings: The Return of the King',\n",
       "        'The Lord of the Rings: The Two Towers', 'The Dark Knight',\n",
       "        'Gone Girl', 'Inception', 'Kill Bill: Vol. 1', 'Toy Story 3',\n",
       "        'The Departed'], dtype=object),\n",
       " array(['The Dark Knight', 'Inception', 'Gladiator',\n",
       "        'The Dark Knight Rises',\n",
       "        'The Lord of the Rings: The Fellowship of the Ring',\n",
       "        'The Matrix Reloaded', 'The Lord of the Rings: The Two Towers',\n",
       "        'The Lord of the Rings: The Return of the King', 'Interstellar',\n",
       "        'Memento'], dtype=object),\n",
       " array(['Kung Fu Hustle', 'Amélie', 'Serenity', 'The Incredibles',\n",
       "        'Scott Pilgrim vs. the World', 'Hot Fuzz', 'Kill Bill: Vol. 1',\n",
       "        'Stranger Than Fiction', 'Kill Bill: Vol. 2', 'Shaun of the Dead'],\n",
       "       dtype=object),\n",
       " array(['The Dark Knight',\n",
       "        'The Lord of the Rings: The Fellowship of the Ring',\n",
       "        'The Lord of the Rings: The Return of the King',\n",
       "        'The Lord of the Rings: The Two Towers', 'Inception',\n",
       "        'The Dark Knight Rises', 'Gladiator', 'Memento', 'Interstellar',\n",
       "        'The Departed'], dtype=object),\n",
       " array(['The Lord of the Rings: The Fellowship of the Ring', 'Downfall',\n",
       "        'The Lord of the Rings: The Two Towers',\n",
       "        'The Lord of the Rings: The Return of the King',\n",
       "        'The Lives of Others', 'City of God', 'The Pianist',\n",
       "        'No Country for Old Men', 'Memento', 'Million Dollar Baby'],\n",
       "       dtype=object),\n",
       " array(['Memento', 'No Country for Old Men', 'The Departed', 'City of God',\n",
       "        'Eternal Sunshine of the Spotless Mind', 'Inception', 'Whiplash',\n",
       "        'Requiem for a Dream', 'The Dark Knight', 'Snatch'], dtype=object),\n",
       " array(['The Lord of the Rings: The Fellowship of the Ring',\n",
       "        'The Dark Knight', 'Serenity',\n",
       "        'The Lord of the Rings: The Return of the King',\n",
       "        'The Lord of the Rings: The Two Towers', 'The Incredibles',\n",
       "        'Shaun of the Dead', 'Batman Begins', 'Mad Max: Fury Road',\n",
       "        'Kill Bill: Vol. 1'], dtype=object),\n",
       " array(['Toy Story 3', 'The Incredibles', 'Inside Out', 'Up',\n",
       "        'Finding Nemo', 'The Lego Movie', 'The Dark Knight',\n",
       "        'Mad Max: Fury Road', 'Monsters, Inc.', 'There Will Be Blood'],\n",
       "       dtype=object),\n",
       " array(['Amélie', 'Memento',\n",
       "        'The Lord of the Rings: The Fellowship of the Ring',\n",
       "        'Eternal Sunshine of the Spotless Mind', 'City of God',\n",
       "        'The Lord of the Rings: The Two Towers',\n",
       "        'Crouching Tiger, Hidden Dragon',\n",
       "        'The Lord of the Rings: The Return of the King',\n",
       "        'Lost in Translation', 'The Dark Knight'], dtype=object),\n",
       " array(['Mad Max: Fury Road', 'No Country for Old Men',\n",
       "        'There Will Be Blood', 'The Grand Budapest Hotel',\n",
       "        'Lost in Translation', 'The Royal Tenenbaums', 'Spirited Away',\n",
       "        'Moon', 'Moonrise Kingdom',\n",
       "        'Eternal Sunshine of the Spotless Mind'], dtype=object),\n",
       " array(['Toy Story 3', 'No Country for Old Men', 'City of God', 'WALL·E',\n",
       "        'Memento', 'There Will Be Blood', 'The Incredibles',\n",
       "        'The Lives of Others', 'Up', 'The Dark Knight'], dtype=object),\n",
       " array(['City of God', 'The Lives of Others', 'The Departed', 'Downfall',\n",
       "        'Whiplash', 'No Country for Old Men', 'Memento', 'Toy Story 3',\n",
       "        'Up', 'Amélie'], dtype=object),\n",
       " array(['The Lord of the Rings: The Fellowship of the Ring',\n",
       "        'The Lord of the Rings: The Two Towers',\n",
       "        'The Lord of the Rings: The Return of the King',\n",
       "        'The Lives of Others', 'Downfall', 'No Country for Old Men',\n",
       "        'City of God', 'Snatch', 'The Departed', 'Amélie'], dtype=object),\n",
       " array(['Kill Bill: Vol. 1', 'Sin City', 'Kill Bill: Vol. 2', 'Snatch',\n",
       "        'Django Unchained', 'The Dark Knight', 'Inglourious Basterds',\n",
       "        'Mad Max: Fury Road', 'Kung Fu Hustle', 'The Avengers'],\n",
       "       dtype=object),\n",
       " array(['The Lord of the Rings: The Fellowship of the Ring',\n",
       "        'The Lord of the Rings: The Two Towers',\n",
       "        'The Lord of the Rings: The Return of the King',\n",
       "        'No Country for Old Men', 'Toy Story 3', 'Memento',\n",
       "        'The Dark Knight', 'The Incredibles', 'City of God',\n",
       "        'The Departed'], dtype=object),\n",
       " array(['The Lord of the Rings: The Fellowship of the Ring',\n",
       "        'The Lord of the Rings: The Return of the King',\n",
       "        'The Lord of the Rings: The Two Towers', 'The Dark Knight',\n",
       "        'City of God', 'WALL·E', 'Memento', 'Amélie', 'Toy Story 3',\n",
       "        'The Incredibles'], dtype=object),\n",
       " array(['The Dark Knight', 'No Country for Old Men', 'The Departed',\n",
       "        'The Lord of the Rings: The Fellowship of the Ring', 'City of God',\n",
       "        'The Lord of the Rings: The Two Towers', 'Memento',\n",
       "        'The Lord of the Rings: The Return of the King',\n",
       "        'Guardians of the Galaxy', 'Inception'], dtype=object),\n",
       " array(['No Country for Old Men', 'The Departed', 'The Dark Knight',\n",
       "        'City of God', 'The Revenant', 'There Will Be Blood', 'Inception',\n",
       "        'Memento', 'The Wolf of Wall Street', 'Whiplash'], dtype=object),\n",
       " array(['The Lord of the Rings: The Fellowship of the Ring',\n",
       "        'The Lord of the Rings: The Return of the King',\n",
       "        'The Lord of the Rings: The Two Towers', 'The Incredibles',\n",
       "        'Finding Nemo', 'Shrek', 'Star Trek', 'Toy Story 3', 'Amélie',\n",
       "        'WALL·E'], dtype=object),\n",
       " array(['The Dark Knight', 'No Country for Old Men', 'Mad Max: Fury Road',\n",
       "        'Batman Begins', 'There Will Be Blood', 'District 9', 'Moon',\n",
       "        'Star Trek', 'Guardians of the Galaxy', 'Casino Royale'],\n",
       "       dtype=object),\n",
       " array(['The Lord of the Rings: The Fellowship of the Ring',\n",
       "        'Mad Max: Fury Road', 'The Dark Knight',\n",
       "        'The Lord of the Rings: The Return of the King',\n",
       "        'The Lord of the Rings: The Two Towers', 'Sin City',\n",
       "        'Shaun of the Dead', 'Kill Bill: Vol. 1', '300',\n",
       "        'Dawn of the Dead'], dtype=object),\n",
       " array(['Toy Story 3', 'There Will Be Blood', 'Inside Out', 'Whiplash',\n",
       "        'The Incredibles', 'Mad Max: Fury Road', 'Finding Nemo', 'Up',\n",
       "        'Monsters, Inc.', 'The Lego Movie'], dtype=object),\n",
       " array(['No Country for Old Men', 'Mulholland Drive',\n",
       "        'Eternal Sunshine of the Spotless Mind', 'Birdman',\n",
       "        'Lost in Translation', 'Black Swan', 'Dancer in the Dark',\n",
       "        'There Will Be Blood',\n",
       "        'The Lord of the Rings: The Fellowship of the Ring', 'City of God'],\n",
       "       dtype=object),\n",
       " array(['Shaun of the Dead', 'Moon', 'Mad Max: Fury Road',\n",
       "        'O Brother, Where Art Thou?', 'Hot Fuzz', 'No Country for Old Men',\n",
       "        'There Will Be Blood', 'Oldboy',\n",
       "        'The Lord of the Rings: The Fellowship of the Ring',\n",
       "        'Children of Men'], dtype=object),\n",
       " array(['The Lord of the Rings: The Fellowship of the Ring',\n",
       "        'The Lord of the Rings: The Return of the King',\n",
       "        'The Lord of the Rings: The Two Towers', 'Memento',\n",
       "        'The Lives of Others', 'City of God', 'No Country for Old Men',\n",
       "        'Traffic', 'Toy Story 3', 'Whiplash'], dtype=object),\n",
       " array(['The Avengers', 'Iron Man', 'The Dark Knight',\n",
       "        'Captain America: The Winter Soldier', 'Guardians of the Galaxy',\n",
       "        'The Lord of the Rings: The Fellowship of the Ring',\n",
       "        'The Lord of the Rings: The Return of the King',\n",
       "        'The Lord of the Rings: The Two Towers',\n",
       "        'How to Train Your Dragon', 'Deadpool'], dtype=object),\n",
       " array(['The Lord of the Rings: The Fellowship of the Ring', 'City of God',\n",
       "        'Oldboy', 'Memento', 'Requiem for a Dream', 'Amélie',\n",
       "        'Donnie Darko', 'WALL·E', 'Spirited Away', 'Sin City'],\n",
       "       dtype=object),\n",
       " array(['Memento', 'Inception', 'Whiplash', 'Spider-Man 2',\n",
       "        'The Dark Knight', 'Gravity',\n",
       "        'The Lord of the Rings: The Fellowship of the Ring', 'Gone Girl',\n",
       "        'Mystic River', 'The Social Network'], dtype=object),\n",
       " array(['The Dark Knight', 'Memento', 'No Country for Old Men', 'Sin City',\n",
       "        'Kill Bill: Vol. 1', 'Inception', 'City of God',\n",
       "        'The Lord of the Rings: The Fellowship of the Ring',\n",
       "        'Kill Bill: Vol. 2', 'Oldboy'], dtype=object),\n",
       " array(['The Incredibles', 'Iron Man',\n",
       "        'The Lord of the Rings: The Fellowship of the Ring', 'Gladiator',\n",
       "        'Star Trek', 'Monsters, Inc.', 'Edge of Tomorrow',\n",
       "        'The Lord of the Rings: The Two Towers',\n",
       "        'The Lord of the Rings: The Return of the King', 'Shrek'],\n",
       "       dtype=object),\n",
       " array(['No Country for Old Men', 'Mad Max: Fury Road',\n",
       "        'There Will Be Blood', 'Mulholland Drive', 'Oldboy', 'City of God',\n",
       "        'The Lord of the Rings: The Fellowship of the Ring',\n",
       "        'Lost in Translation', 'Kill Bill: Vol. 1', 'Kill Bill: Vol. 2'],\n",
       "       dtype=object),\n",
       " array(['Memento', 'No Country for Old Men',\n",
       "        'Eternal Sunshine of the Spotless Mind', 'Amélie',\n",
       "        'The Lives of Others', 'Mad Max: Fury Road',\n",
       "        'The Grand Budapest Hotel', 'Whiplash', 'The Departed',\n",
       "        'Toy Story 3'], dtype=object),\n",
       " array(['Inception', 'Gladiator',\n",
       "        'The Lord of the Rings: The Fellowship of the Ring',\n",
       "        'The Lord of the Rings: The Return of the King',\n",
       "        'The Lord of the Rings: The Two Towers', 'The Wolf of Wall Street',\n",
       "        'The Departed', 'The Dark Knight', 'Edge of Tomorrow',\n",
       "        'The Prestige'], dtype=object),\n",
       " array(['No Country for Old Men', 'There Will Be Blood',\n",
       "        'The Grand Budapest Hotel', 'Whiplash', 'The Royal Tenenbaums',\n",
       "        'City of God', 'The Dark Knight', 'Amélie', 'Lost in Translation',\n",
       "        'Moonrise Kingdom'], dtype=object),\n",
       " array(['The Lord of the Rings: The Fellowship of the Ring',\n",
       "        'The Lord of the Rings: The Return of the King',\n",
       "        'The Lord of the Rings: The Two Towers', 'The Dark Knight',\n",
       "        'Mad Max: Fury Road', 'Gladiator', 'Inception',\n",
       "        'The Dark Knight Rises', 'Memento', 'Batman Begins'], dtype=object),\n",
       " array(['The Lord of the Rings: The Fellowship of the Ring',\n",
       "        'The Lord of the Rings: The Return of the King',\n",
       "        'The Lord of the Rings: The Two Towers', 'Downfall',\n",
       "        'The Bourne Ultimatum', 'The Lives of Others', 'Casino Royale',\n",
       "        'Traffic', 'Crouching Tiger, Hidden Dragon', 'The Incredibles'],\n",
       "       dtype=object),\n",
       " array(['Batman Begins', 'X-Men: First Class',\n",
       "        'X-Men: Days of Future Past', 'Star Trek', 'The Dark Knight',\n",
       "        'Star Trek Into Darkness', 'Memento', 'Kung Fu Hustle',\n",
       "        'Guardians of the Galaxy', 'Serenity'], dtype=object),\n",
       " array(['Eternal Sunshine of the Spotless Mind', 'Memento',\n",
       "        'The Lord of the Rings: The Fellowship of the Ring',\n",
       "        'Brokeback Mountain', 'Amélie', 'Lost in Translation',\n",
       "        'No Country for Old Men', 'About a Boy',\n",
       "        'The Lord of the Rings: The Two Towers', 'Toy Story 3'],\n",
       "       dtype=object),\n",
       " array(['No Country for Old Men', 'Memento', 'Moon', 'Whiplash',\n",
       "        'City of God', 'Children of Men', 'Downfall',\n",
       "        'There Will Be Blood', 'The Lives of Others', '28 Days Later'],\n",
       "       dtype=object),\n",
       " array(['The Dark Knight', 'Iron Man', 'The Avengers', 'Toy Story 3',\n",
       "        'The Departed', 'The Incredibles', 'Gladiator', 'Batman Begins',\n",
       "        'The Lord of the Rings: The Two Towers', 'The Hangover'],\n",
       "       dtype=object),\n",
       " array(['Toy Story 3', 'Spirited Away', 'Mad Max: Fury Road', 'Up',\n",
       "        'The Lives of Others', 'Inside Out', 'City of God', 'Ratatouille',\n",
       "        'Whiplash', 'WALL·E'], dtype=object),\n",
       " array(['Inception', 'Memento', 'Oldboy', 'The Dark Knight', 'Whiplash',\n",
       "        'Inside Out', 'WALL·E', 'Interstellar', 'The Prestige',\n",
       "        'The Lord of the Rings: The Fellowship of the Ring'], dtype=object),\n",
       " array(['Memento', 'The Lives of Others',\n",
       "        'The Lord of the Rings: The Fellowship of the Ring', 'City of God',\n",
       "        'Amélie', 'Eternal Sunshine of the Spotless Mind', 'Whiplash',\n",
       "        'Downfall', 'The Lord of the Rings: The Two Towers',\n",
       "        'Before Sunset'], dtype=object),\n",
       " array(['No Country for Old Men', 'The Revenant', 'The Departed',\n",
       "        'Memento', 'There Will Be Blood', 'The Dark Knight', 'City of God',\n",
       "        'Inception', 'The Wrestler', 'Children of Men'], dtype=object),\n",
       " array(['The Matrix Revolutions', 'The Matrix Reloaded',\n",
       "        'War of the Worlds', 'X-Men: The Last Stand', 'Underworld',\n",
       "        'Avatar', 'X-Men Origins: Wolverine', 'Spider-Man 3', 'Hulk',\n",
       "        '2012'], dtype=object),\n",
       " array(['Whiplash', 'The Dark Knight', 'City of God',\n",
       "        'The Lord of the Rings: The Fellowship of the Ring', 'Oldboy',\n",
       "        'Mad Max: Fury Road',\n",
       "        'The Lord of the Rings: The Return of the King',\n",
       "        'The Lord of the Rings: The Two Towers', 'Requiem for a Dream',\n",
       "        'Inception'], dtype=object),\n",
       " array(['No Country for Old Men', 'There Will Be Blood',\n",
       "        'Mulholland Drive', 'The Lives of Others', 'Downfall', 'Memento',\n",
       "        'The Wrestler', 'City of God', 'Toy Story 3', 'Oldboy'],\n",
       "       dtype=object),\n",
       " array(['No Country for Old Men', 'The Departed', 'Memento',\n",
       "        'There Will Be Blood', 'City of God', 'The Revenant',\n",
       "        'The Dark Knight', 'Drive', 'Whiplash', 'Inception'], dtype=object),\n",
       " array(['No Country for Old Men',\n",
       "        'The Lord of the Rings: The Fellowship of the Ring',\n",
       "        'Mulholland Drive', 'Sideways', 'There Will Be Blood',\n",
       "        'The Lord of the Rings: The Return of the King',\n",
       "        'The Lives of Others', 'Lost in Translation',\n",
       "        'The Lord of the Rings: The Two Towers', 'Toy Story 3'],\n",
       "       dtype=object),\n",
       " array(['Toy Story 3', 'The Dark Knight', 'The Incredibles',\n",
       "        'Finding Nemo',\n",
       "        'The Lord of the Rings: The Fellowship of the Ring',\n",
       "        'Harry Potter and the Prisoner of Azkaban',\n",
       "        'The Lord of the Rings: The Return of the King', 'Star Trek',\n",
       "        'The Lord of the Rings: The Two Towers',\n",
       "        'Star Wars: Episode III - Revenge of the Sith'], dtype=object),\n",
       " array(['The Lord of the Rings: The Fellowship of the Ring', 'Star Trek',\n",
       "        'The Lord of the Rings: The Return of the King',\n",
       "        'The Lord of the Rings: The Two Towers', 'Serenity', 'Inside Out',\n",
       "        'How to Train Your Dragon', 'Guardians of the Galaxy',\n",
       "        'Pride & Prejudice', 'Iron Man'], dtype=object),\n",
       " array(['Amélie', 'Eternal Sunshine of the Spotless Mind', 'City of God',\n",
       "        'Memento', 'Donnie Darko', 'The Lives of Others',\n",
       "        'Requiem for a Dream', 'No Country for Old Men', \"Pan's Labyrinth\",\n",
       "        'Juno'], dtype=object),\n",
       " array(['No Country for Old Men',\n",
       "        'Borat: Cultural Learnings of America for Make Benefit Glorious Nation of Kazakhstan',\n",
       "        'There Will Be Blood', 'Traffic', 'Whiplash', 'City of God',\n",
       "        'The Wolf of Wall Street', 'Almost Famous', 'The Departed',\n",
       "        'Brokeback Mountain'], dtype=object),\n",
       " array(['Toy Story 3', 'The Lord of the Rings: The Fellowship of the Ring',\n",
       "        'Memento', 'The Dark Knight', 'The Incredibles',\n",
       "        'The Lord of the Rings: The Two Towers',\n",
       "        'The Lord of the Rings: The Return of the King',\n",
       "        'No Country for Old Men', 'Batman Begins', 'Inside Out'],\n",
       "       dtype=object),\n",
       " array(['Inception', 'The Lord of the Rings: The Fellowship of the Ring',\n",
       "        'Interstellar', 'The Dark Knight',\n",
       "        'The Lord of the Rings: The Return of the King',\n",
       "        'The Lord of the Rings: The Two Towers', 'Memento', 'The Martian',\n",
       "        'Amélie', 'The Dark Knight Rises'], dtype=object),\n",
       " array(['City of God', 'The Lives of Others', 'Downfall', 'Amélie',\n",
       "        'Toy Story 3', 'No Country for Old Men', 'Spirited Away',\n",
       "        'Memento', 'Mad Max: Fury Road', 'Whiplash'], dtype=object),\n",
       " array(['Edge of Tomorrow', 'The Bourne Supremacy', 'The Bourne Ultimatum',\n",
       "        'The Bourne Identity', 'The Dark Knight', 'Star Trek',\n",
       "        'Mission: Impossible - Ghost Protocol', 'Casino Royale', 'Taken',\n",
       "        'Batman Begins'], dtype=object),\n",
       " array(['The Lord of the Rings: The Fellowship of the Ring',\n",
       "        'The Lord of the Rings: The Return of the King',\n",
       "        'The Lord of the Rings: The Two Towers', 'City of God', 'Memento',\n",
       "        'The Lives of Others', 'Whiplash', 'No Country for Old Men',\n",
       "        'Snatch', 'Toy Story 3'], dtype=object),\n",
       " array(['Inside Out', 'Toy Story 3', 'Memento', 'Requiem for a Dream',\n",
       "        'Inception', 'Gone Girl', 'Gravity', 'Whiplash',\n",
       "        'The Lives of Others', 'Black Swan'], dtype=object),\n",
       " array(['No Country for Old Men', 'The Departed', 'The Revenant',\n",
       "        'The Dark Knight', 'There Will Be Blood', 'City of God', 'Memento',\n",
       "        'Drive', 'Inception', 'Whiplash'], dtype=object),\n",
       " array(['Mad Max: Fury Road', 'No Country for Old Men', 'The Incredibles',\n",
       "        'Kill Bill: Vol. 1', 'Kill Bill: Vol. 2', 'Shaun of the Dead',\n",
       "        'City of God', 'Toy Story 3',\n",
       "        'The Lord of the Rings: The Fellowship of the Ring',\n",
       "        'Crouching Tiger, Hidden Dragon'], dtype=object),\n",
       " array(['No Country for Old Men', 'Eternal Sunshine of the Spotless Mind',\n",
       "        'Brokeback Mountain', 'Birdman', 'Mad Max: Fury Road',\n",
       "        'The Lord of the Rings: The Fellowship of the Ring',\n",
       "        'There Will Be Blood', 'Lost in Translation',\n",
       "        'The Royal Tenenbaums', 'Toy Story 3'], dtype=object),\n",
       " array(['The Blind Side', 'A Beautiful Mind', 'Avatar', 'Gladiator',\n",
       "        'Memento', 'The Imitation Game',\n",
       "        'The Lord of the Rings: The Fellowship of the Ring',\n",
       "        'The Lord of the Rings: The Two Towers', 'The Martian',\n",
       "        'Inception'], dtype=object),\n",
       " array(['The Lord of the Rings: The Fellowship of the Ring',\n",
       "        'The Lord of the Rings: The Return of the King',\n",
       "        'No Country for Old Men', 'The Lord of the Rings: The Two Towers',\n",
       "        'There Will Be Blood', 'City of God', 'The Lives of Others',\n",
       "        'Whiplash', 'Oldboy', 'Brokeback Mountain'], dtype=object),\n",
       " array(['The Lives of Others', 'City of God', 'Requiem for a Dream',\n",
       "        'Downfall', 'The Lord of the Rings: The Fellowship of the Ring',\n",
       "        'Oldboy', 'The Pianist', 'Mystic River', 'No Country for Old Men',\n",
       "        'Million Dollar Baby'], dtype=object),\n",
       " array(['Lost in Translation', 'No Country for Old Men',\n",
       "        'Mulholland Drive', 'Brokeback Mountain', 'There Will Be Blood',\n",
       "        'Before Sunset', 'Gosford Park', 'Crouching Tiger, Hidden Dragon',\n",
       "        'Adaptation.', 'Y Tu Mamá También'], dtype=object),\n",
       " array(['The Lord of the Rings: The Fellowship of the Ring',\n",
       "        'The Lord of the Rings: The Two Towers',\n",
       "        'The Lord of the Rings: The Return of the King', 'The Dark Knight',\n",
       "        'The Avengers', 'Iron Man', 'Batman Begins', 'Gladiator',\n",
       "        'Guardians of the Galaxy', 'The Dark Knight Rises'], dtype=object),\n",
       " array(['The Lord of the Rings: The Fellowship of the Ring',\n",
       "        'The Lord of the Rings: The Return of the King',\n",
       "        'The Lord of the Rings: The Two Towers', 'The Avengers',\n",
       "        'The Incredibles', 'Guardians of the Galaxy', 'Star Trek',\n",
       "        'WALL·E', 'Up', 'Toy Story 3'], dtype=object),\n",
       " array(['The Dark Knight', 'The Departed', 'No Country for Old Men',\n",
       "        'Casino Royale', 'Memento', 'Inglourious Basterds',\n",
       "        'The Social Network', 'City of God',\n",
       "        'The Lord of the Rings: The Fellowship of the Ring', 'Downfall'],\n",
       "       dtype=object),\n",
       " array(['Mulholland Drive', 'Mad Max: Fury Road', 'Brokeback Mountain',\n",
       "        'Black Swan', 'Her', 'Nightcrawler', 'Ex Machina',\n",
       "        'There Will Be Blood', 'The Revenant', 'Gravity'], dtype=object),\n",
       " array(['Gladiator', 'Batman Begins', 'The Bourne Ultimatum',\n",
       "        'The Lord of the Rings: The Return of the King', 'Casino Royale',\n",
       "        'The Dark Knight', 'The Lord of the Rings: The Two Towers',\n",
       "        'The Lord of the Rings: The Fellowship of the Ring', 'Inception',\n",
       "        'The Dark Knight Rises'], dtype=object),\n",
       " array(['The Incredibles', 'Black Hawk Down', 'Iron Man', 'The Martian',\n",
       "        'Edge of Tomorrow', 'Gladiator', 'Shrek', 'Finding Nemo',\n",
       "        'Monsters, Inc.',\n",
       "        'The Lord of the Rings: The Fellowship of the Ring'], dtype=object),\n",
       " array(['Lost in Translation', 'No Country for Old Men', 'Before Sunset',\n",
       "        'Mulholland Drive', 'Mad Max: Fury Road', 'Brokeback Mountain',\n",
       "        'There Will Be Blood', 'Gosford Park', 'Toy Story 3',\n",
       "        'Adaptation.'], dtype=object),\n",
       " array(['There Will Be Blood', 'City of God', 'No Country for Old Men',\n",
       "        'The Grand Budapest Hotel', 'Oldboy', 'Lost in Translation',\n",
       "        'Spirited Away', 'Eternal Sunshine of the Spotless Mind',\n",
       "        'The Lives of Others', 'Mulholland Drive'], dtype=object),\n",
       " array(['The Dark Knight',\n",
       "        'The Lord of the Rings: The Fellowship of the Ring',\n",
       "        'The Lord of the Rings: The Return of the King',\n",
       "        'The Lord of the Rings: The Two Towers', 'Inception',\n",
       "        'Interstellar', 'WALL·E', 'The Dark Knight Rises', 'Casino Royale',\n",
       "        'Star Trek'], dtype=object),\n",
       " array(['Lost in Translation', 'No Country for Old Men', 'Before Sunset',\n",
       "        'Eternal Sunshine of the Spotless Mind', 'Spirited Away',\n",
       "        'Birdman', 'WALL·E', 'There Will Be Blood', 'Adaptation.',\n",
       "        'Amélie'], dtype=object),\n",
       " array(['The Lord of the Rings: The Fellowship of the Ring',\n",
       "        'The Lord of the Rings: The Return of the King',\n",
       "        'The Lord of the Rings: The Two Towers', 'There Will Be Blood',\n",
       "        'No Country for Old Men', 'The Lives of Others', 'Whiplash',\n",
       "        'City of God', \"Pan's Labyrinth\", 'Oldboy'], dtype=object),\n",
       " array(['The Lord of the Rings: The Fellowship of the Ring',\n",
       "        'The Lives of Others', 'Spirited Away',\n",
       "        'The Lord of the Rings: The Return of the King', 'Amélie',\n",
       "        'The Lord of the Rings: The Two Towers', 'Dancer in the Dark',\n",
       "        'WALL·E', 'Up', 'City of God'], dtype=object),\n",
       " array(['Mad Max: Fury Road', 'Whiplash', 'Inception',\n",
       "        'No Country for Old Men', 'The Wolf of Wall Street',\n",
       "        'The Dark Knight', 'Mulholland Drive', 'The Departed', 'Gravity',\n",
       "        'The Girl with the Dragon Tattoo'], dtype=object),\n",
       " array(['Spirited Away',\n",
       "        'The Lord of the Rings: The Fellowship of the Ring',\n",
       "        'The Lives of Others', 'Amélie',\n",
       "        'The Lord of the Rings: The Return of the King',\n",
       "        'Dancer in the Dark', 'WALL·E',\n",
       "        'The Lord of the Rings: The Two Towers', 'City of God', 'Up'],\n",
       "       dtype=object),\n",
       " array(['The Lord of the Rings: The Fellowship of the Ring',\n",
       "        'The Lives of Others', 'Hotel Rwanda', 'Million Dollar Baby',\n",
       "        'The Lord of the Rings: The Return of the King',\n",
       "        'The Lord of the Rings: The Two Towers', \"The King's Speech\",\n",
       "        'Toy Story 3', 'Cinderella Man', 'Gran Torino'], dtype=object),\n",
       " array(['Whiplash', 'Toy Story 3', 'Inside Out', 'Up', 'Finding Nemo',\n",
       "        'WALL·E', 'The Lord of the Rings: The Fellowship of the Ring',\n",
       "        'The Lord of the Rings: The Return of the King', 'The Incredibles',\n",
       "        'The Dark Knight'], dtype=object),\n",
       " array(['The Lord of the Rings: The Fellowship of the Ring',\n",
       "        'The Lord of the Rings: The Two Towers',\n",
       "        'The Lord of the Rings: The Return of the King', 'Toy Story 3',\n",
       "        'The Dark Knight', 'The Incredibles', 'Memento', 'City of God',\n",
       "        'The Departed', 'Whiplash'], dtype=object),\n",
       " array(['Whiplash', 'The Lives of Others', 'Toy Story 3',\n",
       "        'No Country for Old Men', 'There Will Be Blood', 'Inside Out',\n",
       "        'Downfall', 'Her', 'Up', 'City of God'], dtype=object),\n",
       " array(['Toy Story 3', 'Million Dollar Baby',\n",
       "        'The Lord of the Rings: The Fellowship of the Ring',\n",
       "        'Finding Nemo', 'The Lord of the Rings: The Return of the King',\n",
       "        'The Lord of the Rings: The Two Towers', 'Silver Linings Playbook',\n",
       "        'Memento', 'Mystic River', 'Whiplash'], dtype=object),\n",
       " array(['Brokeback Mountain', 'Nightcrawler', 'Black Swan', 'Memento',\n",
       "        'Ex Machina', 'Her', 'Mulholland Drive', 'Inception', 'The Others',\n",
       "        'Requiem for a Dream'], dtype=object),\n",
       " array(['Toy Story 3', 'The Lord of the Rings: The Fellowship of the Ring',\n",
       "        'The Lord of the Rings: The Return of the King',\n",
       "        'The Lord of the Rings: The Two Towers', 'Downfall', 'Gladiator',\n",
       "        'Casino Royale', 'No Country for Old Men', 'Up', 'Finding Nemo'],\n",
       "       dtype=object),\n",
       " array(['City of God', 'Oldboy', 'No Country for Old Men',\n",
       "        'The Lord of the Rings: The Fellowship of the Ring',\n",
       "        'Donnie Darko', 'There Will Be Blood', 'Shaun of the Dead',\n",
       "        'Spirited Away', 'Sin City', 'Mulholland Drive'], dtype=object),\n",
       " array(['Memento', 'The Lives of Others', 'Downfall', 'Whiplash',\n",
       "        'City of God', 'No Country for Old Men', 'The Departed', 'Amélie',\n",
       "        'Little Miss Sunshine', 'The Wrestler'], dtype=object),\n",
       " array(['The Lord of the Rings: The Fellowship of the Ring',\n",
       "        'The Lord of the Rings: The Return of the King',\n",
       "        'The Lord of the Rings: The Two Towers', 'The Incredibles',\n",
       "        'Toy Story 3', 'Serenity', 'Star Trek', 'The Dark Knight',\n",
       "        'WALL·E', 'Batman Begins'], dtype=object),\n",
       " array(['The Lord of the Rings: The Fellowship of the Ring',\n",
       "        'Mad Max: Fury Road', 'Shaun of the Dead',\n",
       "        'The Lord of the Rings: The Return of the King', 'The Dark Knight',\n",
       "        'The Lord of the Rings: The Two Towers', 'The Incredibles',\n",
       "        'Serenity', 'Guardians of the Galaxy', 'Snatch'], dtype=object),\n",
       " array(['Kill Bill: Vol. 1', 'No Country for Old Men', 'City of God',\n",
       "        'Kill Bill: Vol. 2',\n",
       "        'The Lord of the Rings: The Fellowship of the Ring',\n",
       "        'Lost in Translation', 'Mad Max: Fury Road', 'The Dark Knight',\n",
       "        'There Will Be Blood', 'Drive'], dtype=object),\n",
       " array(['The Lord of the Rings: The Fellowship of the Ring',\n",
       "        'The Lord of the Rings: The Return of the King',\n",
       "        'The Lord of the Rings: The Two Towers', 'Edge of Tomorrow',\n",
       "        'Mad Max: Fury Road', 'Serenity', 'Star Trek',\n",
       "        'Harry Potter and the Prisoner of Azkaban', 'The Martian',\n",
       "        'Inception'], dtype=object),\n",
       " array(['The Lord of the Rings: The Fellowship of the Ring',\n",
       "        'The Lord of the Rings: The Return of the King',\n",
       "        'The Lord of the Rings: The Two Towers', 'The Dark Knight',\n",
       "        'Toy Story 3', 'Star Trek', 'Up', 'The Incredibles', 'Avatar',\n",
       "        'Batman Begins'], dtype=object),\n",
       " array(['The Lord of the Rings: The Fellowship of the Ring',\n",
       "        'The Lord of the Rings: The Return of the King',\n",
       "        'The Lord of the Rings: The Two Towers', 'Memento', 'Amélie',\n",
       "        'City of God', 'Crouching Tiger, Hidden Dragon', 'The Incredibles',\n",
       "        'Juno', 'O Brother, Where Art Thou?'], dtype=object),\n",
       " array(['No Country for Old Men',\n",
       "        'The Lord of the Rings: The Fellowship of the Ring',\n",
       "        'The Lord of the Rings: The Return of the King',\n",
       "        'There Will Be Blood', 'The Lord of the Rings: The Two Towers',\n",
       "        'Lost in Translation', 'Brokeback Mountain', 'The Lives of Others',\n",
       "        'Gosford Park', 'City of God'], dtype=object),\n",
       " array(['Amélie', 'Spirited Away',\n",
       "        'The Lord of the Rings: The Fellowship of the Ring', 'Oldboy',\n",
       "        'The Lord of the Rings: The Return of the King', 'WALL·E',\n",
       "        'The Lives of Others', \"Pan's Labyrinth\",\n",
       "        'The Lord of the Rings: The Two Towers', 'Inception'], dtype=object),\n",
       " array(['No Country for Old Men',\n",
       "        'The Lord of the Rings: The Fellowship of the Ring', 'City of God',\n",
       "        'Kill Bill: Vol. 1', 'The Departed',\n",
       "        'The Lord of the Rings: The Return of the King',\n",
       "        'The Lord of the Rings: The Two Towers', 'The Lives of Others',\n",
       "        'Downfall', 'Oldboy'], dtype=object),\n",
       " array(['Toy Story 3', 'The Incredibles', 'Finding Nemo', 'WALL·E', 'Up',\n",
       "        'The Cabin in the Woods', 'Shaun of the Dead', 'Star Trek',\n",
       "        'Monsters, Inc.', 'Inside Out'], dtype=object)]"
      ]
     },
     "execution_count": 37,
     "metadata": {},
     "output_type": "execute_result"
    }
   ],
   "source": [
    "%time Aliens_recom_result = get_recommendation_by_title('Aliens', 100,10)\n",
    "Aliens_recom_result"
   ]
  },
  {
   "cell_type": "markdown",
   "metadata": {},
   "source": [
    "# Content-Based Recommendation"
   ]
  },
  {
   "cell_type": "code",
   "execution_count": 38,
   "metadata": {},
   "outputs": [],
   "source": [
    "movies_df = pd.read_csv(input_path + \"tmdb_5000_movies.csv\")\n",
    "credits_df = pd.read_csv(input_path + \"tmdb_5000_credits.csv\")\n",
    "\n",
    "# drop columns\n",
    "# budget, homepage, original_language, original_title, production_countries, release_date,\n",
    "# revenue, spoken_languages, status\n",
    "movies_df = movies_df.drop(columns=['budget', 'homepage', 'original_language', 'original_title', 'production_countries',\n",
    "                                    'release_date', 'revenue', 'spoken_languages', 'status', 'runtime', 'tagline'])\n",
    "\n",
    "credits_df = credits_df.drop(columns=['title'])\n",
    "credits_df.columns=['id', 'cast', 'crew']"
   ]
  },
  {
   "cell_type": "code",
   "execution_count": 39,
   "metadata": {},
   "outputs": [
    {
     "name": "stdout",
     "output_type": "stream",
     "text": [
      "4803\n"
     ]
    }
   ],
   "source": [
    "id_list_1 = list()\n",
    "for item in credits_df['id']:\n",
    "    if type(item) is not int:\n",
    "        print('Wrong Id data type')\n",
    "    id_list_1.append(item)\n",
    "print(len(id_list_1))\n",
    "\n",
    "for item in movies_df['id']:\n",
    "    if item not in id_list_1:\n",
    "        print('Id is not sufficient : ', item)"
   ]
  },
  {
   "cell_type": "code",
   "execution_count": 40,
   "metadata": {},
   "outputs": [
    {
     "data": {
      "text/html": [
       "<div>\n",
       "<style scoped>\n",
       "    .dataframe tbody tr th:only-of-type {\n",
       "        vertical-align: middle;\n",
       "    }\n",
       "\n",
       "    .dataframe tbody tr th {\n",
       "        vertical-align: top;\n",
       "    }\n",
       "\n",
       "    .dataframe thead th {\n",
       "        text-align: right;\n",
       "    }\n",
       "</style>\n",
       "<table border=\"1\" class=\"dataframe\">\n",
       "  <thead>\n",
       "    <tr style=\"text-align: right;\">\n",
       "      <th></th>\n",
       "      <th>genres</th>\n",
       "      <th>id</th>\n",
       "      <th>keywords</th>\n",
       "      <th>overview</th>\n",
       "      <th>popularity</th>\n",
       "      <th>production_companies</th>\n",
       "      <th>title</th>\n",
       "      <th>vote_average</th>\n",
       "      <th>vote_count</th>\n",
       "      <th>cast</th>\n",
       "      <th>crew</th>\n",
       "    </tr>\n",
       "  </thead>\n",
       "  <tbody>\n",
       "    <tr>\n",
       "      <th>0</th>\n",
       "      <td>[{\"id\": 28, \"name\": \"Action\"}, {\"id\": 12, \"nam...</td>\n",
       "      <td>19995</td>\n",
       "      <td>[{\"id\": 1463, \"name\": \"culture clash\"}, {\"id\":...</td>\n",
       "      <td>In the 22nd century, a paraplegic Marine is di...</td>\n",
       "      <td>150.437577</td>\n",
       "      <td>[{\"name\": \"Ingenious Film Partners\", \"id\": 289...</td>\n",
       "      <td>Avatar</td>\n",
       "      <td>7.2</td>\n",
       "      <td>11800</td>\n",
       "      <td>[{\"cast_id\": 242, \"character\": \"Jake Sully\", \"...</td>\n",
       "      <td>[{\"credit_id\": \"52fe48009251416c750aca23\", \"de...</td>\n",
       "    </tr>\n",
       "  </tbody>\n",
       "</table>\n",
       "</div>"
      ],
      "text/plain": [
       "                                              genres     id  \\\n",
       "0  [{\"id\": 28, \"name\": \"Action\"}, {\"id\": 12, \"nam...  19995   \n",
       "\n",
       "                                            keywords  \\\n",
       "0  [{\"id\": 1463, \"name\": \"culture clash\"}, {\"id\":...   \n",
       "\n",
       "                                            overview  popularity  \\\n",
       "0  In the 22nd century, a paraplegic Marine is di...  150.437577   \n",
       "\n",
       "                                production_companies   title  vote_average  \\\n",
       "0  [{\"name\": \"Ingenious Film Partners\", \"id\": 289...  Avatar           7.2   \n",
       "\n",
       "   vote_count                                               cast  \\\n",
       "0       11800  [{\"cast_id\": 242, \"character\": \"Jake Sully\", \"...   \n",
       "\n",
       "                                                crew  \n",
       "0  [{\"credit_id\": \"52fe48009251416c750aca23\", \"de...  "
      ]
     },
     "execution_count": 40,
     "metadata": {},
     "output_type": "execute_result"
    }
   ],
   "source": [
    "total_df = movies_df.join(credits_df.set_index('id'), on='id')\n",
    "total_df.head(1)"
   ]
  },
  {
   "cell_type": "code",
   "execution_count": 41,
   "metadata": {},
   "outputs": [],
   "source": [
    "total_df = total_df.drop_duplicates(['title'], keep='first')\n",
    "total_df = pd.DataFrame(total_df.values, columns=['genres', 'id', 'keywords', 'overview', 'popularity', 'production_companies', 'title', 'vote_average', 'vote_count', 'cast', 'crew'])\n",
    "#k.drop_duplicates(subset=['A'], keep=False)"
   ]
  },
  {
   "cell_type": "code",
   "execution_count": 42,
   "metadata": {},
   "outputs": [],
   "source": [
    "import json\n",
    "\n",
    "json_columns = ['genres', 'keywords', 'cast', 'crew', 'production_companies']\n",
    "for column in json_columns:\n",
    "    total_df[column] = total_df[column].apply(json.loads)"
   ]
  },
  {
   "cell_type": "code",
   "execution_count": 43,
   "metadata": {},
   "outputs": [
    {
     "name": "stdout",
     "output_type": "stream",
     "text": [
      "28\n"
     ]
    }
   ],
   "source": [
    "count=0\n",
    "for title, crew_list in zip(total_df['title'], total_df[\"crew\"]):\n",
    "    if not crew_list:\n",
    "        count+=1\n",
    "print(count)"
   ]
  },
  {
   "cell_type": "code",
   "execution_count": 44,
   "metadata": {},
   "outputs": [],
   "source": [
    "director_list = list()\n",
    "director_set = set()\n",
    "for title, crew_list in zip(total_df['title'], total_df['crew']):\n",
    "    temp = list()\n",
    "    for one_crew_dict in crew_list:\n",
    "        if one_crew_dict['job'] == 'Director':\n",
    "            temp.append(one_crew_dict['name'])\n",
    "            director_set.add(one_crew_dict['name'])\n",
    "    director_list.append(temp)"
   ]
  },
  {
   "cell_type": "code",
   "execution_count": 45,
   "metadata": {},
   "outputs": [
    {
     "name": "stdout",
     "output_type": "stream",
     "text": [
      "2575\n"
     ]
    }
   ],
   "source": [
    "director_dict = dict()\n",
    "director_dict = dict.fromkeys(director_set)\n",
    "count = 0\n",
    "for key in director_dict.keys():\n",
    "    director_dict[key] = count\n",
    "    count += 1\n",
    "director_rev_dict = {v:k for k,v in director_dict.items()}\n",
    "print(len(director_dict.keys()))"
   ]
  },
  {
   "cell_type": "code",
   "execution_count": 46,
   "metadata": {},
   "outputs": [
    {
     "name": "stdout",
     "output_type": "stream",
     "text": [
      "4800\n"
     ]
    }
   ],
   "source": [
    "director_vector = list()\n",
    "director_columns_name = list()\n",
    "\n",
    "# Director vectorize - one hot encoding\n",
    "for directors in director_list:\n",
    "    temp_director = [0]*len(director_dict.keys())\n",
    "    for director in directors:\n",
    "        temp_director[director_dict[director]] = 1\n",
    "    director_vector.append(temp_director)\n",
    "\n",
    "# Generate column names of Director dataframe\n",
    "for count in range(len(director_dict.keys())):\n",
    "    director_columns_name.append('Director' + str(count))\n",
    "    \n",
    "print(len(director_vector))\n",
    "Directors = pd.DataFrame(director_vector, columns=director_columns_name)"
   ]
  },
  {
   "cell_type": "code",
   "execution_count": 47,
   "metadata": {},
   "outputs": [],
   "source": [
    "pro_com_set = set()\n",
    "com_list_list = list()\n",
    "for company_list in total_df['production_companies']:\n",
    "    temp_com_list = list()\n",
    "    for company in company_list:\n",
    "        pro_com_set.add(company['name'])\n",
    "        temp_com_list.append(company['name'])\n",
    "    com_list_list.append(temp_com_list)\n",
    "\n",
    "pro_com_vectors = list()\n",
    "pro_com_dict = dict()\n",
    "pro_com_dict = dict.fromkeys(pro_com_set)\n",
    "count = 0\n",
    "for keyitem in pro_com_dict.keys():\n",
    "    pro_com_dict[keyitem] = count\n",
    "    count += 1\n",
    "\n",
    "for com_list in com_list_list:\n",
    "    temp_vec = [0]*5017\n",
    "    for com in com_list:\n",
    "        temp_vec[pro_com_dict[com]] = 1\n",
    "    pro_com_vectors.append(temp_vec)\n",
    "\n",
    "production_com_columns = list()\n",
    "for i in range(5017):\n",
    "    temp_name = 'company' + str(i)\n",
    "    production_com_columns.append(temp_name)\n",
    "\n",
    "Production_Companies = pd.DataFrame(pro_com_vectors, columns = production_com_columns)\n",
    "#Production_Companies['title'] = total_df['title']"
   ]
  },
  {
   "cell_type": "code",
   "execution_count": 48,
   "metadata": {},
   "outputs": [
    {
     "name": "stdout",
     "output_type": "stream",
     "text": [
      "26\n"
     ]
    }
   ],
   "source": [
    "# 한 영화가 가진 가장 많은 production company의 종류 개수 : 26\n",
    "max_len = 0\n",
    "for com_list in com_list_list:\n",
    "    if len(com_list) > max_len:\n",
    "        max_len = len(com_list)\n",
    "print(max_len)"
   ]
  },
  {
   "cell_type": "code",
   "execution_count": 49,
   "metadata": {},
   "outputs": [
    {
     "name": "stdout",
     "output_type": "stream",
     "text": [
      "0\n"
     ]
    }
   ],
   "source": [
    "# 한 영화가 가진 가장 적은 production company의 종류 개수 : 0\n",
    "min_len = 9999\n",
    "for com_list in com_list_list:\n",
    "    if len(com_list) < min_len:\n",
    "        min_len = len(com_list)\n",
    "print(min_len)"
   ]
  },
  {
   "cell_type": "code",
   "execution_count": 50,
   "metadata": {},
   "outputs": [
    {
     "name": "stdout",
     "output_type": "stream",
     "text": [
      "20\n",
      "{'Foreign', 'Documentary', 'Science Fiction', 'Drama', 'Comedy', 'Mystery', 'Music', 'Romance', 'Family', 'Western', 'Animation', 'War', 'Action', 'Crime', 'Thriller', 'History', 'TV Movie', 'Fantasy', 'Adventure', 'Horror'}\n"
     ]
    }
   ],
   "source": [
    "genre_set = set()\n",
    "genre_list_list = list()\n",
    "\n",
    "for genre_list in total_df['genres']:\n",
    "    temp_genre = list()\n",
    "    for genre in genre_list:\n",
    "        genre_set.add(genre['name'])\n",
    "        temp_genre.append(genre['name'])\n",
    "    genre_list_list.append(temp_genre)\n",
    "print(len(genre_set))\n",
    "print(genre_set)"
   ]
  },
  {
   "cell_type": "code",
   "execution_count": 51,
   "metadata": {},
   "outputs": [],
   "source": [
    "genre_dict = dict()\n",
    "genre_dict = dict.fromkeys(genre_set)\n",
    "count = 0\n",
    "for key_item in genre_dict.keys():\n",
    "    genre_dict[key_item] = count\n",
    "    count += 1\n",
    "genre_vector = list()\n",
    "for genre_list in genre_list_list:\n",
    "    temp_genre_vec = [0] * 20\n",
    "    for genre in genre_list:\n",
    "        temp_genre_vec[genre_dict[genre]] = 1\n",
    "    genre_vector.append(temp_genre_vec)\n",
    "genre_cols = list()\n",
    "for i in range(20):\n",
    "    temp_genre = 'genre' + str(i)\n",
    "    genre_cols.append(temp_genre)\n",
    "\n",
    "Genre = pd.DataFrame(genre_vector, columns=genre_cols)"
   ]
  },
  {
   "cell_type": "code",
   "execution_count": 52,
   "metadata": {},
   "outputs": [],
   "source": [
    "#Genre.head(10)"
   ]
  },
  {
   "cell_type": "code",
   "execution_count": 53,
   "metadata": {},
   "outputs": [
    {
     "name": "stdout",
     "output_type": "stream",
     "text": [
      "7\n"
     ]
    }
   ],
   "source": [
    "# 한 영화가 가진 가장 많은 genre의 종류 개수 : 7\n",
    "max_len = 0\n",
    "for genre_list in genre_list_list:\n",
    "    if len(genre_list) > max_len:\n",
    "        max_len = len(genre_list)\n",
    "print(max_len)"
   ]
  },
  {
   "cell_type": "code",
   "execution_count": 54,
   "metadata": {},
   "outputs": [
    {
     "name": "stdout",
     "output_type": "stream",
     "text": [
      "0\n"
     ]
    }
   ],
   "source": [
    "# 한 영화가 가진 가장 적은 genre의 종류 개수 : 0\n",
    "min_len = 9999\n",
    "for genre_list in genre_list_list:\n",
    "    if len(genre_list) < min_len:\n",
    "        min_len = len(genre_list)\n",
    "print(min_len)"
   ]
  },
  {
   "cell_type": "code",
   "execution_count": 55,
   "metadata": {},
   "outputs": [],
   "source": [
    "def vectorize(value_set, list_list, col_name):\n",
    "    feature_vector = list()\n",
    "    feature_dict = dict.fromkeys(value_set)\n",
    "    feature_columns = list()\n",
    "    count = 0\n",
    "    \n",
    "    for key in feature_dict.keys():\n",
    "        feature_dict[key] = count\n",
    "        count+=1\n",
    "    for one_line in list_list:\n",
    "        temp_list = [0]*len(value_set)\n",
    "        for one_ele in one_line:\n",
    "            temp_list[feature_dict[one_ele]] = 1\n",
    "        feature_vector.append(temp_list)\n",
    "    for i in range(len(value_set)):\n",
    "        temp_name = str(col_name) + str(i)\n",
    "        feature_columns.append(temp_name)\n",
    "        \n",
    "    result = pd.DataFrame(feature_vector, columns = feature_columns)\n",
    "    return result"
   ]
  },
  {
   "cell_type": "code",
   "execution_count": 56,
   "metadata": {
    "scrolled": true
   },
   "outputs": [
    {
     "name": "stdout",
     "output_type": "stream",
     "text": [
      "<class 'pandas.core.frame.DataFrame'>\n",
      "RangeIndex: 4800 entries, 0 to 4799\n",
      "Columns: 9809 entries, keyword0 to keyword9808\n",
      "dtypes: int64(9809)\n",
      "memory usage: 359.2 MB\n"
     ]
    }
   ],
   "source": [
    "keywords=total_df['keywords']\n",
    "keywords_list_list = list()\n",
    "keywords_set = set()\n",
    "\n",
    "for keywords_list in keywords:\n",
    "    temp_list = list()\n",
    "    for keyword in keywords_list:\n",
    "        temp_list.append(keyword['name'])\n",
    "        keywords_set.add(keyword['name'])\n",
    "    keywords_list_list.append(temp_list)\n",
    "    \n",
    "Keywords = vectorize(keywords_set, keywords_list_list, 'keyword')\n",
    "Keywords.info()"
   ]
  },
  {
   "cell_type": "code",
   "execution_count": 57,
   "metadata": {},
   "outputs": [
    {
     "data": {
      "text/plain": [
       "(4800, 20967)"
      ]
     },
     "execution_count": 57,
     "metadata": {},
     "output_type": "execute_result"
    }
   ],
   "source": [
    "from sklearn.feature_extraction.text import TfidfVectorizer\n",
    "\n",
    "tfidf = TfidfVectorizer(stop_words = 'english')\n",
    "\n",
    "total_df['overview'] = total_df['overview'].fillna('')\n",
    "\n",
    "# construct TF-IDF matrix by fitting and transforming the overview data\n",
    "tfidf_matrix = tfidf.fit_transform(total_df['overview'])\n",
    "\n",
    "# output the shape of tfidf_matrix\n",
    "tfidf_matrix.shape"
   ]
  },
  {
   "cell_type": "code",
   "execution_count": 58,
   "metadata": {},
   "outputs": [],
   "source": [
    "#import scipy\n",
    "# overview 학습의 결과를 unpack 해보았다.\n",
    "#M1 = scipy.sparse.diags(tfidf_matrix.A.ravel()).tocsr()\n",
    "#M1"
   ]
  },
  {
   "cell_type": "code",
   "execution_count": 59,
   "metadata": {},
   "outputs": [],
   "source": [
    "from sklearn.metrics.pairwise import linear_kernel\n",
    "\n",
    "cosine_similarity = linear_kernel(tfidf_matrix, tfidf_matrix)\n",
    "\n",
    "indices = pd.Series(total_df.index, index=total_df['title']).drop_duplicates()\n",
    "\n",
    "# Function that takes in movie title as input and outputs most similar movies\n",
    "def get_recommendations(title, target_count=10, cosine_sim=cosine_similarity):\n",
    "    result_dict = dict()\n",
    "    idx = indices[title]\n",
    "    sim_scores = list(enumerate(cosine_sim[idx]))\n",
    "    sim_scores = sorted(sim_scores, key=lambda x : x[1], reverse = True)\n",
    "    sim_scores = sim_scores[1:1 + target_count] # except for itself\n",
    "    movies_indices = [i[0] for i in sim_scores]\n",
    "    for index, score in zip(movies_indices, sim_scores):\n",
    "        print(\"index:\", score[0],\"  \",\"score:\", score[1], \"   \", total_df['title'].iloc[index])\n",
    "    #return total_df['title'].iloc[movies_indices]"
   ]
  },
  {
   "cell_type": "code",
   "execution_count": 60,
   "metadata": {},
   "outputs": [],
   "source": [
    "cast_all = dict()\n",
    "for cast_group in total_df['cast']:\n",
    "    for cast in cast_group:\n",
    "        if cast['id'] in cast_all:\n",
    "            cast_all[cast['id']][1] += 1\n",
    "        else:\n",
    "            cast_all[cast['id']] = [cast['name'], 1]"
   ]
  },
  {
   "cell_type": "code",
   "execution_count": 61,
   "metadata": {},
   "outputs": [
    {
     "data": {
      "text/plain": [
       "54557"
      ]
     },
     "execution_count": 61,
     "metadata": {},
     "output_type": "execute_result"
    }
   ],
   "source": [
    "len(cast_all)"
   ]
  },
  {
   "cell_type": "code",
   "execution_count": 62,
   "metadata": {},
   "outputs": [],
   "source": [
    "cast_freq = list(cast_all.values())\n",
    "cast_freq.sort(reverse=True, key=lambda x: (x[1]))"
   ]
  },
  {
   "cell_type": "code",
   "execution_count": 63,
   "metadata": {},
   "outputs": [],
   "source": [
    "cast2vec_dict = dict()\n",
    "count = 0;\n",
    "for cast_id in cast_all.keys():\n",
    "    cast2vec_dict[cast_id] = count\n",
    "    count += 1\n",
    "\n",
    "cast_vectors = list()\n",
    "for cast_group in total_df['cast']:\n",
    "    cast_vector = [0] * len(cast_all)\n",
    "    for cast in cast_group:\n",
    "        cast_vector[cast2vec_dict[cast['id']]] = 1\n",
    "    cast_vectors.append(cast_vector)"
   ]
  },
  {
   "cell_type": "code",
   "execution_count": 64,
   "metadata": {},
   "outputs": [
    {
     "data": {
      "text/plain": [
       "54557"
      ]
     },
     "execution_count": 64,
     "metadata": {},
     "output_type": "execute_result"
    }
   ],
   "source": [
    "len(cast_vectors[0])"
   ]
  },
  {
   "cell_type": "code",
   "execution_count": 65,
   "metadata": {},
   "outputs": [],
   "source": [
    "cast_col = list()\n",
    "count = 0\n",
    "for ele in cast_vectors[0]:\n",
    "    name = 'cast' + str(count)\n",
    "    count += 1\n",
    "    cast_col.append(name)"
   ]
  },
  {
   "cell_type": "code",
   "execution_count": 66,
   "metadata": {},
   "outputs": [],
   "source": [
    "Cast = pd.DataFrame(cast_vectors, columns=cast_col)"
   ]
  },
  {
   "cell_type": "code",
   "execution_count": 67,
   "metadata": {},
   "outputs": [
    {
     "data": {
      "text/plain": [
       "(4800, 54557)"
      ]
     },
     "execution_count": 67,
     "metadata": {},
     "output_type": "execute_result"
    }
   ],
   "source": [
    "Cast.shape"
   ]
  },
  {
   "cell_type": "code",
   "execution_count": 68,
   "metadata": {},
   "outputs": [
    {
     "name": "stdout",
     "output_type": "stream",
     "text": [
      "--------------------------------------------------------------\n",
      "--------------------Vectorization Complete--------------------\n",
      "Director shape :  (4800, 2575)\n",
      "Genre shape (4800, 20)\n",
      "Production Companies shape :  (4800, 5017)\n",
      "Cast shape :  (4800, 54557)\n",
      "Keyword shape :  (4800, 9809)\n",
      "--------------------------------------------------------------\n"
     ]
    }
   ],
   "source": [
    "print('-'*62)\n",
    "print(\"-\"*20 + \"Vectorization Complete\" + \"-\"*20)\n",
    "print(\"Director shape : \", Directors.shape)\n",
    "print(\"Genre shape\", Genre.shape)\n",
    "print(\"Production Companies shape : \", Production_Companies.shape)\n",
    "print(\"Cast shape : \", Cast.shape)\n",
    "print(\"Keyword shape : \", Keywords.shape)\n",
    "print('-'*62)"
   ]
  },
  {
   "cell_type": "markdown",
   "metadata": {},
   "source": [
    "## Calculate Similarity"
   ]
  },
  {
   "cell_type": "code",
   "execution_count": 69,
   "metadata": {},
   "outputs": [],
   "source": [
    "from scipy import spatial\n",
    "\n",
    "\n",
    "def Similarity(movie_title1, movie_title2, Feature):\n",
    "    movie1_row = Feature.iloc[indices[movie_title1]]\n",
    "    movie2_row = Feature.iloc[indices[movie_title2]]\n",
    "    \n",
    "    Dist = spatial.distance.cosine(movie1_row, movie2_row)\n",
    "    if math.isnan(Dist):\n",
    "        #print('nan!')\n",
    "        Dist = 1.0\n",
    "    return 1 - Dist"
   ]
  },
  {
   "cell_type": "code",
   "execution_count": 70,
   "metadata": {},
   "outputs": [
    {
     "data": {
      "text/plain": [
       "0.6666666666666667"
      ]
     },
     "execution_count": 70,
     "metadata": {},
     "output_type": "execute_result"
    }
   ],
   "source": [
    "Similarity(\"The Avengers\", \"Thor\", Genre)"
   ]
  },
  {
   "cell_type": "code",
   "execution_count": 71,
   "metadata": {},
   "outputs": [],
   "source": [
    "def get_overview_score(movie_title1, movie_title2):\n",
    "    score = 0\n",
    "    idx_1 = indices[movie_title1]\n",
    "    idx_2 = indices[movie_title2]\n",
    "    score = cosine_similarity[idx_1][idx_2]\n",
    "    return score"
   ]
  },
  {
   "cell_type": "code",
   "execution_count": 72,
   "metadata": {},
   "outputs": [
    {
     "data": {
      "text/plain": [
       "0.0584644599388013"
      ]
     },
     "execution_count": 72,
     "metadata": {},
     "output_type": "execute_result"
    }
   ],
   "source": [
    "get_overview_score(\"The Avengers\", \"Batman\")"
   ]
  },
  {
   "cell_type": "code",
   "execution_count": 73,
   "metadata": {},
   "outputs": [],
   "source": [
    "def total_reccommendation_v2_cosDist(movie_title1, movie_title2):\n",
    "    genre_score = Similarity(movie_title1, movie_title2, Genre)\n",
    "    cast_score = Similarity(movie_title1, movie_title2, Cast)\n",
    "    director_score = Similarity(movie_title1, movie_title2, Directors)\n",
    "    pro_com_score = Similarity(movie_title1, movie_title2, Production_Companies)\n",
    "    overview_score = get_overview_score(movie_title1, movie_title2)\n",
    "    keywords_score = Similarity(movie_title1, movie_title2, Keywords)\n",
    "    #total_score = genre_score + cast_score + director_score + pro_com_score + (10*overview_score) + (5*keywords_score)\n",
    "    \"\"\"\n",
    "    print('-'*60)\n",
    "    print('Genre : ', genre_score)\n",
    "    print('Cast : ', cast_score)\n",
    "    print('Director : ', director_score)\n",
    "    print('Production Companies : ', pro_com_score)\n",
    "    print('Overview : ', overview_score)\n",
    "    print('Keywords : ', keywords_score)\n",
    "    \"\"\"\n",
    "    return genre_score, cast_score, director_score, pro_com_score, overview_score, keywords_score"
   ]
  },
  {
   "cell_type": "code",
   "execution_count": 74,
   "metadata": {},
   "outputs": [
    {
     "data": {
      "text/plain": [
       "(1.0, 0.0725515215453656, 0.0, 1.0, 0.15088869151876816, 0.5773502691896257)"
      ]
     },
     "execution_count": 74,
     "metadata": {},
     "output_type": "execute_result"
    }
   ],
   "source": [
    "total_reccommendation_v2_cosDist(\"Iron Man\", \"Iron Man 3\")"
   ]
  },
  {
   "cell_type": "code",
   "execution_count": 75,
   "metadata": {},
   "outputs": [
    {
     "data": {
      "text/plain": [
       "(1.0, 1.0, 1.0, 1.0, 1.0000000000000002, 1.0)"
      ]
     },
     "execution_count": 75,
     "metadata": {},
     "output_type": "execute_result"
    }
   ],
   "source": [
    "total_reccommendation_v2_cosDist(\"Batman\", \"Batman\")"
   ]
  },
  {
   "cell_type": "code",
   "execution_count": 76,
   "metadata": {},
   "outputs": [],
   "source": [
    "def get_score_lists_of_movies(target_movie_title):   \n",
    "    \n",
    "    total_genre = list()\n",
    "    total_director = list()\n",
    "    total_overview = list()\n",
    "    total_keywords = list()\n",
    "    total_cast = list()\n",
    "    total_procom = list()\n",
    "    \n",
    "    for title in total_df.title:\n",
    "        #score_list.append(total_reccommendation_v2_cosDist(target_movie_title, title))\n",
    "        a,b,c,d,e,f = total_reccommendation_v2_cosDist(target_movie_title, title)\n",
    "        total_genre.append(a)\n",
    "        total_cast.append(b)\n",
    "        total_director.append(c)\n",
    "        total_procom.append(d)\n",
    "        total_overview.append(e)\n",
    "        total_keywords.append(f)\n",
    "    \n",
    "    return [total_genre, total_director, total_overview, total_keywords, total_cast, total_procom]"
   ]
  },
  {
   "cell_type": "code",
   "execution_count": 77,
   "metadata": {},
   "outputs": [],
   "source": [
    "def regularize(one_dim_list):\n",
    "    mean = np.mean(one_dim_list, axis=0)\n",
    "    std = np.std(one_dim_list, axis=0)\n",
    "    result = list()\n",
    "    for item in one_dim_list:\n",
    "        result.append((item-mean)/std)\n",
    "    return result"
   ]
  },
  {
   "cell_type": "code",
   "execution_count": 78,
   "metadata": {},
   "outputs": [],
   "source": [
    "final_genre = list()\n",
    "final_director = list()\n",
    "final_overview = list()\n",
    "final_keywords = list()\n",
    "final_cast = list()\n",
    "final_procom = list()\n",
    "\n",
    "def total_recommendation_v2(movie_title, target_count):\n",
    "    score_lists = get_score_lists_of_movies(movie_title)\n",
    "    score_dict = dict()\n",
    "    global final_genre\n",
    "    global final_director\n",
    "    global final_overview\n",
    "    global final_keywords\n",
    "    global final_cast\n",
    "    global final_procom\n",
    "    \n",
    "    regularized_genre_score = regularize(score_lists[0])\n",
    "    final_genre = regularized_genre_score\n",
    "    regularized_director_score = regularize(score_lists[1])\n",
    "    final_director = regularized_director_score\n",
    "    regularized_overview_score = regularize(score_lists[2])\n",
    "    final_overview = regularized_overview_score\n",
    "    regularized_keywords_score = regularize(score_lists[3])\n",
    "    final_keywords = regularized_keywords_score\n",
    "    regularized_cast_score = regularize(score_lists[4])\n",
    "    final_cast = regularized_cast_score\n",
    "    regularized_procom_score = regularize(score_lists[5])\n",
    "    final_procom = regularized_procom_score\n",
    "    \n",
    "    for idx, title in enumerate(list(total_df.title)):\n",
    "        score_dict[title] = regularized_genre_score[idx] + regularized_director_score[idx]\\\n",
    "        + regularized_overview_score[idx] + regularized_keywords_score[idx]\\\n",
    "        + regularized_cast_score[idx] + regularized_procom_score[idx]\n",
    "    \n",
    "    sorted_score = sorted(score_dict.items(), key=lambda kv: kv[1], reverse = True)\n",
    "    return sorted_score[1:1 + target_count]"
   ]
  },
  {
   "cell_type": "code",
   "execution_count": 79,
   "metadata": {
    "scrolled": true
   },
   "outputs": [
    {
     "name": "stderr",
     "output_type": "stream",
     "text": [
      "C:\\Anaconda3\\lib\\site-packages\\scipy\\spatial\\distance.py:698: RuntimeWarning: invalid value encountered in double_scalars\n",
      "  dist = 1.0 - uv / np.sqrt(uu * vv)\n"
     ]
    },
    {
     "name": "stdout",
     "output_type": "stream",
     "text": [
      "Wall time: 1min 38s\n"
     ]
    },
    {
     "data": {
      "text/plain": [
       "[('Avatar', 39.634658652354084),\n",
       " ('Alien³', 37.28663163739932),\n",
       " ('True Lies', 36.69004190632586),\n",
       " ('The Abyss', 36.4214812636759),\n",
       " ('Alien', 36.0040147123586),\n",
       " ('The Terminator', 34.07983949201465),\n",
       " ('Alien: Resurrection', 33.868256788524015),\n",
       " ('Titanic', 32.929787934409404),\n",
       " ('Terminator 2: Judgment Day', 30.184929805300207),\n",
       " ('AVP: Alien vs. Predator', 19.856653153557843)]"
      ]
     },
     "execution_count": 79,
     "metadata": {},
     "output_type": "execute_result"
    }
   ],
   "source": [
    "%time recom_result = total_recommendation_v2(\"Aliens\", 10)\n",
    "recom_result"
   ]
  },
  {
   "cell_type": "code",
   "execution_count": 80,
   "metadata": {},
   "outputs": [],
   "source": [
    "def regularized_similarity_score(movie_title2):\n",
    "    idx = indices[movie_title2]\n",
    "    print('-'*60)\n",
    "    print('Genre : ', final_genre[idx])\n",
    "    print('Cast : ', final_cast[idx])\n",
    "    print('Director : ', final_director[idx])\n",
    "    print('Production Companies : ', final_procom[idx])\n",
    "    print('Overview : ', final_overview[idx])\n",
    "    print('Keywords : ', final_keywords[idx])\n",
    "    "
   ]
  },
  {
   "cell_type": "code",
   "execution_count": 81,
   "metadata": {},
   "outputs": [],
   "source": [
    "def get_similarity_percent(movie_title, res_count=100, sample_count=100):\n",
    "    contents_recom_list = [x[0] for x in total_recommendation_v2(movie_title, res_count)]\n",
    "    count = 0\n",
    "    for results in get_recommendation_by_title(movie_title, sample_count, res_count):\n",
    "        for movie in contents_recom_list:\n",
    "            if movie in results:\n",
    "                count +=1\n",
    "    print(count)"
   ]
  },
  {
   "cell_type": "code",
   "execution_count": 82,
   "metadata": {},
   "outputs": [],
   "source": [
    "def movie_existence(movietitle):\n",
    "    try:\n",
    "        movie_id = movieId_list.index[movieId_list['title'] == movietitle].tolist()[0]\n",
    "        return True\n",
    "    except IndexError as e:\n",
    "        return False\n"
   ]
  },
  {
   "cell_type": "code",
   "execution_count": 83,
   "metadata": {},
   "outputs": [
    {
     "data": {
      "text/plain": [
       "False"
      ]
     },
     "execution_count": 83,
     "metadata": {},
     "output_type": "execute_result"
    }
   ],
   "source": [
    "movie_existence(\"asdfsaasf\")"
   ]
  },
  {
   "cell_type": "markdown",
   "metadata": {},
   "source": [
    "## final_function 은 두 가지 결과를 포함한 list를 리턴한다.\n",
    "- ### 인자로 넘어온 title과 가장 비슷한 영화\n",
    "- ### 인자로 넘어온 title을 좋아하는 사람들이 가장 선호하는 영화"
   ]
  },
  {
   "cell_type": "code",
   "execution_count": 84,
   "metadata": {},
   "outputs": [],
   "source": [
    "from collections import Counter\n",
    "\n",
    "def final_function(movietitle, sample_size = 1, recommendation_length = 1, userId=0):\n",
    "    if not movie_existence(movietitle):\n",
    "         print(\"Input movie does not exist in dataset.\")\n",
    "    most_similar_movie = total_recommendation_v2(movietitle, 1)[0][0]\n",
    "    most_funnable_movies = get_recommendation_by_title(movietitle, sample_size, recommendation_length)\n",
    "    recom_list = list()\n",
    "    for items in most_funnable_movies:\n",
    "        for item in items:\n",
    "            recom_list.append(item)\n",
    "    if userId == 0:\n",
    "        most_funnable_result = Counter(recom_list).most_common()[:10]\n",
    "    else:\n",
    "        user_already_seen = result[result['movieId'].isin(ratings_df[ratings_df['userId'] == userId]['movieId'])].title\n",
    "        #print(user_already_seen)\n",
    "        most_funnable_result = Counter([x for x in recom_list if x not in user_already_seen.values]).most_common()[0][0]\n",
    "        \n",
    "    return [most_similar_movie, most_funnable_result]"
   ]
  },
  {
   "cell_type": "code",
   "execution_count": 85,
   "metadata": {},
   "outputs": [],
   "source": [
    "#%time final_function(\"The Dark Knight\",100,5)"
   ]
  },
  {
   "cell_type": "code",
   "execution_count": 86,
   "metadata": {},
   "outputs": [],
   "source": [
    "#%time final_function(\"The Avengers\",100,5)"
   ]
  },
  {
   "cell_type": "code",
   "execution_count": 87,
   "metadata": {},
   "outputs": [],
   "source": [
    "#%time final_function(\"The Terminator\", 100, 5)"
   ]
  },
  {
   "cell_type": "code",
   "execution_count": 88,
   "metadata": {},
   "outputs": [],
   "source": [
    "#%time final_function(\"Saving Private Ryan\", 100, 5)"
   ]
  },
  {
   "cell_type": "code",
   "execution_count": 89,
   "metadata": {},
   "outputs": [],
   "source": [
    "#%time final_function(\"Star Wars\",100,5)"
   ]
  },
  {
   "cell_type": "code",
   "execution_count": 90,
   "metadata": {},
   "outputs": [],
   "source": [
    "#%time final_function(\"Indiana Jones and the Last Crusade\",100,5)"
   ]
  },
  {
   "cell_type": "code",
   "execution_count": 91,
   "metadata": {},
   "outputs": [],
   "source": [
    "#%time final_function(\"The Fifth Element\",100,5)"
   ]
  },
  {
   "cell_type": "markdown",
   "metadata": {},
   "source": [
    "## 전체 결과 출력 - Collaborative filtering 에서 계속 뻔한 결과가 나오는 문제가 발생\n",
    "- ### 입력으로 받은 userId가 본 영화는 추천하지 않도록 변경\n",
    "- ### 어느정도 해결되었지만 아직 뻔한 영화가 추천되는 경향이 남음\n",
    "- ### 영화 출시년도 정보를 추가하기로 결정"
   ]
  },
  {
   "cell_type": "code",
   "execution_count": 92,
   "metadata": {},
   "outputs": [],
   "source": [
    "#%time final_function(\"Aliens\",100,5)"
   ]
  },
  {
   "cell_type": "markdown",
   "metadata": {},
   "source": [
    "## Collaborative filtering에서 2000년도 이후 출시된 영화만 추천하기로 결정 "
   ]
  },
  {
   "cell_type": "code",
   "execution_count": 93,
   "metadata": {},
   "outputs": [
    {
     "data": {
      "text/html": [
       "<div>\n",
       "<style scoped>\n",
       "    .dataframe tbody tr th:only-of-type {\n",
       "        vertical-align: middle;\n",
       "    }\n",
       "\n",
       "    .dataframe tbody tr th {\n",
       "        vertical-align: top;\n",
       "    }\n",
       "\n",
       "    .dataframe thead th {\n",
       "        text-align: right;\n",
       "    }\n",
       "</style>\n",
       "<table border=\"1\" class=\"dataframe\">\n",
       "  <thead>\n",
       "    <tr style=\"text-align: right;\">\n",
       "      <th></th>\n",
       "      <th>movieId</th>\n",
       "      <th>title</th>\n",
       "      <th>release_date</th>\n",
       "    </tr>\n",
       "  </thead>\n",
       "  <tbody>\n",
       "    <tr>\n",
       "      <th>2</th>\n",
       "      <td>6377</td>\n",
       "      <td>Finding Nemo</td>\n",
       "      <td>2003</td>\n",
       "    </tr>\n",
       "    <tr>\n",
       "      <th>5</th>\n",
       "      <td>3910</td>\n",
       "      <td>Dancer in the Dark</td>\n",
       "      <td>2000</td>\n",
       "    </tr>\n",
       "    <tr>\n",
       "      <th>8</th>\n",
       "      <td>6539</td>\n",
       "      <td>Pirates of the Caribbean: The Curse of the Bla...</td>\n",
       "      <td>2003</td>\n",
       "    </tr>\n",
       "    <tr>\n",
       "      <th>9</th>\n",
       "      <td>6874</td>\n",
       "      <td>Kill Bill: Vol. 1</td>\n",
       "      <td>2003</td>\n",
       "    </tr>\n",
       "    <tr>\n",
       "      <th>12</th>\n",
       "      <td>54272</td>\n",
       "      <td>The Simpsons Movie</td>\n",
       "      <td>2007</td>\n",
       "    </tr>\n",
       "    <tr>\n",
       "      <th>13</th>\n",
       "      <td>7361</td>\n",
       "      <td>Eternal Sunshine of the Spotless Mind</td>\n",
       "      <td>2004</td>\n",
       "    </tr>\n",
       "    <tr>\n",
       "      <th>14</th>\n",
       "      <td>4235</td>\n",
       "      <td>Amores perros</td>\n",
       "      <td>2000</td>\n",
       "    </tr>\n",
       "    <tr>\n",
       "      <th>15</th>\n",
       "      <td>45722</td>\n",
       "      <td>Pirates of the Caribbean: Dead Man's Chest</td>\n",
       "      <td>2006</td>\n",
       "    </tr>\n",
       "    <tr>\n",
       "      <th>16</th>\n",
       "      <td>37733</td>\n",
       "      <td>A History of Violence</td>\n",
       "      <td>2005</td>\n",
       "    </tr>\n",
       "    <tr>\n",
       "      <th>18</th>\n",
       "      <td>5810</td>\n",
       "      <td>8 Mile</td>\n",
       "      <td>2002</td>\n",
       "    </tr>\n",
       "    <tr>\n",
       "      <th>20</th>\n",
       "      <td>40819</td>\n",
       "      <td>Walk the Line</td>\n",
       "      <td>2005</td>\n",
       "    </tr>\n",
       "    <tr>\n",
       "      <th>21</th>\n",
       "      <td>30707</td>\n",
       "      <td>Million Dollar Baby</td>\n",
       "      <td>2004</td>\n",
       "    </tr>\n",
       "    <tr>\n",
       "      <th>22</th>\n",
       "      <td>3967</td>\n",
       "      <td>Billy Elliot</td>\n",
       "      <td>2000</td>\n",
       "    </tr>\n",
       "    <tr>\n",
       "      <th>24</th>\n",
       "      <td>34048</td>\n",
       "      <td>War of the Worlds</td>\n",
       "      <td>2005</td>\n",
       "    </tr>\n",
       "    <tr>\n",
       "      <th>27</th>\n",
       "      <td>4226</td>\n",
       "      <td>Memento</td>\n",
       "      <td>2000</td>\n",
       "    </tr>\n",
       "    <tr>\n",
       "      <th>29</th>\n",
       "      <td>7090</td>\n",
       "      <td>Hero</td>\n",
       "      <td>2002</td>\n",
       "    </tr>\n",
       "    <tr>\n",
       "      <th>30</th>\n",
       "      <td>8638</td>\n",
       "      <td>Before Sunset</td>\n",
       "      <td>2004</td>\n",
       "    </tr>\n",
       "    <tr>\n",
       "      <th>37</th>\n",
       "      <td>3578</td>\n",
       "      <td>Gladiator</td>\n",
       "      <td>2000</td>\n",
       "    </tr>\n",
       "    <tr>\n",
       "      <th>43</th>\n",
       "      <td>4011</td>\n",
       "      <td>Snatch</td>\n",
       "      <td>2000</td>\n",
       "    </tr>\n",
       "    <tr>\n",
       "      <th>47</th>\n",
       "      <td>41285</td>\n",
       "      <td>Match Point</td>\n",
       "      <td>2005</td>\n",
       "    </tr>\n",
       "    <tr>\n",
       "      <th>49</th>\n",
       "      <td>30793</td>\n",
       "      <td>Charlie and the Chocolate Factory</td>\n",
       "      <td>2005</td>\n",
       "    </tr>\n",
       "    <tr>\n",
       "      <th>50</th>\n",
       "      <td>4993</td>\n",
       "      <td>The Lord of the Rings: The Fellowship of the Ring</td>\n",
       "      <td>2001</td>\n",
       "    </tr>\n",
       "    <tr>\n",
       "      <th>51</th>\n",
       "      <td>5952</td>\n",
       "      <td>The Lord of the Rings: The Two Towers</td>\n",
       "      <td>2002</td>\n",
       "    </tr>\n",
       "    <tr>\n",
       "      <th>52</th>\n",
       "      <td>7153</td>\n",
       "      <td>The Lord of the Rings: The Return of the King</td>\n",
       "      <td>2003</td>\n",
       "    </tr>\n",
       "    <tr>\n",
       "      <th>54</th>\n",
       "      <td>5618</td>\n",
       "      <td>Spirited Away</td>\n",
       "      <td>2001</td>\n",
       "    </tr>\n",
       "    <tr>\n",
       "      <th>55</th>\n",
       "      <td>4027</td>\n",
       "      <td>O Brother, Where Art Thou?</td>\n",
       "      <td>2000</td>\n",
       "    </tr>\n",
       "    <tr>\n",
       "      <th>57</th>\n",
       "      <td>4878</td>\n",
       "      <td>Donnie Darko</td>\n",
       "      <td>2001</td>\n",
       "    </tr>\n",
       "    <tr>\n",
       "      <th>58</th>\n",
       "      <td>39183</td>\n",
       "      <td>Brokeback Mountain</td>\n",
       "      <td>2005</td>\n",
       "    </tr>\n",
       "    <tr>\n",
       "      <th>59</th>\n",
       "      <td>3996</td>\n",
       "      <td>Crouching Tiger, Hidden Dragon</td>\n",
       "      <td>2000</td>\n",
       "    </tr>\n",
       "    <tr>\n",
       "      <th>62</th>\n",
       "      <td>6711</td>\n",
       "      <td>Lost in Translation</td>\n",
       "      <td>2003</td>\n",
       "    </tr>\n",
       "    <tr>\n",
       "      <th>...</th>\n",
       "      <td>...</td>\n",
       "      <td>...</td>\n",
       "      <td>...</td>\n",
       "    </tr>\n",
       "    <tr>\n",
       "      <th>955</th>\n",
       "      <td>97913</td>\n",
       "      <td>Wreck-It Ralph</td>\n",
       "      <td>2012</td>\n",
       "    </tr>\n",
       "    <tr>\n",
       "      <th>956</th>\n",
       "      <td>97921</td>\n",
       "      <td>Silver Linings Playbook</td>\n",
       "      <td>2012</td>\n",
       "    </tr>\n",
       "    <tr>\n",
       "      <th>957</th>\n",
       "      <td>97752</td>\n",
       "      <td>Cloud Atlas</td>\n",
       "      <td>2012</td>\n",
       "    </tr>\n",
       "    <tr>\n",
       "      <th>958</th>\n",
       "      <td>94959</td>\n",
       "      <td>Moonrise Kingdom</td>\n",
       "      <td>2012</td>\n",
       "    </tr>\n",
       "    <tr>\n",
       "      <th>959</th>\n",
       "      <td>97938</td>\n",
       "      <td>Life of Pi</td>\n",
       "      <td>2012</td>\n",
       "    </tr>\n",
       "    <tr>\n",
       "      <th>960</th>\n",
       "      <td>122892</td>\n",
       "      <td>Avengers: Age of Ultron</td>\n",
       "      <td>2015</td>\n",
       "    </tr>\n",
       "    <tr>\n",
       "      <th>961</th>\n",
       "      <td>110102</td>\n",
       "      <td>Captain America: The Winter Soldier</td>\n",
       "      <td>2014</td>\n",
       "    </tr>\n",
       "    <tr>\n",
       "      <th>962</th>\n",
       "      <td>106487</td>\n",
       "      <td>The Hunger Games: Catching Fire</td>\n",
       "      <td>2013</td>\n",
       "    </tr>\n",
       "    <tr>\n",
       "      <th>963</th>\n",
       "      <td>106782</td>\n",
       "      <td>The Wolf of Wall Street</td>\n",
       "      <td>2013</td>\n",
       "    </tr>\n",
       "    <tr>\n",
       "      <th>964</th>\n",
       "      <td>106696</td>\n",
       "      <td>Frozen</td>\n",
       "      <td>2013</td>\n",
       "    </tr>\n",
       "    <tr>\n",
       "      <th>965</th>\n",
       "      <td>112852</td>\n",
       "      <td>Guardians of the Galaxy</td>\n",
       "      <td>2014</td>\n",
       "    </tr>\n",
       "    <tr>\n",
       "      <th>966</th>\n",
       "      <td>109374</td>\n",
       "      <td>The Grand Budapest Hotel</td>\n",
       "      <td>2014</td>\n",
       "    </tr>\n",
       "    <tr>\n",
       "      <th>967</th>\n",
       "      <td>111362</td>\n",
       "      <td>X-Men: Days of Future Past</td>\n",
       "      <td>2014</td>\n",
       "    </tr>\n",
       "    <tr>\n",
       "      <th>968</th>\n",
       "      <td>116823</td>\n",
       "      <td>The Hunger Games: Mockingjay - Part 1</td>\n",
       "      <td>2014</td>\n",
       "    </tr>\n",
       "    <tr>\n",
       "      <th>969</th>\n",
       "      <td>108932</td>\n",
       "      <td>The Lego Movie</td>\n",
       "      <td>2014</td>\n",
       "    </tr>\n",
       "    <tr>\n",
       "      <th>970</th>\n",
       "      <td>111759</td>\n",
       "      <td>Edge of Tomorrow</td>\n",
       "      <td>2014</td>\n",
       "    </tr>\n",
       "    <tr>\n",
       "      <th>971</th>\n",
       "      <td>134853</td>\n",
       "      <td>Inside Out</td>\n",
       "      <td>2015</td>\n",
       "    </tr>\n",
       "    <tr>\n",
       "      <th>972</th>\n",
       "      <td>106100</td>\n",
       "      <td>Dallas Buyers Club</td>\n",
       "      <td>2013</td>\n",
       "    </tr>\n",
       "    <tr>\n",
       "      <th>973</th>\n",
       "      <td>106920</td>\n",
       "      <td>Her</td>\n",
       "      <td>2013</td>\n",
       "    </tr>\n",
       "    <tr>\n",
       "      <th>974</th>\n",
       "      <td>109487</td>\n",
       "      <td>Interstellar</td>\n",
       "      <td>2014</td>\n",
       "    </tr>\n",
       "    <tr>\n",
       "      <th>975</th>\n",
       "      <td>115617</td>\n",
       "      <td>Big Hero 6</td>\n",
       "      <td>2014</td>\n",
       "    </tr>\n",
       "    <tr>\n",
       "      <th>976</th>\n",
       "      <td>112183</td>\n",
       "      <td>Birdman</td>\n",
       "      <td>2014</td>\n",
       "    </tr>\n",
       "    <tr>\n",
       "      <th>977</th>\n",
       "      <td>116797</td>\n",
       "      <td>The Imitation Game</td>\n",
       "      <td>2014</td>\n",
       "    </tr>\n",
       "    <tr>\n",
       "      <th>978</th>\n",
       "      <td>112556</td>\n",
       "      <td>Gone Girl</td>\n",
       "      <td>2014</td>\n",
       "    </tr>\n",
       "    <tr>\n",
       "      <th>979</th>\n",
       "      <td>115569</td>\n",
       "      <td>Nightcrawler</td>\n",
       "      <td>2014</td>\n",
       "    </tr>\n",
       "    <tr>\n",
       "      <th>980</th>\n",
       "      <td>112552</td>\n",
       "      <td>Whiplash</td>\n",
       "      <td>2014</td>\n",
       "    </tr>\n",
       "    <tr>\n",
       "      <th>981</th>\n",
       "      <td>115713</td>\n",
       "      <td>Ex Machina</td>\n",
       "      <td>2015</td>\n",
       "    </tr>\n",
       "    <tr>\n",
       "      <th>982</th>\n",
       "      <td>139385</td>\n",
       "      <td>The Revenant</td>\n",
       "      <td>2015</td>\n",
       "    </tr>\n",
       "    <tr>\n",
       "      <th>983</th>\n",
       "      <td>134130</td>\n",
       "      <td>The Martian</td>\n",
       "      <td>2015</td>\n",
       "    </tr>\n",
       "    <tr>\n",
       "      <th>984</th>\n",
       "      <td>122904</td>\n",
       "      <td>Deadpool</td>\n",
       "      <td>2016</td>\n",
       "    </tr>\n",
       "  </tbody>\n",
       "</table>\n",
       "<p>444 rows × 3 columns</p>\n",
       "</div>"
      ],
      "text/plain": [
       "     movieId                                              title release_date\n",
       "2       6377                                       Finding Nemo         2003\n",
       "5       3910                                 Dancer in the Dark         2000\n",
       "8       6539  Pirates of the Caribbean: The Curse of the Bla...         2003\n",
       "9       6874                                  Kill Bill: Vol. 1         2003\n",
       "12     54272                                 The Simpsons Movie         2007\n",
       "13      7361              Eternal Sunshine of the Spotless Mind         2004\n",
       "14      4235                                      Amores perros         2000\n",
       "15     45722         Pirates of the Caribbean: Dead Man's Chest         2006\n",
       "16     37733                              A History of Violence         2005\n",
       "18      5810                                             8 Mile         2002\n",
       "20     40819                                      Walk the Line         2005\n",
       "21     30707                                Million Dollar Baby         2004\n",
       "22      3967                                       Billy Elliot         2000\n",
       "24     34048                                  War of the Worlds         2005\n",
       "27      4226                                            Memento         2000\n",
       "29      7090                                               Hero         2002\n",
       "30      8638                                      Before Sunset         2004\n",
       "37      3578                                          Gladiator         2000\n",
       "43      4011                                             Snatch         2000\n",
       "47     41285                                        Match Point         2005\n",
       "49     30793                  Charlie and the Chocolate Factory         2005\n",
       "50      4993  The Lord of the Rings: The Fellowship of the Ring         2001\n",
       "51      5952              The Lord of the Rings: The Two Towers         2002\n",
       "52      7153      The Lord of the Rings: The Return of the King         2003\n",
       "54      5618                                      Spirited Away         2001\n",
       "55      4027                         O Brother, Where Art Thou?         2000\n",
       "57      4878                                       Donnie Darko         2001\n",
       "58     39183                                 Brokeback Mountain         2005\n",
       "59      3996                     Crouching Tiger, Hidden Dragon         2000\n",
       "62      6711                                Lost in Translation         2003\n",
       "..       ...                                                ...          ...\n",
       "955    97913                                     Wreck-It Ralph         2012\n",
       "956    97921                            Silver Linings Playbook         2012\n",
       "957    97752                                        Cloud Atlas         2012\n",
       "958    94959                                   Moonrise Kingdom         2012\n",
       "959    97938                                         Life of Pi         2012\n",
       "960   122892                            Avengers: Age of Ultron         2015\n",
       "961   110102                Captain America: The Winter Soldier         2014\n",
       "962   106487                    The Hunger Games: Catching Fire         2013\n",
       "963   106782                            The Wolf of Wall Street         2013\n",
       "964   106696                                             Frozen         2013\n",
       "965   112852                            Guardians of the Galaxy         2014\n",
       "966   109374                           The Grand Budapest Hotel         2014\n",
       "967   111362                         X-Men: Days of Future Past         2014\n",
       "968   116823              The Hunger Games: Mockingjay - Part 1         2014\n",
       "969   108932                                     The Lego Movie         2014\n",
       "970   111759                                   Edge of Tomorrow         2014\n",
       "971   134853                                         Inside Out         2015\n",
       "972   106100                                 Dallas Buyers Club         2013\n",
       "973   106920                                                Her         2013\n",
       "974   109487                                       Interstellar         2014\n",
       "975   115617                                         Big Hero 6         2014\n",
       "976   112183                                            Birdman         2014\n",
       "977   116797                                 The Imitation Game         2014\n",
       "978   112556                                          Gone Girl         2014\n",
       "979   115569                                       Nightcrawler         2014\n",
       "980   112552                                           Whiplash         2014\n",
       "981   115713                                         Ex Machina         2015\n",
       "982   139385                                       The Revenant         2015\n",
       "983   134130                                        The Martian         2015\n",
       "984   122904                                           Deadpool         2016\n",
       "\n",
       "[444 rows x 3 columns]"
      ]
     },
     "execution_count": 93,
     "metadata": {},
     "output_type": "execute_result"
    }
   ],
   "source": [
    "Id_title_year_over2000"
   ]
  },
  {
   "cell_type": "code",
   "execution_count": 94,
   "metadata": {},
   "outputs": [],
   "source": [
    "def final_function_v2(movietitle, sample_size = 1, recommendation_length = 1, userId=0):\n",
    "    if not movie_existence(movietitle):\n",
    "         print(\"Input movie does not exist in dataset.\")\n",
    "    most_similar_movie = total_recommendation_v2(movietitle, 1)[0][0]\n",
    "    most_funnable_movies = get_recommendation_by_title(movietitle, sample_size, recommendation_length)\n",
    "    recom_list = list()\n",
    "    for items in most_funnable_movies:\n",
    "        for item in items:\n",
    "            recom_list.append(item)\n",
    "    if userId == 0:\n",
    "        most_funnable_result = Counter(recom_list).most_common()[:10]\n",
    "    else:\n",
    "        user_already_seen = result[result['movieId'].isin(ratings_df[ratings_df['userId'] == userId]['movieId'])].title\n",
    "        #print(user_already_seen)\n",
    "        most_funnable_result = Counter([x for x in recom_list if x not in user_already_seen.values]).most_common()[0][0]\n",
    "        \n",
    "    return [most_similar_movie, most_funnable_result]"
   ]
  },
  {
   "cell_type": "code",
   "execution_count": 95,
   "metadata": {},
   "outputs": [
    {
     "name": "stderr",
     "output_type": "stream",
     "text": [
      "C:\\Anaconda3\\lib\\site-packages\\scipy\\spatial\\distance.py:698: RuntimeWarning: invalid value encountered in double_scalars\n",
      "  dist = 1.0 - uv / np.sqrt(uu * vv)\n",
      "C:\\Anaconda3\\lib\\site-packages\\ipykernel_launcher.py:3: UserWarning: Boolean Series key will be reindexed to match DataFrame index.\n",
      "  This is separate from the ipykernel package so we can avoid doing imports until\n"
     ]
    },
    {
     "name": "stdout",
     "output_type": "stream",
     "text": [
      "Wall time: 1min 43s\n"
     ]
    },
    {
     "data": {
      "text/plain": [
       "['The Dark Knight Rises', 'Whiplash']"
      ]
     },
     "execution_count": 95,
     "metadata": {},
     "output_type": "execute_result"
    }
   ],
   "source": [
    "%time final_function_v2('Interstellar', 100, 10, 231)"
   ]
  }
 ],
 "metadata": {
  "kernelspec": {
   "display_name": "Python 3",
   "language": "python",
   "name": "python3"
  },
  "language_info": {
   "codemirror_mode": {
    "name": "ipython",
    "version": 3
   },
   "file_extension": ".py",
   "mimetype": "text/x-python",
   "name": "python",
   "nbconvert_exporter": "python",
   "pygments_lexer": "ipython3",
   "version": "3.6.5"
  }
 },
 "nbformat": 4,
 "nbformat_minor": 2
}
